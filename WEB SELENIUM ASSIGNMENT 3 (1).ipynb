{
 "cells": [
  {
   "cell_type": "markdown",
   "id": "04669755",
   "metadata": {},
   "source": [
    "# ASSIGNMENT 4 - WEB SELENIUM(EXCEPTION HANDLING)\n",
    "\n",
    "\n",
    "\n",
    "\n"
   ]
  },
  {
   "cell_type": "markdown",
   "id": "8f995afb",
   "metadata": {},
   "source": [
    "# Q1.  Write a python program which searches all the product under a particular product from www.amazon.in. \n",
    "The product to be searched will be taken as input from user. For e.g. If user input is ‘guitar’. Then search \n",
    "for guitars.\n"
   ]
  },
  {
   "cell_type": "code",
   "execution_count": 1,
   "id": "5a70c471",
   "metadata": {},
   "outputs": [
    {
     "name": "stdout",
     "output_type": "stream",
     "text": [
      "Requirement already satisfied: selenium in c:\\users\\nidsi\\anaconda3\\lib\\site-packages (4.3.0)\n",
      "Requirement already satisfied: trio-websocket~=0.9 in c:\\users\\nidsi\\anaconda3\\lib\\site-packages (from selenium) (0.9.2)\n",
      "Requirement already satisfied: trio~=0.17 in c:\\users\\nidsi\\anaconda3\\lib\\site-packages (from selenium) (0.21.0)\n",
      "Requirement already satisfied: urllib3[secure,socks]~=1.26 in c:\\users\\nidsi\\anaconda3\\lib\\site-packages (from selenium) (1.26.7)\n",
      "Requirement already satisfied: attrs>=19.2.0 in c:\\users\\nidsi\\anaconda3\\lib\\site-packages (from trio~=0.17->selenium) (21.2.0)\n",
      "Requirement already satisfied: sniffio in c:\\users\\nidsi\\anaconda3\\lib\\site-packages (from trio~=0.17->selenium) (1.2.0)\n",
      "Requirement already satisfied: idna in c:\\users\\nidsi\\anaconda3\\lib\\site-packages (from trio~=0.17->selenium) (3.2)\n",
      "Requirement already satisfied: cffi>=1.14 in c:\\users\\nidsi\\anaconda3\\lib\\site-packages (from trio~=0.17->selenium) (1.14.6)\n",
      "Requirement already satisfied: outcome in c:\\users\\nidsi\\anaconda3\\lib\\site-packages (from trio~=0.17->selenium) (1.2.0)\n",
      "Requirement already satisfied: sortedcontainers in c:\\users\\nidsi\\anaconda3\\lib\\site-packages (from trio~=0.17->selenium) (2.4.0)\n",
      "Requirement already satisfied: async-generator>=1.9 in c:\\users\\nidsi\\anaconda3\\lib\\site-packages (from trio~=0.17->selenium) (1.10)\n",
      "Requirement already satisfied: pycparser in c:\\users\\nidsi\\anaconda3\\lib\\site-packages (from cffi>=1.14->trio~=0.17->selenium) (2.20)\n",
      "Requirement already satisfied: wsproto>=0.14 in c:\\users\\nidsi\\anaconda3\\lib\\site-packages (from trio-websocket~=0.9->selenium) (1.1.0)\n",
      "Requirement already satisfied: pyOpenSSL>=0.14 in c:\\users\\nidsi\\anaconda3\\lib\\site-packages (from urllib3[secure,socks]~=1.26->selenium) (21.0.0)\n",
      "Requirement already satisfied: cryptography>=1.3.4 in c:\\users\\nidsi\\anaconda3\\lib\\site-packages (from urllib3[secure,socks]~=1.26->selenium) (3.4.8)\n",
      "Requirement already satisfied: certifi in c:\\users\\nidsi\\anaconda3\\lib\\site-packages (from urllib3[secure,socks]~=1.26->selenium) (2021.10.8)\n",
      "Requirement already satisfied: PySocks!=1.5.7,<2.0,>=1.5.6 in c:\\users\\nidsi\\anaconda3\\lib\\site-packages (from urllib3[secure,socks]~=1.26->selenium) (1.7.1)\n",
      "Requirement already satisfied: six>=1.5.2 in c:\\users\\nidsi\\anaconda3\\lib\\site-packages (from pyOpenSSL>=0.14->urllib3[secure,socks]~=1.26->selenium) (1.16.0)\n",
      "Requirement already satisfied: h11<1,>=0.9.0 in c:\\users\\nidsi\\anaconda3\\lib\\site-packages (from wsproto>=0.14->trio-websocket~=0.9->selenium) (0.13.0)\n"
     ]
    }
   ],
   "source": [
    "#installing Selenium Library\n",
    "!pip install selenium"
   ]
  },
  {
   "cell_type": "code",
   "execution_count": 2,
   "id": "5612abc0",
   "metadata": {},
   "outputs": [],
   "source": [
    "#importing required libraries\n",
    "import selenium\n",
    "import pandas as pd\n",
    "import numpy as np\n",
    "from selenium import webdriver \n",
    "import warnings\n",
    "warnings.filterwarnings(\"ignore\") \n",
    "import time                      \n",
    "\n",
    "\n",
    "from selenium import webdriver\n",
    "from selenium.webdriver.support.ui import WebDriverWait\n",
    "from selenium.webdriver.support import expected_conditions as EC\n",
    "from selenium.webdriver.common.by import By\n",
    "\n",
    "#importing common exceptions\n",
    "from selenium.common.exceptions import NoSuchElementException, StaleElementReferenceException\n"
   ]
  },
  {
   "cell_type": "code",
   "execution_count": 3,
   "id": "b83150af",
   "metadata": {},
   "outputs": [
    {
     "name": "stdout",
     "output_type": "stream",
     "text": [
      "Enter any Product:   earphones\n"
     ]
    }
   ],
   "source": [
    "# entering user input of required product\n",
    "product = input(\"Enter any Product:   \")"
   ]
  },
  {
   "cell_type": "code",
   "execution_count": 5,
   "id": "e1a54796",
   "metadata": {},
   "outputs": [],
   "source": [
    "# opening the webpage and inserting user input then clicking on search button\n",
    "#fetching chromedriver\n",
    "driver = webdriver.Chrome(r'C:\\Users\\nidsi\\Downloads\\chromedriver_win32\\chromedriver.exe')\n",
    "driver.get(\"https://www.amazon.in/\")\n",
    "time.sleep(2)\n",
    "search_field = driver.find_element(By.XPATH,\"/html/body/div[1]/header/div/div[1]/div[2]/div/form/div[2]/div[1]/input\").send_keys(product)\n",
    "search_button = driver.find_element(By.XPATH,\"/html/body/div[1]/header/div/div[1]/div[2]/div/form/div[3]/div/span\").click()\n",
    "delay = 15 # seconds\n",
    "WebDriverWait(driver, delay).until(EC.presence_of_element_located((By.XPATH,\"/html/body/div[1]/header/div/div[1]/div[2]/div/form/div[3]/div/span\")))\n",
    "element = driver.find_element(By.XPATH,\"/html/body/div[1]/header/div/div[1]/div[2]/div/form/div[3]/div/span\")"
   ]
  },
  {
   "cell_type": "markdown",
   "id": "065029c6",
   "metadata": {},
   "source": [
    "# Q 2. In the above question, now scrape the following details of each product listed in first 3 pages of our search results and save it in a data frame and csv. In case if any product has less than 3 pages in search results then scrape all the products available under that product name. \n",
    "Details to be scraped are: \"Brand \n",
    "Name\", \"Name of the Product\", \"Price\", \"Return/Exchange\", \"Expected Delivery\", \"Availability\" and \n",
    "“Product URL”. In case, if any of the details are missing for any of the product then replace it by “-“."
   ]
  },
  {
   "cell_type": "code",
   "execution_count": 6,
   "id": "239e50fe",
   "metadata": {},
   "outputs": [
    {
     "data": {
      "text/plain": [
       "<selenium.webdriver.remote.webelement.WebElement (session=\"c7095eea2f74af73418aff9e40c6b02f\", element=\"6dbbfa9a-2811-45ac-990e-78bc09900a45\")>"
      ]
     },
     "execution_count": 6,
     "metadata": {},
     "output_type": "execute_result"
    }
   ],
   "source": [
    "# creating empty list for url\n",
    "url=[]\n",
    "\n",
    "# fetching url for each product in page 1\n",
    "product_url = driver.find_elements(By.XPATH,'//a[@class=\"a-link-normal s-underline-text s-underline-link-text s-link-style a-text-normal\"]')\n",
    "for j in product_url:\n",
    "    url.append(j.get_attribute('href'))\n",
    "next_button = driver.find_element(By.XPATH,'//a[@class=\"s-pagination-item s-pagination-next s-pagination-button s-pagination-separator\"]')\n",
    "next_button.click()\n",
    "delay = 15 # seconds\n",
    "WebDriverWait(driver, delay).until(EC.presence_of_element_located((By.CLASS_NAME, 'nav_last')))"
   ]
  },
  {
   "cell_type": "code",
   "execution_count": 8,
   "id": "faec3cfc",
   "metadata": {},
   "outputs": [
    {
     "data": {
      "text/plain": [
       "<selenium.webdriver.remote.webelement.WebElement (session=\"c7095eea2f74af73418aff9e40c6b02f\", element=\"6dbbfa9a-2811-45ac-990e-78bc09900a45\")>"
      ]
     },
     "execution_count": 8,
     "metadata": {},
     "output_type": "execute_result"
    }
   ],
   "source": [
    "# fetching url for each product in page 2\n",
    "product_url = driver.find_elements(By.XPATH,'//a[@class=\"a-link-normal s-underline-text s-underline-link-text s-link-style a-text-normal\"]')\n",
    "for j in product_url:\n",
    "    url.append(j.get_attribute('href'))\n",
    "next_button = driver.find_element(By.XPATH,'//a[@class=\"s-pagination-item s-pagination-next s-pagination-button s-pagination-separator\"]')\n",
    "next_button.click()\n",
    "delay = 15 # seconds\n",
    "WebDriverWait(driver, delay).until(EC.presence_of_element_located((By.CLASS_NAME, 'nav_last')))"
   ]
  },
  {
   "cell_type": "code",
   "execution_count": 9,
   "id": "45b4fc38",
   "metadata": {},
   "outputs": [],
   "source": [
    "# fetching url for each product in page 3\n",
    "product_url = driver.find_elements(By.XPATH,'//a[@class=\"a-link-normal s-underline-text s-underline-link-text s-link-style a-text-normal\"]')\n",
    "for j in product_url:\n",
    "    url.append(j.get_attribute('href'))"
   ]
  },
  {
   "cell_type": "code",
   "execution_count": 10,
   "id": "2600b392",
   "metadata": {},
   "outputs": [
    {
     "data": {
      "text/plain": [
       "72"
      ]
     },
     "execution_count": 10,
     "metadata": {},
     "output_type": "execute_result"
    }
   ],
   "source": [
    "len(url)"
   ]
  },
  {
   "cell_type": "code",
   "execution_count": 11,
   "id": "559d0c02",
   "metadata": {},
   "outputs": [
    {
     "data": {
      "text/plain": [
       "['https://www.amazon.in/gp/slredirect/picassoRedirect.html/ref=pa_sp_atf_aps_sr_pg1_1?ie=UTF8&adId=A01971313NZP00MAB0MQM&url=%2FboAt-BassHeads-100-Headphones-Black%2Fdp%2FB071Z8M4KX%2Fref%3Dsr_1_1_sspa%3Fkeywords%3Dearphones%26qid%3D1659351212%26sr%3D8-1-spons%26psc%3D1&qualifier=1659351212&id=7129374530242151&widgetName=sp_atf',\n",
       " 'https://www.amazon.in/gp/slredirect/picassoRedirect.html/ref=pa_sp_atf_aps_sr_pg1_1?ie=UTF8&adId=A06799233HF1ZO8JEAJGD&url=%2FBassHeads-102-Earphones-Multi-Function-Microphone%2Fdp%2FB07S8PSW59%2Fref%3Dsr_1_2_sspa%3Fkeywords%3Dearphones%26qid%3D1659351212%26sr%3D8-2-spons%26psc%3D1&qualifier=1659351212&id=7129374530242151&widgetName=sp_atf',\n",
       " 'https://www.amazon.in/boAt-BassHeads-100-Headphones-Black/dp/B071Z8M4KX/ref=sr_1_3?keywords=earphones&qid=1659351212&sr=8-3',\n",
       " 'https://www.amazon.in/Earbuds-Wired-Earphones-Active-Black/dp/B0B83485T4/ref=sr_1_omk_4?keywords=earphones&qid=1659351212&sr=8-4',\n",
       " 'https://www.amazon.in/Philips-SHE1505BK-94-Upbeat-Earphones/dp/B07MZQ5F8S/ref=sr_1_5?keywords=earphones&qid=1659351212&sr=8-5',\n",
       " 'https://www.amazon.in/Symphonized-Certified-Lightning-Compatible-Headphones/dp/B07XL1LLHM/ref=sxin_14?asc_contentid=amzn1.osa.9d1ab197-133f-4a92-8731-08a77328e6c5.A21TJRUUN4KGV.en_IN&asc_contenttype=article&ascsubtag=amzn1.osa.9d1ab197-133f-4a92-8731-08a77328e6c5.A21TJRUUN4KGV.en_IN&content-id=amzn1.sym.9e10f444-3bae-445e-87e0-7b61ac6588df%3Aamzn1.sym.9e10f444-3bae-445e-87e0-7b61ac6588df&creativeASIN=B07XL1LLHM&cv_ct_cx=earphones&cv_ct_id=amzn1.osa.9d1ab197-133f-4a92-8731-08a77328e6c5.A21TJRUUN4KGV.en_IN&cv_ct_pg=search&cv_ct_we=asin&cv_ct_wn=osp-single-source-pecos-desktop&keywords=earphones&linkCode=oas&pd_rd_i=B07XL1LLHM&pd_rd_r=10a54b08-9ab4-4bd1-8af1-68c2530e7015&pd_rd_w=S83Sy&pd_rd_wg=zSWXz&pf_rd_p=9e10f444-3bae-445e-87e0-7b61ac6588df&pf_rd_r=M9F916JN48DD8GTS9A0Y&qid=1659351212&sr=1-1-c84eb971-91f2-4a4d-acce-811265c24254&tag=ndtvgadgetsosp-21',\n",
       " 'https://www.amazon.in/Sennheiser-CX-300s-in-Ear-Black/dp/B07N1YLC23/ref=sxin_14?asc_contentid=amzn1.osa.9d1ab197-133f-4a92-8731-08a77328e6c5.A21TJRUUN4KGV.en_IN&asc_contenttype=article&ascsubtag=amzn1.osa.9d1ab197-133f-4a92-8731-08a77328e6c5.A21TJRUUN4KGV.en_IN&content-id=amzn1.sym.9e10f444-3bae-445e-87e0-7b61ac6588df%3Aamzn1.sym.9e10f444-3bae-445e-87e0-7b61ac6588df&creativeASIN=B07N1YLC23&cv_ct_cx=earphones&cv_ct_id=amzn1.osa.9d1ab197-133f-4a92-8731-08a77328e6c5.A21TJRUUN4KGV.en_IN&cv_ct_pg=search&cv_ct_we=asin&cv_ct_wn=osp-single-source-pecos-desktop&keywords=earphones&linkCode=oas&pd_rd_i=B07N1YLC23&pd_rd_r=10a54b08-9ab4-4bd1-8af1-68c2530e7015&pd_rd_w=S83Sy&pd_rd_wg=zSWXz&pf_rd_p=9e10f444-3bae-445e-87e0-7b61ac6588df&pf_rd_r=M9F916JN48DD8GTS9A0Y&qid=1659351212&sr=1-2-c84eb971-91f2-4a4d-acce-811265c24254&tag=ndtvgadgetsosp-21',\n",
       " 'https://www.amazon.in/Philips-Earbuds-Earphones-Running-SHS3305BK/dp/B081HWJK7S/ref=sxin_14?asc_contentid=amzn1.osa.9d1ab197-133f-4a92-8731-08a77328e6c5.A21TJRUUN4KGV.en_IN&asc_contenttype=article&ascsubtag=amzn1.osa.9d1ab197-133f-4a92-8731-08a77328e6c5.A21TJRUUN4KGV.en_IN&content-id=amzn1.sym.9e10f444-3bae-445e-87e0-7b61ac6588df%3Aamzn1.sym.9e10f444-3bae-445e-87e0-7b61ac6588df&creativeASIN=B081HWJK7S&cv_ct_cx=earphones&cv_ct_id=amzn1.osa.9d1ab197-133f-4a92-8731-08a77328e6c5.A21TJRUUN4KGV.en_IN&cv_ct_pg=search&cv_ct_we=asin&cv_ct_wn=osp-single-source-pecos-desktop&keywords=earphones&linkCode=oas&pd_rd_i=B081HWJK7S&pd_rd_r=10a54b08-9ab4-4bd1-8af1-68c2530e7015&pd_rd_w=S83Sy&pd_rd_wg=zSWXz&pf_rd_p=9e10f444-3bae-445e-87e0-7b61ac6588df&pf_rd_r=M9F916JN48DD8GTS9A0Y&qid=1659351212&sr=1-3-c84eb971-91f2-4a4d-acce-811265c24254&tag=ndtvgadgetsosp-21',\n",
       " 'https://www.amazon.in/Razer-Hammerhead-Console-Line-RZ12-03030300-R3M1/dp/B0854CLJNL/ref=sxin_14?asc_contentid=amzn1.osa.9d1ab197-133f-4a92-8731-08a77328e6c5.A21TJRUUN4KGV.en_IN&asc_contenttype=article&ascsubtag=amzn1.osa.9d1ab197-133f-4a92-8731-08a77328e6c5.A21TJRUUN4KGV.en_IN&content-id=amzn1.sym.9e10f444-3bae-445e-87e0-7b61ac6588df%3Aamzn1.sym.9e10f444-3bae-445e-87e0-7b61ac6588df&creativeASIN=B0854CLJNL&cv_ct_cx=earphones&cv_ct_id=amzn1.osa.9d1ab197-133f-4a92-8731-08a77328e6c5.A21TJRUUN4KGV.en_IN&cv_ct_pg=search&cv_ct_we=asin&cv_ct_wn=osp-single-source-pecos-desktop&keywords=earphones&linkCode=oas&pd_rd_i=B0854CLJNL&pd_rd_r=10a54b08-9ab4-4bd1-8af1-68c2530e7015&pd_rd_w=S83Sy&pd_rd_wg=zSWXz&pf_rd_p=9e10f444-3bae-445e-87e0-7b61ac6588df&pf_rd_r=M9F916JN48DD8GTS9A0Y&qid=1659351212&sr=1-4-c84eb971-91f2-4a4d-acce-811265c24254&tag=ndtvgadgetsosp-21',\n",
       " 'https://www.amazon.in/Shure-SE112-GR-Sound-Isolating-Earphones/dp/B00KI94I0G/ref=sxin_14?asc_contentid=amzn1.osa.9d1ab197-133f-4a92-8731-08a77328e6c5.A21TJRUUN4KGV.en_IN&asc_contenttype=article&ascsubtag=amzn1.osa.9d1ab197-133f-4a92-8731-08a77328e6c5.A21TJRUUN4KGV.en_IN&content-id=amzn1.sym.9e10f444-3bae-445e-87e0-7b61ac6588df%3Aamzn1.sym.9e10f444-3bae-445e-87e0-7b61ac6588df&creativeASIN=B00KI94I0G&cv_ct_cx=earphones&cv_ct_id=amzn1.osa.9d1ab197-133f-4a92-8731-08a77328e6c5.A21TJRUUN4KGV.en_IN&cv_ct_pg=search&cv_ct_we=asin&cv_ct_wn=osp-single-source-pecos-desktop&keywords=earphones&linkCode=oas&pd_rd_i=B00KI94I0G&pd_rd_r=10a54b08-9ab4-4bd1-8af1-68c2530e7015&pd_rd_w=S83Sy&pd_rd_wg=zSWXz&pf_rd_p=9e10f444-3bae-445e-87e0-7b61ac6588df&pf_rd_r=M9F916JN48DD8GTS9A0Y&qid=1659351212&sr=1-5-c84eb971-91f2-4a4d-acce-811265c24254&tag=ndtvgadgetsosp-21',\n",
       " 'https://www.amazon.in/Thore-Type-Headphones-Earphones-Microphone/dp/B081294BZB/ref=sxin_14?asc_contentid=amzn1.osa.9d1ab197-133f-4a92-8731-08a77328e6c5.A21TJRUUN4KGV.en_IN&asc_contenttype=article&ascsubtag=amzn1.osa.9d1ab197-133f-4a92-8731-08a77328e6c5.A21TJRUUN4KGV.en_IN&content-id=amzn1.sym.9e10f444-3bae-445e-87e0-7b61ac6588df%3Aamzn1.sym.9e10f444-3bae-445e-87e0-7b61ac6588df&creativeASIN=B081294BZB&cv_ct_cx=earphones&cv_ct_id=amzn1.osa.9d1ab197-133f-4a92-8731-08a77328e6c5.A21TJRUUN4KGV.en_IN&cv_ct_pg=search&cv_ct_we=asin&cv_ct_wn=osp-single-source-pecos-desktop&keywords=earphones&linkCode=oas&pd_rd_i=B081294BZB&pd_rd_r=10a54b08-9ab4-4bd1-8af1-68c2530e7015&pd_rd_w=S83Sy&pd_rd_wg=zSWXz&pf_rd_p=9e10f444-3bae-445e-87e0-7b61ac6588df&pf_rd_r=M9F916JN48DD8GTS9A0Y&qid=1659351212&sr=1-6-c84eb971-91f2-4a4d-acce-811265c24254&tag=ndtvgadgetsosp-21',\n",
       " 'https://www.amazon.in/Realme-Buds-Android-Smartphones-Black/dp/B07XMFDHSG/ref=sr_1_6?keywords=earphones&qid=1659351212&sr=8-6',\n",
       " 'https://www.amazon.in/Zebronics-Zeb-Buds-30-Multifunction-Lightweight/dp/B09SGGN3VY/ref=sr_1_7?keywords=earphones&qid=1659351212&sr=8-7',\n",
       " 'https://www.amazon.in/JBL-C50HI-Ear-Headphones-Blue/dp/B07JQKR35P/ref=sr_1_8?keywords=earphones&qid=1659351212&sr=8-8',\n",
       " 'https://www.amazon.in/ZEBRONICS-Zeb-Bro-Earphones-Compatible-Green/dp/B09R24JBYV/ref=sr_1_9?keywords=earphones&qid=1659351212&sr=8-9',\n",
       " 'https://www.amazon.in/Boat-Bassheads-242-Earphones-Resistance/dp/B07S9S86BF/ref=sr_1_10?keywords=earphones&qid=1659351212&sr=8-10',\n",
       " 'https://www.amazon.in/gp/slredirect/picassoRedirect.html/ref=pa_sp_mtf_aps_sr_pg1_1?ie=UTF8&adId=A037118423IR1WKUTMJJZ&url=%2FAirdopes-121v2-Bluetooth-Immersive-Assistant%2Fdp%2FB08JQN8DGZ%2Fref%3Dsr_1_11_sspa%3Fkeywords%3Dearphones%26qid%3D1659351212%26sr%3D8-11-spons%26psc%3D1&qualifier=1659351212&id=7129374530242151&widgetName=sp_mtf',\n",
       " 'https://www.amazon.in/gp/slredirect/picassoRedirect.html/ref=pa_sp_mtf_aps_sr_pg1_1?ie=UTF8&adId=A0771782341IPL31Z6RTW&url=%2FBoult-Audio-PowerBuds-Wireless-Waterproof%2Fdp%2FB08D11DZ2W%2Fref%3Dsr_1_12_sspa%3Fkeywords%3Dearphones%26qid%3D1659351212%26smid%3DA14CZOWI0VEHLG%26sr%3D8-12-spons%26psc%3D1&qualifier=1659351212&id=7129374530242151&widgetName=sp_mtf',\n",
       " 'https://www.amazon.in/Boat-BassHeads-100-Inspired-Earphones/dp/B07GQD4K6L/ref=sr_1_13?keywords=earphones&qid=1659351212&sr=8-13',\n",
       " 'https://www.amazon.in/boAt-Rockerz-255-Pro-Earphones/dp/B08TSSCZR8/ref=sr_1_14?keywords=earphones&qid=1659351212&sr=8-14',\n",
       " 'https://www.amazon.in/Boat-BassHeads-100-Inspired-Earphones/dp/B07GPXXNNG/ref=sr_1_15?keywords=earphones&qid=1659351212&sr=8-15',\n",
       " 'https://www.amazon.in/Boult-Audio-X1-Earphones-Cancellation/dp/B07TCN5VR9/ref=sr_1_16?keywords=earphones&qid=1659351212&sr=8-16',\n",
       " 'https://www.amazon.in/realme-Classic-Wired-Earphones-Microphone/dp/B08G28Z33M/ref=sr_1_17?keywords=earphones&qid=1659351212&sr=8-17',\n",
       " 'https://www.amazon.in/BassHeads-102-Earphones-Multi-Function-Microphone/dp/B07S8PSW59/ref=sr_1_18?keywords=earphones&qid=1659351212&sr=8-18',\n",
       " 'https://www.amazon.in/Bassheads-100-Wired-Earphones-Purple/dp/B08MD2CTDB/ref=sr_1_19?keywords=earphones&qid=1659351212&sr=8-19',\n",
       " 'https://www.amazon.in/BassHeads-152-Secure-Braided-Earphones/dp/B07KY2KP8M/ref=sr_1_20?keywords=earphones&qid=1659351212&sr=8-20',\n",
       " 'https://www.amazon.in/gp/slredirect/picassoRedirect.html/ref=pa_sp_btf_aps_sr_pg1_1?ie=UTF8&adId=A01170882OI9I4QEX7QJS&url=%2FBoult-Audio-BassBuds-Oak-Earphones%2Fdp%2FB091JF2TFD%2Fref%3Dsr_1_21_sspa%3Fkeywords%3Dearphones%26qid%3D1659351212%26sr%3D8-21-spons%26psc%3D1&qualifier=1659351212&id=7129374530242151&widgetName=sp_btf',\n",
       " 'https://www.amazon.in/gp/slredirect/picassoRedirect.html/ref=pa_sp_btf_aps_sr_pg1_1?ie=UTF8&adId=A06060891GZLA7L6HM42J&url=%2FJBL-130NC-Active-Cancellation-Earbuds%2Fdp%2FB09HGW9V7D%2Fref%3Dsr_1_22_sspa%3Fkeywords%3Dearphones%26qid%3D1659351212%26smid%3DA14CZOWI0VEHLG%26sr%3D8-22-spons%26psc%3D1&qualifier=1659351212&id=7129374530242151&widgetName=sp_btf',\n",
       " 'https://www.amazon.in/gp/slredirect/picassoRedirect.html/ref=pa_sp_atf_next_aps_sr_pg2_1?ie=UTF8&adId=A02225701VRYE95A9RV6Y&url=%2FboAt-Airdopes-121-Signature-Indicator%2Fdp%2FB09YRYCWF8%2Fref%3Dsr_1_17_sspa%3Fkeywords%3Dearphones%26qid%3D1659352440%26sr%3D8-17-spons%26psc%3D1&qualifier=1659352440&id=2197403880417493&widgetName=sp_atf_next',\n",
       " 'https://www.amazon.in/gp/slredirect/picassoRedirect.html/ref=pa_sp_atf_next_aps_sr_pg2_1?ie=UTF8&adId=A07656553IEVNDDCZD541&url=%2FKratos-Earphones-Powerful-Quality-Comfortable%2Fdp%2FB09TWCT9JR%2Fref%3Dsr_1_18_sspa%3Fkeywords%3Dearphones%26qid%3D1659352440%26sr%3D8-18-spons%26psc%3D1&qualifier=1659352440&id=2197403880417493&widgetName=sp_atf_next',\n",
       " 'https://www.amazon.in/Pride-Lite-Headphones-Cancelling-Tangle-Free/dp/B08SF85H45/ref=sr_1_19?keywords=earphones&qid=1659352440&sr=8-19',\n",
       " 'https://www.amazon.in/Boult-Audio-Earphones-Cancellation-Customizable/dp/B07MK2GHTT/ref=sr_1_20?keywords=earphones&qid=1659352440&sr=8-20',\n",
       " 'https://www.amazon.in/realme-Buds-Wired-Earphones-Black/dp/B097KM3Z16/ref=sr_1_21?keywords=earphones&qid=1659352440&sr=8-21',\n",
       " 'https://www.amazon.in/Mi-Earphones-Basic-Mic-Black/dp/B07CD2BN46/ref=sr_1_22?keywords=earphones&qid=1659352440&sr=8-22',\n",
       " 'https://www.amazon.in/Bassheads-105-Wired-Headset-White/dp/B08YYRDCDV/ref=sr_1_23?keywords=earphones&qid=1659352440&sr=8-23',\n",
       " 'https://www.amazon.in/Bassheads-242-Wired-Earphones-Green/dp/B08GG6GQ5B/ref=sr_1_24?keywords=earphones&qid=1659352440&sr=8-24',\n",
       " 'https://www.amazon.in/Zebronics-Zeb-Calyx-Wired-Earphone-Function/dp/B07XCX1P4P/ref=sr_1_25?keywords=earphones&qid=1659352440&sr=8-25',\n",
       " 'https://www.amazon.in/Bluetooth-Wireless-Earphones-Playback-Assistant/dp/B0B4F54WZW/ref=sr_1_26?keywords=earphones&qid=1659352440&sr=8-26',\n",
       " 'https://www.amazon.in/gp/slredirect/picassoRedirect.html/ref=pa_sp_mtf_aps_sr_pg2_1?ie=UTF8&adId=A06982281AT8WASE17QLC&url=%2FBoult-Audio-BassBuds-Earphones-Cancellation%2Fdp%2FB088YDXJV1%2Fref%3Dsr_1_27_sspa%3Fkeywords%3Dearphones%26qid%3D1659352440%26sr%3D8-27-spons%26psc%3D1&qualifier=1659352440&id=2197403880417493&widgetName=sp_mtf',\n",
       " 'https://www.amazon.in/gp/slredirect/picassoRedirect.html/ref=pa_sp_mtf_aps_sr_pg2_1?ie=UTF8&adId=A02781303HJVWIVKX8JWW&url=%2FBassbuds-Bluetooth-Featherlite-Immersive-Assistance%2Fdp%2FB09ZBCQQJD%2Fref%3Dsr_1_28_sspa%3Fkeywords%3Dearphones%26qid%3D1659352440%26sr%3D8-28-spons%26psc%3D1&qualifier=1659352440&id=2197403880417493&widgetName=sp_mtf',\n",
       " 'https://www.amazon.in/Zebronics-Zeb-Buds-30-Multifunction-Lightweight/dp/B09SGGRKV8/ref=sr_1_29?keywords=earphones&qid=1659352440&sr=8-29',\n",
       " 'https://www.amazon.in/Ambrane-Stringz-Earphones-Powerful-Comfort/dp/B08V58PTDC/ref=sr_1_30?keywords=earphones&qid=1659352440&sr=8-30',\n",
       " 'https://www.amazon.in/Mi-Earphone-Basic-Ultra-deep/dp/B07QJYB8BC/ref=sr_1_31?keywords=earphones&qid=1659352440&sr=8-31',\n",
       " 'https://www.amazon.in/ZEBRONICS-Zeb-Bro-Earphones-Drivers-Compatible/dp/B09PV1DFNJ/ref=sr_1_32?keywords=earphones&qid=1659352440&sr=8-32',\n",
       " 'https://www.amazon.in/Zebronics-Zeb-Buds-30-Multifunction-Lightweight/dp/B09SGF7SMV/ref=sr_1_33?keywords=earphones&qid=1659352440&sr=8-33',\n",
       " 'https://www.amazon.in/JBL-C100SI-Ear-Headphones-Black/dp/B01DEWVZ2C/ref=sr_1_34?keywords=earphones&qid=1659352440&smid=A14CZOWI0VEHLG&sr=8-34',\n",
       " 'https://www.amazon.in/Kratos-Earphones-Powerful-Quality-Comfortable/dp/B09TWCT9JR/ref=sr_1_35?keywords=earphones&qid=1659352440&sr=8-35',\n",
       " 'https://www.amazon.in/Earbuds-Wired-Earphones-Active-Black/dp/B0B83485T4/ref=sr_1_36?keywords=earphones&qid=1659352440&sr=8-36',\n",
       " 'https://www.amazon.in/gp/slredirect/picassoRedirect.html/ref=pa_sp_btf_aps_sr_pg2_1?ie=UTF8&adId=A0020186EBPULAB1HTI6&url=%2FPTron-Boom-Ultima-V2-Tangle-free%2Fdp%2FB08NKWXMGM%2Fref%3Dsr_1_37_sspa%3Fkeywords%3Dearphones%26qid%3D1659352440%26sr%3D8-37-spons%26psc%3D1&qualifier=1659352440&id=2197403880417493&widgetName=sp_btf',\n",
       " 'https://www.amazon.in/gp/slredirect/picassoRedirect.html/ref=pa_sp_btf_aps_sr_pg2_1?ie=UTF8&adId=A06854602IGFWVFJUQ0WO&url=%2FBluetooth-Neckband-Playtime-Magnetic-Assistant%2Fdp%2FB09ZB6DZF4%2Fref%3Dsr_1_38_sspa%3Fkeywords%3Dearphones%26qid%3D1659352440%26sr%3D8-38-spons%26psc%3D1&qualifier=1659352440&id=2197403880417493&widgetName=sp_btf',\n",
       " 'https://www.amazon.in/gp/slredirect/picassoRedirect.html/ref=pa_sp_atf_next_aps_sr_pg3_1?ie=UTF8&adId=A03906053FD4CQ6A5BV0I&url=%2FBoult-Audio-ProBass-Wireless-Neckband%2Fdp%2FB092KC9YT6%2Fref%3Dsr_1_33_sspa%3Fkeywords%3Dearphones%26qid%3D1659352553%26smid%3DA14CZOWI0VEHLG%26sr%3D8-33-spons%26psc%3D1&qualifier=1659352553&id=4148482029105992&widgetName=sp_atf_next',\n",
       " 'https://www.amazon.in/gp/slredirect/picassoRedirect.html/ref=pa_sp_atf_next_aps_sr_pg3_1?ie=UTF8&adId=A058446536GFQKFM4RX5W&url=%2FTangent-Evo-Headphones-Resistance-Assistance%2Fdp%2FB097RXPRMJ%2Fref%3Dsr_1_34_sspa%3Fkeywords%3Dearphones%26qid%3D1659352553%26sr%3D8-34-spons%26psc%3D1&qualifier=1659352553&id=4148482029105992&widgetName=sp_atf_next',\n",
       " 'https://www.amazon.in/Mivi-Earphones-Powerful-Tangle-Length/dp/B093LMBJB6/ref=sr_1_35?keywords=earphones&qid=1659352553&sr=8-35',\n",
       " 'https://www.amazon.in/JBL-Sweat-Proof-Headphones-One-Button-Microphone/dp/B07CFDXLFC/ref=sr_1_36?keywords=earphones&qid=1659352553&sr=8-36',\n",
       " 'https://www.amazon.in/Oneplus-Bluetooth-Wireless-Earphones-Bombastic/dp/B09TVVGXWS/ref=sr_1_37?keywords=earphones&qid=1659352553&sr=8-37',\n",
       " 'https://www.amazon.in/Boult-Audio-BassBuds-Earphones-Cancellation/dp/B088YDXJV1/ref=sr_1_33?keywords=earphones&qid=1659352553&sr=8-33',\n",
       " 'https://www.amazon.in/boAt-Bass-Heads-225-Headphones/dp/B073XGT189/ref=sr_1_34?keywords=earphones&qid=1659352553&sr=8-34',\n",
       " 'https://www.amazon.in/ZEBRONICS-Zeb-Bro-Earphones-Drivers-Compatible/dp/B09R24HMNW/ref=sr_1_35?keywords=earphones&qid=1659352553&sr=8-35',\n",
       " 'https://www.amazon.in/Samsung-Original-EHS64AVFBECINU-Hands-Free-Remote/dp/B01F262EUU/ref=sr_1_36?keywords=earphones&qid=1659352553&sr=8-36',\n",
       " 'https://www.amazon.in/boAt-Bassheads-105-Wired-Headset/dp/B08YYP8J1N/ref=sr_1_37?keywords=earphones&qid=1659352553&sr=8-37',\n",
       " 'https://www.amazon.in/gp/slredirect/picassoRedirect.html/ref=pa_sp_mtf_aps_sr_pg3_1?ie=UTF8&adId=A06855679OY2IQPMDT8Y&url=%2FBluetooth-Neckband-Playtime-Magnetic-Earbuds%2Fdp%2FB09Y5S1VGS%2Fref%3Dsr_1_38_sspa%3Fkeywords%3Dearphones%26qid%3D1659352553%26sr%3D8-38-spons%26psc%3D1&qualifier=1659352553&id=4148482029105992&widgetName=sp_mtf',\n",
       " 'https://www.amazon.in/gp/slredirect/picassoRedirect.html/ref=pa_sp_mtf_aps_sr_pg3_1?ie=UTF8&adId=A009469316I6HIA2MWLL6&url=%2FBoult-Audio-AirBass-Environmental-Cancellation%2Fdp%2FB0B31CBSXQ%2Fref%3Dsr_1_39_sspa%3Fkeywords%3Dearphones%26qid%3D1659352553%26smid%3DA14CZOWI0VEHLG%26sr%3D8-39-spons%26psc%3D1&qualifier=1659352553&id=4148482029105992&widgetName=sp_mtf',\n",
       " 'https://www.amazon.in/Tangentbeat-Bluetooth-Headphones-Waterproof-Cancelation/dp/B08D77XZX5/ref=sr_1_40?keywords=earphones&qid=1659352553&sr=8-40',\n",
       " 'https://www.amazon.in/UBON-Wireless-Airshark-Bluetooth-Earphones/dp/B09Y2X8L4F/ref=sr_1_41?keywords=earphones&qid=1659352553&sr=8-41',\n",
       " 'https://www.amazon.in/boAt-Bassheads-105-Wired-Headset/dp/B08YYQ3WFG/ref=sr_1_42?keywords=earphones&qid=1659352553&sr=8-42',\n",
       " 'https://www.amazon.in/Bassbuds-Duo-Headphones-Water-Resistant-Assistance/dp/B09DD9SX9Z/ref=sr_1_43?keywords=earphones&qid=1659352553&sr=8-43',\n",
       " 'https://www.amazon.in/boAt-Rockerz-330-Pro-Bluetooth/dp/B09LJ1TPN6/ref=sr_1_44?keywords=earphones&qid=1659352553&sr=8-44',\n",
       " 'https://www.amazon.in/boAt-Rockerz-255-Pro-Earphones/dp/B08TV2P1N8/ref=sr_1_45?keywords=earphones&qid=1659352553&sr=8-45',\n",
       " 'https://www.amazon.in/BassHeads-152-Earphones-Durable-Metallic/dp/B086WNVCVM/ref=sr_1_46?keywords=earphones&qid=1659352553&sr=8-46',\n",
       " 'https://www.amazon.in/Tangent-Evo-Headphones-Resistance-Assistance/dp/B097RZ2Z2F/ref=sr_1_47?keywords=earphones&qid=1659352553&sr=8-47',\n",
       " 'https://www.amazon.in/gp/slredirect/picassoRedirect.html/ref=pa_sp_btf_aps_sr_pg3_1?ie=UTF8&adId=A02519541QW37CLYZFJPR&url=%2FHeadphones-Earphone-Phones-Laptop-Tablet%2Fdp%2FB0B2C5ZGW5%2Fref%3Dsr_1_48_sspa%3Fkeywords%3Dearphones%26qid%3D1659352553%26sr%3D8-48-spons%26psc%3D1&qualifier=1659352553&id=4148482029105992&widgetName=sp_btf',\n",
       " 'https://www.amazon.in/gp/slredirect/picassoRedirect.html/ref=pa_sp_btf_aps_sr_pg3_1?ie=UTF8&adId=A08531131KQOFEOLIHIEW&url=%2FBassHeads-225-Super-Extra-Headphones%2Fdp%2FB01M9C51T9%2Fref%3Dsr_1_49_sspa%3Fkeywords%3Dearphones%26qid%3D1659352553%26sr%3D8-49-spons%26psc%3D1&qualifier=1659352553&id=4148482029105992&widgetName=sp_btf']"
      ]
     },
     "execution_count": 11,
     "metadata": {},
     "output_type": "execute_result"
    }
   ],
   "source": [
    "# url of 3 pages of products in the list\n",
    "url"
   ]
  },
  {
   "cell_type": "code",
   "execution_count": 12,
   "id": "02a7d86e",
   "metadata": {},
   "outputs": [],
   "source": [
    "# creating emppty lists\n",
    "brand_name=[]\n",
    "name_of_the_product=[]\n",
    "price=[]\n",
    "return_exchange=[]\n",
    "expected_delivery=[]\n",
    "availability=[]\n",
    "product_url=[]"
   ]
  },
  {
   "cell_type": "code",
   "execution_count": 18,
   "id": "d4474266",
   "metadata": {},
   "outputs": [
    {
     "ename": "AttributeError",
     "evalue": "'str' object has no attribute 'text'",
     "output_type": "error",
     "traceback": [
      "\u001b[1;31m---------------------------------------------------------------------------\u001b[0m",
      "\u001b[1;31mAttributeError\u001b[0m                            Traceback (most recent call last)",
      "\u001b[1;32m~\\AppData\\Local\\Temp/ipykernel_11680/28487931.py\u001b[0m in \u001b[0;36m<module>\u001b[1;34m\u001b[0m\n\u001b[0;32m      6\u001b[0m     \u001b[1;32mtry\u001b[0m\u001b[1;33m:\u001b[0m\u001b[1;33m\u001b[0m\u001b[1;33m\u001b[0m\u001b[0m\n\u001b[0;32m      7\u001b[0m         \u001b[0mbrand\u001b[0m\u001b[1;33m=\u001b[0m\u001b[0mdriver\u001b[0m\u001b[1;33m.\u001b[0m\u001b[0mfind_elements\u001b[0m\u001b[1;33m(\u001b[0m\u001b[0mBy\u001b[0m\u001b[1;33m.\u001b[0m\u001b[0mXPATH\u001b[0m\u001b[1;33m,\u001b[0m\u001b[1;34m'//a[@class=\"a-link-normal\"]'\u001b[0m\u001b[1;33m)\u001b[0m\u001b[1;33m\u001b[0m\u001b[1;33m\u001b[0m\u001b[0m\n\u001b[1;32m----> 8\u001b[1;33m         \u001b[0mbrand_name\u001b[0m\u001b[1;33m.\u001b[0m\u001b[0mappend\u001b[0m\u001b[1;33m(\u001b[0m\u001b[0mi\u001b[0m\u001b[1;33m.\u001b[0m\u001b[0mtext\u001b[0m\u001b[1;33m)\u001b[0m\u001b[1;33m\u001b[0m\u001b[1;33m\u001b[0m\u001b[0m\n\u001b[0m\u001b[0;32m      9\u001b[0m     \u001b[1;32mexcept\u001b[0m \u001b[0mNoSuchElementException\u001b[0m\u001b[1;33m:\u001b[0m\u001b[1;33m\u001b[0m\u001b[1;33m\u001b[0m\u001b[0m\n\u001b[0;32m     10\u001b[0m         \u001b[0mbrand_name\u001b[0m\u001b[1;33m.\u001b[0m\u001b[0mappend\u001b[0m\u001b[1;33m(\u001b[0m\u001b[1;34m\"-\"\u001b[0m\u001b[1;33m)\u001b[0m    \u001b[1;31m# appending \"-\" if there is any error and no data is found in the try block\u001b[0m\u001b[1;33m\u001b[0m\u001b[1;33m\u001b[0m\u001b[0m\n",
      "\u001b[1;31mAttributeError\u001b[0m: 'str' object has no attribute 'text'"
     ]
    }
   ],
   "source": [
    "# creating loop for each data to be extracted per page, extracting required tags and extracting data\n",
    "for i in url:                     # iterating over the url list\n",
    "    driver.get(i)                 # taking the url and opening them\n",
    "    delay = 15 # seconds\n",
    "    WebDriverWait(driver, delay).until(EC.presence_of_element_located((By.CLASS_NAME, 'nav_last')))\n",
    "    try:\n",
    "        brand=driver.find_elements(By.XPATH,'//a[@class=\"a-link-normal\"]')\n",
    "        brand_name.append(i.text)\n",
    "    except NoSuchElementException:\n",
    "        brand_name.append(\"-\")    # appending \"-\" if there is any error and no data is found in the try block\n",
    "    try:\n",
    "        productname=driver.find_elements(By.XPATH,'//span[@class=\"a-size-large product-title-word-break\"]')\n",
    "        name_of_the_product.append(i.text)\n",
    "    except NoSuchElementException:\n",
    "        name_of_the_product.append(\"-\")\n",
    "    try:\n",
    "        priceofproduct=driver.find_elements(By.XPATH,'//span[@class=\"a-price-whole\"]')\n",
    "        price.append(priceofproduct.text)\n",
    "    except NoSuchElementException:\n",
    "        price.append(\"-\")\n",
    "    try:\n",
    "        exchange=driver.find_elements(By.XPATH,'//div[@class=\"a-section a-spacing-none icon-content\"]')\n",
    "        return_exchange.append(exchange.text)\n",
    "    except NoSuchElementException:\n",
    "        return_exchange.append(\"-\")\n",
    "    try:\n",
    "        delivery=driver.find_elements(By.XPATH,'//div[@class=\"a-spacing-base\"]')\n",
    "        expected_delivery.append(delivery.text)\n",
    "    except NoSuchElementException:\n",
    "        expected_delivery.append(\"-\")\n",
    "    try:\n",
    "        available=driver.find_elements(By.XPATH,'//div[@class=\"a-section a-spacing-none }\"]')\n",
    "        availability.append(available.text)\n",
    "    except NoSuchElementException:\n",
    "        availability.append(\"-\")\n",
    "    try:\n",
    "        url_string=driver.current_url\n",
    "        product_url.append(url_string)\n",
    "    except NoSuchElementException:\n",
    "        product_url.append(\"-\")     # appending \"-\" if there is any error and no data is found in the try block\n",
    "    "
   ]
  },
  {
   "cell_type": "code",
   "execution_count": 19,
   "id": "0c64e074",
   "metadata": {},
   "outputs": [
    {
     "name": "stdout",
     "output_type": "stream",
     "text": [
      "0 0 0 0 0 0 0\n"
     ]
    }
   ],
   "source": [
    "# printing the length of all the lists\n",
    "print(len(brand_name),len(name_of_the_product),len(price),len(return_exchange),len(expected_delivery),len(availability),len(product_url))"
   ]
  },
  {
   "cell_type": "code",
   "execution_count": 20,
   "id": "9c73daaa",
   "metadata": {},
   "outputs": [
    {
     "data": {
      "text/html": [
       "<div>\n",
       "<style scoped>\n",
       "    .dataframe tbody tr th:only-of-type {\n",
       "        vertical-align: middle;\n",
       "    }\n",
       "\n",
       "    .dataframe tbody tr th {\n",
       "        vertical-align: top;\n",
       "    }\n",
       "\n",
       "    .dataframe thead th {\n",
       "        text-align: right;\n",
       "    }\n",
       "</style>\n",
       "<table border=\"1\" class=\"dataframe\">\n",
       "  <thead>\n",
       "    <tr style=\"text-align: right;\">\n",
       "      <th></th>\n",
       "      <th>Brand Name</th>\n",
       "      <th>Name of the Product</th>\n",
       "      <th>Price</th>\n",
       "      <th>Return/Exchange</th>\n",
       "      <th>Expected Delivery</th>\n",
       "      <th>Availability</th>\n",
       "      <th>Product URL</th>\n",
       "    </tr>\n",
       "  </thead>\n",
       "  <tbody>\n",
       "  </tbody>\n",
       "</table>\n",
       "</div>"
      ],
      "text/plain": [
       "Empty DataFrame\n",
       "Columns: [Brand Name, Name of the Product, Price, Return/Exchange, Expected Delivery, Availability, Product URL]\n",
       "Index: []"
      ]
     },
     "execution_count": 20,
     "metadata": {},
     "output_type": "execute_result"
    }
   ],
   "source": [
    "# creating DataFrame\n",
    "earphonesdf = pd.DataFrame({'Brand Name':brand_name,'Name of the Product':name_of_the_product,'Price':price,'Return/Exchange':return_exchange,'Expected Delivery':expected_delivery,'Availability':availability,'Product URL':product_url})\n",
    "earphonesdf"
   ]
  },
  {
   "cell_type": "code",
   "execution_count": null,
   "id": "12c08dbf",
   "metadata": {},
   "outputs": [],
   "source": [
    "# Saving the csv file\n",
    "import pandas as pd\n",
    "earphonesdf.to_csv('earphones_data.csv')"
   ]
  },
  {
   "cell_type": "code",
   "execution_count": 21,
   "id": "82e5b008",
   "metadata": {},
   "outputs": [
    {
     "ename": "WebDriverException",
     "evalue": "Message: chrome not reachable\n  (Session info: chrome=103.0.5060.134)\nStacktrace:\nBacktrace:\n\tOrdinal0 [0x01046463+2188387]\n\tOrdinal0 [0x00FDE461+1762401]\n\tOrdinal0 [0x00EF3C40+801856]\n\tOrdinal0 [0x00EE8932+756018]\n\tOrdinal0 [0x00EDC2F0+705264]\n\tOrdinal0 [0x00F42C40+1125440]\n\tOrdinal0 [0x00F3C7A3+1099683]\n\tOrdinal0 [0x00F16BE0+945120]\n\tOrdinal0 [0x00F17AD6+948950]\n\tGetHandleVerifier [0x012E71F2+2712546]\n\tGetHandleVerifier [0x012D886D+2652765]\n\tGetHandleVerifier [0x010D002A+520730]\n\tGetHandleVerifier [0x010CEE06+516086]\n\tOrdinal0 [0x00FE468B+1787531]\n\tOrdinal0 [0x00FE8E88+1805960]\n\tOrdinal0 [0x00FE8F75+1806197]\n\tOrdinal0 [0x00FF1DF1+1842673]\n\tBaseThreadInitThunk [0x75B36739+25]\n\tRtlGetFullPathName_UEx [0x77268FEF+1215]\n\tRtlGetFullPathName_UEx [0x77268FBD+1165]\n",
     "output_type": "error",
     "traceback": [
      "\u001b[1;31m---------------------------------------------------------------------------\u001b[0m",
      "\u001b[1;31mWebDriverException\u001b[0m                        Traceback (most recent call last)",
      "\u001b[1;32m~\\AppData\\Local\\Temp/ipykernel_11680/3521029224.py\u001b[0m in \u001b[0;36m<module>\u001b[1;34m\u001b[0m\n\u001b[0;32m      1\u001b[0m \u001b[1;31m# closing the driver at the end\u001b[0m\u001b[1;33m\u001b[0m\u001b[1;33m\u001b[0m\u001b[0m\n\u001b[1;32m----> 2\u001b[1;33m \u001b[0mdriver\u001b[0m\u001b[1;33m.\u001b[0m\u001b[0mclose\u001b[0m\u001b[1;33m(\u001b[0m\u001b[1;33m)\u001b[0m\u001b[1;33m\u001b[0m\u001b[1;33m\u001b[0m\u001b[0m\n\u001b[0m",
      "\u001b[1;32m~\\Anaconda3\\lib\\site-packages\\selenium\\webdriver\\remote\\webdriver.py\u001b[0m in \u001b[0;36mclose\u001b[1;34m(self)\u001b[0m\n\u001b[0;32m    550\u001b[0m                 \u001b[0mdriver\u001b[0m\u001b[1;33m.\u001b[0m\u001b[0mclose\u001b[0m\u001b[1;33m(\u001b[0m\u001b[1;33m)\u001b[0m\u001b[1;33m\u001b[0m\u001b[1;33m\u001b[0m\u001b[0m\n\u001b[0;32m    551\u001b[0m         \"\"\"\n\u001b[1;32m--> 552\u001b[1;33m         \u001b[0mself\u001b[0m\u001b[1;33m.\u001b[0m\u001b[0mexecute\u001b[0m\u001b[1;33m(\u001b[0m\u001b[0mCommand\u001b[0m\u001b[1;33m.\u001b[0m\u001b[0mCLOSE\u001b[0m\u001b[1;33m)\u001b[0m\u001b[1;33m\u001b[0m\u001b[1;33m\u001b[0m\u001b[0m\n\u001b[0m\u001b[0;32m    553\u001b[0m \u001b[1;33m\u001b[0m\u001b[0m\n\u001b[0;32m    554\u001b[0m     \u001b[1;32mdef\u001b[0m \u001b[0mquit\u001b[0m\u001b[1;33m(\u001b[0m\u001b[0mself\u001b[0m\u001b[1;33m)\u001b[0m \u001b[1;33m->\u001b[0m \u001b[1;32mNone\u001b[0m\u001b[1;33m:\u001b[0m\u001b[1;33m\u001b[0m\u001b[1;33m\u001b[0m\u001b[0m\n",
      "\u001b[1;32m~\\Anaconda3\\lib\\site-packages\\selenium\\webdriver\\remote\\webdriver.py\u001b[0m in \u001b[0;36mexecute\u001b[1;34m(self, driver_command, params)\u001b[0m\n\u001b[0;32m    433\u001b[0m         \u001b[0mresponse\u001b[0m \u001b[1;33m=\u001b[0m \u001b[0mself\u001b[0m\u001b[1;33m.\u001b[0m\u001b[0mcommand_executor\u001b[0m\u001b[1;33m.\u001b[0m\u001b[0mexecute\u001b[0m\u001b[1;33m(\u001b[0m\u001b[0mdriver_command\u001b[0m\u001b[1;33m,\u001b[0m \u001b[0mparams\u001b[0m\u001b[1;33m)\u001b[0m\u001b[1;33m\u001b[0m\u001b[1;33m\u001b[0m\u001b[0m\n\u001b[0;32m    434\u001b[0m         \u001b[1;32mif\u001b[0m \u001b[0mresponse\u001b[0m\u001b[1;33m:\u001b[0m\u001b[1;33m\u001b[0m\u001b[1;33m\u001b[0m\u001b[0m\n\u001b[1;32m--> 435\u001b[1;33m             \u001b[0mself\u001b[0m\u001b[1;33m.\u001b[0m\u001b[0merror_handler\u001b[0m\u001b[1;33m.\u001b[0m\u001b[0mcheck_response\u001b[0m\u001b[1;33m(\u001b[0m\u001b[0mresponse\u001b[0m\u001b[1;33m)\u001b[0m\u001b[1;33m\u001b[0m\u001b[1;33m\u001b[0m\u001b[0m\n\u001b[0m\u001b[0;32m    436\u001b[0m             response['value'] = self._unwrap_value(\n\u001b[0;32m    437\u001b[0m                 response.get('value', None))\n",
      "\u001b[1;32m~\\Anaconda3\\lib\\site-packages\\selenium\\webdriver\\remote\\errorhandler.py\u001b[0m in \u001b[0;36mcheck_response\u001b[1;34m(self, response)\u001b[0m\n\u001b[0;32m    245\u001b[0m                 \u001b[0malert_text\u001b[0m \u001b[1;33m=\u001b[0m \u001b[0mvalue\u001b[0m\u001b[1;33m[\u001b[0m\u001b[1;34m'alert'\u001b[0m\u001b[1;33m]\u001b[0m\u001b[1;33m.\u001b[0m\u001b[0mget\u001b[0m\u001b[1;33m(\u001b[0m\u001b[1;34m'text'\u001b[0m\u001b[1;33m)\u001b[0m\u001b[1;33m\u001b[0m\u001b[1;33m\u001b[0m\u001b[0m\n\u001b[0;32m    246\u001b[0m             \u001b[1;32mraise\u001b[0m \u001b[0mexception_class\u001b[0m\u001b[1;33m(\u001b[0m\u001b[0mmessage\u001b[0m\u001b[1;33m,\u001b[0m \u001b[0mscreen\u001b[0m\u001b[1;33m,\u001b[0m \u001b[0mstacktrace\u001b[0m\u001b[1;33m,\u001b[0m \u001b[0malert_text\u001b[0m\u001b[1;33m)\u001b[0m  \u001b[1;31m# type: ignore[call-arg]  # mypy is not smart enough here\u001b[0m\u001b[1;33m\u001b[0m\u001b[1;33m\u001b[0m\u001b[0m\n\u001b[1;32m--> 247\u001b[1;33m         \u001b[1;32mraise\u001b[0m \u001b[0mexception_class\u001b[0m\u001b[1;33m(\u001b[0m\u001b[0mmessage\u001b[0m\u001b[1;33m,\u001b[0m \u001b[0mscreen\u001b[0m\u001b[1;33m,\u001b[0m \u001b[0mstacktrace\u001b[0m\u001b[1;33m)\u001b[0m\u001b[1;33m\u001b[0m\u001b[1;33m\u001b[0m\u001b[0m\n\u001b[0m\u001b[0;32m    248\u001b[0m \u001b[1;33m\u001b[0m\u001b[0m\n\u001b[0;32m    249\u001b[0m     \u001b[1;32mdef\u001b[0m \u001b[0m_value_or_default\u001b[0m\u001b[1;33m(\u001b[0m\u001b[0mself\u001b[0m\u001b[1;33m,\u001b[0m \u001b[0mobj\u001b[0m\u001b[1;33m:\u001b[0m \u001b[0mMapping\u001b[0m\u001b[1;33m[\u001b[0m\u001b[0m_KT\u001b[0m\u001b[1;33m,\u001b[0m \u001b[0m_VT\u001b[0m\u001b[1;33m]\u001b[0m\u001b[1;33m,\u001b[0m \u001b[0mkey\u001b[0m\u001b[1;33m:\u001b[0m \u001b[0m_KT\u001b[0m\u001b[1;33m,\u001b[0m \u001b[0mdefault\u001b[0m\u001b[1;33m:\u001b[0m \u001b[0m_VT\u001b[0m\u001b[1;33m)\u001b[0m \u001b[1;33m->\u001b[0m \u001b[0m_VT\u001b[0m\u001b[1;33m:\u001b[0m\u001b[1;33m\u001b[0m\u001b[1;33m\u001b[0m\u001b[0m\n",
      "\u001b[1;31mWebDriverException\u001b[0m: Message: chrome not reachable\n  (Session info: chrome=103.0.5060.134)\nStacktrace:\nBacktrace:\n\tOrdinal0 [0x01046463+2188387]\n\tOrdinal0 [0x00FDE461+1762401]\n\tOrdinal0 [0x00EF3C40+801856]\n\tOrdinal0 [0x00EE8932+756018]\n\tOrdinal0 [0x00EDC2F0+705264]\n\tOrdinal0 [0x00F42C40+1125440]\n\tOrdinal0 [0x00F3C7A3+1099683]\n\tOrdinal0 [0x00F16BE0+945120]\n\tOrdinal0 [0x00F17AD6+948950]\n\tGetHandleVerifier [0x012E71F2+2712546]\n\tGetHandleVerifier [0x012D886D+2652765]\n\tGetHandleVerifier [0x010D002A+520730]\n\tGetHandleVerifier [0x010CEE06+516086]\n\tOrdinal0 [0x00FE468B+1787531]\n\tOrdinal0 [0x00FE8E88+1805960]\n\tOrdinal0 [0x00FE8F75+1806197]\n\tOrdinal0 [0x00FF1DF1+1842673]\n\tBaseThreadInitThunk [0x75B36739+25]\n\tRtlGetFullPathName_UEx [0x77268FEF+1215]\n\tRtlGetFullPathName_UEx [0x77268FBD+1165]\n"
     ]
    }
   ],
   "source": [
    "# closing the driver at the end\n",
    "driver.close()"
   ]
  },
  {
   "cell_type": "markdown",
   "id": "93e24074",
   "metadata": {},
   "source": [
    "# 3. Write a python program to access the search bar and search button on images.google.com and scrape 10 images each for keywords ‘fruits’, ‘cars’ and ‘Machine Learning’, ‘Guitar’, ‘Cakes’"
   ]
  },
  {
   "cell_type": "code",
   "execution_count": 22,
   "id": "db45e0b0",
   "metadata": {},
   "outputs": [],
   "source": [
    "# importing required libraries\n",
    "import selenium\n",
    "import pandas as pd\n",
    "import numpy as np\n",
    "from selenium import webdriver    # importing webdriver module from selenium to open up automated chrome window\n",
    "from selenium.webdriver.common.by import By\n",
    "import warnings\n",
    "warnings.filterwarnings(\"ignore\") # ignoring warnings that might arise\n",
    "import time                       # used to stop search engine for few seconds\n",
    "\n",
    "# common exceptions\n",
    "from selenium.common.exceptions import NoSuchElementException, StaleElementReferenceException\n",
    "\n",
    "# Importing requests\n",
    "import requests"
   ]
  },
  {
   "cell_type": "markdown",
   "id": "e18c32e4",
   "metadata": {},
   "source": [
    "DOWNLOADING IMAGES OF FRUITS"
   ]
  },
  {
   "cell_type": "code",
   "execution_count": 23,
   "id": "a8bfb7ec",
   "metadata": {},
   "outputs": [],
   "source": [
    "# opening the webpage given\n",
    "driver = webdriver.Chrome(r'C:\\Users\\nidsi\\Downloads\\chromedriver_win32\\chromedriver.exe')\n",
    "driver.get(\"https://images.google.com/\")\n",
    "time.sleep(2)"
   ]
  },
  {
   "cell_type": "code",
   "execution_count": 27,
   "id": "21940419",
   "metadata": {},
   "outputs": [],
   "source": [
    "# sending fruits keyword in search field\n",
    "search_field = driver.find_element(By.XPATH,\"/html/body/div[1]/div[3]/form/div[1]/div[1]/div[1]/div/div[2]/input\").send_keys(\"fruits\")"
   ]
  },
  {
   "cell_type": "code",
   "execution_count": 30,
   "id": "5fce11b5",
   "metadata": {},
   "outputs": [],
   "source": [
    "# clicking search button\n",
    "search_button = driver.find_element(By.XPATH,\"/html/body/div[1]/div[3]/form/div[1]/div[1]/div[1]/button/div\").click()\n",
    "time.sleep(2)"
   ]
  },
  {
   "cell_type": "code",
   "execution_count": 32,
   "id": "533dfb54",
   "metadata": {},
   "outputs": [],
   "source": [
    "# we scroll down to generate more images on the website\n",
    "for _ in range(20):\n",
    "    driver.execute_script(\"window.scrollBy(0,1000)\")\n",
    "    \n",
    "images = driver.find_elements(By.XPATH,'//img[@class=\"rg_i Q4LuWd\"]')\n"
   ]
  },
  {
   "cell_type": "code",
   "execution_count": 33,
   "id": "2ca62efc",
   "metadata": {},
   "outputs": [],
   "source": [
    "# creating empty lists for fruits image urls\n",
    "fruits_img_url = []"
   ]
  },
  {
   "cell_type": "code",
   "execution_count": 35,
   "id": "7d55eb5f",
   "metadata": {},
   "outputs": [
    {
     "name": "stdout",
     "output_type": "stream",
     "text": [
      "Downloading 0 of 10 images\n",
      "Downloading 1 of 10 images\n",
      "Downloading 2 of 10 images\n",
      "Downloading 3 of 10 images\n",
      "Downloading 4 of 10 images\n",
      "Downloading 5 of 10 images\n",
      "Downloading 6 of 10 images\n",
      "Downloading 7 of 10 images\n",
      "Downloading 8 of 10 images\n",
      "Downloading 9 of 10 images\n",
      "Downloading 10 of 10 images\n"
     ]
    }
   ],
   "source": [
    "# creating loop for extracting 10 images data\n",
    "for image in images:\n",
    "    source = image.get_attribute('src')\n",
    "    if source is not None:\n",
    "        if(source[0:4] == 'http'):\n",
    "            fruits_img_url.append(source)\n",
    "            \n",
    "for i in range(len(fruits_img_url)):\n",
    "    if i > 10:\n",
    "        break\n",
    "    print(\"Downloading {0} of {1} images\" .format(i,10))\n",
    "    response = requests.get(fruits_img_url[i])\n",
    "    file = open(r\"C:\\images\\fruitimages\"+str(i)+\".jpg\",\"wb\")\n",
    "    file.write(response.content)"
   ]
  },
  {
   "cell_type": "code",
   "execution_count": 36,
   "id": "e71c1156",
   "metadata": {},
   "outputs": [],
   "source": [
    "# closing the driver\n",
    "driver.close() "
   ]
  },
  {
   "cell_type": "markdown",
   "id": "907a471c",
   "metadata": {},
   "source": [
    "DOWNLOADIN CAR IMAGES"
   ]
  },
  {
   "cell_type": "code",
   "execution_count": 37,
   "id": "31978a19",
   "metadata": {},
   "outputs": [],
   "source": [
    "# opening the webpage given\n",
    "driver = webdriver.Chrome(r'C:\\Users\\nidsi\\Downloads\\chromedriver_win32\\chromedriver.exe')\n",
    "driver.get(\"https://images.google.com/\")\n",
    "time.sleep(2)"
   ]
  },
  {
   "cell_type": "code",
   "execution_count": 38,
   "id": "5df1f2c8",
   "metadata": {},
   "outputs": [],
   "source": [
    "# sending CAR keyword in search field\n",
    "search_field = driver.find_element(By.XPATH,\"/html/body/div[1]/div[3]/form/div[1]/div[1]/div[1]/div/div[2]/input\").send_keys(\"cars\")"
   ]
  },
  {
   "cell_type": "code",
   "execution_count": 39,
   "id": "4fe42403",
   "metadata": {},
   "outputs": [],
   "source": [
    "# clicking search button\n",
    "search_button = driver.find_element(By.XPATH,\"/html/body/div[1]/div[3]/form/div[1]/div[1]/div[1]/button/div\").click()\n",
    "time.sleep(2)"
   ]
  },
  {
   "cell_type": "code",
   "execution_count": 40,
   "id": "461a8c57",
   "metadata": {},
   "outputs": [],
   "source": [
    "# we scroll down to generate more images on the website\n",
    "for _ in range(20):\n",
    "    driver.execute_script(\"window.scrollBy(0,1000)\")\n",
    "    \n",
    "carimages = driver.find_elements(By.XPATH,'//img[@class=\"rg_i Q4LuWd\"]')"
   ]
  },
  {
   "cell_type": "code",
   "execution_count": 43,
   "id": "370534fd",
   "metadata": {},
   "outputs": [],
   "source": [
    "# creating empty lists for cars image urls\n",
    "cars_img_url =[]"
   ]
  },
  {
   "cell_type": "code",
   "execution_count": 45,
   "id": "6687bf82",
   "metadata": {},
   "outputs": [
    {
     "name": "stdout",
     "output_type": "stream",
     "text": [
      "Downloading 0 of 10 images\n",
      "Downloading 1 of 10 images\n",
      "Downloading 2 of 10 images\n",
      "Downloading 3 of 10 images\n",
      "Downloading 4 of 10 images\n",
      "Downloading 5 of 10 images\n",
      "Downloading 6 of 10 images\n",
      "Downloading 7 of 10 images\n",
      "Downloading 8 of 10 images\n",
      "Downloading 9 of 10 images\n",
      "Downloading 10 of 10 images\n"
     ]
    }
   ],
   "source": [
    "# creating loop for extracting 10 images data\n",
    "for image in carimages:\n",
    "    source = image.get_attribute('src')\n",
    "    if source is not None:\n",
    "        if(source[0:4] == 'http'):\n",
    "            cars_img_url.append(source)\n",
    "            \n",
    "for i in range(len(cars_img_url)):\n",
    "    if i > 10:\n",
    "        break\n",
    "    print(\"Downloading {0} of {1} images\" .format(i,10))\n",
    "    response = requests.get(cars_img_url[i])\n",
    "    file = open(r\"C:\\images\\carimages\"+str(i)+\".jpg\",\"wb\")\n",
    "    file.write(response.content)"
   ]
  },
  {
   "cell_type": "code",
   "execution_count": 46,
   "id": "53f8944c",
   "metadata": {},
   "outputs": [],
   "source": [
    "# closing the driver\n",
    "driver.close() "
   ]
  },
  {
   "cell_type": "markdown",
   "id": "1e13df45",
   "metadata": {},
   "source": [
    "DOWNLOADING MACHINE LEARNING IMAGES\n"
   ]
  },
  {
   "cell_type": "code",
   "execution_count": 47,
   "id": "a46723d7",
   "metadata": {},
   "outputs": [],
   "source": [
    "# opening the webpage given\n",
    "driver = webdriver.Chrome(r'C:\\Users\\nidsi\\Downloads\\chromedriver_win32\\chromedriver.exe')\n",
    "driver.get(\"https://images.google.com/\")\n",
    "time.sleep(2)"
   ]
  },
  {
   "cell_type": "code",
   "execution_count": 48,
   "id": "73440866",
   "metadata": {},
   "outputs": [],
   "source": [
    "# sending MACHINE LEARNING keyword in search field\n",
    "search_field = driver.find_element(By.XPATH,\"/html/body/div[1]/div[3]/form/div[1]/div[1]/div[1]/div/div[2]/input\").send_keys(\"machine learning\")"
   ]
  },
  {
   "cell_type": "code",
   "execution_count": 49,
   "id": "feecdba6",
   "metadata": {},
   "outputs": [],
   "source": [
    "# clicking search button\n",
    "search_button = driver.find_element(By.XPATH,\"/html/body/div[1]/div[3]/form/div[1]/div[1]/div[1]/button/div\").click()\n",
    "time.sleep(2)"
   ]
  },
  {
   "cell_type": "code",
   "execution_count": 57,
   "id": "949d7956",
   "metadata": {},
   "outputs": [],
   "source": [
    "# we scroll down to generate more images on the website\n",
    "for _ in range(20):\n",
    "    driver.execute_script(\"window.scrollBy(0,1000)\")\n",
    "    \n",
    "ml_images = driver.find_elements(By.XPATH,'//img[@class=\"rg_i Q4LuWd\"]')"
   ]
  },
  {
   "cell_type": "code",
   "execution_count": 58,
   "id": "46c40cf0",
   "metadata": {},
   "outputs": [],
   "source": [
    "# creating empty lists for machie learning image urls\n",
    "ml_img_url =[]"
   ]
  },
  {
   "cell_type": "code",
   "execution_count": 59,
   "id": "087a5c1e",
   "metadata": {},
   "outputs": [
    {
     "name": "stdout",
     "output_type": "stream",
     "text": [
      "Downloading 0 of 10 images\n",
      "Downloading 1 of 10 images\n",
      "Downloading 2 of 10 images\n",
      "Downloading 3 of 10 images\n",
      "Downloading 4 of 10 images\n",
      "Downloading 5 of 10 images\n",
      "Downloading 6 of 10 images\n",
      "Downloading 7 of 10 images\n",
      "Downloading 8 of 10 images\n",
      "Downloading 9 of 10 images\n",
      "Downloading 10 of 10 images\n"
     ]
    }
   ],
   "source": [
    "# creating loop for extracting 10 images data\n",
    "for image in ml_images:\n",
    "    source = image.get_attribute('src')\n",
    "    if source is not None:\n",
    "        if(source[0:4] == 'http'):\n",
    "            ml_img_url.append(source)\n",
    "            \n",
    "for i in range(len(ml_img_url)):\n",
    "    if i > 10:\n",
    "        break\n",
    "    print(\"Downloading {0} of {1} images\" .format(i,10))\n",
    "    response = requests.get(ml_img_url[i])\n",
    "    file = open(r\"C:\\images\\machinelearning\"+str(i)+\".jpg\",\"wb\")\n",
    "    file.write(response.content)"
   ]
  },
  {
   "cell_type": "code",
   "execution_count": 60,
   "id": "e7180158",
   "metadata": {},
   "outputs": [],
   "source": [
    "# closing the driver\n",
    "driver.close() "
   ]
  },
  {
   "cell_type": "markdown",
   "id": "a26b7a17",
   "metadata": {},
   "source": [
    "DOWNLOADING GUITAR IMAGES"
   ]
  },
  {
   "cell_type": "code",
   "execution_count": 68,
   "id": "f70015ed",
   "metadata": {},
   "outputs": [],
   "source": [
    "# opening the webpage given\n",
    "driver = webdriver.Chrome(r'C:\\Users\\nidsi\\Downloads\\chromedriver_win32\\chromedriver.exe')\n",
    "driver.get(\"https://images.google.com/\")\n",
    "time.sleep(2)"
   ]
  },
  {
   "cell_type": "code",
   "execution_count": 69,
   "id": "b34c2c40",
   "metadata": {},
   "outputs": [],
   "source": [
    " # searching MACHINE GUITARS keyword in search field\n",
    "search_field = driver.find_element(By.XPATH,\"/html/body/div[1]/div[3]/form/div[1]/div[1]/div[1]/div/div[2]/input\").send_keys(\"guitars\")"
   ]
  },
  {
   "cell_type": "code",
   "execution_count": 70,
   "id": "dcc285eb",
   "metadata": {},
   "outputs": [],
   "source": [
    "# clicking search button\n",
    "search_button = driver.find_element(By.XPATH,\"/html/body/div[1]/div[3]/form/div[1]/div[1]/div[1]/button/div\").click()\n",
    "time.sleep(2)"
   ]
  },
  {
   "cell_type": "code",
   "execution_count": 71,
   "id": "b79e5a72",
   "metadata": {},
   "outputs": [],
   "source": [
    "# we scroll down to generate more images on the website\n",
    "for _ in range(20):\n",
    "    driver.execute_script(\"window.scrollBy(0,1000)\")\n",
    "    \n",
    "guitars_images = driver.find_elements(By.XPATH,'//img[@class=\"rg_i Q4LuWd\"]')"
   ]
  },
  {
   "cell_type": "code",
   "execution_count": 72,
   "id": "f357a686",
   "metadata": {},
   "outputs": [],
   "source": [
    "# creating empty lists for guitars image urls\n",
    "guitar_img_url =[]"
   ]
  },
  {
   "cell_type": "code",
   "execution_count": 75,
   "id": "9892bb78",
   "metadata": {},
   "outputs": [
    {
     "name": "stdout",
     "output_type": "stream",
     "text": [
      "Downloading 0 of 10 images\n",
      "Downloading 1 of 10 images\n",
      "Downloading 2 of 10 images\n",
      "Downloading 3 of 10 images\n",
      "Downloading 4 of 10 images\n",
      "Downloading 5 of 10 images\n",
      "Downloading 6 of 10 images\n",
      "Downloading 7 of 10 images\n",
      "Downloading 8 of 10 images\n",
      "Downloading 9 of 10 images\n",
      "Downloading 10 of 10 images\n"
     ]
    }
   ],
   "source": [
    "# creating loop for extracting 10 images data\n",
    "for image in guitars_images:\n",
    "    source = image.get_attribute('src')\n",
    "    if source is not None:\n",
    "        if(source[0:4] == 'http'):\n",
    "            guitar_img_url.append(source)\n",
    "            \n",
    "for i in range(len(guitar_img_url)):\n",
    "    if i > 10:\n",
    "        break\n",
    "    print(\"Downloading {0} of {1} images\" .format(i,10))\n",
    "    response = requests.get(guitar_img_url[i])\n",
    "    file = open(r\"C:\\images\\guitar\"+str(i)+\".jpg\",\"wb\")\n",
    "    file.write(response.content)"
   ]
  },
  {
   "cell_type": "code",
   "execution_count": 76,
   "id": "4bbade17",
   "metadata": {},
   "outputs": [],
   "source": [
    "# closing the driver\n",
    "driver.close() "
   ]
  },
  {
   "cell_type": "markdown",
   "id": "db36214c",
   "metadata": {},
   "source": [
    "DOWNLOADING CAKE IMAGES"
   ]
  },
  {
   "cell_type": "code",
   "execution_count": 77,
   "id": "f213cbf8",
   "metadata": {},
   "outputs": [],
   "source": [
    "# opening the webpage given\n",
    "driver = webdriver.Chrome(r'C:\\Users\\nidsi\\Downloads\\chromedriver_win32\\chromedriver.exe')\n",
    "driver.get(\"https://images.google.com/\")\n",
    "time.sleep(2)"
   ]
  },
  {
   "cell_type": "code",
   "execution_count": 78,
   "id": "be898d67",
   "metadata": {},
   "outputs": [],
   "source": [
    " # searching CAKES keyword in search field\n",
    "search_field = driver.find_element(By.XPATH,\"/html/body/div[1]/div[3]/form/div[1]/div[1]/div[1]/div/div[2]/input\").send_keys(\"cakes\")"
   ]
  },
  {
   "cell_type": "code",
   "execution_count": 79,
   "id": "f92896ea",
   "metadata": {},
   "outputs": [],
   "source": [
    "# clicking search button\n",
    "search_button = driver.find_element(By.XPATH,\"/html/body/div[1]/div[3]/form/div[1]/div[1]/div[1]/button/div\").click()\n",
    "time.sleep(2)"
   ]
  },
  {
   "cell_type": "code",
   "execution_count": 80,
   "id": "f4ae1314",
   "metadata": {},
   "outputs": [],
   "source": [
    "# we scroll down to generate more images on the website\n",
    "for _ in range(20):\n",
    "    driver.execute_script(\"window.scrollBy(0,1000)\")\n",
    "    \n",
    "cakes_images = driver.find_elements(By.XPATH,'//img[@class=\"rg_i Q4LuWd\"]')"
   ]
  },
  {
   "cell_type": "code",
   "execution_count": 86,
   "id": "29b75435",
   "metadata": {},
   "outputs": [],
   "source": [
    "# creating empty lists for cakess image urls\n",
    "cake_img_url =[]"
   ]
  },
  {
   "cell_type": "code",
   "execution_count": 88,
   "id": "48fecfb3",
   "metadata": {},
   "outputs": [
    {
     "name": "stdout",
     "output_type": "stream",
     "text": [
      "Downloading 0 of 10 images\n",
      "Downloading 1 of 10 images\n",
      "Downloading 2 of 10 images\n",
      "Downloading 3 of 10 images\n",
      "Downloading 4 of 10 images\n",
      "Downloading 5 of 10 images\n",
      "Downloading 6 of 10 images\n",
      "Downloading 7 of 10 images\n",
      "Downloading 8 of 10 images\n",
      "Downloading 9 of 10 images\n",
      "Downloading 10 of 10 images\n"
     ]
    }
   ],
   "source": [
    "\n",
    "# creating loop for extracting 10 images data\n",
    "for image in cakes_images:\n",
    "    source = image.get_attribute('src')\n",
    "    if source is not None:\n",
    "        if(source[0:4] == 'http'):\n",
    "            cake_img_url.append(source)\n",
    "            \n",
    "for i in range(len(cake_img_url)):\n",
    "    if i > 10:\n",
    "        break\n",
    "    print(\"Downloading {0} of {1} images\" .format(i,10))\n",
    "    response = requests.get(cake_img_url[i])\n",
    "    file = open(r\"C:\\images\\cakeimg\"+str(i)+\".jpg\",\"wb\")\n",
    "    file.write(response.content)"
   ]
  },
  {
   "cell_type": "code",
   "execution_count": 89,
   "id": "67b518aa",
   "metadata": {},
   "outputs": [],
   "source": [
    "# closing the driver\n",
    "driver.close() "
   ]
  },
  {
   "cell_type": "markdown",
   "id": "e4d2c7fc",
   "metadata": {},
   "source": [
    "# Write a python program to search for a smartphone(e.g.: Oneplus Nord, pixel 4A, etc.) on www.flipkart.com and scrape following details for all the search results displayed on 1st page.\n",
    "Details to be scraped: “Brand Name”, “Smartphone name”, “Colour”, “RAM”, “Storage(ROM)”, “Primary Camera”, \n",
    "“Secondary Camera”, “Display Size”, “Battery Capacity”, “Price”, “Product URL”. Incase if any of the \n",
    "details is missing then replace it by “- “. Save your results in a dataframe and CSV.\n"
   ]
  },
  {
   "cell_type": "code",
   "execution_count": 1,
   "id": "27604594",
   "metadata": {},
   "outputs": [],
   "source": [
    "# importing required libraries\n",
    "import selenium\n",
    "import pandas as pd\n",
    "import numpy as np\n",
    "from selenium import webdriver    # importing webdriver module from selenium to open up automated chrome window\n",
    "import warnings\n",
    "warnings.filterwarnings(\"ignore\") # ignoring warnings that might arise\n",
    "import time                       # used to stop search engine for few seconds\n",
    "\n",
    "# webdriverwait libraries explicit wait\n",
    "from selenium import webdriver\n",
    "from selenium.webdriver.support.ui import WebDriverWait\n",
    "from selenium.webdriver.support import expected_conditions as EC\n",
    "from selenium.webdriver.common.by import By\n",
    "\n",
    "# common exceptions\n",
    "from selenium.common.exceptions import NoSuchElementException, StaleElementReferenceException\n",
    "\n",
    "# Importing requests\n",
    "import requests"
   ]
  },
  {
   "cell_type": "code",
   "execution_count": 2,
   "id": "7b7b1de9",
   "metadata": {},
   "outputs": [],
   "source": [
    "# opening the webpage given\n",
    "driver = webdriver.Chrome(r'C:\\Users\\nidsi\\Downloads\\chromedriver_win32\\chromedriver.exe')\n",
    "driver.get(\"https://www.flipkart.com/\")\n",
    "time.sleep(2)"
   ]
  },
  {
   "cell_type": "code",
   "execution_count": 3,
   "id": "d71e5147",
   "metadata": {},
   "outputs": [],
   "source": [
    "#searching for web elements  for search job bar usng id\n",
    "search_mob = driver.find_element(By.CLASS_NAME,\"_3704LK\")\n",
    "search_mob.send_keys('Redmi Note')# entering \"Redmi Note\" in search field\n",
    "\n"
   ]
  },
  {
   "cell_type": "code",
   "execution_count": 4,
   "id": "7b1725e3",
   "metadata": {},
   "outputs": [],
   "source": [
    "#CLICKING ON SEARCH BUTTON\n",
    "search = driver.find_element(By.XPATH,\"/html/body/div/div/div[1]/div[1]/div[2]/div[2]/form/div/button\").click()\n",
    "time.sleep(2)"
   ]
  },
  {
   "cell_type": "code",
   "execution_count": 5,
   "id": "95d9271f",
   "metadata": {},
   "outputs": [],
   "source": [
    "# creating empty list for smartphones url in the first page\n",
    "url = []"
   ]
  },
  {
   "cell_type": "code",
   "execution_count": 6,
   "id": "b6b83e73",
   "metadata": {},
   "outputs": [],
   "source": [
    "# extracting url tags from first page\n",
    "smartphoneurl = driver.find_elements(By.XPATH,'//a[@class=\"_1fQZEK\"]')"
   ]
  },
  {
   "cell_type": "code",
   "execution_count": 7,
   "id": "9082efc3",
   "metadata": {},
   "outputs": [],
   "source": [
    "# creating loop to extract the url from url tags\n",
    "for i in smartphoneurl:\n",
    "    url.append(i.get_attribute('href'))"
   ]
  },
  {
   "cell_type": "code",
   "execution_count": 8,
   "id": "49caded5",
   "metadata": {},
   "outputs": [
    {
     "data": {
      "text/plain": [
       "24"
      ]
     },
     "execution_count": 8,
     "metadata": {},
     "output_type": "execute_result"
    }
   ],
   "source": [
    "# length of url\n",
    "len(url)"
   ]
  },
  {
   "cell_type": "code",
   "execution_count": 18,
   "id": "68958125",
   "metadata": {},
   "outputs": [],
   "source": [
    "#creating empty lists for saving data\n",
    "brandname = []\n",
    "smartphonename = []\n",
    "colour = []\n",
    "ram = []\n",
    "storagerom = []\n",
    "primarycamera = []\n",
    "secondarycamera = []\n",
    "displaysize = []\n",
    "batterycapacity = []\n",
    "price = []\n",
    "product_url = []"
   ]
  },
  {
   "cell_type": "code",
   "execution_count": 20,
   "id": "e7e072a1",
   "metadata": {},
   "outputs": [
    {
     "ename": "ElementClickInterceptedException",
     "evalue": "Message: element click intercepted: Element <button class=\"_2KpZ6l _1FH0tX\">...</button> is not clickable at point (1027, 34). Other element would receive the click: <div class=\"_2Xfa2_\">...</div>\n  (Session info: chrome=103.0.5060.134)\nStacktrace:\nBacktrace:\n\tOrdinal0 [0x00616463+2188387]\n\tOrdinal0 [0x005AE461+1762401]\n\tOrdinal0 [0x004C3D78+802168]\n\tOrdinal0 [0x004F7F9B+1015707]\n\tOrdinal0 [0x004F5F68+1007464]\n\tOrdinal0 [0x004F3C6B+998507]\n\tOrdinal0 [0x004F29D9+993753]\n\tOrdinal0 [0x004E8613+951827]\n\tOrdinal0 [0x0050C7DC+1099740]\n\tOrdinal0 [0x004E7FF4+950260]\n\tOrdinal0 [0x0050C9F4+1100276]\n\tOrdinal0 [0x0051CC22+1166370]\n\tOrdinal0 [0x0050C5F6+1099254]\n\tOrdinal0 [0x004E6BE0+945120]\n\tOrdinal0 [0x004E7AD6+948950]\n\tGetHandleVerifier [0x008B71F2+2712546]\n\tGetHandleVerifier [0x008A886D+2652765]\n\tGetHandleVerifier [0x006A002A+520730]\n\tGetHandleVerifier [0x0069EE06+516086]\n\tOrdinal0 [0x005B468B+1787531]\n\tOrdinal0 [0x005B8E88+1805960]\n\tOrdinal0 [0x005B8F75+1806197]\n\tOrdinal0 [0x005C1DF1+1842673]\n\tBaseThreadInitThunk [0x75B36739+25]\n\tRtlGetFullPathName_UEx [0x77268FEF+1215]\n\tRtlGetFullPathName_UEx [0x77268FBD+1165]\n",
     "output_type": "error",
     "traceback": [
      "\u001b[1;31m---------------------------------------------------------------------------\u001b[0m",
      "\u001b[1;31mElementClickInterceptedException\u001b[0m          Traceback (most recent call last)",
      "\u001b[1;32m~\\AppData\\Local\\Temp/ipykernel_21136/2418527822.py\u001b[0m in \u001b[0;36m<module>\u001b[1;34m\u001b[0m\n\u001b[0;32m      3\u001b[0m     \u001b[0mdriver\u001b[0m\u001b[1;33m.\u001b[0m\u001b[0mget\u001b[0m\u001b[1;33m(\u001b[0m\u001b[0mi\u001b[0m\u001b[1;33m)\u001b[0m          \u001b[1;31m# iterating with in the url list\u001b[0m\u001b[1;33m\u001b[0m\u001b[1;33m\u001b[0m\u001b[0m\n\u001b[0;32m      4\u001b[0m     \u001b[0mtime\u001b[0m\u001b[1;33m.\u001b[0m\u001b[0msleep\u001b[0m\u001b[1;33m(\u001b[0m\u001b[1;36m2\u001b[0m\u001b[1;33m)\u001b[0m\u001b[1;33m\u001b[0m\u001b[1;33m\u001b[0m\u001b[0m\n\u001b[1;32m----> 5\u001b[1;33m     \u001b[0mreadmorebutton\u001b[0m \u001b[1;33m=\u001b[0m \u001b[0mdriver\u001b[0m\u001b[1;33m.\u001b[0m\u001b[0mfind_element\u001b[0m\u001b[1;33m(\u001b[0m\u001b[0mBy\u001b[0m\u001b[1;33m.\u001b[0m\u001b[0mXPATH\u001b[0m\u001b[1;33m,\u001b[0m\u001b[1;34m'//button[@class=\"_2KpZ6l _1FH0tX\"]'\u001b[0m\u001b[1;33m)\u001b[0m\u001b[1;33m.\u001b[0m\u001b[0mclick\u001b[0m\u001b[1;33m(\u001b[0m\u001b[1;33m)\u001b[0m  \u001b[1;31m#clicking on Read More button\u001b[0m\u001b[1;33m\u001b[0m\u001b[1;33m\u001b[0m\u001b[0m\n\u001b[0m\u001b[0;32m      6\u001b[0m     \u001b[0mtime\u001b[0m\u001b[1;33m.\u001b[0m\u001b[0msleep\u001b[0m\u001b[1;33m(\u001b[0m\u001b[1;36m2\u001b[0m\u001b[1;33m)\u001b[0m\u001b[1;33m\u001b[0m\u001b[1;33m\u001b[0m\u001b[0m\n\u001b[0;32m      7\u001b[0m     \u001b[1;32mtry\u001b[0m\u001b[1;33m:\u001b[0m\u001b[1;33m\u001b[0m\u001b[1;33m\u001b[0m\u001b[0m\n",
      "\u001b[1;32m~\\Anaconda3\\lib\\site-packages\\selenium\\webdriver\\remote\\webelement.py\u001b[0m in \u001b[0;36mclick\u001b[1;34m(self)\u001b[0m\n\u001b[0;32m     86\u001b[0m     \u001b[1;32mdef\u001b[0m \u001b[0mclick\u001b[0m\u001b[1;33m(\u001b[0m\u001b[0mself\u001b[0m\u001b[1;33m)\u001b[0m \u001b[1;33m->\u001b[0m \u001b[1;32mNone\u001b[0m\u001b[1;33m:\u001b[0m\u001b[1;33m\u001b[0m\u001b[1;33m\u001b[0m\u001b[0m\n\u001b[0;32m     87\u001b[0m         \u001b[1;34m\"\"\"Clicks the element.\"\"\"\u001b[0m\u001b[1;33m\u001b[0m\u001b[1;33m\u001b[0m\u001b[0m\n\u001b[1;32m---> 88\u001b[1;33m         \u001b[0mself\u001b[0m\u001b[1;33m.\u001b[0m\u001b[0m_execute\u001b[0m\u001b[1;33m(\u001b[0m\u001b[0mCommand\u001b[0m\u001b[1;33m.\u001b[0m\u001b[0mCLICK_ELEMENT\u001b[0m\u001b[1;33m)\u001b[0m\u001b[1;33m\u001b[0m\u001b[1;33m\u001b[0m\u001b[0m\n\u001b[0m\u001b[0;32m     89\u001b[0m \u001b[1;33m\u001b[0m\u001b[0m\n\u001b[0;32m     90\u001b[0m     \u001b[1;32mdef\u001b[0m \u001b[0msubmit\u001b[0m\u001b[1;33m(\u001b[0m\u001b[0mself\u001b[0m\u001b[1;33m)\u001b[0m\u001b[1;33m:\u001b[0m\u001b[1;33m\u001b[0m\u001b[1;33m\u001b[0m\u001b[0m\n",
      "\u001b[1;32m~\\Anaconda3\\lib\\site-packages\\selenium\\webdriver\\remote\\webelement.py\u001b[0m in \u001b[0;36m_execute\u001b[1;34m(self, command, params)\u001b[0m\n\u001b[0;32m    394\u001b[0m             \u001b[0mparams\u001b[0m \u001b[1;33m=\u001b[0m \u001b[1;33m{\u001b[0m\u001b[1;33m}\u001b[0m\u001b[1;33m\u001b[0m\u001b[1;33m\u001b[0m\u001b[0m\n\u001b[0;32m    395\u001b[0m         \u001b[0mparams\u001b[0m\u001b[1;33m[\u001b[0m\u001b[1;34m'id'\u001b[0m\u001b[1;33m]\u001b[0m \u001b[1;33m=\u001b[0m \u001b[0mself\u001b[0m\u001b[1;33m.\u001b[0m\u001b[0m_id\u001b[0m\u001b[1;33m\u001b[0m\u001b[1;33m\u001b[0m\u001b[0m\n\u001b[1;32m--> 396\u001b[1;33m         \u001b[1;32mreturn\u001b[0m \u001b[0mself\u001b[0m\u001b[1;33m.\u001b[0m\u001b[0m_parent\u001b[0m\u001b[1;33m.\u001b[0m\u001b[0mexecute\u001b[0m\u001b[1;33m(\u001b[0m\u001b[0mcommand\u001b[0m\u001b[1;33m,\u001b[0m \u001b[0mparams\u001b[0m\u001b[1;33m)\u001b[0m\u001b[1;33m\u001b[0m\u001b[1;33m\u001b[0m\u001b[0m\n\u001b[0m\u001b[0;32m    397\u001b[0m \u001b[1;33m\u001b[0m\u001b[0m\n\u001b[0;32m    398\u001b[0m     \u001b[1;32mdef\u001b[0m \u001b[0mfind_element\u001b[0m\u001b[1;33m(\u001b[0m\u001b[0mself\u001b[0m\u001b[1;33m,\u001b[0m \u001b[0mby\u001b[0m\u001b[1;33m=\u001b[0m\u001b[0mBy\u001b[0m\u001b[1;33m.\u001b[0m\u001b[0mID\u001b[0m\u001b[1;33m,\u001b[0m \u001b[0mvalue\u001b[0m\u001b[1;33m=\u001b[0m\u001b[1;32mNone\u001b[0m\u001b[1;33m)\u001b[0m \u001b[1;33m->\u001b[0m \u001b[0mWebElement\u001b[0m\u001b[1;33m:\u001b[0m\u001b[1;33m\u001b[0m\u001b[1;33m\u001b[0m\u001b[0m\n",
      "\u001b[1;32m~\\Anaconda3\\lib\\site-packages\\selenium\\webdriver\\remote\\webdriver.py\u001b[0m in \u001b[0;36mexecute\u001b[1;34m(self, driver_command, params)\u001b[0m\n\u001b[0;32m    433\u001b[0m         \u001b[0mresponse\u001b[0m \u001b[1;33m=\u001b[0m \u001b[0mself\u001b[0m\u001b[1;33m.\u001b[0m\u001b[0mcommand_executor\u001b[0m\u001b[1;33m.\u001b[0m\u001b[0mexecute\u001b[0m\u001b[1;33m(\u001b[0m\u001b[0mdriver_command\u001b[0m\u001b[1;33m,\u001b[0m \u001b[0mparams\u001b[0m\u001b[1;33m)\u001b[0m\u001b[1;33m\u001b[0m\u001b[1;33m\u001b[0m\u001b[0m\n\u001b[0;32m    434\u001b[0m         \u001b[1;32mif\u001b[0m \u001b[0mresponse\u001b[0m\u001b[1;33m:\u001b[0m\u001b[1;33m\u001b[0m\u001b[1;33m\u001b[0m\u001b[0m\n\u001b[1;32m--> 435\u001b[1;33m             \u001b[0mself\u001b[0m\u001b[1;33m.\u001b[0m\u001b[0merror_handler\u001b[0m\u001b[1;33m.\u001b[0m\u001b[0mcheck_response\u001b[0m\u001b[1;33m(\u001b[0m\u001b[0mresponse\u001b[0m\u001b[1;33m)\u001b[0m\u001b[1;33m\u001b[0m\u001b[1;33m\u001b[0m\u001b[0m\n\u001b[0m\u001b[0;32m    436\u001b[0m             response['value'] = self._unwrap_value(\n\u001b[0;32m    437\u001b[0m                 response.get('value', None))\n",
      "\u001b[1;32m~\\Anaconda3\\lib\\site-packages\\selenium\\webdriver\\remote\\errorhandler.py\u001b[0m in \u001b[0;36mcheck_response\u001b[1;34m(self, response)\u001b[0m\n\u001b[0;32m    245\u001b[0m                 \u001b[0malert_text\u001b[0m \u001b[1;33m=\u001b[0m \u001b[0mvalue\u001b[0m\u001b[1;33m[\u001b[0m\u001b[1;34m'alert'\u001b[0m\u001b[1;33m]\u001b[0m\u001b[1;33m.\u001b[0m\u001b[0mget\u001b[0m\u001b[1;33m(\u001b[0m\u001b[1;34m'text'\u001b[0m\u001b[1;33m)\u001b[0m\u001b[1;33m\u001b[0m\u001b[1;33m\u001b[0m\u001b[0m\n\u001b[0;32m    246\u001b[0m             \u001b[1;32mraise\u001b[0m \u001b[0mexception_class\u001b[0m\u001b[1;33m(\u001b[0m\u001b[0mmessage\u001b[0m\u001b[1;33m,\u001b[0m \u001b[0mscreen\u001b[0m\u001b[1;33m,\u001b[0m \u001b[0mstacktrace\u001b[0m\u001b[1;33m,\u001b[0m \u001b[0malert_text\u001b[0m\u001b[1;33m)\u001b[0m  \u001b[1;31m# type: ignore[call-arg]  # mypy is not smart enough here\u001b[0m\u001b[1;33m\u001b[0m\u001b[1;33m\u001b[0m\u001b[0m\n\u001b[1;32m--> 247\u001b[1;33m         \u001b[1;32mraise\u001b[0m \u001b[0mexception_class\u001b[0m\u001b[1;33m(\u001b[0m\u001b[0mmessage\u001b[0m\u001b[1;33m,\u001b[0m \u001b[0mscreen\u001b[0m\u001b[1;33m,\u001b[0m \u001b[0mstacktrace\u001b[0m\u001b[1;33m)\u001b[0m\u001b[1;33m\u001b[0m\u001b[1;33m\u001b[0m\u001b[0m\n\u001b[0m\u001b[0;32m    248\u001b[0m \u001b[1;33m\u001b[0m\u001b[0m\n\u001b[0;32m    249\u001b[0m     \u001b[1;32mdef\u001b[0m \u001b[0m_value_or_default\u001b[0m\u001b[1;33m(\u001b[0m\u001b[0mself\u001b[0m\u001b[1;33m,\u001b[0m \u001b[0mobj\u001b[0m\u001b[1;33m:\u001b[0m \u001b[0mMapping\u001b[0m\u001b[1;33m[\u001b[0m\u001b[0m_KT\u001b[0m\u001b[1;33m,\u001b[0m \u001b[0m_VT\u001b[0m\u001b[1;33m]\u001b[0m\u001b[1;33m,\u001b[0m \u001b[0mkey\u001b[0m\u001b[1;33m:\u001b[0m \u001b[0m_KT\u001b[0m\u001b[1;33m,\u001b[0m \u001b[0mdefault\u001b[0m\u001b[1;33m:\u001b[0m \u001b[0m_VT\u001b[0m\u001b[1;33m)\u001b[0m \u001b[1;33m->\u001b[0m \u001b[0m_VT\u001b[0m\u001b[1;33m:\u001b[0m\u001b[1;33m\u001b[0m\u001b[1;33m\u001b[0m\u001b[0m\n",
      "\u001b[1;31mElementClickInterceptedException\u001b[0m: Message: element click intercepted: Element <button class=\"_2KpZ6l _1FH0tX\">...</button> is not clickable at point (1027, 34). Other element would receive the click: <div class=\"_2Xfa2_\">...</div>\n  (Session info: chrome=103.0.5060.134)\nStacktrace:\nBacktrace:\n\tOrdinal0 [0x00616463+2188387]\n\tOrdinal0 [0x005AE461+1762401]\n\tOrdinal0 [0x004C3D78+802168]\n\tOrdinal0 [0x004F7F9B+1015707]\n\tOrdinal0 [0x004F5F68+1007464]\n\tOrdinal0 [0x004F3C6B+998507]\n\tOrdinal0 [0x004F29D9+993753]\n\tOrdinal0 [0x004E8613+951827]\n\tOrdinal0 [0x0050C7DC+1099740]\n\tOrdinal0 [0x004E7FF4+950260]\n\tOrdinal0 [0x0050C9F4+1100276]\n\tOrdinal0 [0x0051CC22+1166370]\n\tOrdinal0 [0x0050C5F6+1099254]\n\tOrdinal0 [0x004E6BE0+945120]\n\tOrdinal0 [0x004E7AD6+948950]\n\tGetHandleVerifier [0x008B71F2+2712546]\n\tGetHandleVerifier [0x008A886D+2652765]\n\tGetHandleVerifier [0x006A002A+520730]\n\tGetHandleVerifier [0x0069EE06+516086]\n\tOrdinal0 [0x005B468B+1787531]\n\tOrdinal0 [0x005B8E88+1805960]\n\tOrdinal0 [0x005B8F75+1806197]\n\tOrdinal0 [0x005C1DF1+1842673]\n\tBaseThreadInitThunk [0x75B36739+25]\n\tRtlGetFullPathName_UEx [0x77268FEF+1215]\n\tRtlGetFullPathName_UEx [0x77268FBD+1165]\n"
     ]
    }
   ],
   "source": [
    "# creating loop for each data to be extracted per page, extracting the required tag and then extracting the data from the tag\n",
    "for i in url:\n",
    "    driver.get(i)          # iterating with in the url list\n",
    "    time.sleep(2)\n",
    "    readmorebutton = driver.find_element(By.XPATH,'//button[@class=\"_2KpZ6l _1FH0tX\"]').click()  #clicking on Read More button\n",
    "    time.sleep(2)\n",
    "    try:\n",
    "        brand=driver.find_element(By.XPATH,'//table[@class=\"_14cfVK\"]/tbody/tr[3]/td[2]/ul/li[1]')\n",
    "        brandname.append(brand.text)   # extracting text from the tag\n",
    "    except NoSuchElementException:\n",
    "        brandname.append(\"-\")          # appending \"-\" if element is not present\n",
    "    try:\n",
    "        smartphone=driver.find_element(By.XPATH,'//span[@class=\"B_NuCI\"]')\n",
    "        smartphonename.append(smartphone.text)\n",
    "    except NoSuchElementException:\n",
    "        smartphonename.append(\"-\")\n",
    "    try:\n",
    "        colourname=driver.find_element(By.XPATH,'//table[@class=\"_14cfVK\"]/tbody/tr[4]/td[2]/ul/li')\n",
    "        colour.append(colourname.text)\n",
    "    except NoSuchElementException:\n",
    "        colour.append(\"-\")\n",
    "    try:\n",
    "        ramtag=driver.find_element(By.XPATH,'//div[@class=\"_1UhVsV\"]/div[4]/table/tbody/tr[2]/td[2]/ul/li')\n",
    "        ram.append(ramtag.text)\n",
    "    except NoSuchElementException:\n",
    "        ram.append(\"-\")\n",
    "    try:\n",
    "        storagetag=driver.find_element(By.XPATH,'//div[@class=\"_1UhVsV\"]/div[4]/table/tbody/tr/td[2]/ul/li[1]')\n",
    "        storagerom.append(storagetag.text)\n",
    "    except NoSuchElementException:\n",
    "        storagerom.append(\"-\")\n",
    "    try:\n",
    "        primarycameratag=driver.find_element(By.XPATH,'//div[@class=\"_1UhVsV\"]/div[5]/table/tbody/tr/td[2]/ul/li[1]')\n",
    "        primarycamera.append(primarycameratag.text)\n",
    "    except NoSuchElementException:\n",
    "        primarycamera.append(\"-\")\n",
    "    try:\n",
    "        secondarycameratag=driver.find_element(By.XPATH,'//div[@class=\"_1UhVsV\"]/div[5]/table/tbody/tr[2]/td[1]')\n",
    "        secondarycamera.append(secondarycameratag.text)\n",
    "    except NoSuchElementException:\n",
    "        secondarycamera.append(\"-\")\n",
    "    try:\n",
    "        displaysizetag=driver.find_element(By.XPATH,'//div[@class=\"_1UhVsV\"]/div[2]/table/tbody/tr[1]/td[2]/ul/li')\n",
    "        displaysize.append(displaysizetag.text)\n",
    "    except NoSuchElementException:\n",
    "        displaysize.append(\"-\")\n",
    "    try:\n",
    "        batterycapacitytag=driver.find_element(By.XPATH,'//div[@class=\"_1UhVsV\"]/div[7]/table/tbody/tr/td/ul/li')\n",
    "        batterycapacity.append(batterycapacitytag.text)\n",
    "    except NoSuchElementException:\n",
    "        batterycapacity.append(\"-\")\n",
    "    try:\n",
    "        pricetag=driver.find_element(By.XPATH,'//div[@class=\"_30jeq3 _16Jk6d\"]')\n",
    "        price.append(pricetag.text.replace(\"₹\",\"\"))\n",
    "    except NoSuchElementException:\n",
    "        price.append(\"-\")\n",
    "    try:\n",
    "        url_string=driver.current_url\n",
    "        product_url.append(url_string)\n",
    "    except NoSuchElementException:\n",
    "        product_url.append(\"-\")"
   ]
  },
  {
   "cell_type": "code",
   "execution_count": 21,
   "id": "6ef61613",
   "metadata": {},
   "outputs": [
    {
     "name": "stdout",
     "output_type": "stream",
     "text": [
      "20 20 20 20 20 20 20 20 20 19 19\n"
     ]
    }
   ],
   "source": [
    "#printing length\n",
    "print(len(brandname),len(smartphonename),len(colour),len(ram),len(storagerom),len(primarycamera),len(secondarycamera),len(displaysize),len(batterycapacity),len(price),len(product_url))\n"
   ]
  },
  {
   "cell_type": "code",
   "execution_count": 23,
   "id": "a02dec97",
   "metadata": {},
   "outputs": [
    {
     "name": "stdout",
     "output_type": "stream",
     "text": [
      "20 20 20 20 20 20 20 20 20\n"
     ]
    }
   ],
   "source": [
    "#printing length\n",
    "print(len(brandname),len(smartphonename),len(colour),len(ram),len(storagerom),len(primarycamera),len(secondarycamera),len(displaysize),len(batterycapacity))\n"
   ]
  },
  {
   "cell_type": "code",
   "execution_count": 24,
   "id": "b5c66413",
   "metadata": {},
   "outputs": [
    {
     "data": {
      "text/html": [
       "<div>\n",
       "<style scoped>\n",
       "    .dataframe tbody tr th:only-of-type {\n",
       "        vertical-align: middle;\n",
       "    }\n",
       "\n",
       "    .dataframe tbody tr th {\n",
       "        vertical-align: top;\n",
       "    }\n",
       "\n",
       "    .dataframe thead th {\n",
       "        text-align: right;\n",
       "    }\n",
       "</style>\n",
       "<table border=\"1\" class=\"dataframe\">\n",
       "  <thead>\n",
       "    <tr style=\"text-align: right;\">\n",
       "      <th></th>\n",
       "      <th>brandname</th>\n",
       "      <th>smartphonename</th>\n",
       "      <th>colour</th>\n",
       "      <th>ram</th>\n",
       "      <th>storagerom</th>\n",
       "      <th>primarycamera</th>\n",
       "      <th>secondarycamera</th>\n",
       "      <th>displaysize</th>\n",
       "      <th>batterycapacity</th>\n",
       "    </tr>\n",
       "  </thead>\n",
       "  <tbody>\n",
       "    <tr>\n",
       "      <th>0</th>\n",
       "      <td>Redmi Note 11</td>\n",
       "      <td>Redmi Note 11 (Space Black, 64 GB)  (6 GB RAM)</td>\n",
       "      <td>Space Black</td>\n",
       "      <td>6 GB</td>\n",
       "      <td>64 GB</td>\n",
       "      <td>50MP Rear Camera</td>\n",
       "      <td>Dual Camera Lens</td>\n",
       "      <td>16.33 cm (6.43 inch)</td>\n",
       "      <td>5000 mAh</td>\n",
       "    </tr>\n",
       "    <tr>\n",
       "      <th>1</th>\n",
       "      <td>Redmi Note 11</td>\n",
       "      <td>Redmi Note 11 (Space Black, 64 GB)  (6 GB RAM)</td>\n",
       "      <td>Space Black</td>\n",
       "      <td>6 GB</td>\n",
       "      <td>64 GB</td>\n",
       "      <td>50MP Rear Camera</td>\n",
       "      <td>Dual Camera Lens</td>\n",
       "      <td>16.33 cm (6.43 inch)</td>\n",
       "      <td>5000 mAh</td>\n",
       "    </tr>\n",
       "    <tr>\n",
       "      <th>2</th>\n",
       "      <td>Redmi Note 11</td>\n",
       "      <td>Redmi Note 11 (Space Black, 64 GB)  (4 GB RAM)</td>\n",
       "      <td>Space Black</td>\n",
       "      <td>4 GB</td>\n",
       "      <td>64 GB</td>\n",
       "      <td>Yes</td>\n",
       "      <td>Primary Camera</td>\n",
       "      <td>16.33 cm (6.43 inch)</td>\n",
       "      <td>4G VOLTE, 4G</td>\n",
       "    </tr>\n",
       "    <tr>\n",
       "      <th>3</th>\n",
       "      <td>Redmi Note 11</td>\n",
       "      <td>Redmi Note 11 (Starburst White, 64 GB)  (6 GB ...</td>\n",
       "      <td>Starburst White</td>\n",
       "      <td>6 GB</td>\n",
       "      <td>64 GB</td>\n",
       "      <td>50MP Rear Camera</td>\n",
       "      <td>Dual Camera Lens</td>\n",
       "      <td>16.33 cm (6.43 inch)</td>\n",
       "      <td>5000 mAh</td>\n",
       "    </tr>\n",
       "    <tr>\n",
       "      <th>4</th>\n",
       "      <td>REDMI Note 11T 5G</td>\n",
       "      <td>REDMI Note 11T 5G (Matte black, 128 GB)  (6 GB...</td>\n",
       "      <td>Matte black</td>\n",
       "      <td>6 GB</td>\n",
       "      <td>128 GB</td>\n",
       "      <td>50MP Rear Camera</td>\n",
       "      <td>Dual Camera Lens</td>\n",
       "      <td>16.76 cm (6.6 inch)</td>\n",
       "      <td>5000 mAh</td>\n",
       "    </tr>\n",
       "    <tr>\n",
       "      <th>5</th>\n",
       "      <td>Redmi Note 11</td>\n",
       "      <td>Redmi Note 11 (Starburst White, 128 GB)  (6 GB...</td>\n",
       "      <td>Starburst White</td>\n",
       "      <td>6 GB</td>\n",
       "      <td>128 GB</td>\n",
       "      <td>50MP Rear Camera</td>\n",
       "      <td>Dual Camera Lens</td>\n",
       "      <td>16.33 cm (6.43 inch)</td>\n",
       "      <td>5000 mAh</td>\n",
       "    </tr>\n",
       "    <tr>\n",
       "      <th>6</th>\n",
       "      <td>Redmi Note 11 PRO Plus 5G</td>\n",
       "      <td>Redmi Note 11 PRO Plus 5G (Mirage Blue, 256 GB...</td>\n",
       "      <td>Mirage Blue</td>\n",
       "      <td>8 GB</td>\n",
       "      <td>256 GB</td>\n",
       "      <td>108MP Rear Camera</td>\n",
       "      <td>Dual Camera Lens</td>\n",
       "      <td>16.94 cm (6.67 inch)</td>\n",
       "      <td>5000 mAh</td>\n",
       "    </tr>\n",
       "    <tr>\n",
       "      <th>7</th>\n",
       "      <td>Redmi Note 11</td>\n",
       "      <td>Redmi Note 11 (Horizon Blue, 64 GB)  (6 GB RAM)</td>\n",
       "      <td>Horizon Blue</td>\n",
       "      <td>6 GB</td>\n",
       "      <td>64 GB</td>\n",
       "      <td>50MP Rear Camera</td>\n",
       "      <td>Dual Camera Lens</td>\n",
       "      <td>16.33 cm (6.43 inch)</td>\n",
       "      <td>5000 mAh</td>\n",
       "    </tr>\n",
       "    <tr>\n",
       "      <th>8</th>\n",
       "      <td>Redmi Note 11</td>\n",
       "      <td>Redmi Note 11 (Starburst White, 64 GB)  (4 GB ...</td>\n",
       "      <td>Starburst White</td>\n",
       "      <td>4 GB</td>\n",
       "      <td>64 GB</td>\n",
       "      <td>50MP Rear Camera</td>\n",
       "      <td>Dual Camera Lens</td>\n",
       "      <td>16.33 cm (6.43 inch)</td>\n",
       "      <td>5000 mAh</td>\n",
       "    </tr>\n",
       "    <tr>\n",
       "      <th>9</th>\n",
       "      <td>REDMI Note 11T 5G</td>\n",
       "      <td>REDMI Note 11T 5G (Aquamarine Blue, 128 GB)  (...</td>\n",
       "      <td>Aquamarine Blue</td>\n",
       "      <td>6 GB</td>\n",
       "      <td>128 GB</td>\n",
       "      <td>50MP Rear Camera</td>\n",
       "      <td>Dual Camera Lens</td>\n",
       "      <td>16.76 cm (6.6 inch)</td>\n",
       "      <td>5000 mAh</td>\n",
       "    </tr>\n",
       "    <tr>\n",
       "      <th>10</th>\n",
       "      <td>Redmi Note 11 PRO Plus 5G</td>\n",
       "      <td>Redmi Note 11 PRO Plus 5G (Stealth Black, 256 ...</td>\n",
       "      <td>Stealth Black</td>\n",
       "      <td>8 GB</td>\n",
       "      <td>256 GB</td>\n",
       "      <td>108MP Rear Camera</td>\n",
       "      <td>Secondary Camera Available</td>\n",
       "      <td>16.94 cm (6.67 inch)</td>\n",
       "      <td>5000 mAh</td>\n",
       "    </tr>\n",
       "    <tr>\n",
       "      <th>11</th>\n",
       "      <td>REDMI Note 11T 5G</td>\n",
       "      <td>REDMI Note 11T 5G (Stardust White, 128 GB)  (8...</td>\n",
       "      <td>Stardust White</td>\n",
       "      <td>8 GB</td>\n",
       "      <td>128 GB</td>\n",
       "      <td>50MP Rear Camera</td>\n",
       "      <td>Dual Camera Lens</td>\n",
       "      <td>16.76 cm (6.6 inch)</td>\n",
       "      <td>5000 mAh</td>\n",
       "    </tr>\n",
       "    <tr>\n",
       "      <th>12</th>\n",
       "      <td>REDMI Note 11T 5G</td>\n",
       "      <td>REDMI Note 11T 5G (Stardust White, 128 GB)  (6...</td>\n",
       "      <td>Stardust White</td>\n",
       "      <td>6 GB</td>\n",
       "      <td>128 GB</td>\n",
       "      <td>50MP Rear Camera</td>\n",
       "      <td>Dual Camera Lens</td>\n",
       "      <td>16.76 cm (6.6 inch)</td>\n",
       "      <td>5000 mAh</td>\n",
       "    </tr>\n",
       "    <tr>\n",
       "      <th>13</th>\n",
       "      <td>REDMI Note 11T 5G</td>\n",
       "      <td>REDMI Note 11T 5G (Matte black, 64 GB)  (6 GB ...</td>\n",
       "      <td>Matte black</td>\n",
       "      <td>6 GB</td>\n",
       "      <td>64 GB</td>\n",
       "      <td>50MP Rear Camera</td>\n",
       "      <td>Dual Camera Lens</td>\n",
       "      <td>16.76 cm (6.6 inch)</td>\n",
       "      <td>5000 mAh</td>\n",
       "    </tr>\n",
       "    <tr>\n",
       "      <th>14</th>\n",
       "      <td>Redmi Note 11S</td>\n",
       "      <td>Redmi Note 11S (Space Black, 128 GB)  (8 GB RAM)</td>\n",
       "      <td>Space Black</td>\n",
       "      <td>8 GB</td>\n",
       "      <td>128 GB</td>\n",
       "      <td>108MP Rear Camera</td>\n",
       "      <td>Dual Camera Lens</td>\n",
       "      <td>16.33 cm (6.43 inch)</td>\n",
       "      <td>5000 mAh</td>\n",
       "    </tr>\n",
       "    <tr>\n",
       "      <th>15</th>\n",
       "      <td>REDMI Note 11 Pro</td>\n",
       "      <td>REDMI Note 11 Pro (Stealth Black, 128 GB)  (8 ...</td>\n",
       "      <td>Stealth Black</td>\n",
       "      <td>8 GB</td>\n",
       "      <td>128 GB</td>\n",
       "      <td>108MP Rear Camera</td>\n",
       "      <td>Dual Camera Lens</td>\n",
       "      <td>16.94 cm (6.67 inch)</td>\n",
       "      <td>5000 mAh</td>\n",
       "    </tr>\n",
       "    <tr>\n",
       "      <th>16</th>\n",
       "      <td>Redmi Note 7S</td>\n",
       "      <td>Redmi Note 7S (Sapphire Blue, 32 GB)  (3 GB RAM)</td>\n",
       "      <td>Sapphire Blue</td>\n",
       "      <td>3 GB</td>\n",
       "      <td>32 GB</td>\n",
       "      <td>Yes</td>\n",
       "      <td>Primary Camera</td>\n",
       "      <td>16.0 cm (6.3 inch)</td>\n",
       "      <td>Yes</td>\n",
       "    </tr>\n",
       "    <tr>\n",
       "      <th>17</th>\n",
       "      <td>Redmi Note 5 Pro</td>\n",
       "      <td>Redmi Note 5 Pro (Gold, 64 GB)  (4 GB RAM)</td>\n",
       "      <td>Gold</td>\n",
       "      <td>4 GB</td>\n",
       "      <td>64 GB</td>\n",
       "      <td>Yes</td>\n",
       "      <td>Primary Camera</td>\n",
       "      <td>15.21 cm (5.99 inch)</td>\n",
       "      <td>Yes</td>\n",
       "    </tr>\n",
       "    <tr>\n",
       "      <th>18</th>\n",
       "      <td>Redmi Note 8</td>\n",
       "      <td>Redmi Note 8 (Space Black, 64 GB)  (4 GB RAM)</td>\n",
       "      <td>Space Black</td>\n",
       "      <td>4 GB</td>\n",
       "      <td>64 GB</td>\n",
       "      <td>Yes</td>\n",
       "      <td>Primary Camera</td>\n",
       "      <td>16.0 cm (6.3 inch)</td>\n",
       "      <td>4G VOLTE, 4G, 3G, 2G</td>\n",
       "    </tr>\n",
       "    <tr>\n",
       "      <th>19</th>\n",
       "      <td>REDMI Note 11 Pro</td>\n",
       "      <td>REDMI Note 11 Pro (Stealth Black, 128 GB)  (6 ...</td>\n",
       "      <td>Stealth Black</td>\n",
       "      <td>6 GB</td>\n",
       "      <td>128 GB</td>\n",
       "      <td>108MP Rear Camera</td>\n",
       "      <td>Dual Camera Lens</td>\n",
       "      <td>16.94 cm (6.67 inch)</td>\n",
       "      <td>5000 mAh</td>\n",
       "    </tr>\n",
       "  </tbody>\n",
       "</table>\n",
       "</div>"
      ],
      "text/plain": [
       "                    brandname  \\\n",
       "0               Redmi Note 11   \n",
       "1               Redmi Note 11   \n",
       "2               Redmi Note 11   \n",
       "3               Redmi Note 11   \n",
       "4           REDMI Note 11T 5G   \n",
       "5               Redmi Note 11   \n",
       "6   Redmi Note 11 PRO Plus 5G   \n",
       "7               Redmi Note 11   \n",
       "8               Redmi Note 11   \n",
       "9           REDMI Note 11T 5G   \n",
       "10  Redmi Note 11 PRO Plus 5G   \n",
       "11          REDMI Note 11T 5G   \n",
       "12          REDMI Note 11T 5G   \n",
       "13          REDMI Note 11T 5G   \n",
       "14             Redmi Note 11S   \n",
       "15          REDMI Note 11 Pro   \n",
       "16              Redmi Note 7S   \n",
       "17           Redmi Note 5 Pro   \n",
       "18               Redmi Note 8   \n",
       "19          REDMI Note 11 Pro   \n",
       "\n",
       "                                       smartphonename           colour   ram  \\\n",
       "0      Redmi Note 11 (Space Black, 64 GB)  (6 GB RAM)      Space Black  6 GB   \n",
       "1      Redmi Note 11 (Space Black, 64 GB)  (6 GB RAM)      Space Black  6 GB   \n",
       "2      Redmi Note 11 (Space Black, 64 GB)  (4 GB RAM)      Space Black  4 GB   \n",
       "3   Redmi Note 11 (Starburst White, 64 GB)  (6 GB ...  Starburst White  6 GB   \n",
       "4   REDMI Note 11T 5G (Matte black, 128 GB)  (6 GB...      Matte black  6 GB   \n",
       "5   Redmi Note 11 (Starburst White, 128 GB)  (6 GB...  Starburst White  6 GB   \n",
       "6   Redmi Note 11 PRO Plus 5G (Mirage Blue, 256 GB...      Mirage Blue  8 GB   \n",
       "7     Redmi Note 11 (Horizon Blue, 64 GB)  (6 GB RAM)     Horizon Blue  6 GB   \n",
       "8   Redmi Note 11 (Starburst White, 64 GB)  (4 GB ...  Starburst White  4 GB   \n",
       "9   REDMI Note 11T 5G (Aquamarine Blue, 128 GB)  (...  Aquamarine Blue  6 GB   \n",
       "10  Redmi Note 11 PRO Plus 5G (Stealth Black, 256 ...    Stealth Black  8 GB   \n",
       "11  REDMI Note 11T 5G (Stardust White, 128 GB)  (8...   Stardust White  8 GB   \n",
       "12  REDMI Note 11T 5G (Stardust White, 128 GB)  (6...   Stardust White  6 GB   \n",
       "13  REDMI Note 11T 5G (Matte black, 64 GB)  (6 GB ...      Matte black  6 GB   \n",
       "14   Redmi Note 11S (Space Black, 128 GB)  (8 GB RAM)      Space Black  8 GB   \n",
       "15  REDMI Note 11 Pro (Stealth Black, 128 GB)  (8 ...    Stealth Black  8 GB   \n",
       "16   Redmi Note 7S (Sapphire Blue, 32 GB)  (3 GB RAM)    Sapphire Blue  3 GB   \n",
       "17         Redmi Note 5 Pro (Gold, 64 GB)  (4 GB RAM)             Gold  4 GB   \n",
       "18      Redmi Note 8 (Space Black, 64 GB)  (4 GB RAM)      Space Black  4 GB   \n",
       "19  REDMI Note 11 Pro (Stealth Black, 128 GB)  (6 ...    Stealth Black  6 GB   \n",
       "\n",
       "   storagerom      primarycamera             secondarycamera  \\\n",
       "0       64 GB   50MP Rear Camera            Dual Camera Lens   \n",
       "1       64 GB   50MP Rear Camera            Dual Camera Lens   \n",
       "2       64 GB                Yes              Primary Camera   \n",
       "3       64 GB   50MP Rear Camera            Dual Camera Lens   \n",
       "4      128 GB   50MP Rear Camera            Dual Camera Lens   \n",
       "5      128 GB   50MP Rear Camera            Dual Camera Lens   \n",
       "6      256 GB  108MP Rear Camera            Dual Camera Lens   \n",
       "7       64 GB   50MP Rear Camera            Dual Camera Lens   \n",
       "8       64 GB   50MP Rear Camera            Dual Camera Lens   \n",
       "9      128 GB   50MP Rear Camera            Dual Camera Lens   \n",
       "10     256 GB  108MP Rear Camera  Secondary Camera Available   \n",
       "11     128 GB   50MP Rear Camera            Dual Camera Lens   \n",
       "12     128 GB   50MP Rear Camera            Dual Camera Lens   \n",
       "13      64 GB   50MP Rear Camera            Dual Camera Lens   \n",
       "14     128 GB  108MP Rear Camera            Dual Camera Lens   \n",
       "15     128 GB  108MP Rear Camera            Dual Camera Lens   \n",
       "16      32 GB                Yes              Primary Camera   \n",
       "17      64 GB                Yes              Primary Camera   \n",
       "18      64 GB                Yes              Primary Camera   \n",
       "19     128 GB  108MP Rear Camera            Dual Camera Lens   \n",
       "\n",
       "             displaysize       batterycapacity  \n",
       "0   16.33 cm (6.43 inch)              5000 mAh  \n",
       "1   16.33 cm (6.43 inch)              5000 mAh  \n",
       "2   16.33 cm (6.43 inch)          4G VOLTE, 4G  \n",
       "3   16.33 cm (6.43 inch)              5000 mAh  \n",
       "4    16.76 cm (6.6 inch)              5000 mAh  \n",
       "5   16.33 cm (6.43 inch)              5000 mAh  \n",
       "6   16.94 cm (6.67 inch)              5000 mAh  \n",
       "7   16.33 cm (6.43 inch)              5000 mAh  \n",
       "8   16.33 cm (6.43 inch)              5000 mAh  \n",
       "9    16.76 cm (6.6 inch)              5000 mAh  \n",
       "10  16.94 cm (6.67 inch)              5000 mAh  \n",
       "11   16.76 cm (6.6 inch)              5000 mAh  \n",
       "12   16.76 cm (6.6 inch)              5000 mAh  \n",
       "13   16.76 cm (6.6 inch)              5000 mAh  \n",
       "14  16.33 cm (6.43 inch)              5000 mAh  \n",
       "15  16.94 cm (6.67 inch)              5000 mAh  \n",
       "16    16.0 cm (6.3 inch)                   Yes  \n",
       "17  15.21 cm (5.99 inch)                   Yes  \n",
       "18    16.0 cm (6.3 inch)  4G VOLTE, 4G, 3G, 2G  \n",
       "19  16.94 cm (6.67 inch)              5000 mAh  "
      ]
     },
     "execution_count": 24,
     "metadata": {},
     "output_type": "execute_result"
    }
   ],
   "source": [
    "# creating dataFrame\n",
    "smartphonedf = pd.DataFrame({'brandname':brandname,'smartphonename':smartphonename,'colour':colour,'ram':ram,'storagerom':storagerom,'primarycamera':primarycamera,'secondarycamera':secondarycamera,'displaysize':displaysize,'batterycapacity':batterycapacity})\n",
    "smartphonedf"
   ]
  },
  {
   "cell_type": "code",
   "execution_count": 25,
   "id": "3da961ab",
   "metadata": {},
   "outputs": [],
   "source": [
    "#saving dataframe in csv file\n",
    "import pandas as pd\n",
    "smartphonedf.to_csv('smartphones_data.csv')\n"
   ]
  },
  {
   "cell_type": "code",
   "execution_count": 26,
   "id": "22d2b176",
   "metadata": {},
   "outputs": [],
   "source": [
    "driver.close()   # closing the driver at the end"
   ]
  },
  {
   "cell_type": "markdown",
   "id": "6f039222",
   "metadata": {},
   "source": [
    "# 5. Write a program to scrap geospatial coordinates (latitude, longitude) of a city searched on google maps."
   ]
  },
  {
   "cell_type": "code",
   "execution_count": 27,
   "id": "61842b14",
   "metadata": {},
   "outputs": [],
   "source": [
    "# importing required libraries\n",
    "import selenium\n",
    "import pandas as pd\n",
    "import numpy as np\n",
    "from selenium import webdriver    # importing webdriver module from selenium to open up automated chrome window\n",
    "import warnings\n",
    "warnings.filterwarnings(\"ignore\") # ignoring warnings that might arise\n",
    "import time                       # used to stop search engine for few seconds\n",
    "\n",
    "# common exceptions\n",
    "from selenium.common.exceptions import NoSuchElementException, StaleElementReferenceException\n",
    "\n",
    "# Importing requests\n",
    "import requests\n",
    "\n",
    "#importing regex\n",
    "import re"
   ]
  },
  {
   "cell_type": "code",
   "execution_count": 28,
   "id": "4bd51d76",
   "metadata": {},
   "outputs": [],
   "source": [
    "# opening the webpage given\n",
    "driver = webdriver.Chrome(r'C:\\Users\\nidsi\\Downloads\\chromedriver_win32\\chromedriver.exe')\n",
    "driver.get(\"https://www.google.com/maps\")\n",
    "time.sleep(2)"
   ]
  },
  {
   "cell_type": "code",
   "execution_count": 29,
   "id": "5a01bb39",
   "metadata": {},
   "outputs": [],
   "source": [
    "# entering \"Kolkata\" in search google maps section\n",
    "search_designation = driver.find_element(By.XPATH,\"/html/body/div[3]/div[9]/div[3]/div[1]/div[1]/div[1]/div[2]/form/div[2]/div[3]/div/input[1]\").send_keys(\"Kolkata\")"
   ]
  },
  {
   "cell_type": "code",
   "execution_count": 31,
   "id": "87e7a6bb",
   "metadata": {},
   "outputs": [],
   "source": [
    "# clicking search button\n",
    "search_button = driver.find_element(By.XPATH,\"/html/body/div[3]/div[9]/div[3]/div[1]/div[1]/div[1]/div[2]/div[1]/button\").click()\n",
    "time.sleep(5)"
   ]
  },
  {
   "cell_type": "code",
   "execution_count": 32,
   "id": "30e6e050",
   "metadata": {},
   "outputs": [
    {
     "name": "stdout",
     "output_type": "stream",
     "text": [
      "URL Extracted: https://www.google.com/maps/place/Kolkata,+West+Bengal/@22.6763858,88.0495336,10z/data=!3m1!4b1!4m5!3m4!1s0x39f882db4908f667:0x43e330e68f6c2cbc!8m2!3d22.572646!4d88.363895\n"
     ]
    }
   ],
   "source": [
    "# getting the current url from the google chrome in which the lattitude and longitude are present\n",
    "url_string = driver.current_url\n",
    "print(\"URL Extracted:\", url_string)"
   ]
  },
  {
   "cell_type": "code",
   "execution_count": 33,
   "id": "5ef9a6db",
   "metadata": {},
   "outputs": [
    {
     "data": {
      "text/plain": [
       "<re.Match object; span=(55, 77), match='@22.6763858,88.0495336'>"
      ]
     },
     "execution_count": 33,
     "metadata": {},
     "output_type": "execute_result"
    }
   ],
   "source": [
    "# extracting lattitude and longitude using regular expressions\n",
    "x = re.search(\"\\@[-?\\d\\.]*\\,([-?\\d\\.]*)\",url_string)\n",
    "x"
   ]
  },
  {
   "cell_type": "markdown",
   "id": "13fd1802",
   "metadata": {},
   "source": [
    "# 6. Write a program to scrap details of all the funding deals for second quarter (i.e Jan 21 – March 21) from trak.in."
   ]
  },
  {
   "cell_type": "code",
   "execution_count": 34,
   "id": "3060d5f8",
   "metadata": {},
   "outputs": [],
   "source": [
    "# importing required libraries\n",
    "import selenium\n",
    "import pandas as pd\n",
    "import numpy as np\n",
    "from selenium import webdriver    # importing webdriver module from selenium to open up automated chrome window\n",
    "import warnings\n",
    "warnings.filterwarnings(\"ignore\") # ignoring warnings that might arise\n",
    "import time                       # used to stop search engine for few seconds"
   ]
  },
  {
   "cell_type": "code",
   "execution_count": 35,
   "id": "d6476ed6",
   "metadata": {},
   "outputs": [],
   "source": [
    "# opening the webpage given\n",
    "driver = webdriver.Chrome(r'C:\\Users\\nidsi\\Downloads\\chromedriver_win32\\chromedriver.exe')\n",
    "driver.get(\"https://trak.in/\")\n",
    "time.sleep(2)"
   ]
  },
  {
   "cell_type": "code",
   "execution_count": 36,
   "id": "acc3114b",
   "metadata": {},
   "outputs": [],
   "source": [
    "# clicking on \"Funding Deals\"\n",
    "funding_deals = driver.find_element(By.XPATH,\"/html/body/div[1]/header/div[2]/div/div/div/div/nav/ul/li[9]/a\").click()"
   ]
  },
  {
   "cell_type": "code",
   "execution_count": 37,
   "id": "1a8ec6b6",
   "metadata": {},
   "outputs": [],
   "source": [
    "# closing the pop up manually"
   ]
  },
  {
   "cell_type": "code",
   "execution_count": 38,
   "id": "e8beb706",
   "metadata": {},
   "outputs": [],
   "source": [
    "# creating empty list for the data\n",
    "januaryfundingdeals = []\n",
    "februaryfundingdeals = []\n",
    "marchfundingdeals = []"
   ]
  },
  {
   "cell_type": "code",
   "execution_count": 39,
   "id": "d9e5b2f8",
   "metadata": {},
   "outputs": [
    {
     "data": {
      "text/plain": [
       "[\"Sr. No. Date (dd/mm/yyyy) Startup Name Industry / Vertical Sub-Vertical City / Location Investors' Name Investment Type Amount (In USD)      ::      1 15/01/2021 Digit Insurance Financial Services Insurance Services Bengaluru A91 Partners, Faering Capital, TVS Capital Funds Venture 1,80,00,000      ::      2 28/01/2021 Bombay Shaving Company Consumer Goods Company Shave care, beard care, and skincare products New Delhi Reckitt Benckiser Venture 6,172,258.50      ::      3 19/01/2021 DeHaat AgriTech Startup online marketplace for farm products and services Patna Prosus Ventures Series C 30,000,000      ::      4 19/01/2021 Darwinbox SaaS HR Tech Mumbai Salesforce Ventures Seed 15,000,000      ::      5 18/01/2021 mfine Health Tech Startup AI-powered telemedicine mobile app Bengaluru Heritas Capital Management Venture Round 16,000,000      ::      6 18/01/2021 Udayy EdTech Online learning platform for kids in class 1-5 Gurgaon Sequoia Capital Seed Funding 15,000,000      ::      7 11/01/2021 True Elements Food Startup Whole Food plant based Nashta Pune SIDBI Venture Capital Series 100,000,000      ::      8 13/01/2021 Saveo B2B E-commerce Pharmacies Bengaluru Matrix Partners India, RTP Global, others Seed 4,000,000\"]"
      ]
     },
     "execution_count": 39,
     "metadata": {},
     "output_type": "execute_result"
    }
   ],
   "source": [
    "# extracting Jan 2021 all funding deals\n",
    "jantags = driver.find_element(By.XPATH,\"/html/body/div[1]/main/div/div/div/div[2]/div[1]/div/div/div/div[1]/div/div[5]/div[3]\")\n",
    "januaryfundingdeals.append(jantags.text.replace(\"\\n\",\"      ::      \")) # extracting data\n",
    "januaryfundingdeals"
   ]
  },
  {
   "cell_type": "code",
   "execution_count": 40,
   "id": "ff9545b7",
   "metadata": {},
   "outputs": [
    {
     "data": {
      "text/plain": [
       "[\"Sr. No. Date (dd/mm/yyyy) Startup Name Industry / Vertical Sub-Vertical City / Location Investors' Name Investment Type Amount (In USD)      ::      1 11/02/2021 Doubtnut Edu Tech E-Learning Platform Gurgaon SIG Global, Sequoia Capital, WaterBridge Ventures and ON Mauritius Series B 2,500,000      ::      2 22/02/2021 Zomato Hospitality Online Food Delivery Platform Gurgaon Tiger Global, Kora Venture 250,000,000      ::      3 19/02/2021 Fingerlix Hospitality Semi-cooked food delivery app Mumbai Rhodium Trust, Accel Partners and Swiggy Series C 2,747,045.20      ::      4 17/02/2021 Zolve FinTech Global Neobank Venture Mumbai Accel Partners and Lightspeed Venture Partners Seed 1,50,00,000      ::      5 15/02/2021 KreditBee Finance Digital lending platform Bengaluru Azim Premji’s PremjiInvest and South Korea’s Mirae Asset Venture Series C 75,000,000      ::      6 12/02/2021 Pepperfry E-commerce Multi-brand furniture brand Mumbai InnoVen Capital Debt Financing 4,773,958      ::      7 12/02/2021 Grofers E-Commerce Online supermarket Gurgaon SoftBank Vision Fund (SVF) Unspecified 55,000,000      ::      8 09/02/2021 Nothing Technology Consumer Technology Venture London GV Series A 15,000,000      ::      9 09/02/2021 SplashLearn EdTech Game-based learning programme Gurgaon Owl Ventures Series C 18,000,000\"]"
      ]
     },
     "execution_count": 40,
     "metadata": {},
     "output_type": "execute_result"
    }
   ],
   "source": [
    "# extracting February 2021 all funding deals\n",
    "febtags = driver.find_element(By.XPATH,\"/html/body/div[1]/main/div/div/div/div[2]/div[1]/div/div/div/div[1]/div/div[4]/div[3]\")\n",
    "februaryfundingdeals.append(febtags.text.replace(\"\\n\",\"      ::      \")) # extracting data\n",
    "februaryfundingdeals"
   ]
  },
  {
   "cell_type": "code",
   "execution_count": 41,
   "id": "8a092fbe",
   "metadata": {},
   "outputs": [
    {
     "data": {
      "text/plain": [
       "[\"Sr. No. Date (dd/mm/yyyy) Startup Name Industry / Vertical Sub-Vertical City / Location Investors' Name Investment Type Amount (In USD)      ::      1 04/03/2021 DealShare E-commerce Online shopping platform Jaipur, Rajasthan Innoven Capital Debt Financing 250,000,000      ::      2 31/03/2021 Uniphore Technology Conversational Service Automation (CSA) Palo Alto Sorenson Capital Partners Series D 140,000,000      ::      3 30/03/2021 Dunzo E-commerce Hyper-local delivery app Bengaluru Krishtal Advisors Pte Ltd Series E 8,000,000      ::      4 30/03/2021 BYJU’S Edu-tech Online tutoring Bengaluru MC Global Edtech, B Capital, Baron, others Series F 460,000,000      ::      5 23/03/2021 SkilloVilla Edu-tech Career and job-oriented upskilling. Bengaluru Titan Capital, others Seed 300,000,000      ::      6 25/03/2021 CityMall E-commerce Social ecommerce and online grocery platform Gurgaon Accel Partners Series A 11,000,000      ::      7 26/03/2021 DotPe FinTech Commerce and payments platform to offline enterprise businesses. Gurgaon PayU Series A 27,500,000\"]"
      ]
     },
     "execution_count": 41,
     "metadata": {},
     "output_type": "execute_result"
    }
   ],
   "source": [
    "# extracting March 2021 all funding deals\n",
    "marchtags = driver.find_element(By.XPATH,\"/html/body/div[1]/main/div/div/div/div[2]/div[1]/div/div/div/div[1]/div/div[3]/div[3]\")\n",
    "marchfundingdeals.append(marchtags.text.replace(\"\\n\",\"      ::      \")) # extracting data\n",
    "marchfundingdeals"
   ]
  },
  {
   "cell_type": "code",
   "execution_count": 42,
   "id": "6bd246bb",
   "metadata": {},
   "outputs": [],
   "source": [
    "# closing the driver at the end\n",
    "driver.close()     "
   ]
  },
  {
   "cell_type": "markdown",
   "id": "645abea5",
   "metadata": {},
   "source": [
    "# 7. Write a program to scrap all the available details of best gaming laptops from digit.in"
   ]
  },
  {
   "cell_type": "code",
   "execution_count": 43,
   "id": "a05581fa",
   "metadata": {},
   "outputs": [],
   "source": [
    "# importing required libraries\n",
    "import selenium\n",
    "import pandas as pd\n",
    "import numpy as np\n",
    "from selenium import webdriver    # importing webdriver module from selenium to open up automated chrome window\n",
    "import warnings\n",
    "warnings.filterwarnings(\"ignore\") # ignoring warnings that might arise\n",
    "import time                       # used to stop search engine for few seconds\n",
    "\n",
    "# webdriverwait libraries explicit wait\n",
    "from selenium import webdriver\n",
    "from selenium.webdriver.support.ui import WebDriverWait\n",
    "from selenium.webdriver.support import expected_conditions as EC\n",
    "from selenium.webdriver.common.by import By\n",
    "\n",
    "# common exceptions\n",
    "from selenium.common.exceptions import NoSuchElementException"
   ]
  },
  {
   "cell_type": "code",
   "execution_count": 44,
   "id": "bbdc4553",
   "metadata": {},
   "outputs": [],
   "source": [
    "driver = webdriver.Chrome(r'C:\\Users\\nidsi\\Downloads\\chromedriver_win32\\chromedriver.exe')"
   ]
  },
  {
   "cell_type": "code",
   "execution_count": 45,
   "id": "d88c5c41",
   "metadata": {},
   "outputs": [
    {
     "data": {
      "text/plain": [
       "<selenium.webdriver.remote.webelement.WebElement (session=\"77d9e0ee103662f80005e2a1cb634d7b\", element=\"3b8063a3-4f67-4a0e-89df-b60339dde8f9\")>"
      ]
     },
     "execution_count": 45,
     "metadata": {},
     "output_type": "execute_result"
    }
   ],
   "source": [
    "# opening webpage\n",
    "driver.get(\"https://www.digit.in/\")\n",
    "delay = 15 # seconds       # waiting till the webpage loads\n",
    "WebDriverWait(driver, delay).until(EC.presence_of_element_located((By.CLASS_NAME, 'ninetynine_logo'))) "
   ]
  },
  {
   "cell_type": "code",
   "execution_count": 46,
   "id": "27b9808b",
   "metadata": {},
   "outputs": [],
   "source": [
    "# clicking on laptop button in category section\n",
    "laptoptop10 = driver.find_element(By.XPATH,\"/html/body/div[1]/div/div[4]/ul/li[3]/a\").click()"
   ]
  },
  {
   "cell_type": "code",
   "execution_count": 49,
   "id": "b7b5732a",
   "metadata": {},
   "outputs": [
    {
     "ename": "ElementClickInterceptedException",
     "evalue": "Message: element click intercepted: Element <li>...</li> is not clickable at point (868, 602). Other element would receive the click: <div class=\"cube-wrap\">...</div>\n  (Session info: chrome=103.0.5060.134)\nStacktrace:\nBacktrace:\n\tOrdinal0 [0x00616463+2188387]\n\tOrdinal0 [0x005AE461+1762401]\n\tOrdinal0 [0x004C3D78+802168]\n\tOrdinal0 [0x004F7F9B+1015707]\n\tOrdinal0 [0x004F5F68+1007464]\n\tOrdinal0 [0x004F3C6B+998507]\n\tOrdinal0 [0x004F29D9+993753]\n\tOrdinal0 [0x004E8613+951827]\n\tOrdinal0 [0x0050C7DC+1099740]\n\tOrdinal0 [0x004E7FF4+950260]\n\tOrdinal0 [0x0050C9F4+1100276]\n\tOrdinal0 [0x0051CC22+1166370]\n\tOrdinal0 [0x0050C5F6+1099254]\n\tOrdinal0 [0x004E6BE0+945120]\n\tOrdinal0 [0x004E7AD6+948950]\n\tGetHandleVerifier [0x008B71F2+2712546]\n\tGetHandleVerifier [0x008A886D+2652765]\n\tGetHandleVerifier [0x006A002A+520730]\n\tGetHandleVerifier [0x0069EE06+516086]\n\tOrdinal0 [0x005B468B+1787531]\n\tOrdinal0 [0x005B8E88+1805960]\n\tOrdinal0 [0x005B8F75+1806197]\n\tOrdinal0 [0x005C1DF1+1842673]\n\tBaseThreadInitThunk [0x75B36739+25]\n\tRtlGetFullPathName_UEx [0x77268FEF+1215]\n\tRtlGetFullPathName_UEx [0x77268FBD+1165]\n",
     "output_type": "error",
     "traceback": [
      "\u001b[1;31m---------------------------------------------------------------------------\u001b[0m",
      "\u001b[1;31mElementClickInterceptedException\u001b[0m          Traceback (most recent call last)",
      "\u001b[1;32m~\\AppData\\Local\\Temp/ipykernel_21136/4144930468.py\u001b[0m in \u001b[0;36m<module>\u001b[1;34m\u001b[0m\n\u001b[0;32m      1\u001b[0m \u001b[1;31m# clicking on \"Best Gaming Laptops in India\"\u001b[0m\u001b[1;33m\u001b[0m\u001b[1;33m\u001b[0m\u001b[0m\n\u001b[1;32m----> 2\u001b[1;33m \u001b[0mbestgaminglaptop\u001b[0m \u001b[1;33m=\u001b[0m \u001b[0mdriver\u001b[0m\u001b[1;33m.\u001b[0m\u001b[0mfind_element\u001b[0m\u001b[1;33m(\u001b[0m\u001b[0mBy\u001b[0m\u001b[1;33m.\u001b[0m\u001b[0mXPATH\u001b[0m\u001b[1;33m,\u001b[0m\u001b[1;34m\"/html/body/div[6]/div/div[2]/div[2]/ul/li[10]\"\u001b[0m\u001b[1;33m)\u001b[0m\u001b[1;33m.\u001b[0m\u001b[0mclick\u001b[0m\u001b[1;33m(\u001b[0m\u001b[1;33m)\u001b[0m\u001b[1;33m\u001b[0m\u001b[1;33m\u001b[0m\u001b[0m\n\u001b[0m\u001b[0;32m      3\u001b[0m \u001b[0mdelay\u001b[0m \u001b[1;33m=\u001b[0m \u001b[1;36m15\u001b[0m \u001b[1;31m# seconds       # waiting till the webpage loads\u001b[0m\u001b[1;33m\u001b[0m\u001b[1;33m\u001b[0m\u001b[0m\n\u001b[0;32m      4\u001b[0m \u001b[0mWebDriverWait\u001b[0m\u001b[1;33m(\u001b[0m\u001b[0mdriver\u001b[0m\u001b[1;33m,\u001b[0m \u001b[0mdelay\u001b[0m\u001b[1;33m)\u001b[0m\u001b[1;33m.\u001b[0m\u001b[0muntil\u001b[0m\u001b[1;33m(\u001b[0m\u001b[0mEC\u001b[0m\u001b[1;33m.\u001b[0m\u001b[0mpresence_of_element_located\u001b[0m\u001b[1;33m(\u001b[0m\u001b[1;33m(\u001b[0m\u001b[0mBy\u001b[0m\u001b[1;33m.\u001b[0m\u001b[0mCLASS_NAME\u001b[0m\u001b[1;33m,\u001b[0m \u001b[1;34m'ninetynine_logo'\u001b[0m\u001b[1;33m)\u001b[0m\u001b[1;33m)\u001b[0m\u001b[1;33m)\u001b[0m\u001b[1;33m\u001b[0m\u001b[1;33m\u001b[0m\u001b[0m\n",
      "\u001b[1;32m~\\Anaconda3\\lib\\site-packages\\selenium\\webdriver\\remote\\webelement.py\u001b[0m in \u001b[0;36mclick\u001b[1;34m(self)\u001b[0m\n\u001b[0;32m     86\u001b[0m     \u001b[1;32mdef\u001b[0m \u001b[0mclick\u001b[0m\u001b[1;33m(\u001b[0m\u001b[0mself\u001b[0m\u001b[1;33m)\u001b[0m \u001b[1;33m->\u001b[0m \u001b[1;32mNone\u001b[0m\u001b[1;33m:\u001b[0m\u001b[1;33m\u001b[0m\u001b[1;33m\u001b[0m\u001b[0m\n\u001b[0;32m     87\u001b[0m         \u001b[1;34m\"\"\"Clicks the element.\"\"\"\u001b[0m\u001b[1;33m\u001b[0m\u001b[1;33m\u001b[0m\u001b[0m\n\u001b[1;32m---> 88\u001b[1;33m         \u001b[0mself\u001b[0m\u001b[1;33m.\u001b[0m\u001b[0m_execute\u001b[0m\u001b[1;33m(\u001b[0m\u001b[0mCommand\u001b[0m\u001b[1;33m.\u001b[0m\u001b[0mCLICK_ELEMENT\u001b[0m\u001b[1;33m)\u001b[0m\u001b[1;33m\u001b[0m\u001b[1;33m\u001b[0m\u001b[0m\n\u001b[0m\u001b[0;32m     89\u001b[0m \u001b[1;33m\u001b[0m\u001b[0m\n\u001b[0;32m     90\u001b[0m     \u001b[1;32mdef\u001b[0m \u001b[0msubmit\u001b[0m\u001b[1;33m(\u001b[0m\u001b[0mself\u001b[0m\u001b[1;33m)\u001b[0m\u001b[1;33m:\u001b[0m\u001b[1;33m\u001b[0m\u001b[1;33m\u001b[0m\u001b[0m\n",
      "\u001b[1;32m~\\Anaconda3\\lib\\site-packages\\selenium\\webdriver\\remote\\webelement.py\u001b[0m in \u001b[0;36m_execute\u001b[1;34m(self, command, params)\u001b[0m\n\u001b[0;32m    394\u001b[0m             \u001b[0mparams\u001b[0m \u001b[1;33m=\u001b[0m \u001b[1;33m{\u001b[0m\u001b[1;33m}\u001b[0m\u001b[1;33m\u001b[0m\u001b[1;33m\u001b[0m\u001b[0m\n\u001b[0;32m    395\u001b[0m         \u001b[0mparams\u001b[0m\u001b[1;33m[\u001b[0m\u001b[1;34m'id'\u001b[0m\u001b[1;33m]\u001b[0m \u001b[1;33m=\u001b[0m \u001b[0mself\u001b[0m\u001b[1;33m.\u001b[0m\u001b[0m_id\u001b[0m\u001b[1;33m\u001b[0m\u001b[1;33m\u001b[0m\u001b[0m\n\u001b[1;32m--> 396\u001b[1;33m         \u001b[1;32mreturn\u001b[0m \u001b[0mself\u001b[0m\u001b[1;33m.\u001b[0m\u001b[0m_parent\u001b[0m\u001b[1;33m.\u001b[0m\u001b[0mexecute\u001b[0m\u001b[1;33m(\u001b[0m\u001b[0mcommand\u001b[0m\u001b[1;33m,\u001b[0m \u001b[0mparams\u001b[0m\u001b[1;33m)\u001b[0m\u001b[1;33m\u001b[0m\u001b[1;33m\u001b[0m\u001b[0m\n\u001b[0m\u001b[0;32m    397\u001b[0m \u001b[1;33m\u001b[0m\u001b[0m\n\u001b[0;32m    398\u001b[0m     \u001b[1;32mdef\u001b[0m \u001b[0mfind_element\u001b[0m\u001b[1;33m(\u001b[0m\u001b[0mself\u001b[0m\u001b[1;33m,\u001b[0m \u001b[0mby\u001b[0m\u001b[1;33m=\u001b[0m\u001b[0mBy\u001b[0m\u001b[1;33m.\u001b[0m\u001b[0mID\u001b[0m\u001b[1;33m,\u001b[0m \u001b[0mvalue\u001b[0m\u001b[1;33m=\u001b[0m\u001b[1;32mNone\u001b[0m\u001b[1;33m)\u001b[0m \u001b[1;33m->\u001b[0m \u001b[0mWebElement\u001b[0m\u001b[1;33m:\u001b[0m\u001b[1;33m\u001b[0m\u001b[1;33m\u001b[0m\u001b[0m\n",
      "\u001b[1;32m~\\Anaconda3\\lib\\site-packages\\selenium\\webdriver\\remote\\webdriver.py\u001b[0m in \u001b[0;36mexecute\u001b[1;34m(self, driver_command, params)\u001b[0m\n\u001b[0;32m    433\u001b[0m         \u001b[0mresponse\u001b[0m \u001b[1;33m=\u001b[0m \u001b[0mself\u001b[0m\u001b[1;33m.\u001b[0m\u001b[0mcommand_executor\u001b[0m\u001b[1;33m.\u001b[0m\u001b[0mexecute\u001b[0m\u001b[1;33m(\u001b[0m\u001b[0mdriver_command\u001b[0m\u001b[1;33m,\u001b[0m \u001b[0mparams\u001b[0m\u001b[1;33m)\u001b[0m\u001b[1;33m\u001b[0m\u001b[1;33m\u001b[0m\u001b[0m\n\u001b[0;32m    434\u001b[0m         \u001b[1;32mif\u001b[0m \u001b[0mresponse\u001b[0m\u001b[1;33m:\u001b[0m\u001b[1;33m\u001b[0m\u001b[1;33m\u001b[0m\u001b[0m\n\u001b[1;32m--> 435\u001b[1;33m             \u001b[0mself\u001b[0m\u001b[1;33m.\u001b[0m\u001b[0merror_handler\u001b[0m\u001b[1;33m.\u001b[0m\u001b[0mcheck_response\u001b[0m\u001b[1;33m(\u001b[0m\u001b[0mresponse\u001b[0m\u001b[1;33m)\u001b[0m\u001b[1;33m\u001b[0m\u001b[1;33m\u001b[0m\u001b[0m\n\u001b[0m\u001b[0;32m    436\u001b[0m             response['value'] = self._unwrap_value(\n\u001b[0;32m    437\u001b[0m                 response.get('value', None))\n",
      "\u001b[1;32m~\\Anaconda3\\lib\\site-packages\\selenium\\webdriver\\remote\\errorhandler.py\u001b[0m in \u001b[0;36mcheck_response\u001b[1;34m(self, response)\u001b[0m\n\u001b[0;32m    245\u001b[0m                 \u001b[0malert_text\u001b[0m \u001b[1;33m=\u001b[0m \u001b[0mvalue\u001b[0m\u001b[1;33m[\u001b[0m\u001b[1;34m'alert'\u001b[0m\u001b[1;33m]\u001b[0m\u001b[1;33m.\u001b[0m\u001b[0mget\u001b[0m\u001b[1;33m(\u001b[0m\u001b[1;34m'text'\u001b[0m\u001b[1;33m)\u001b[0m\u001b[1;33m\u001b[0m\u001b[1;33m\u001b[0m\u001b[0m\n\u001b[0;32m    246\u001b[0m             \u001b[1;32mraise\u001b[0m \u001b[0mexception_class\u001b[0m\u001b[1;33m(\u001b[0m\u001b[0mmessage\u001b[0m\u001b[1;33m,\u001b[0m \u001b[0mscreen\u001b[0m\u001b[1;33m,\u001b[0m \u001b[0mstacktrace\u001b[0m\u001b[1;33m,\u001b[0m \u001b[0malert_text\u001b[0m\u001b[1;33m)\u001b[0m  \u001b[1;31m# type: ignore[call-arg]  # mypy is not smart enough here\u001b[0m\u001b[1;33m\u001b[0m\u001b[1;33m\u001b[0m\u001b[0m\n\u001b[1;32m--> 247\u001b[1;33m         \u001b[1;32mraise\u001b[0m \u001b[0mexception_class\u001b[0m\u001b[1;33m(\u001b[0m\u001b[0mmessage\u001b[0m\u001b[1;33m,\u001b[0m \u001b[0mscreen\u001b[0m\u001b[1;33m,\u001b[0m \u001b[0mstacktrace\u001b[0m\u001b[1;33m)\u001b[0m\u001b[1;33m\u001b[0m\u001b[1;33m\u001b[0m\u001b[0m\n\u001b[0m\u001b[0;32m    248\u001b[0m \u001b[1;33m\u001b[0m\u001b[0m\n\u001b[0;32m    249\u001b[0m     \u001b[1;32mdef\u001b[0m \u001b[0m_value_or_default\u001b[0m\u001b[1;33m(\u001b[0m\u001b[0mself\u001b[0m\u001b[1;33m,\u001b[0m \u001b[0mobj\u001b[0m\u001b[1;33m:\u001b[0m \u001b[0mMapping\u001b[0m\u001b[1;33m[\u001b[0m\u001b[0m_KT\u001b[0m\u001b[1;33m,\u001b[0m \u001b[0m_VT\u001b[0m\u001b[1;33m]\u001b[0m\u001b[1;33m,\u001b[0m \u001b[0mkey\u001b[0m\u001b[1;33m:\u001b[0m \u001b[0m_KT\u001b[0m\u001b[1;33m,\u001b[0m \u001b[0mdefault\u001b[0m\u001b[1;33m:\u001b[0m \u001b[0m_VT\u001b[0m\u001b[1;33m)\u001b[0m \u001b[1;33m->\u001b[0m \u001b[0m_VT\u001b[0m\u001b[1;33m:\u001b[0m\u001b[1;33m\u001b[0m\u001b[1;33m\u001b[0m\u001b[0m\n",
      "\u001b[1;31mElementClickInterceptedException\u001b[0m: Message: element click intercepted: Element <li>...</li> is not clickable at point (868, 602). Other element would receive the click: <div class=\"cube-wrap\">...</div>\n  (Session info: chrome=103.0.5060.134)\nStacktrace:\nBacktrace:\n\tOrdinal0 [0x00616463+2188387]\n\tOrdinal0 [0x005AE461+1762401]\n\tOrdinal0 [0x004C3D78+802168]\n\tOrdinal0 [0x004F7F9B+1015707]\n\tOrdinal0 [0x004F5F68+1007464]\n\tOrdinal0 [0x004F3C6B+998507]\n\tOrdinal0 [0x004F29D9+993753]\n\tOrdinal0 [0x004E8613+951827]\n\tOrdinal0 [0x0050C7DC+1099740]\n\tOrdinal0 [0x004E7FF4+950260]\n\tOrdinal0 [0x0050C9F4+1100276]\n\tOrdinal0 [0x0051CC22+1166370]\n\tOrdinal0 [0x0050C5F6+1099254]\n\tOrdinal0 [0x004E6BE0+945120]\n\tOrdinal0 [0x004E7AD6+948950]\n\tGetHandleVerifier [0x008B71F2+2712546]\n\tGetHandleVerifier [0x008A886D+2652765]\n\tGetHandleVerifier [0x006A002A+520730]\n\tGetHandleVerifier [0x0069EE06+516086]\n\tOrdinal0 [0x005B468B+1787531]\n\tOrdinal0 [0x005B8E88+1805960]\n\tOrdinal0 [0x005B8F75+1806197]\n\tOrdinal0 [0x005C1DF1+1842673]\n\tBaseThreadInitThunk [0x75B36739+25]\n\tRtlGetFullPathName_UEx [0x77268FEF+1215]\n\tRtlGetFullPathName_UEx [0x77268FBD+1165]\n"
     ]
    }
   ],
   "source": [
    "# clicking on \"Best Gaming Laptops in India\"\n",
    "bestgaminglaptop = driver.find_element(\"By.XPATH,/html/body/div[3]/div/div/div[2]/div[5]/div[3]/div[3]/a/div[2]\").click()\n",
    "delay = 15 # seconds       # waiting till the webpage loads\n",
    "WebDriverWait(driver, delay).until(EC.presence_of_element_located((By.CLASS_NAME, 'ninetynine_logo')))"
   ]
  },
  {
   "cell_type": "code",
   "execution_count": 50,
   "id": "91d4d2c0",
   "metadata": {},
   "outputs": [],
   "source": [
    "#CLICKED ON BEST GAMING LAPTOPS IN INDIA MANUALLY"
   ]
  },
  {
   "cell_type": "code",
   "execution_count": 51,
   "id": "7a12756a",
   "metadata": {},
   "outputs": [],
   "source": [
    "# creating empty list for the all the data\n",
    "laptopname = []\n",
    "os = []\n",
    "display = []\n",
    "processor = []\n",
    "memory = []\n",
    "weight = []\n",
    "dimension = []\n",
    "graphicsprocessor = []\n",
    "price = []"
   ]
  },
  {
   "cell_type": "code",
   "execution_count": 52,
   "id": "e14d2fd2",
   "metadata": {},
   "outputs": [],
   "source": [
    "# creating for loop to extract tags and then extract the data in them\n",
    "for i in range(0,1):\n",
    "    laptopnametag = driver.find_elements(By.XPATH,'//div[@class=\"right-container\"]/div/a/h3')\n",
    "    for i in laptopnametag:    \n",
    "        try:\n",
    "            laptop=i.text\n",
    "            laptopname.append(laptop)           # extracting text from the tag\n",
    "        except NoSuchElementException:\n",
    "            laptopname.append(\"-\")              # appending \"-\" if element is not present\n",
    "    ostag = driver.find_elements(By.XPATH,'//div[@class=\"Spcs-details\"]/table/tbody/tr[3]/td[3]')\n",
    "    for i in ostag: \n",
    "        try:\n",
    "            ost=i.text\n",
    "            os.append(ost)   \n",
    "        except NoSuchElementException:\n",
    "            os.append(\"-\")\n",
    "    displaytag = driver.find_elements(By.XPATH,'//div[@class=\"Spcs-details\"]/table/tbody/tr[4]/td[3]')        \n",
    "    for i in displaytag:         \n",
    "        try:\n",
    "            displays=i.text\n",
    "            display.append(displays)   \n",
    "        except NoSuchElementException:\n",
    "            display.append(\"-\")\n",
    "    processortag = driver.find_elements(By.XPATH,'//div[@class=\"Spcs-details\"]/table/tbody/tr[5]/td[3]')        \n",
    "    for i in processortag:    \n",
    "        try:\n",
    "            processors=i.text\n",
    "            processor.append(processors)   \n",
    "        except NoSuchElementException:\n",
    "            processor.append(\"-\")\n",
    "    memorytag = driver.find_elements(By.XPATH,'//div[@class=\"Spcs-details\"]/table/tbody/tr[6]/td[3]')        \n",
    "    for i in memorytag:\n",
    "        try:\n",
    "            memorys=i.text\n",
    "            memory.append(memorys)   \n",
    "        except NoSuchElementException:\n",
    "            memory.append(\"-\")\n",
    "    weighttag = driver.find_elements(By.XPATH,'//div[@class=\"Spcs-details\"]/table/tbody/tr[7]/td[3]')        \n",
    "    for i in weighttag:\n",
    "        try:\n",
    "            weights=i.text\n",
    "            weight.append(weights)   \n",
    "        except NoSuchElementException:\n",
    "            weight.append(\"-\")\n",
    "    dimensiontag = driver.find_elements(By.XPATH,'//div[@class=\"Spcs-details\"]/table/tbody/tr[8]/td[3]')\n",
    "    for i in dimensiontag:\n",
    "        try:\n",
    "            dimensions=i.text\n",
    "            dimension.append(dimensions)   \n",
    "        except NoSuchElementException:\n",
    "            dimension.append(\"-\")\n",
    "    graphicsprocessortag = driver.find_elements(By.XPATH,'//div[@class=\"Spcs-details\"]/table/tbody/tr[9]/td[3]')\n",
    "    for i in graphicsprocessortag:\n",
    "        try:\n",
    "            graphics=i.text\n",
    "            graphicsprocessor.append(graphics)   \n",
    "        except NoSuchElementException:\n",
    "            graphicsprocessor.append(\"-\")"
   ]
  },
  {
   "cell_type": "code",
   "execution_count": 54,
   "id": "506a2ab5",
   "metadata": {},
   "outputs": [
    {
     "data": {
      "text/plain": [
       "['',\n",
       " '',\n",
       " 'AVAILABLE 389,990\\nBUY NOW',\n",
       " 'BUY ON EMI 64,998/MONTH',\n",
       " '',\n",
       " 'BUY ON EMI 50,000/MONTH',\n",
       " 'AVAILABLE 195,500\\nBUY NOW',\n",
       " 'BUY ON EMI 32,583/MONTH',\n",
       " '',\n",
       " 'BUY ON EMI 28,833/MONTH',\n",
       " '',\n",
       " 'BUY ON EMI 31,498/MONTH',\n",
       " 'AVAILABLE 129,899 AVAILABLE 144,999\\nBUY NOW',\n",
       " 'BUY ON EMI 21,649/MONTH',\n",
       " '',\n",
       " 'BUY ON EMI 38,481/MONTH',\n",
       " 'AVAILABLE 140,999 AVAILABLE 144,990 OFFER\\nGet up to ₹3000 instant discount on Netbanking payments +4 More Offer(s)',\n",
       " 'BUY ON EMI 23,499/MONTH',\n",
       " 'AVAILABLE 135,490 OFFER\\nSplit your bill in 3 for free with No Cost EMI. Offer available on products priced ₹5000 & more. Select \"Tata Pay\" on the payment page to avail the offer. T&C apply +4 More Offer(s)',\n",
       " 'BUY ON EMI 22,581/MONTH']"
      ]
     },
     "execution_count": 54,
     "metadata": {},
     "output_type": "execute_result"
    }
   ],
   "source": [
    "# price and emi tags\n",
    "pricetag = driver.find_elements(By.XPATH,'//div[@class=\"merchantdatalist1 merchantdatalist2\"]')\n",
    "for i in pricetag:\n",
    "    prices = i.text.replace(\"₹ \",\"\").replace(\"\\nBUY NOW\\n\",\" \").replace(\"₹ \",\"\").replace(\"\\nGET EMI\\n*0% Interest\\n*0 Down Payment\\n*No Processing Fee\",\"\")\n",
    "    price.append(prices)\n",
    "price"
   ]
  },
  {
   "cell_type": "code",
   "execution_count": 57,
   "id": "20239da3",
   "metadata": {},
   "outputs": [
    {
     "name": "stdout",
     "output_type": "stream",
     "text": [
      "10 10 10 10 10 10 10\n"
     ]
    }
   ],
   "source": [
    "#printing lengths\n",
    "print(len(laptopname),len(os),len(display),len(processor),len(memory),len(weight),len(dimension))"
   ]
  },
  {
   "cell_type": "code",
   "execution_count": 58,
   "id": "485073c5",
   "metadata": {},
   "outputs": [
    {
     "data": {
      "text/html": [
       "<div>\n",
       "<style scoped>\n",
       "    .dataframe tbody tr th:only-of-type {\n",
       "        vertical-align: middle;\n",
       "    }\n",
       "\n",
       "    .dataframe tbody tr th {\n",
       "        vertical-align: top;\n",
       "    }\n",
       "\n",
       "    .dataframe thead th {\n",
       "        text-align: right;\n",
       "    }\n",
       "</style>\n",
       "<table border=\"1\" class=\"dataframe\">\n",
       "  <thead>\n",
       "    <tr style=\"text-align: right;\">\n",
       "      <th></th>\n",
       "      <th>Laptop Name</th>\n",
       "      <th>OS</th>\n",
       "      <th>Display</th>\n",
       "      <th>Processor</th>\n",
       "      <th>Memory</th>\n",
       "      <th>Weight</th>\n",
       "      <th>Dimension</th>\n",
       "    </tr>\n",
       "  </thead>\n",
       "  <tbody>\n",
       "    <tr>\n",
       "      <th>0</th>\n",
       "      <td>MSI TITAN GT77-12UHS</td>\n",
       "      <td>12th Gen Intel Core i9-12900HX 16 core processor</td>\n",
       "      <td>17.3″ (3840 x 2160) screen, 120 Hz refresh rate</td>\n",
       "      <td>Windows 11 Home</td>\n",
       "      <td>64 GB DDR5 RAM &amp; 2 TB SSD</td>\n",
       "      <td>16 GB DDR6 NVIDIA GeForce RTX 3080 Ti Graphics...</td>\n",
       "      <td>397 x 330 x 23 mm dimension &amp; 3.3 kg weight</td>\n",
       "    </tr>\n",
       "    <tr>\n",
       "      <th>1</th>\n",
       "      <td>ALIENWARE X17 R2</td>\n",
       "      <td>12th Gen Intel Core i9-12900HK 14 core process...</td>\n",
       "      <td>17.3″ (1920x1080) screen, 360 Hz refresh rate</td>\n",
       "      <td>Windows 11 Home</td>\n",
       "      <td>32 GB DDR5 RAM &amp; 1 TB SSD</td>\n",
       "      <td>16 GB DDR6 NVIDIA GeForce RTX 3080 Ti, Graphic...</td>\n",
       "      <td>399.23 x 299.57 x 14.75 mm dimension &amp; 3.02 kg...</td>\n",
       "    </tr>\n",
       "    <tr>\n",
       "      <th>2</th>\n",
       "      <td>ACER PREDATOR TRITON 500 SE PT516-52S</td>\n",
       "      <td>12th Gen Intel Core i7-12700H 14 core processo...</td>\n",
       "      <td>16″ (2560 x 1600) screen, 240 Hz refresh rate</td>\n",
       "      <td>Windows 11 Home</td>\n",
       "      <td>32 GB DDR5 RAM &amp; 2 TB SSD</td>\n",
       "      <td>8 GB DDR6 NVIDIA GeForce RTXTM 3070 Ti Graphic...</td>\n",
       "      <td>358 x 262 x 19.9 mm dimension &amp; 2.4 kg weight</td>\n",
       "    </tr>\n",
       "    <tr>\n",
       "      <th>3</th>\n",
       "      <td>OMEN BY HP (16-B1371TX)</td>\n",
       "      <td>12th Gen Intel Core i7-12700H 14 core processo...</td>\n",
       "      <td>16.1″ (2560 x 1440) screen</td>\n",
       "      <td>Windows 11 Home</td>\n",
       "      <td>8 GB DDR5 RAM &amp; 1 TB SSD</td>\n",
       "      <td>8 GB GDDR6 NVIDIA GeForce RTX 3070 Graphics card</td>\n",
       "      <td>369 x 248 x 23 mm dimension &amp; 2.32 kg weight</td>\n",
       "    </tr>\n",
       "    <tr>\n",
       "      <th>4</th>\n",
       "      <td>ACER PREDATOR HELIOS 300 AN515-45 (NH.QBRSI.0</td>\n",
       "      <td>AMD Ryzen 9-5900HX 8 core processor</td>\n",
       "      <td>15.6″ (2560 x 1440) screen, 165 Hz refresh rate</td>\n",
       "      <td>Windows 11 Home</td>\n",
       "      <td>16 GB DDR4 RAM &amp; 512 GB SSD</td>\n",
       "      <td>8 GB DDR6 NVIDIA GeForce RTX 3070 Graphics card</td>\n",
       "      <td>363 x 255 x 23.9 mm dimension &amp; 2.4 kg weight</td>\n",
       "    </tr>\n",
       "    <tr>\n",
       "      <th>5</th>\n",
       "      <td>MSI DELTA 15 (A5EFK-083IN)</td>\n",
       "      <td>AMD 5th Gen Ryzen 9-5900HX 8 core processor wi...</td>\n",
       "      <td>15.6″ (1920 x 1080) screen, 240Hz refresh rate</td>\n",
       "      <td>Windows 11 Home</td>\n",
       "      <td>16 GB DDR4 RAM &amp; 1 TB SSD</td>\n",
       "      <td>10 GB DDR6 AMD Radeon RX 6700M Graphics card</td>\n",
       "      <td>357 x 247 x 19 mm dimension &amp; 1.9 kg weight</td>\n",
       "    </tr>\n",
       "    <tr>\n",
       "      <th>6</th>\n",
       "      <td>OMEN BY HP (16-C0141AX)</td>\n",
       "      <td>AMD Ryzen™ 9 5900HX 8 core processor with 3.3 ...</td>\n",
       "      <td>16.1″ (2560 x 1440) screen</td>\n",
       "      <td>Windows 11 Home</td>\n",
       "      <td>16 GB DDR4 RAM &amp; 1 TB NVMe</td>\n",
       "      <td>8 GB GDDR6 AMD Radeon™ RX 6600M Graphics card</td>\n",
       "      <td>36.92 x 24.8 x 2.3 mm dimension &amp; 2.3 kg weight</td>\n",
       "    </tr>\n",
       "    <tr>\n",
       "      <th>7</th>\n",
       "      <td>LENOVO LEGION 5I PRO (82RF00MGIN)</td>\n",
       "      <td>12th Gen Intel Core i7-12700H 14 core processo...</td>\n",
       "      <td>16″ (2560 x 1600) screen, 165 Hz refresh rate</td>\n",
       "      <td>Windows 11 Home</td>\n",
       "      <td>16 GB DDR5 RAM &amp; 1 TB SSD</td>\n",
       "      <td>6 GB DDR6 NVIDIA GeForce RTX 3060 Graphics card</td>\n",
       "      <td>359.9 x 264.4 x 19.9 mm dimension &amp; 2.5 kg weight</td>\n",
       "    </tr>\n",
       "    <tr>\n",
       "      <th>8</th>\n",
       "      <td>ALIENWARE M15 R5 RYZEN EDITION ICC-C780001WIN</td>\n",
       "      <td>AMD Ryzen R7-5800H 8 core processor with 4.40 ...</td>\n",
       "      <td>15.6″ (1920 x 1080) screen, 165Hz refresh rate</td>\n",
       "      <td>Windows 11 Home</td>\n",
       "      <td>16 GB DDR4 RAM &amp; 512 GB SSD</td>\n",
       "      <td>6 GB DDR6 NVIDIA GeForce RTX 3060 Graphics card</td>\n",
       "      <td>356.2 x 272.5 x 22.85 mm dimension &amp; 2.69 kg w...</td>\n",
       "    </tr>\n",
       "    <tr>\n",
       "      <th>9</th>\n",
       "      <td>LENOVO SLIM 7 GEN 6 (82K8002JIN)</td>\n",
       "      <td>Lenovo Ryzen 7-5800H processor with 3.2 GHz cl...</td>\n",
       "      <td>15.6″ screen, 165 Hz refresh rate</td>\n",
       "      <td>Windows 11 Home</td>\n",
       "      <td>16 GB DDR4 RAM &amp; 1 TB SSD</td>\n",
       "      <td>6 GB DDR6 NVIDIA GeForce 3060 Max-Q Graphics card</td>\n",
       "      <td>356 x 252 x 16 mm dimension &amp; 1.9 kg weight</td>\n",
       "    </tr>\n",
       "  </tbody>\n",
       "</table>\n",
       "</div>"
      ],
      "text/plain": [
       "                                     Laptop Name  \\\n",
       "0                           MSI TITAN GT77-12UHS   \n",
       "1                               ALIENWARE X17 R2   \n",
       "2          ACER PREDATOR TRITON 500 SE PT516-52S   \n",
       "3                        OMEN BY HP (16-B1371TX)   \n",
       "4  ACER PREDATOR HELIOS 300 AN515-45 (NH.QBRSI.0   \n",
       "5                     MSI DELTA 15 (A5EFK-083IN)   \n",
       "6                        OMEN BY HP (16-C0141AX)   \n",
       "7              LENOVO LEGION 5I PRO (82RF00MGIN)   \n",
       "8  ALIENWARE M15 R5 RYZEN EDITION ICC-C780001WIN   \n",
       "9               LENOVO SLIM 7 GEN 6 (82K8002JIN)   \n",
       "\n",
       "                                                  OS  \\\n",
       "0   12th Gen Intel Core i9-12900HX 16 core processor   \n",
       "1  12th Gen Intel Core i9-12900HK 14 core process...   \n",
       "2  12th Gen Intel Core i7-12700H 14 core processo...   \n",
       "3  12th Gen Intel Core i7-12700H 14 core processo...   \n",
       "4                AMD Ryzen 9-5900HX 8 core processor   \n",
       "5  AMD 5th Gen Ryzen 9-5900HX 8 core processor wi...   \n",
       "6  AMD Ryzen™ 9 5900HX 8 core processor with 3.3 ...   \n",
       "7  12th Gen Intel Core i7-12700H 14 core processo...   \n",
       "8  AMD Ryzen R7-5800H 8 core processor with 4.40 ...   \n",
       "9  Lenovo Ryzen 7-5800H processor with 3.2 GHz cl...   \n",
       "\n",
       "                                           Display        Processor  \\\n",
       "0  17.3″ (3840 x 2160) screen, 120 Hz refresh rate  Windows 11 Home   \n",
       "1    17.3″ (1920x1080) screen, 360 Hz refresh rate  Windows 11 Home   \n",
       "2    16″ (2560 x 1600) screen, 240 Hz refresh rate  Windows 11 Home   \n",
       "3                       16.1″ (2560 x 1440) screen  Windows 11 Home   \n",
       "4  15.6″ (2560 x 1440) screen, 165 Hz refresh rate  Windows 11 Home   \n",
       "5   15.6″ (1920 x 1080) screen, 240Hz refresh rate  Windows 11 Home   \n",
       "6                       16.1″ (2560 x 1440) screen  Windows 11 Home   \n",
       "7    16″ (2560 x 1600) screen, 165 Hz refresh rate  Windows 11 Home   \n",
       "8   15.6″ (1920 x 1080) screen, 165Hz refresh rate  Windows 11 Home   \n",
       "9                15.6″ screen, 165 Hz refresh rate  Windows 11 Home   \n",
       "\n",
       "                        Memory  \\\n",
       "0    64 GB DDR5 RAM & 2 TB SSD   \n",
       "1    32 GB DDR5 RAM & 1 TB SSD   \n",
       "2    32 GB DDR5 RAM & 2 TB SSD   \n",
       "3     8 GB DDR5 RAM & 1 TB SSD   \n",
       "4  16 GB DDR4 RAM & 512 GB SSD   \n",
       "5    16 GB DDR4 RAM & 1 TB SSD   \n",
       "6   16 GB DDR4 RAM & 1 TB NVMe   \n",
       "7    16 GB DDR5 RAM & 1 TB SSD   \n",
       "8  16 GB DDR4 RAM & 512 GB SSD   \n",
       "9    16 GB DDR4 RAM & 1 TB SSD   \n",
       "\n",
       "                                              Weight  \\\n",
       "0  16 GB DDR6 NVIDIA GeForce RTX 3080 Ti Graphics...   \n",
       "1  16 GB DDR6 NVIDIA GeForce RTX 3080 Ti, Graphic...   \n",
       "2  8 GB DDR6 NVIDIA GeForce RTXTM 3070 Ti Graphic...   \n",
       "3   8 GB GDDR6 NVIDIA GeForce RTX 3070 Graphics card   \n",
       "4    8 GB DDR6 NVIDIA GeForce RTX 3070 Graphics card   \n",
       "5       10 GB DDR6 AMD Radeon RX 6700M Graphics card   \n",
       "6      8 GB GDDR6 AMD Radeon™ RX 6600M Graphics card   \n",
       "7    6 GB DDR6 NVIDIA GeForce RTX 3060 Graphics card   \n",
       "8    6 GB DDR6 NVIDIA GeForce RTX 3060 Graphics card   \n",
       "9  6 GB DDR6 NVIDIA GeForce 3060 Max-Q Graphics card   \n",
       "\n",
       "                                           Dimension  \n",
       "0        397 x 330 x 23 mm dimension & 3.3 kg weight  \n",
       "1  399.23 x 299.57 x 14.75 mm dimension & 3.02 kg...  \n",
       "2      358 x 262 x 19.9 mm dimension & 2.4 kg weight  \n",
       "3       369 x 248 x 23 mm dimension & 2.32 kg weight  \n",
       "4      363 x 255 x 23.9 mm dimension & 2.4 kg weight  \n",
       "5        357 x 247 x 19 mm dimension & 1.9 kg weight  \n",
       "6    36.92 x 24.8 x 2.3 mm dimension & 2.3 kg weight  \n",
       "7  359.9 x 264.4 x 19.9 mm dimension & 2.5 kg weight  \n",
       "8  356.2 x 272.5 x 22.85 mm dimension & 2.69 kg w...  \n",
       "9        356 x 252 x 16 mm dimension & 1.9 kg weight  "
      ]
     },
     "execution_count": 58,
     "metadata": {},
     "output_type": "execute_result"
    }
   ],
   "source": [
    "# creating dataframe\n",
    "laptopdata = pd.DataFrame({'Laptop Name':laptopname,'OS':os,'Display':display,'Processor':processor,'Memory':memory,'Weight':weight,'Dimension':dimension})\n",
    "laptopdata"
   ]
  },
  {
   "cell_type": "code",
   "execution_count": 59,
   "id": "4638d02d",
   "metadata": {},
   "outputs": [],
   "source": [
    "# closing the driver at the end\n",
    "driver.close()     "
   ]
  },
  {
   "cell_type": "markdown",
   "id": "20478c28",
   "metadata": {},
   "source": [
    "# 8. Write a python program to scrape the details for all billionaires from www.forbes.com. Details to be scrapped: “Rank”, “Name”, “Net worth”, “Age”, “Citizenship”, “Source”, “Industry”.\n"
   ]
  },
  {
   "cell_type": "code",
   "execution_count": 60,
   "id": "d811f455",
   "metadata": {},
   "outputs": [],
   "source": [
    "# importing required libraries\n",
    "import selenium\n",
    "import pandas as pd\n",
    "import numpy as np\n",
    "from selenium import webdriver    # importing webdriver module from selenium to open up automated chrome window\n",
    "import warnings\n",
    "warnings.filterwarnings(\"ignore\") # ignoring warnings that might arise\n",
    "import time                       # used to stop search engine for few seconds\n",
    "\n",
    "# webdriverwait libraries explicit wait\n",
    "from selenium import webdriver\n",
    "from selenium.webdriver.support.ui import WebDriverWait\n",
    "from selenium.webdriver.support import expected_conditions as EC\n",
    "from selenium.webdriver.common.by import By\n",
    "\n",
    "# common exceptions\n",
    "from selenium.common.exceptions import NoSuchElementException"
   ]
  },
  {
   "cell_type": "code",
   "execution_count": 61,
   "id": "989712e7",
   "metadata": {},
   "outputs": [],
   "source": [
    "driver = webdriver.Chrome(r'C:\\Users\\nidsi\\Downloads\\chromedriver_win32\\chromedriver.exe')"
   ]
  },
  {
   "cell_type": "code",
   "execution_count": 64,
   "id": "938ed75e",
   "metadata": {},
   "outputs": [
    {
     "data": {
      "text/plain": [
       "<selenium.webdriver.remote.webelement.WebElement (session=\"23485b5e2bd216064b101949f6194b45\", element=\"a9a5ece9-87f7-4cc1-93e1-f0f4fc009cbf\")>"
      ]
     },
     "execution_count": 64,
     "metadata": {},
     "output_type": "execute_result"
    }
   ],
   "source": [
    "# opening webpage\n",
    "driver.get(\"https://www.forbes.com/?sh=2db6f5bc2254\")\n",
    "delay = 15 # seconds       # waiting till the webpage loads\n",
    "WebDriverWait(driver, delay).until(EC.presence_of_element_located((By.CLASS_NAME, 'footer__copyright')))"
   ]
  },
  {
   "cell_type": "code",
   "execution_count": 65,
   "id": "d2aec080",
   "metadata": {},
   "outputs": [],
   "source": [
    "# clicking on side bar button for more options\n",
    "sidebarbutton = driver.find_element(By.XPATH,\"/html/body/div[1]/header/nav/div[1]/button[1]\").click()"
   ]
  },
  {
   "cell_type": "code",
   "execution_count": 66,
   "id": "a197ed4f",
   "metadata": {},
   "outputs": [],
   "source": [
    "# clicking on \"Billionares\" in the options\n",
    "billionaressidebar = driver.find_element(By.XPATH,\"/html/body/div[1]/header/nav/div[3]/ul/li[1]\").click()\n",
    "time.sleep(7)"
   ]
  },
  {
   "cell_type": "code",
   "execution_count": 73,
   "id": "e441b08e",
   "metadata": {},
   "outputs": [],
   "source": [
    "# creating empty lists to store the data\n",
    "rank = []\n",
    "name = []\n",
    "networth = []\n",
    "age = []\n",
    "citizenship = []\n",
    "source = []\n",
    "industry = []"
   ]
  },
  {
   "cell_type": "code",
   "execution_count": 74,
   "id": "6d0aeb93",
   "metadata": {},
   "outputs": [],
   "source": [
    "# creating for loop to extract tags and then extract the data in them\n",
    "\n",
    "ranktag = driver.find_elements(By.XPATH,'//div[@class=\"rank\"]')\n",
    "for i in ranktag:    \n",
    "    try:\n",
    "        ranks=i.text.replace(\".\",\"\")\n",
    "        rank.append(ranks)           # extracting text from the tag\n",
    "    except NoSuchElementException:\n",
    "        rank.append(\"-\")              # appending \"-\" if element is not present\n",
    "nametag = driver.find_elements(By.XPATH,'//div[@class=\"personName\"]')\n",
    "for i in nametag:    \n",
    "    try:\n",
    "        names=i.text\n",
    "        name.append(names)           \n",
    "    except NoSuchElementException:\n",
    "        name.append(\"-\")\n",
    "networthtag = driver.find_elements(By.XPATH,'//div[@class=\"netWorth\"]')\n",
    "for i in networthtag:    \n",
    "    try:\n",
    "        networths=i.text\n",
    "        networth.append(networths)           \n",
    "    except NoSuchElementException:\n",
    "        networth.append(\"-\")\n",
    "agetag = driver.find_elements(By.XPATH,'//div[@class=\"age\"]/div')\n",
    "for i in agetag:    \n",
    "    try:\n",
    "        ages=i.text\n",
    "        age.append(ages)           \n",
    "    except NoSuchElementException:\n",
    "        age.append(\"-\")\n",
    "citizenshiptag = driver.find_elements(By.XPATH,'//div[@class=\"countryOfCitizenship\"]')\n",
    "for i in citizenshiptag:    \n",
    "    try:\n",
    "        citizenships=i.text\n",
    "        citizenship.append(citizenships)           \n",
    "    except NoSuchElementException:\n",
    "        citizenship.append(\"-\")\n",
    "sourcetag = driver.find_elements(By.XPATH,'//span[@class=\"source-text\"]')\n",
    "for i in sourcetag:    \n",
    "    try:\n",
    "        sources=i.text\n",
    "        source.append(sources)           \n",
    "    except NoSuchElementException:\n",
    "        source.append(\"-\")\n",
    "industrytag = driver.find_elements(By.XPATH,'//div[@class=\"category\"]/div')\n",
    "for i in industrytag:    \n",
    "    try:\n",
    "        industrys=i.text\n",
    "        industry.append(industrys)           \n",
    "    except NoSuchElementException:\n",
    "        industry.append(\"-\")"
   ]
  },
  {
   "cell_type": "code",
   "execution_count": 75,
   "id": "1465577a",
   "metadata": {},
   "outputs": [
    {
     "name": "stdout",
     "output_type": "stream",
     "text": [
      "200 200 200 200 200 200 200\n"
     ]
    }
   ],
   "source": [
    "# printing length\n",
    "print(len(rank),len(name),len(networth),len(age),len(citizenship),len(source),len(industry))"
   ]
  },
  {
   "cell_type": "code",
   "execution_count": 76,
   "id": "8bd6f1bf",
   "metadata": {},
   "outputs": [
    {
     "data": {
      "text/html": [
       "<div>\n",
       "<style scoped>\n",
       "    .dataframe tbody tr th:only-of-type {\n",
       "        vertical-align: middle;\n",
       "    }\n",
       "\n",
       "    .dataframe tbody tr th {\n",
       "        vertical-align: top;\n",
       "    }\n",
       "\n",
       "    .dataframe thead th {\n",
       "        text-align: right;\n",
       "    }\n",
       "</style>\n",
       "<table border=\"1\" class=\"dataframe\">\n",
       "  <thead>\n",
       "    <tr style=\"text-align: right;\">\n",
       "      <th></th>\n",
       "      <th>Rank</th>\n",
       "      <th>Name</th>\n",
       "      <th>Net Worth</th>\n",
       "      <th>Age</th>\n",
       "      <th>Citizenship</th>\n",
       "      <th>Source</th>\n",
       "      <th>Industry</th>\n",
       "    </tr>\n",
       "  </thead>\n",
       "  <tbody>\n",
       "    <tr>\n",
       "      <th>0</th>\n",
       "      <td>1</td>\n",
       "      <td>Elon Musk</td>\n",
       "      <td>$219 B</td>\n",
       "      <td>50</td>\n",
       "      <td>United States</td>\n",
       "      <td>Tesla, SpaceX</td>\n",
       "      <td>Automotive</td>\n",
       "    </tr>\n",
       "    <tr>\n",
       "      <th>1</th>\n",
       "      <td>2</td>\n",
       "      <td>Jeff Bezos</td>\n",
       "      <td>$171 B</td>\n",
       "      <td>58</td>\n",
       "      <td>United States</td>\n",
       "      <td>Amazon</td>\n",
       "      <td>Technology</td>\n",
       "    </tr>\n",
       "    <tr>\n",
       "      <th>2</th>\n",
       "      <td>3</td>\n",
       "      <td>Bernard Arnault &amp; family</td>\n",
       "      <td>$158 B</td>\n",
       "      <td>73</td>\n",
       "      <td>France</td>\n",
       "      <td>LVMH</td>\n",
       "      <td>Fashion &amp; Retail</td>\n",
       "    </tr>\n",
       "    <tr>\n",
       "      <th>3</th>\n",
       "      <td>4</td>\n",
       "      <td>Bill Gates</td>\n",
       "      <td>$129 B</td>\n",
       "      <td>66</td>\n",
       "      <td>United States</td>\n",
       "      <td>Microsoft</td>\n",
       "      <td>Technology</td>\n",
       "    </tr>\n",
       "    <tr>\n",
       "      <th>4</th>\n",
       "      <td>5</td>\n",
       "      <td>Warren Buffett</td>\n",
       "      <td>$118 B</td>\n",
       "      <td>91</td>\n",
       "      <td>United States</td>\n",
       "      <td>Berkshire Hathaway</td>\n",
       "      <td>Finance &amp; Investments</td>\n",
       "    </tr>\n",
       "    <tr>\n",
       "      <th>...</th>\n",
       "      <td>...</td>\n",
       "      <td>...</td>\n",
       "      <td>...</td>\n",
       "      <td>...</td>\n",
       "      <td>...</td>\n",
       "      <td>...</td>\n",
       "      <td>...</td>\n",
       "    </tr>\n",
       "    <tr>\n",
       "      <th>195</th>\n",
       "      <td>192</td>\n",
       "      <td>Marcel Herrmann Telles</td>\n",
       "      <td>$10.3 B</td>\n",
       "      <td>72</td>\n",
       "      <td>Brazil</td>\n",
       "      <td>beer</td>\n",
       "      <td>Food &amp; Beverage</td>\n",
       "    </tr>\n",
       "    <tr>\n",
       "      <th>196</th>\n",
       "      <td>197</td>\n",
       "      <td>Leon Black</td>\n",
       "      <td>$10 B</td>\n",
       "      <td>70</td>\n",
       "      <td>United States</td>\n",
       "      <td>private equity</td>\n",
       "      <td>Finance &amp; Investments</td>\n",
       "    </tr>\n",
       "    <tr>\n",
       "      <th>197</th>\n",
       "      <td>197</td>\n",
       "      <td>Joe Gebbia</td>\n",
       "      <td>$10 B</td>\n",
       "      <td>40</td>\n",
       "      <td>United States</td>\n",
       "      <td>Airbnb</td>\n",
       "      <td>Technology</td>\n",
       "    </tr>\n",
       "    <tr>\n",
       "      <th>198</th>\n",
       "      <td>197</td>\n",
       "      <td>David Geffen</td>\n",
       "      <td>$10 B</td>\n",
       "      <td>79</td>\n",
       "      <td>United States</td>\n",
       "      <td>movies, record labels</td>\n",
       "      <td>Media &amp; Entertainment</td>\n",
       "    </tr>\n",
       "    <tr>\n",
       "      <th>199</th>\n",
       "      <td>197</td>\n",
       "      <td>Yu Renrong</td>\n",
       "      <td>$10 B</td>\n",
       "      <td>56</td>\n",
       "      <td>China</td>\n",
       "      <td>semiconductors</td>\n",
       "      <td>Manufacturing</td>\n",
       "    </tr>\n",
       "  </tbody>\n",
       "</table>\n",
       "<p>200 rows × 7 columns</p>\n",
       "</div>"
      ],
      "text/plain": [
       "    Rank                      Name Net Worth Age    Citizenship  \\\n",
       "0      1                 Elon Musk    $219 B  50  United States   \n",
       "1      2                Jeff Bezos    $171 B  58  United States   \n",
       "2      3  Bernard Arnault & family    $158 B  73         France   \n",
       "3      4                Bill Gates    $129 B  66  United States   \n",
       "4      5            Warren Buffett    $118 B  91  United States   \n",
       "..   ...                       ...       ...  ..            ...   \n",
       "195  192    Marcel Herrmann Telles   $10.3 B  72         Brazil   \n",
       "196  197                Leon Black     $10 B  70  United States   \n",
       "197  197                Joe Gebbia     $10 B  40  United States   \n",
       "198  197              David Geffen     $10 B  79  United States   \n",
       "199  197                Yu Renrong     $10 B  56          China   \n",
       "\n",
       "                    Source               Industry  \n",
       "0            Tesla, SpaceX             Automotive  \n",
       "1                   Amazon             Technology  \n",
       "2                     LVMH       Fashion & Retail  \n",
       "3                Microsoft             Technology  \n",
       "4       Berkshire Hathaway  Finance & Investments  \n",
       "..                     ...                    ...  \n",
       "195                   beer        Food & Beverage  \n",
       "196         private equity  Finance & Investments  \n",
       "197                 Airbnb             Technology  \n",
       "198  movies, record labels  Media & Entertainment  \n",
       "199         semiconductors          Manufacturing  \n",
       "\n",
       "[200 rows x 7 columns]"
      ]
     },
     "execution_count": 76,
     "metadata": {},
     "output_type": "execute_result"
    }
   ],
   "source": [
    "# creating DataFrame\n",
    "billionaresdf = pd.DataFrame({'Rank':rank,'Name':name,'Net Worth':networth,'Age':age,'Citizenship':citizenship,'Source':source,'Industry':industry})\n",
    "billionaresdf"
   ]
  },
  {
   "cell_type": "code",
   "execution_count": 77,
   "id": "207e185c",
   "metadata": {},
   "outputs": [],
   "source": [
    "# closing the driver at the end\n",
    "driver.close()   "
   ]
  },
  {
   "cell_type": "markdown",
   "id": "48bc3a32",
   "metadata": {},
   "source": [
    "# 9. Write a program to extract at least 500 Comments, Comment upvote and time when comment was posted from any YouTube Video.\n"
   ]
  },
  {
   "cell_type": "code",
   "execution_count": 110,
   "id": "02ff63c8",
   "metadata": {},
   "outputs": [],
   "source": [
    "# importing required libraries\n",
    "import selenium\n",
    "import pandas as pd\n",
    "import numpy as np\n",
    "from selenium import webdriver    # importing webdriver module from selenium to open up automated chrome window\n",
    "import warnings\n",
    "warnings.filterwarnings(\"ignore\") # ignoring warnings that might arise\n",
    "import time                       # used to stop search engine for few seconds\n",
    "\n",
    "# webdriverwait libraries explicit wait\n",
    "from selenium import webdriver\n",
    "from selenium.webdriver.support.ui import WebDriverWait\n",
    "from selenium.webdriver.support import expected_conditions as EC\n",
    "from selenium.webdriver.common.by import By\n",
    "\n",
    "# common exceptions\n",
    "from selenium.common.exceptions import NoSuchElementException"
   ]
  },
  {
   "cell_type": "code",
   "execution_count": 111,
   "id": "303e6ead",
   "metadata": {},
   "outputs": [],
   "source": [
    "driver = webdriver.Chrome(r'C:\\Users\\nidsi\\Downloads\\chromedriver_win32\\chromedriver.exe')"
   ]
  },
  {
   "cell_type": "code",
   "execution_count": 112,
   "id": "9b1bc3c7",
   "metadata": {},
   "outputs": [],
   "source": [
    "# opening youtube video\n",
    "driver.get(\"https://www.youtube.com/watch?v=kTWoeqPXpuo&t=100s\") \n",
    "time.sleep(10)"
   ]
  },
  {
   "cell_type": "code",
   "execution_count": 113,
   "id": "4c26c54a",
   "metadata": {},
   "outputs": [],
   "source": [
    "# creating empty lists to save the data\n",
    "comment = []\n",
    "commentupvote = []\n",
    "timeposted = []"
   ]
  },
  {
   "cell_type": "code",
   "execution_count": 114,
   "id": "ec61d91e",
   "metadata": {},
   "outputs": [],
   "source": [
    "# scrolling and collecting image tags\n",
    "for _ in range(1300):\n",
    "    driver.execute_script(\"window.scrollBy(0,10000)\")"
   ]
  },
  {
   "cell_type": "code",
   "execution_count": 115,
   "id": "8ff069c4",
   "metadata": {},
   "outputs": [],
   "source": [
    "# extracting the tags and the data from the youtube video\n",
    "commenttag = driver.find_elements(By.XPATH,'//div[@class=\"style-scope ytd-expander\"]')\n",
    "for i in commenttag:    \n",
    "    try:\n",
    "        comments=i.text\n",
    "        comment.append(comments)           # extracting text from the tag\n",
    "    except NoSuchElementException:\n",
    "        comment.append(\"-\")                # appending \"-\" if element is not present\n",
    "commentupvotetag = driver.find_elements(By.XPATH,'//div[@class=\"style-scope ytd-comment-action-buttons-renderer\"]/span')\n",
    "for i in commentupvotetag:    \n",
    "    try:\n",
    "        commentupvotes=i.text\n",
    "        commentupvote.append(commentupvotes)           \n",
    "    except NoSuchElementException:\n",
    "        commentupvote.append(\"-\")              \n",
    "timepostedtag = driver.find_elements(By.XPATH,'//yt-formatted-string[@class=\"published-time-text style-scope ytd-comment-renderer\"]/a')\n",
    "for i in timepostedtag:    \n",
    "    try:\n",
    "        timeposteds=i.text\n",
    "        timeposted.append(timeposteds)           \n",
    "    except NoSuchElementException:\n",
    "        timeposted.append(\"-\")"
   ]
  },
  {
   "cell_type": "code",
   "execution_count": null,
   "id": "5454e0d8",
   "metadata": {},
   "outputs": [],
   "source": [
    "# extracting only votes which are alternate in the list\n",
    "commentupvoteactual = commentupvote[1::2]\n",
    "commentupvoteactual"
   ]
  },
  {
   "cell_type": "code",
   "execution_count": 124,
   "id": "7f20df84",
   "metadata": {},
   "outputs": [
    {
     "name": "stdout",
     "output_type": "stream",
     "text": [
      "20 20 20\n"
     ]
    }
   ],
   "source": [
    "# printing length\n",
    "print(len(comment),len(commentupvoteactual),len(timeposted))"
   ]
  },
  {
   "cell_type": "code",
   "execution_count": 125,
   "id": "2d22aab8",
   "metadata": {},
   "outputs": [
    {
     "data": {
      "text/html": [
       "<div>\n",
       "<style scoped>\n",
       "    .dataframe tbody tr th:only-of-type {\n",
       "        vertical-align: middle;\n",
       "    }\n",
       "\n",
       "    .dataframe tbody tr th {\n",
       "        vertical-align: top;\n",
       "    }\n",
       "\n",
       "    .dataframe thead th {\n",
       "        text-align: right;\n",
       "    }\n",
       "</style>\n",
       "<table border=\"1\" class=\"dataframe\">\n",
       "  <thead>\n",
       "    <tr style=\"text-align: right;\">\n",
       "      <th></th>\n",
       "      <th>Comments</th>\n",
       "      <th>Comment Upvotes</th>\n",
       "      <th>Time when comment was posted</th>\n",
       "    </tr>\n",
       "  </thead>\n",
       "  <tbody>\n",
       "    <tr>\n",
       "      <th>0</th>\n",
       "      <td>A compilation i put together of some of my fav...</td>\n",
       "      <td>3.9K</td>\n",
       "      <td>2 years ago</td>\n",
       "    </tr>\n",
       "    <tr>\n",
       "      <th>1</th>\n",
       "      <td>Thanks so much for the love guys! Had a ton of...</td>\n",
       "      <td>5.2K</td>\n",
       "      <td>2 years ago (edited)</td>\n",
       "    </tr>\n",
       "    <tr>\n",
       "      <th>2</th>\n",
       "      <td>I could sell our planet to aliens with this vi...</td>\n",
       "      <td>2K</td>\n",
       "      <td>2 years ago</td>\n",
       "    </tr>\n",
       "    <tr>\n",
       "      <th>3</th>\n",
       "      <td>The transitions were way more smoother than my...</td>\n",
       "      <td>372</td>\n",
       "      <td>1 year ago</td>\n",
       "    </tr>\n",
       "    <tr>\n",
       "      <th>4</th>\n",
       "      <td>The one drone video I will never get tired of ...</td>\n",
       "      <td>118</td>\n",
       "      <td>4 months ago</td>\n",
       "    </tr>\n",
       "    <tr>\n",
       "      <th>5</th>\n",
       "      <td>Those transitions!  I learned a lot from this....</td>\n",
       "      <td>347</td>\n",
       "      <td>2 years ago</td>\n",
       "    </tr>\n",
       "    <tr>\n",
       "      <th>6</th>\n",
       "      <td>Who's coming back again and again just to enjo...</td>\n",
       "      <td>82</td>\n",
       "      <td>1 year ago</td>\n",
       "    </tr>\n",
       "    <tr>\n",
       "      <th>7</th>\n",
       "      <td>No one's talking about the sound design? It's ...</td>\n",
       "      <td>8K</td>\n",
       "      <td>2 years ago</td>\n",
       "    </tr>\n",
       "    <tr>\n",
       "      <th>8</th>\n",
       "      <td>I hate you in the best possible way. ️️</td>\n",
       "      <td>97</td>\n",
       "      <td>4 months ago</td>\n",
       "    </tr>\n",
       "    <tr>\n",
       "      <th>9</th>\n",
       "      <td>This is awesome! Not sure if you've mentioned ...</td>\n",
       "      <td>33</td>\n",
       "      <td>1 year ago</td>\n",
       "    </tr>\n",
       "  </tbody>\n",
       "</table>\n",
       "</div>"
      ],
      "text/plain": [
       "                                            Comments Comment Upvotes  \\\n",
       "0  A compilation i put together of some of my fav...            3.9K   \n",
       "1  Thanks so much for the love guys! Had a ton of...            5.2K   \n",
       "2  I could sell our planet to aliens with this vi...              2K   \n",
       "3  The transitions were way more smoother than my...             372   \n",
       "4  The one drone video I will never get tired of ...             118   \n",
       "5  Those transitions!  I learned a lot from this....             347   \n",
       "6  Who's coming back again and again just to enjo...              82   \n",
       "7  No one's talking about the sound design? It's ...              8K   \n",
       "8            I hate you in the best possible way. ️️              97   \n",
       "9  This is awesome! Not sure if you've mentioned ...              33   \n",
       "\n",
       "  Time when comment was posted  \n",
       "0                  2 years ago  \n",
       "1         2 years ago (edited)  \n",
       "2                  2 years ago  \n",
       "3                   1 year ago  \n",
       "4                 4 months ago  \n",
       "5                  2 years ago  \n",
       "6                   1 year ago  \n",
       "7                  2 years ago  \n",
       "8                 4 months ago  \n",
       "9                   1 year ago  "
      ]
     },
     "execution_count": 125,
     "metadata": {},
     "output_type": "execute_result"
    }
   ],
   "source": [
    "# creating dataframe\n",
    "youtubecommentsdf = pd.DataFrame({'Comments':comment,'Comment Upvotes':commentupvoteactual,'Time when comment was posted':timeposted})\n",
    "youtubecommentsdf[0:10]   # displaying only the first 10 results of the dataframe"
   ]
  },
  {
   "cell_type": "code",
   "execution_count": 126,
   "id": "b47f1421",
   "metadata": {},
   "outputs": [],
   "source": [
    " # closing the driver at the end\n",
    "driver.close()  "
   ]
  },
  {
   "cell_type": "markdown",
   "id": "f9556cc8",
   "metadata": {},
   "source": [
    "# 10. Write a python program to scrape a data for all available Hostels from https://www.hostelworld.com/ in “London” location. \n",
    "You have to scrape hostel name, distance from city centre, ratings, total reviews, \n",
    "overall reviews, privates from price, dorms from price, facilities and property description"
   ]
  },
  {
   "cell_type": "code",
   "execution_count": 127,
   "id": "6bcc1203",
   "metadata": {},
   "outputs": [],
   "source": [
    "# importing required libraries\n",
    "import selenium\n",
    "import pandas as pd\n",
    "import numpy as np\n",
    "from selenium import webdriver    # importing webdriver module from selenium to open up automated chrome window\n",
    "import warnings\n",
    "warnings.filterwarnings(\"ignore\") # ignoring warnings that might arise\n",
    "import time                       # used to stop search engine for few seconds\n",
    "\n",
    "# webdriverwait libraries explicit wait\n",
    "from selenium import webdriver\n",
    "from selenium.webdriver.support.ui import WebDriverWait\n",
    "from selenium.webdriver.support import expected_conditions as EC\n",
    "from selenium.webdriver.common.by import By\n",
    "\n",
    "# common exceptions\n",
    "from selenium.common.exceptions import NoSuchElementException"
   ]
  },
  {
   "cell_type": "code",
   "execution_count": 128,
   "id": "e115fc05",
   "metadata": {},
   "outputs": [],
   "source": [
    "driver = webdriver.Chrome(r'C:\\Users\\nidsi\\Downloads\\chromedriver_win32\\chromedriver.exe')"
   ]
  },
  {
   "cell_type": "code",
   "execution_count": 129,
   "id": "3c6c277e",
   "metadata": {},
   "outputs": [],
   "source": [
    "# opening webpage\n",
    "driver.get(\"https://www.hostelworld.com/\") \n",
    "time.sleep(5)"
   ]
  },
  {
   "cell_type": "code",
   "execution_count": 130,
   "id": "20c0a511",
   "metadata": {},
   "outputs": [],
   "source": [
    "# sending 'london' location in the search bar\n",
    "searchbar= driver.find_element(By.XPATH,\"/html/body/div[3]/div/div/div[1]/div[1]/div/div/div[4]/div/div[2]/div/div[1]/div/div/div/input\").send_keys(\"London\")\n",
    "time.sleep(3)"
   ]
  },
  {
   "cell_type": "code",
   "execution_count": 131,
   "id": "2569a84d",
   "metadata": {},
   "outputs": [],
   "source": [
    "# clicking on 'london' in the dropdown\n",
    "dropdown = driver.find_element(By.XPATH,\"/html/body/div[3]/div/div/div[1]/div[1]/div/div/div[4]/div/div[2]/div/div[1]/div/div/ul/li[2]\").click()"
   ]
  },
  {
   "cell_type": "code",
   "execution_count": 132,
   "id": "7f5451ec",
   "metadata": {},
   "outputs": [],
   "source": [
    "# clicking on lets go button\n",
    "letsgo = driver.find_element(By.XPATH,\"/html/body/div[3]/div/div/div[1]/div[1]/div/div/div[4]/div/div[2]/div/div[5]/button\").click()"
   ]
  },
  {
   "cell_type": "code",
   "execution_count": 133,
   "id": "241de5e9",
   "metadata": {},
   "outputs": [],
   "source": [
    "# creating empty lists to store data\n",
    "hostelname = []\n",
    "distance= []\n",
    "rating = []\n",
    "totalreview = []\n",
    "overallreview = []\n",
    "privatesfromprice = []\n",
    "dormsfromprice = []\n",
    "facilities = []\n",
    "propertydescription = []"
   ]
  },
  {
   "cell_type": "code",
   "execution_count": 134,
   "id": "8df7ad44",
   "metadata": {},
   "outputs": [],
   "source": [
    "# extracting tags and then extracting the data\n",
    "hostelnametag = driver.find_elements(By.XPATH,'//h2[@class=\"title title-6\"]/a')\n",
    "for i in hostelnametag:\n",
    "    try:\n",
    "        hostelnames = i.text\n",
    "        hostelname.append(hostelnames)\n",
    "    except NoSuchElementException:\n",
    "        hostelname.append(\"-\")\n",
    "distancetag = driver.find_elements(By.XPATH,'//span[@class=\"description\"]')\n",
    "for i in distancetag:\n",
    "    try:\n",
    "        distances = i.text\n",
    "        distance.append(distances)\n",
    "    except NoSuchElementException:\n",
    "        distance.append(\"-\")\n",
    "ratingtag = driver.find_elements(By.XPATH,'//div[@class=\"score orange big\"]')\n",
    "for i in ratingtag:\n",
    "    try:\n",
    "        ratings = i.text\n",
    "        rating.append(ratings)\n",
    "    except NoSuchElementException:\n",
    "        rating.append(\"-\")\n",
    "totalreviewtag = driver.find_elements(By.XPATH,'//div[@class=\"reviews\"]')\n",
    "for i in totalreviewtag:\n",
    "    try:\n",
    "        totalreviews = i.text\n",
    "        totalreview.append(totalreviews)\n",
    "    except NoSuchElementException:\n",
    "        totalreview.append(\"-\")\n",
    "overallreviewtag = driver.find_elements(By.XPATH,'//div[@class=\"keyword\"]/span')\n",
    "for i in overallreviewtag:\n",
    "    try:\n",
    "        overallreviews = i.text\n",
    "        overallreview.append(overallreviews)\n",
    "    except NoSuchElementException:\n",
    "        overallreview.append(\"-\")\n",
    "privatesfrompricetag = driver.find_elements(By.XPATH,'//div[@class=\"price title-5\"]')\n",
    "for i in privatesfrompricetag:\n",
    "    try:\n",
    "        privatesfromprices = i.text\n",
    "        privatesfromprice.append(privatesfromprices)\n",
    "    except NoSuchElementException:\n",
    "        privatesfromprice.append(\"-\")\n",
    "dormsfrompricetag = driver.find_elements(By.XPATH,'//p[@class=\"no-price body-3 no-dorms\"]')\n",
    "for i in dormsfrompricetag:\n",
    "    try:\n",
    "        dormsfromprices = i.text\n",
    "        dormsfromprice.append(dormsfromprices)\n",
    "    except NoSuchElementException:\n",
    "        dormsfromprice.append(\"-\")\n",
    "facilitiestag = driver.find_elements(By.XPATH,'//div[@class=\"facilities-label facilities\"]')\n",
    "for i in facilitiestag:\n",
    "    try:\n",
    "        facilitiess = i.text\n",
    "        facilities.append(facilitiess)\n",
    "    except NoSuchElementException:\n",
    "        facilities.append(\"-\")"
   ]
  },
  {
   "cell_type": "code",
   "execution_count": 139,
   "id": "3ab354a7",
   "metadata": {},
   "outputs": [
    {
     "data": {
      "text/plain": [
       "(30, 30, 30, 30, 30, 30, 30)"
      ]
     },
     "execution_count": 139,
     "metadata": {},
     "output_type": "execute_result"
    }
   ],
   "source": [
    "#CHECKING LENGTH OF ALL SCRAPPED DATA\n",
    "len(hostelname),len(distance),len(rating),len(totalreview),len(overallreview),len(privatesfromprice),len(facilities)"
   ]
  },
  {
   "cell_type": "code",
   "execution_count": 140,
   "id": "f4ad5906",
   "metadata": {},
   "outputs": [
    {
     "data": {
      "text/html": [
       "<div>\n",
       "<style scoped>\n",
       "    .dataframe tbody tr th:only-of-type {\n",
       "        vertical-align: middle;\n",
       "    }\n",
       "\n",
       "    .dataframe tbody tr th {\n",
       "        vertical-align: top;\n",
       "    }\n",
       "\n",
       "    .dataframe thead th {\n",
       "        text-align: right;\n",
       "    }\n",
       "</style>\n",
       "<table border=\"1\" class=\"dataframe\">\n",
       "  <thead>\n",
       "    <tr style=\"text-align: right;\">\n",
       "      <th></th>\n",
       "      <th>HOSTEL NAME</th>\n",
       "      <th>DISTANCE FROM CITY CENTER</th>\n",
       "      <th>RATING</th>\n",
       "      <th>TOTAL REVIEW</th>\n",
       "      <th>OVERALL REVIEWS</th>\n",
       "      <th>PRIVATEFORM PRICE</th>\n",
       "      <th>FACILITIES</th>\n",
       "    </tr>\n",
       "  </thead>\n",
       "  <tbody>\n",
       "    <tr>\n",
       "      <th>0</th>\n",
       "      <td>Selina Camden</td>\n",
       "      <td>Hostel - 5.5km from city centre</td>\n",
       "      <td>8.5</td>\n",
       "      <td>34 Total Reviews</td>\n",
       "      <td>Fabulous</td>\n",
       "      <td>Rs28438</td>\n",
       "      <td>Free WiFi</td>\n",
       "    </tr>\n",
       "    <tr>\n",
       "      <th>1</th>\n",
       "      <td>Wombat's City Hostel London</td>\n",
       "      <td>Hostel - 3.6km from city centre</td>\n",
       "      <td>9.1</td>\n",
       "      <td>13878 Total Reviews</td>\n",
       "      <td>Fabulous</td>\n",
       "      <td>Rs9953.59 Rs8461</td>\n",
       "      <td>Free WiFi\\nFollows Covid-19 sanitation guidance</td>\n",
       "    </tr>\n",
       "    <tr>\n",
       "      <th>2</th>\n",
       "      <td>Generator London</td>\n",
       "      <td>Hostel - 3km from city centre</td>\n",
       "      <td>7.7</td>\n",
       "      <td>7068 Total Reviews</td>\n",
       "      <td>Superb</td>\n",
       "      <td>Rs20400.07 Rs16932</td>\n",
       "      <td>Free WiFi\\nFollows Covid-19 sanitation guidance</td>\n",
       "    </tr>\n",
       "    <tr>\n",
       "      <th>3</th>\n",
       "      <td>Urbany Hostel London</td>\n",
       "      <td>Hostel - 5.4km from city centre</td>\n",
       "      <td>9.3</td>\n",
       "      <td>422 Total Reviews</td>\n",
       "      <td>Very Good</td>\n",
       "      <td>Rs4376.01 Rs3282</td>\n",
       "      <td>Free WiFi\\nFollows Covid-19 sanitation guidance</td>\n",
       "    </tr>\n",
       "    <tr>\n",
       "      <th>4</th>\n",
       "      <td>Safestay London Elephant &amp; Castle</td>\n",
       "      <td>Hostel - 1.7km from city centre</td>\n",
       "      <td>7.0</td>\n",
       "      <td>4416 Total Reviews</td>\n",
       "      <td>Superb</td>\n",
       "      <td>Rs9583</td>\n",
       "      <td>Free WiFi\\nFollows Covid-19 sanitation guidance</td>\n",
       "    </tr>\n",
       "    <tr>\n",
       "      <th>5</th>\n",
       "      <td>No.8 Seven Sisters</td>\n",
       "      <td>Hostel - 9km from city centre</td>\n",
       "      <td>6.2</td>\n",
       "      <td>3826 Total Reviews</td>\n",
       "      <td>Very Good</td>\n",
       "      <td>Rs3676</td>\n",
       "      <td>Free WiFi\\nFollows Covid-19 sanitation guidance</td>\n",
       "    </tr>\n",
       "    <tr>\n",
       "      <th>6</th>\n",
       "      <td>Barmy Badger Backpackers</td>\n",
       "      <td>Hostel - 5.5km from city centre</td>\n",
       "      <td>9.0</td>\n",
       "      <td>1793 Total Reviews</td>\n",
       "      <td>Good</td>\n",
       "      <td>Rs17380</td>\n",
       "      <td>Free WiFi\\nFree Breakfast</td>\n",
       "    </tr>\n",
       "    <tr>\n",
       "      <th>7</th>\n",
       "      <td>Safestay London Kensington Holland Park</td>\n",
       "      <td>Hostel - 5.9km from city centre</td>\n",
       "      <td>6.5</td>\n",
       "      <td>1273 Total Reviews</td>\n",
       "      <td>Superb</td>\n",
       "      <td>Rs5053</td>\n",
       "      <td>Free WiFi</td>\n",
       "    </tr>\n",
       "    <tr>\n",
       "      <th>8</th>\n",
       "      <td>St Christopher's Inn - London Bridge</td>\n",
       "      <td>Hostel - 1.8km from city centre</td>\n",
       "      <td>8.3</td>\n",
       "      <td>3337 Total Reviews</td>\n",
       "      <td>Good</td>\n",
       "      <td>Rs1596</td>\n",
       "      <td>Free WiFi\\nFollows Covid-19 sanitation guidance</td>\n",
       "    </tr>\n",
       "    <tr>\n",
       "      <th>9</th>\n",
       "      <td>Phoenix Hostel</td>\n",
       "      <td>Hostel - 4.2km from city centre</td>\n",
       "      <td>7.5</td>\n",
       "      <td>3686 Total Reviews</td>\n",
       "      <td>Fabulous</td>\n",
       "      <td>Rs1420</td>\n",
       "      <td>Free WiFi\\nFollows Covid-19 sanitation guidance</td>\n",
       "    </tr>\n",
       "    <tr>\n",
       "      <th>10</th>\n",
       "      <td>Smart Hyde Park View Hostel</td>\n",
       "      <td>Hostel - 5km from city centre</td>\n",
       "      <td>8.0</td>\n",
       "      <td>4579 Total Reviews</td>\n",
       "      <td>Very Good</td>\n",
       "      <td>Rs10237</td>\n",
       "      <td>Free WiFi\\nFollows Covid-19 sanitation guidance</td>\n",
       "    </tr>\n",
       "    <tr>\n",
       "      <th>11</th>\n",
       "      <td>Queen Elizabeth Chelsea</td>\n",
       "      <td>Hostel - 5.7km from city centre</td>\n",
       "      <td>6.7</td>\n",
       "      <td>3308 Total Reviews</td>\n",
       "      <td>Fabulous</td>\n",
       "      <td>Rs1538</td>\n",
       "      <td>Free WiFi</td>\n",
       "    </tr>\n",
       "    <tr>\n",
       "      <th>12</th>\n",
       "      <td>NX London Hostel</td>\n",
       "      <td>Hostel - 6.1km from city centre</td>\n",
       "      <td>7.2</td>\n",
       "      <td>1182 Total Reviews</td>\n",
       "      <td>Good</td>\n",
       "      <td>Rs2780.78 Rs2503</td>\n",
       "      <td>Free WiFi\\nFree Breakfast</td>\n",
       "    </tr>\n",
       "    <tr>\n",
       "      <th>13</th>\n",
       "      <td>Hostel One Notting Hill</td>\n",
       "      <td>Hostel - 5.5km from city centre</td>\n",
       "      <td>9.2</td>\n",
       "      <td>1437 Total Reviews</td>\n",
       "      <td>Very Good</td>\n",
       "      <td>Rs2419.58 Rs2299</td>\n",
       "      <td>Free WiFi</td>\n",
       "    </tr>\n",
       "    <tr>\n",
       "      <th>14</th>\n",
       "      <td>St Christopher's Hammersmith</td>\n",
       "      <td>Hostel - 7.5km from city centre</td>\n",
       "      <td>7.9</td>\n",
       "      <td>4078 Total Reviews</td>\n",
       "      <td>Superb</td>\n",
       "      <td>Rs4620</td>\n",
       "      <td>Free WiFi\\nFollows Covid-19 sanitation guidance</td>\n",
       "    </tr>\n",
       "    <tr>\n",
       "      <th>15</th>\n",
       "      <td>St Christopher's Camden</td>\n",
       "      <td>Hostel - 4.3km from city centre</td>\n",
       "      <td>8.4</td>\n",
       "      <td>3813 Total Reviews</td>\n",
       "      <td>Very Good</td>\n",
       "      <td>Rs2644</td>\n",
       "      <td>Free WiFi\\nFollows Covid-19 sanitation guidance</td>\n",
       "    </tr>\n",
       "    <tr>\n",
       "      <th>16</th>\n",
       "      <td>St Christopher's Inn - Liverpool Street</td>\n",
       "      <td>Hostel - 3.2km from city centre</td>\n",
       "      <td>8.8</td>\n",
       "      <td>422 Total Reviews</td>\n",
       "      <td>Fabulous</td>\n",
       "      <td>Rs3494</td>\n",
       "      <td>Free WiFi\\nFollows Covid-19 sanitation guidance</td>\n",
       "    </tr>\n",
       "    <tr>\n",
       "      <th>17</th>\n",
       "      <td>London Waterloo Hostel</td>\n",
       "      <td>Hostel - 0.7km from city centre</td>\n",
       "      <td>6.3</td>\n",
       "      <td>2508 Total Reviews</td>\n",
       "      <td>Fabulous</td>\n",
       "      <td>Rs17431</td>\n",
       "      <td>Free WiFi\\nFollows Covid-19 sanitation guidance</td>\n",
       "    </tr>\n",
       "    <tr>\n",
       "      <th>18</th>\n",
       "      <td>PubLove @ The White Ferry, Victoria</td>\n",
       "      <td>Hostel - 2.4km from city centre</td>\n",
       "      <td>8.1</td>\n",
       "      <td>274 Total Reviews</td>\n",
       "      <td>Good</td>\n",
       "      <td>Rs4151</td>\n",
       "      <td>Free WiFi\\nFollows Covid-19 sanitation guidance</td>\n",
       "    </tr>\n",
       "    <tr>\n",
       "      <th>19</th>\n",
       "      <td>St Christopher's Greenwich</td>\n",
       "      <td>Hostel - 7.6km from city centre</td>\n",
       "      <td>6.9</td>\n",
       "      <td>3224 Total Reviews</td>\n",
       "      <td>Fabulous</td>\n",
       "      <td>Rs2279.93 Rs2052</td>\n",
       "      <td>Free WiFi\\nFollows Covid-19 sanitation guidance</td>\n",
       "    </tr>\n",
       "    <tr>\n",
       "      <th>20</th>\n",
       "      <td>PubLove @ The Steam Engine, Waterloo</td>\n",
       "      <td>Hostel - 0.5km from city centre</td>\n",
       "      <td>8.4</td>\n",
       "      <td>296 Total Reviews</td>\n",
       "      <td>Good</td>\n",
       "      <td>Rs2637.83 Rs2374</td>\n",
       "      <td>Free WiFi\\nFollows Covid-19 sanitation guidance</td>\n",
       "    </tr>\n",
       "    <tr>\n",
       "      <th>21</th>\n",
       "      <td>St Christopher's Shepherds Bush</td>\n",
       "      <td>Hostel - 7km from city centre</td>\n",
       "      <td>7.4</td>\n",
       "      <td>702 Total Reviews</td>\n",
       "      <td>Fabulous</td>\n",
       "      <td>Rs3747.34 Rs3373</td>\n",
       "      <td>Free WiFi\\nFollows Covid-19 sanitation guidance</td>\n",
       "    </tr>\n",
       "    <tr>\n",
       "      <th>22</th>\n",
       "      <td>PubLove @ The Rose &amp; Crown</td>\n",
       "      <td>Hostel - 1.6km from city centre</td>\n",
       "      <td>8.0</td>\n",
       "      <td>141 Total Reviews</td>\n",
       "      <td>Very Good</td>\n",
       "      <td>Rs3526</td>\n",
       "      <td>Free WiFi\\nFollows Covid-19 sanitation guidance</td>\n",
       "    </tr>\n",
       "    <tr>\n",
       "      <th>23</th>\n",
       "      <td>International Students House</td>\n",
       "      <td>Hostel - 3.3km from city centre</td>\n",
       "      <td>9.2</td>\n",
       "      <td>968 Total Reviews</td>\n",
       "      <td>Fabulous</td>\n",
       "      <td>Rs3740</td>\n",
       "      <td>Free WiFi\\nFollows Covid-19 sanitation guidance</td>\n",
       "    </tr>\n",
       "    <tr>\n",
       "      <th>24</th>\n",
       "      <td>PubLove @ The Exmouth Arms, Euston</td>\n",
       "      <td>Hostel - 3.4km from city centre</td>\n",
       "      <td>7.1</td>\n",
       "      <td>1037 Total Reviews</td>\n",
       "      <td>Superb</td>\n",
       "      <td>Rs2279.58 Rs2052</td>\n",
       "      <td>Free WiFi\\nFollows Covid-19 sanitation guidance</td>\n",
       "    </tr>\n",
       "    <tr>\n",
       "      <th>25</th>\n",
       "      <td>PubLove @ The Crown, Battersea</td>\n",
       "      <td>Hostel - 4.7km from city centre</td>\n",
       "      <td>6.5</td>\n",
       "      <td>255 Total Reviews</td>\n",
       "      <td>Very Good</td>\n",
       "      <td>Rs3805</td>\n",
       "      <td>Free WiFi\\nFollows Covid-19 sanitation guidance</td>\n",
       "    </tr>\n",
       "    <tr>\n",
       "      <th>26</th>\n",
       "      <td>Park Villa</td>\n",
       "      <td>Hostel - 6.3km from city centre</td>\n",
       "      <td>7.9</td>\n",
       "      <td>873 Total Reviews</td>\n",
       "      <td>Good</td>\n",
       "      <td>Rs2380.24 Rs2142</td>\n",
       "      <td>Free WiFi\\nFollows Covid-19 sanitation guidance</td>\n",
       "    </tr>\n",
       "    <tr>\n",
       "      <th>27</th>\n",
       "      <td>Saint James Backpackers</td>\n",
       "      <td>Hostel - 5.5km from city centre</td>\n",
       "      <td>6.6</td>\n",
       "      <td>1816 Total Reviews</td>\n",
       "      <td>Very Good</td>\n",
       "      <td>Rs6578</td>\n",
       "      <td>Free WiFi\\nFree Breakfast\\nFollows Covid-19 sa...</td>\n",
       "    </tr>\n",
       "    <tr>\n",
       "      <th>28</th>\n",
       "      <td>PubLove @ The Green Man, Paddington</td>\n",
       "      <td>Hostel - 4.3km from city centre</td>\n",
       "      <td>7.7</td>\n",
       "      <td>418 Total Reviews</td>\n",
       "      <td>Good</td>\n",
       "      <td>Rs8512</td>\n",
       "      <td>Free WiFi\\nFollows Covid-19 sanitation guidance</td>\n",
       "    </tr>\n",
       "    <tr>\n",
       "      <th>29</th>\n",
       "      <td>Marble Arch Inn</td>\n",
       "      <td>Hotel - 3.5km from city centre</td>\n",
       "      <td>8.3</td>\n",
       "      <td>223 Total Reviews</td>\n",
       "      <td>Very Good</td>\n",
       "      <td>Rs4127</td>\n",
       "      <td>Free WiFi\\nFollows Covid-19 sanitation guidance</td>\n",
       "    </tr>\n",
       "  </tbody>\n",
       "</table>\n",
       "</div>"
      ],
      "text/plain": [
       "                                HOSTEL NAME        DISTANCE FROM CITY CENTER  \\\n",
       "0                             Selina Camden  Hostel - 5.5km from city centre   \n",
       "1               Wombat's City Hostel London  Hostel - 3.6km from city centre   \n",
       "2                          Generator London    Hostel - 3km from city centre   \n",
       "3                      Urbany Hostel London  Hostel - 5.4km from city centre   \n",
       "4         Safestay London Elephant & Castle  Hostel - 1.7km from city centre   \n",
       "5                        No.8 Seven Sisters    Hostel - 9km from city centre   \n",
       "6                  Barmy Badger Backpackers  Hostel - 5.5km from city centre   \n",
       "7   Safestay London Kensington Holland Park  Hostel - 5.9km from city centre   \n",
       "8      St Christopher's Inn - London Bridge  Hostel - 1.8km from city centre   \n",
       "9                            Phoenix Hostel  Hostel - 4.2km from city centre   \n",
       "10              Smart Hyde Park View Hostel    Hostel - 5km from city centre   \n",
       "11                  Queen Elizabeth Chelsea  Hostel - 5.7km from city centre   \n",
       "12                         NX London Hostel  Hostel - 6.1km from city centre   \n",
       "13                  Hostel One Notting Hill  Hostel - 5.5km from city centre   \n",
       "14             St Christopher's Hammersmith  Hostel - 7.5km from city centre   \n",
       "15                  St Christopher's Camden  Hostel - 4.3km from city centre   \n",
       "16  St Christopher's Inn - Liverpool Street  Hostel - 3.2km from city centre   \n",
       "17                   London Waterloo Hostel  Hostel - 0.7km from city centre   \n",
       "18      PubLove @ The White Ferry, Victoria  Hostel - 2.4km from city centre   \n",
       "19               St Christopher's Greenwich  Hostel - 7.6km from city centre   \n",
       "20     PubLove @ The Steam Engine, Waterloo  Hostel - 0.5km from city centre   \n",
       "21          St Christopher's Shepherds Bush    Hostel - 7km from city centre   \n",
       "22               PubLove @ The Rose & Crown  Hostel - 1.6km from city centre   \n",
       "23             International Students House  Hostel - 3.3km from city centre   \n",
       "24       PubLove @ The Exmouth Arms, Euston  Hostel - 3.4km from city centre   \n",
       "25           PubLove @ The Crown, Battersea  Hostel - 4.7km from city centre   \n",
       "26                               Park Villa  Hostel - 6.3km from city centre   \n",
       "27                  Saint James Backpackers  Hostel - 5.5km from city centre   \n",
       "28      PubLove @ The Green Man, Paddington  Hostel - 4.3km from city centre   \n",
       "29                          Marble Arch Inn   Hotel - 3.5km from city centre   \n",
       "\n",
       "   RATING         TOTAL REVIEW OVERALL REVIEWS   PRIVATEFORM PRICE  \\\n",
       "0     8.5     34 Total Reviews        Fabulous             Rs28438   \n",
       "1     9.1  13878 Total Reviews        Fabulous    Rs9953.59 Rs8461   \n",
       "2     7.7   7068 Total Reviews          Superb  Rs20400.07 Rs16932   \n",
       "3     9.3    422 Total Reviews       Very Good    Rs4376.01 Rs3282   \n",
       "4     7.0   4416 Total Reviews          Superb              Rs9583   \n",
       "5     6.2   3826 Total Reviews       Very Good              Rs3676   \n",
       "6     9.0   1793 Total Reviews            Good             Rs17380   \n",
       "7     6.5   1273 Total Reviews          Superb              Rs5053   \n",
       "8     8.3   3337 Total Reviews            Good              Rs1596   \n",
       "9     7.5   3686 Total Reviews        Fabulous              Rs1420   \n",
       "10    8.0   4579 Total Reviews       Very Good             Rs10237   \n",
       "11    6.7   3308 Total Reviews        Fabulous              Rs1538   \n",
       "12    7.2   1182 Total Reviews            Good    Rs2780.78 Rs2503   \n",
       "13    9.2   1437 Total Reviews       Very Good    Rs2419.58 Rs2299   \n",
       "14    7.9   4078 Total Reviews          Superb              Rs4620   \n",
       "15    8.4   3813 Total Reviews       Very Good              Rs2644   \n",
       "16    8.8    422 Total Reviews        Fabulous              Rs3494   \n",
       "17    6.3   2508 Total Reviews        Fabulous             Rs17431   \n",
       "18    8.1    274 Total Reviews            Good              Rs4151   \n",
       "19    6.9   3224 Total Reviews        Fabulous    Rs2279.93 Rs2052   \n",
       "20    8.4    296 Total Reviews            Good    Rs2637.83 Rs2374   \n",
       "21    7.4    702 Total Reviews        Fabulous    Rs3747.34 Rs3373   \n",
       "22    8.0    141 Total Reviews       Very Good              Rs3526   \n",
       "23    9.2    968 Total Reviews        Fabulous              Rs3740   \n",
       "24    7.1   1037 Total Reviews          Superb    Rs2279.58 Rs2052   \n",
       "25    6.5    255 Total Reviews       Very Good              Rs3805   \n",
       "26    7.9    873 Total Reviews            Good    Rs2380.24 Rs2142   \n",
       "27    6.6   1816 Total Reviews       Very Good              Rs6578   \n",
       "28    7.7    418 Total Reviews            Good              Rs8512   \n",
       "29    8.3    223 Total Reviews       Very Good              Rs4127   \n",
       "\n",
       "                                           FACILITIES  \n",
       "0                                           Free WiFi  \n",
       "1     Free WiFi\\nFollows Covid-19 sanitation guidance  \n",
       "2     Free WiFi\\nFollows Covid-19 sanitation guidance  \n",
       "3     Free WiFi\\nFollows Covid-19 sanitation guidance  \n",
       "4     Free WiFi\\nFollows Covid-19 sanitation guidance  \n",
       "5     Free WiFi\\nFollows Covid-19 sanitation guidance  \n",
       "6                           Free WiFi\\nFree Breakfast  \n",
       "7                                           Free WiFi  \n",
       "8     Free WiFi\\nFollows Covid-19 sanitation guidance  \n",
       "9     Free WiFi\\nFollows Covid-19 sanitation guidance  \n",
       "10    Free WiFi\\nFollows Covid-19 sanitation guidance  \n",
       "11                                          Free WiFi  \n",
       "12                          Free WiFi\\nFree Breakfast  \n",
       "13                                          Free WiFi  \n",
       "14    Free WiFi\\nFollows Covid-19 sanitation guidance  \n",
       "15    Free WiFi\\nFollows Covid-19 sanitation guidance  \n",
       "16    Free WiFi\\nFollows Covid-19 sanitation guidance  \n",
       "17    Free WiFi\\nFollows Covid-19 sanitation guidance  \n",
       "18    Free WiFi\\nFollows Covid-19 sanitation guidance  \n",
       "19    Free WiFi\\nFollows Covid-19 sanitation guidance  \n",
       "20    Free WiFi\\nFollows Covid-19 sanitation guidance  \n",
       "21    Free WiFi\\nFollows Covid-19 sanitation guidance  \n",
       "22    Free WiFi\\nFollows Covid-19 sanitation guidance  \n",
       "23    Free WiFi\\nFollows Covid-19 sanitation guidance  \n",
       "24    Free WiFi\\nFollows Covid-19 sanitation guidance  \n",
       "25    Free WiFi\\nFollows Covid-19 sanitation guidance  \n",
       "26    Free WiFi\\nFollows Covid-19 sanitation guidance  \n",
       "27  Free WiFi\\nFree Breakfast\\nFollows Covid-19 sa...  \n",
       "28    Free WiFi\\nFollows Covid-19 sanitation guidance  \n",
       "29    Free WiFi\\nFollows Covid-19 sanitation guidance  "
      ]
     },
     "execution_count": 140,
     "metadata": {},
     "output_type": "execute_result"
    }
   ],
   "source": [
    "# creating dataframe of scrapped data\n",
    "hostelworlddf = pd.DataFrame({'HOSTEL NAME':hostelname,'DISTANCE FROM CITY CENTER':distance,'RATING':rating,'TOTAL REVIEW':totalreview,'OVERALL REVIEWS':overallreview,'PRIVATEFORM PRICE':privatesfromprice,'FACILITIES':facilities})\n",
    "hostelworlddf"
   ]
  },
  {
   "cell_type": "code",
   "execution_count": 141,
   "id": "8d7785c2",
   "metadata": {},
   "outputs": [],
   "source": [
    "#closing the driver at the end\n",
    "driver.close()   "
   ]
  },
  {
   "cell_type": "code",
   "execution_count": null,
   "id": "2105a563",
   "metadata": {},
   "outputs": [],
   "source": []
  }
 ],
 "metadata": {
  "kernelspec": {
   "display_name": "Python 3 (ipykernel)",
   "language": "python",
   "name": "python3"
  },
  "language_info": {
   "codemirror_mode": {
    "name": "ipython",
    "version": 3
   },
   "file_extension": ".py",
   "mimetype": "text/x-python",
   "name": "python",
   "nbconvert_exporter": "python",
   "pygments_lexer": "ipython3",
   "version": "3.9.7"
  }
 },
 "nbformat": 4,
 "nbformat_minor": 5
}
