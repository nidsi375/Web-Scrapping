{
 "cells": [
  {
   "cell_type": "markdown",
   "id": "df353fbe",
   "metadata": {},
   "source": [
    "## WEB SCRAPPING USING SELENIUM ASSIGNMENT"
   ]
  },
  {
   "cell_type": "markdown",
   "id": "647db8da",
   "metadata": {},
   "source": [
    "## Q1: Write a python program to scrape data for “Data Analyst” Job position in “Bangalore” location. \n",
    "You have to scrape the job-title, job-location, company_name, experience_required. You have to scrape first 10 \n",
    "jobs data.\n",
    "This task will be done in following steps:\n",
    "1. First get the webpage https://www.naukri.com/\n",
    "2. Enter “Data Analyst” in “Skill, Designations, Companies” field and enter “Bangalore” in “enter the\n",
    "location” field.\n",
    "3. Then click the search button.\n",
    "4. Then scrape the data for the first 10 jobs results you get.\n",
    "5. Finally create a dataframe of the scraped data. "
   ]
  },
  {
   "cell_type": "code",
   "execution_count": 1,
   "id": "d6d5a80e",
   "metadata": {},
   "outputs": [
    {
     "name": "stdout",
     "output_type": "stream",
     "text": [
      "Requirement already satisfied: selenium in c:\\users\\nidsi\\anaconda3\\lib\\site-packages (4.3.0)\n",
      "Requirement already satisfied: urllib3[secure,socks]~=1.26 in c:\\users\\nidsi\\anaconda3\\lib\\site-packages (from selenium) (1.26.7)\n",
      "Requirement already satisfied: trio~=0.17 in c:\\users\\nidsi\\anaconda3\\lib\\site-packages (from selenium) (0.21.0)\n",
      "Requirement already satisfied: trio-websocket~=0.9 in c:\\users\\nidsi\\anaconda3\\lib\\site-packages (from selenium) (0.9.2)\n",
      "Requirement already satisfied: cffi>=1.14 in c:\\users\\nidsi\\anaconda3\\lib\\site-packages (from trio~=0.17->selenium) (1.14.6)\n",
      "Requirement already satisfied: sortedcontainers in c:\\users\\nidsi\\anaconda3\\lib\\site-packages (from trio~=0.17->selenium) (2.4.0)\n",
      "Requirement already satisfied: sniffio in c:\\users\\nidsi\\anaconda3\\lib\\site-packages (from trio~=0.17->selenium) (1.2.0)\n",
      "Requirement already satisfied: outcome in c:\\users\\nidsi\\anaconda3\\lib\\site-packages (from trio~=0.17->selenium) (1.2.0)\n",
      "Requirement already satisfied: idna in c:\\users\\nidsi\\anaconda3\\lib\\site-packages (from trio~=0.17->selenium) (3.2)\n",
      "Requirement already satisfied: attrs>=19.2.0 in c:\\users\\nidsi\\anaconda3\\lib\\site-packages (from trio~=0.17->selenium) (21.2.0)\n",
      "Requirement already satisfied: async-generator>=1.9 in c:\\users\\nidsi\\anaconda3\\lib\\site-packages (from trio~=0.17->selenium) (1.10)\n",
      "Requirement already satisfied: pycparser in c:\\users\\nidsi\\anaconda3\\lib\\site-packages (from cffi>=1.14->trio~=0.17->selenium) (2.20)\n",
      "Requirement already satisfied: wsproto>=0.14 in c:\\users\\nidsi\\anaconda3\\lib\\site-packages (from trio-websocket~=0.9->selenium) (1.1.0)\n",
      "Requirement already satisfied: PySocks!=1.5.7,<2.0,>=1.5.6 in c:\\users\\nidsi\\anaconda3\\lib\\site-packages (from urllib3[secure,socks]~=1.26->selenium) (1.7.1)\n",
      "Requirement already satisfied: pyOpenSSL>=0.14 in c:\\users\\nidsi\\anaconda3\\lib\\site-packages (from urllib3[secure,socks]~=1.26->selenium) (21.0.0)\n",
      "Requirement already satisfied: cryptography>=1.3.4 in c:\\users\\nidsi\\anaconda3\\lib\\site-packages (from urllib3[secure,socks]~=1.26->selenium) (3.4.8)\n",
      "Requirement already satisfied: certifi in c:\\users\\nidsi\\anaconda3\\lib\\site-packages (from urllib3[secure,socks]~=1.26->selenium) (2021.10.8)\n",
      "Requirement already satisfied: six>=1.5.2 in c:\\users\\nidsi\\anaconda3\\lib\\site-packages (from pyOpenSSL>=0.14->urllib3[secure,socks]~=1.26->selenium) (1.16.0)\n",
      "Requirement already satisfied: h11<1,>=0.9.0 in c:\\users\\nidsi\\anaconda3\\lib\\site-packages (from wsproto>=0.14->trio-websocket~=0.9->selenium) (0.13.0)\n"
     ]
    }
   ],
   "source": [
    "#installing selenium\n",
    "!pip install selenium"
   ]
  },
  {
   "cell_type": "code",
   "execution_count": 2,
   "id": "0122e3fa",
   "metadata": {},
   "outputs": [],
   "source": [
    "# importing all required libraries\n",
    "import selenium\n",
    "from selenium import webdriver \n",
    "import pandas as pd\n",
    "import warnings\n",
    "warnings.filterwarnings(\"ignore\")"
   ]
  },
  {
   "cell_type": "code",
   "execution_count": 3,
   "id": "2b2abf78",
   "metadata": {},
   "outputs": [],
   "source": [
    "#fetching chromedriver\n",
    "driver = webdriver.Chrome(r'C:\\Users\\nidsi\\Downloads\\chromedriver_win32\\chromedriver.exe')"
   ]
  },
  {
   "cell_type": "code",
   "execution_count": 4,
   "id": "26519798",
   "metadata": {},
   "outputs": [],
   "source": [
    "url = 'https://www.naukri.com/'\n",
    "driver.get(url)"
   ]
  },
  {
   "cell_type": "code",
   "execution_count": 5,
   "id": "8f6f0f36",
   "metadata": {},
   "outputs": [],
   "source": [
    "from selenium.webdriver.common.by import By"
   ]
  },
  {
   "cell_type": "code",
   "execution_count": 6,
   "id": "f86caf05",
   "metadata": {},
   "outputs": [
    {
     "data": {
      "text/plain": [
       "<selenium.webdriver.remote.webelement.WebElement (session=\"388232f5eeca2c24a555ce493d61e7c1\", element=\"b81e733a-2946-4f91-aa74-968f10ceacf8\")>"
      ]
     },
     "execution_count": 6,
     "metadata": {},
     "output_type": "execute_result"
    }
   ],
   "source": [
    "#searching for web elements  for search job bar usng id\n",
    "search_jobs = driver.find_element(By.CLASS_NAME,\"suggestor-input\")\n",
    "search_jobs"
   ]
  },
  {
   "cell_type": "code",
   "execution_count": 7,
   "id": "61cf9512",
   "metadata": {},
   "outputs": [],
   "source": [
    "#writing on search bar\n",
    "search_jobs.send_keys(\"Data Analyst\")"
   ]
  },
  {
   "cell_type": "code",
   "execution_count": 8,
   "id": "0019413d",
   "metadata": {},
   "outputs": [
    {
     "data": {
      "text/plain": [
       "<selenium.webdriver.remote.webelement.WebElement (session=\"388232f5eeca2c24a555ce493d61e7c1\", element=\"fe98fb6d-200f-48fd-95ee-9c197612feae\")>"
      ]
     },
     "execution_count": 8,
     "metadata": {},
     "output_type": "execute_result"
    }
   ],
   "source": [
    "search_locn = driver.find_element(By.XPATH,\"/html/body/div[1]/div[2]/div[3]/div/div/div[5]/div/div/div/input\")\n",
    "search_locn"
   ]
  },
  {
   "cell_type": "code",
   "execution_count": 9,
   "id": "78fce906",
   "metadata": {},
   "outputs": [],
   "source": [
    "search_locn.send_keys(\"Bangalore\")"
   ]
  },
  {
   "cell_type": "code",
   "execution_count": 10,
   "id": "8ad43f1d",
   "metadata": {},
   "outputs": [
    {
     "data": {
      "text/plain": [
       "<selenium.webdriver.remote.webelement.WebElement (session=\"388232f5eeca2c24a555ce493d61e7c1\", element=\"5456f85d-8c27-4ab2-af7d-44b45b54defa\")>"
      ]
     },
     "execution_count": 10,
     "metadata": {},
     "output_type": "execute_result"
    }
   ],
   "source": [
    "search_btn = driver.find_element(By.XPATH,\"/html/body/div[1]/div[2]/div[3]/div/div/div[6]\")\n",
    "search_btn"
   ]
  },
  {
   "cell_type": "code",
   "execution_count": 11,
   "id": "1a38d52d",
   "metadata": {},
   "outputs": [],
   "source": [
    "search_btn.click()"
   ]
  },
  {
   "cell_type": "markdown",
   "id": "44862d7c",
   "metadata": {},
   "source": [
    "## EXTRACTING JOB TITLES "
   ]
  },
  {
   "cell_type": "code",
   "execution_count": 12,
   "id": "7475d839",
   "metadata": {},
   "outputs": [
    {
     "data": {
      "text/plain": [
       "20"
      ]
     },
     "execution_count": 12,
     "metadata": {},
     "output_type": "execute_result"
    }
   ],
   "source": [
    "#scrapping data from  website\n",
    "title_tags = driver.find_elements(By.XPATH,'//a[@class=\"title fw500 ellipsis\"]')\n",
    "len(title_tags)"
   ]
  },
  {
   "cell_type": "code",
   "execution_count": 13,
   "id": "93751ff8",
   "metadata": {},
   "outputs": [
    {
     "data": {
      "text/plain": [
       "20"
      ]
     },
     "execution_count": 13,
     "metadata": {},
     "output_type": "execute_result"
    }
   ],
   "source": [
    "job_title = []\n",
    "\n",
    "for i in title_tags:\n",
    "    job_title.append(i.text)\n",
    "len(job_title)"
   ]
  },
  {
   "cell_type": "code",
   "execution_count": 14,
   "id": "4609a891",
   "metadata": {},
   "outputs": [
    {
     "data": {
      "text/plain": [
       "['Associate - Data Analyst',\n",
       " 'Sr.Business Data Analyst',\n",
       " 'Sr Data Analyst',\n",
       " 'Senior Data Analysis Analyst',\n",
       " 'Job opportunity For Data Analyst at Trellance - India',\n",
       " 'Data Analyst',\n",
       " 'Senior Data Analyst',\n",
       " 'Master Data Management Business Analyst',\n",
       " 'Hiring For Data Analyst',\n",
       " 'Data Analyst',\n",
       " 'Associate Data Analyst',\n",
       " 'Associate Data Analyst',\n",
       " 'Data Analyst/Senior Data Analyst',\n",
       " 'Financial Data Analyst',\n",
       " 'Data Analyst II',\n",
       " 'Senior Data Management Analyst',\n",
       " 'Data Analyst - Python/Artificial Intelligence',\n",
       " 'Performance Data Analyst',\n",
       " 'Happay - Data Analyst',\n",
       " 'Data Analyst']"
      ]
     },
     "execution_count": 14,
     "metadata": {},
     "output_type": "execute_result"
    }
   ],
   "source": [
    "job_title"
   ]
  },
  {
   "cell_type": "markdown",
   "id": "ac17f33a",
   "metadata": {},
   "source": [
    "## EXTRACTING COMPANY NAME "
   ]
  },
  {
   "cell_type": "code",
   "execution_count": 15,
   "id": "dd172186",
   "metadata": {},
   "outputs": [
    {
     "data": {
      "text/plain": [
       "20"
      ]
     },
     "execution_count": 15,
     "metadata": {},
     "output_type": "execute_result"
    }
   ],
   "source": [
    "Company_tags =driver.find_elements(By.XPATH,'//a[@class=\"subTitle ellipsis fleft\"]')\n",
    "len(Company_tags)\n"
   ]
  },
  {
   "cell_type": "code",
   "execution_count": 16,
   "id": "0b4eee72",
   "metadata": {},
   "outputs": [
    {
     "data": {
      "text/plain": [
       "20"
      ]
     },
     "execution_count": 16,
     "metadata": {},
     "output_type": "execute_result"
    }
   ],
   "source": [
    "company_name = []\n",
    "\n",
    "for i in Company_tags:\n",
    "    company_name.append(i.text)\n",
    "len(company_name)"
   ]
  },
  {
   "cell_type": "code",
   "execution_count": 17,
   "id": "b4826c5a",
   "metadata": {},
   "outputs": [
    {
     "data": {
      "text/plain": [
       "['Myntra',\n",
       " 'Collabera',\n",
       " 'Thomson Reuters',\n",
       " 'Capco',\n",
       " 'CURise Analytics Pvt. Ltd.',\n",
       " 'Thomson Reuters',\n",
       " 'KrazyBee',\n",
       " 'Accenture',\n",
       " 'Flipkart',\n",
       " 'Wipro',\n",
       " 'Optum',\n",
       " 'Optum',\n",
       " 'Meesho',\n",
       " 'Nuance India',\n",
       " 'Cerner',\n",
       " 'Wells Fargo',\n",
       " 'iMindYourBusiness',\n",
       " 'Fluence',\n",
       " 'Happay-Expense Management Solution for Businesses',\n",
       " 'Kititan Co., Ltd']"
      ]
     },
     "execution_count": 17,
     "metadata": {},
     "output_type": "execute_result"
    }
   ],
   "source": [
    "company_name"
   ]
  },
  {
   "cell_type": "markdown",
   "id": "28d1ee76",
   "metadata": {},
   "source": [
    "## EXTRACTING EXPERIENCE "
   ]
  },
  {
   "cell_type": "code",
   "execution_count": 18,
   "id": "0183dfb4",
   "metadata": {},
   "outputs": [
    {
     "data": {
      "text/plain": [
       "20"
      ]
     },
     "execution_count": 18,
     "metadata": {},
     "output_type": "execute_result"
    }
   ],
   "source": [
    "experience_tags = driver.find_elements(By.XPATH,'//li[@class=\"fleft grey-text br2 placeHolderLi experience\"]')\n",
    "len(experience_tags)\n"
   ]
  },
  {
   "cell_type": "code",
   "execution_count": 19,
   "id": "881ede1b",
   "metadata": {},
   "outputs": [
    {
     "data": {
      "text/plain": [
       "20"
      ]
     },
     "execution_count": 19,
     "metadata": {},
     "output_type": "execute_result"
    }
   ],
   "source": [
    "experience = []\n",
    "\n",
    "for i in experience_tags:\n",
    "    experience.append(i.text)\n",
    "len(experience)"
   ]
  },
  {
   "cell_type": "code",
   "execution_count": 20,
   "id": "c63f136e",
   "metadata": {},
   "outputs": [
    {
     "data": {
      "text/plain": [
       "['0-2 Yrs',\n",
       " '6-11 Yrs',\n",
       " '5-8 Yrs',\n",
       " '7-12 Yrs',\n",
       " '0-2 Yrs',\n",
       " '2-3 Yrs',\n",
       " '3-6 Yrs',\n",
       " '6-8 Yrs',\n",
       " '2-5 Yrs',\n",
       " '4-9 Yrs',\n",
       " '2-7 Yrs',\n",
       " '1-4 Yrs',\n",
       " '3-6 Yrs',\n",
       " '3-8 Yrs',\n",
       " '2-4 Yrs',\n",
       " '4-7 Yrs',\n",
       " '0-2 Yrs',\n",
       " '2-5 Yrs',\n",
       " '1-2 Yrs',\n",
       " '5-10 Yrs']"
      ]
     },
     "execution_count": 20,
     "metadata": {},
     "output_type": "execute_result"
    }
   ],
   "source": [
    "experience"
   ]
  },
  {
   "cell_type": "markdown",
   "id": "6c57101d",
   "metadata": {},
   "source": [
    "## EXTRACTING LOCATION "
   ]
  },
  {
   "cell_type": "code",
   "execution_count": 21,
   "id": "5797c2e6",
   "metadata": {},
   "outputs": [
    {
     "data": {
      "text/plain": [
       "20"
      ]
     },
     "execution_count": 21,
     "metadata": {},
     "output_type": "execute_result"
    }
   ],
   "source": [
    "location_tags = driver.find_elements(By.XPATH,'//li[@class=\"fleft grey-text br2 placeHolderLi location\"]')\n",
    "len(location_tags)\n"
   ]
  },
  {
   "cell_type": "code",
   "execution_count": 22,
   "id": "18d87566",
   "metadata": {},
   "outputs": [
    {
     "data": {
      "text/plain": [
       "20"
      ]
     },
     "execution_count": 22,
     "metadata": {},
     "output_type": "execute_result"
    }
   ],
   "source": [
    "location = []\n",
    "\n",
    "for i in location_tags:\n",
    "    location.append(i.text)\n",
    "len(location)"
   ]
  },
  {
   "cell_type": "code",
   "execution_count": 23,
   "id": "3eb92f0b",
   "metadata": {},
   "outputs": [
    {
     "data": {
      "text/plain": [
       "['Bangalore/Bengaluru',\n",
       " 'Bangalore/Bengaluru, karnataka\\n(WFH during Covid)',\n",
       " 'Bangalore/Bengaluru',\n",
       " 'Bangalore/Bengaluru, Pune, Chennai',\n",
       " 'Bangalore/Bengaluru, Ahmedabad',\n",
       " 'Bangalore/Bengaluru',\n",
       " 'Bangalore/Bengaluru(Old Madras Road)',\n",
       " 'Bangalore/Bengaluru',\n",
       " 'Bangalore/Bengaluru',\n",
       " 'Bangalore/Bengaluru, Noida, Hyderabad/Secunderabad, Gurgaon/Gurugram, Chennai, Mumbai (All Areas), Pune',\n",
       " 'Bangalore/Bengaluru',\n",
       " 'Bangalore/Bengaluru',\n",
       " 'Bangalore/Bengaluru',\n",
       " 'Bangalore/Bengaluru',\n",
       " 'Bangalore/Bengaluru',\n",
       " 'Bangalore/Bengaluru',\n",
       " 'Bangalore/Bengaluru, Kolkata, Mumbai, Hyderabad/Secunderabad, Pune, Ahmedabad',\n",
       " 'Bangalore/Bengaluru',\n",
       " 'Bangalore/Bengaluru',\n",
       " 'Bangalore/Bengaluru, Kolkata, New Delhi, Hyderabad/Secunderabad, Chennai, Mumbai (All Areas)']"
      ]
     },
     "execution_count": 23,
     "metadata": {},
     "output_type": "execute_result"
    }
   ],
   "source": [
    "location"
   ]
  },
  {
   "cell_type": "markdown",
   "id": "03a1273d",
   "metadata": {},
   "source": [
    "## EXTRACTING SALARY"
   ]
  },
  {
   "cell_type": "code",
   "execution_count": 24,
   "id": "76072b49",
   "metadata": {},
   "outputs": [
    {
     "data": {
      "text/plain": [
       "20"
      ]
     },
     "execution_count": 24,
     "metadata": {},
     "output_type": "execute_result"
    }
   ],
   "source": [
    "salary_tags = driver.find_elements(By.XPATH,'//li[@class=\"fleft grey-text br2 placeHolderLi salary\"]')\n",
    "len(salary_tags)"
   ]
  },
  {
   "cell_type": "code",
   "execution_count": 25,
   "id": "63409aa7",
   "metadata": {},
   "outputs": [
    {
     "data": {
      "text/plain": [
       "20"
      ]
     },
     "execution_count": 25,
     "metadata": {},
     "output_type": "execute_result"
    }
   ],
   "source": [
    "salary = []\n",
    "\n",
    "for i in salary_tags:\n",
    "    salary.append(i.text)\n",
    "len(salary)"
   ]
  },
  {
   "cell_type": "code",
   "execution_count": 26,
   "id": "60c9241c",
   "metadata": {},
   "outputs": [
    {
     "data": {
      "text/plain": [
       "['Not disclosed',\n",
       " 'Not disclosed',\n",
       " 'Not disclosed',\n",
       " '10,00,000 - 20,00,000 PA.',\n",
       " 'Not disclosed',\n",
       " 'Not disclosed',\n",
       " 'Not disclosed',\n",
       " 'Not disclosed',\n",
       " '3,00,000 - 7,00,000 PA.',\n",
       " 'Not disclosed',\n",
       " 'Not disclosed',\n",
       " 'Not disclosed',\n",
       " 'Not disclosed',\n",
       " 'Not disclosed',\n",
       " 'Not disclosed',\n",
       " 'Not disclosed',\n",
       " 'Not disclosed',\n",
       " 'Not disclosed',\n",
       " 'Not disclosed',\n",
       " '50,000 - 1,00,000 PA.']"
      ]
     },
     "execution_count": 26,
     "metadata": {},
     "output_type": "execute_result"
    }
   ],
   "source": [
    "salary"
   ]
  },
  {
   "cell_type": "markdown",
   "id": "a88bbbdb",
   "metadata": {},
   "source": [
    "## Checking length of all extracted data to make an exact data frame "
   ]
  },
  {
   "cell_type": "code",
   "execution_count": 27,
   "id": "4188d163",
   "metadata": {},
   "outputs": [
    {
     "data": {
      "text/plain": [
       "(20, 20, 20, 20, 20)"
      ]
     },
     "execution_count": 27,
     "metadata": {},
     "output_type": "execute_result"
    }
   ],
   "source": [
    "len(job_title),len(company_name),len(experience),len(location),len(salary)"
   ]
  },
  {
   "cell_type": "code",
   "execution_count": 28,
   "id": "2ea96e9f",
   "metadata": {},
   "outputs": [
    {
     "data": {
      "text/html": [
       "<div>\n",
       "<style scoped>\n",
       "    .dataframe tbody tr th:only-of-type {\n",
       "        vertical-align: middle;\n",
       "    }\n",
       "\n",
       "    .dataframe tbody tr th {\n",
       "        vertical-align: top;\n",
       "    }\n",
       "\n",
       "    .dataframe thead th {\n",
       "        text-align: right;\n",
       "    }\n",
       "</style>\n",
       "<table border=\"1\" class=\"dataframe\">\n",
       "  <thead>\n",
       "    <tr style=\"text-align: right;\">\n",
       "      <th></th>\n",
       "      <th>JOB TITLE</th>\n",
       "      <th>COMPANY</th>\n",
       "      <th>EXPERIENCE</th>\n",
       "      <th>LOCATION</th>\n",
       "      <th>SALARY</th>\n",
       "    </tr>\n",
       "  </thead>\n",
       "  <tbody>\n",
       "    <tr>\n",
       "      <th>0</th>\n",
       "      <td>Associate - Data Analyst</td>\n",
       "      <td>Myntra</td>\n",
       "      <td>0-2 Yrs</td>\n",
       "      <td>Bangalore/Bengaluru</td>\n",
       "      <td>Not disclosed</td>\n",
       "    </tr>\n",
       "    <tr>\n",
       "      <th>1</th>\n",
       "      <td>Sr.Business Data Analyst</td>\n",
       "      <td>Collabera</td>\n",
       "      <td>6-11 Yrs</td>\n",
       "      <td>Bangalore/Bengaluru, karnataka\\n(WFH during Co...</td>\n",
       "      <td>Not disclosed</td>\n",
       "    </tr>\n",
       "    <tr>\n",
       "      <th>2</th>\n",
       "      <td>Sr Data Analyst</td>\n",
       "      <td>Thomson Reuters</td>\n",
       "      <td>5-8 Yrs</td>\n",
       "      <td>Bangalore/Bengaluru</td>\n",
       "      <td>Not disclosed</td>\n",
       "    </tr>\n",
       "    <tr>\n",
       "      <th>3</th>\n",
       "      <td>Senior Data Analysis Analyst</td>\n",
       "      <td>Capco</td>\n",
       "      <td>7-12 Yrs</td>\n",
       "      <td>Bangalore/Bengaluru, Pune, Chennai</td>\n",
       "      <td>10,00,000 - 20,00,000 PA.</td>\n",
       "    </tr>\n",
       "    <tr>\n",
       "      <th>4</th>\n",
       "      <td>Job opportunity For Data Analyst at Trellance ...</td>\n",
       "      <td>CURise Analytics Pvt. Ltd.</td>\n",
       "      <td>0-2 Yrs</td>\n",
       "      <td>Bangalore/Bengaluru, Ahmedabad</td>\n",
       "      <td>Not disclosed</td>\n",
       "    </tr>\n",
       "    <tr>\n",
       "      <th>5</th>\n",
       "      <td>Data Analyst</td>\n",
       "      <td>Thomson Reuters</td>\n",
       "      <td>2-3 Yrs</td>\n",
       "      <td>Bangalore/Bengaluru</td>\n",
       "      <td>Not disclosed</td>\n",
       "    </tr>\n",
       "    <tr>\n",
       "      <th>6</th>\n",
       "      <td>Senior Data Analyst</td>\n",
       "      <td>KrazyBee</td>\n",
       "      <td>3-6 Yrs</td>\n",
       "      <td>Bangalore/Bengaluru(Old Madras Road)</td>\n",
       "      <td>Not disclosed</td>\n",
       "    </tr>\n",
       "    <tr>\n",
       "      <th>7</th>\n",
       "      <td>Master Data Management Business Analyst</td>\n",
       "      <td>Accenture</td>\n",
       "      <td>6-8 Yrs</td>\n",
       "      <td>Bangalore/Bengaluru</td>\n",
       "      <td>Not disclosed</td>\n",
       "    </tr>\n",
       "    <tr>\n",
       "      <th>8</th>\n",
       "      <td>Hiring For Data Analyst</td>\n",
       "      <td>Flipkart</td>\n",
       "      <td>2-5 Yrs</td>\n",
       "      <td>Bangalore/Bengaluru</td>\n",
       "      <td>3,00,000 - 7,00,000 PA.</td>\n",
       "    </tr>\n",
       "    <tr>\n",
       "      <th>9</th>\n",
       "      <td>Data Analyst</td>\n",
       "      <td>Wipro</td>\n",
       "      <td>4-9 Yrs</td>\n",
       "      <td>Bangalore/Bengaluru, Noida, Hyderabad/Secunder...</td>\n",
       "      <td>Not disclosed</td>\n",
       "    </tr>\n",
       "    <tr>\n",
       "      <th>10</th>\n",
       "      <td>Associate Data Analyst</td>\n",
       "      <td>Optum</td>\n",
       "      <td>2-7 Yrs</td>\n",
       "      <td>Bangalore/Bengaluru</td>\n",
       "      <td>Not disclosed</td>\n",
       "    </tr>\n",
       "    <tr>\n",
       "      <th>11</th>\n",
       "      <td>Associate Data Analyst</td>\n",
       "      <td>Optum</td>\n",
       "      <td>1-4 Yrs</td>\n",
       "      <td>Bangalore/Bengaluru</td>\n",
       "      <td>Not disclosed</td>\n",
       "    </tr>\n",
       "    <tr>\n",
       "      <th>12</th>\n",
       "      <td>Data Analyst/Senior Data Analyst</td>\n",
       "      <td>Meesho</td>\n",
       "      <td>3-6 Yrs</td>\n",
       "      <td>Bangalore/Bengaluru</td>\n",
       "      <td>Not disclosed</td>\n",
       "    </tr>\n",
       "    <tr>\n",
       "      <th>13</th>\n",
       "      <td>Financial Data Analyst</td>\n",
       "      <td>Nuance India</td>\n",
       "      <td>3-8 Yrs</td>\n",
       "      <td>Bangalore/Bengaluru</td>\n",
       "      <td>Not disclosed</td>\n",
       "    </tr>\n",
       "    <tr>\n",
       "      <th>14</th>\n",
       "      <td>Data Analyst II</td>\n",
       "      <td>Cerner</td>\n",
       "      <td>2-4 Yrs</td>\n",
       "      <td>Bangalore/Bengaluru</td>\n",
       "      <td>Not disclosed</td>\n",
       "    </tr>\n",
       "    <tr>\n",
       "      <th>15</th>\n",
       "      <td>Senior Data Management Analyst</td>\n",
       "      <td>Wells Fargo</td>\n",
       "      <td>4-7 Yrs</td>\n",
       "      <td>Bangalore/Bengaluru</td>\n",
       "      <td>Not disclosed</td>\n",
       "    </tr>\n",
       "    <tr>\n",
       "      <th>16</th>\n",
       "      <td>Data Analyst - Python/Artificial Intelligence</td>\n",
       "      <td>iMindYourBusiness</td>\n",
       "      <td>0-2 Yrs</td>\n",
       "      <td>Bangalore/Bengaluru, Kolkata, Mumbai, Hyderaba...</td>\n",
       "      <td>Not disclosed</td>\n",
       "    </tr>\n",
       "    <tr>\n",
       "      <th>17</th>\n",
       "      <td>Performance Data Analyst</td>\n",
       "      <td>Fluence</td>\n",
       "      <td>2-5 Yrs</td>\n",
       "      <td>Bangalore/Bengaluru</td>\n",
       "      <td>Not disclosed</td>\n",
       "    </tr>\n",
       "    <tr>\n",
       "      <th>18</th>\n",
       "      <td>Happay - Data Analyst</td>\n",
       "      <td>Happay-Expense Management Solution for Businesses</td>\n",
       "      <td>1-2 Yrs</td>\n",
       "      <td>Bangalore/Bengaluru</td>\n",
       "      <td>Not disclosed</td>\n",
       "    </tr>\n",
       "    <tr>\n",
       "      <th>19</th>\n",
       "      <td>Data Analyst</td>\n",
       "      <td>Kititan Co., Ltd</td>\n",
       "      <td>5-10 Yrs</td>\n",
       "      <td>Bangalore/Bengaluru, Kolkata, New Delhi, Hyder...</td>\n",
       "      <td>50,000 - 1,00,000 PA.</td>\n",
       "    </tr>\n",
       "  </tbody>\n",
       "</table>\n",
       "</div>"
      ],
      "text/plain": [
       "                                            JOB TITLE  \\\n",
       "0                            Associate - Data Analyst   \n",
       "1                            Sr.Business Data Analyst   \n",
       "2                                     Sr Data Analyst   \n",
       "3                        Senior Data Analysis Analyst   \n",
       "4   Job opportunity For Data Analyst at Trellance ...   \n",
       "5                                        Data Analyst   \n",
       "6                                 Senior Data Analyst   \n",
       "7             Master Data Management Business Analyst   \n",
       "8                             Hiring For Data Analyst   \n",
       "9                                        Data Analyst   \n",
       "10                             Associate Data Analyst   \n",
       "11                             Associate Data Analyst   \n",
       "12                   Data Analyst/Senior Data Analyst   \n",
       "13                             Financial Data Analyst   \n",
       "14                                    Data Analyst II   \n",
       "15                     Senior Data Management Analyst   \n",
       "16      Data Analyst - Python/Artificial Intelligence   \n",
       "17                           Performance Data Analyst   \n",
       "18                              Happay - Data Analyst   \n",
       "19                                       Data Analyst   \n",
       "\n",
       "                                              COMPANY EXPERIENCE  \\\n",
       "0                                              Myntra    0-2 Yrs   \n",
       "1                                           Collabera   6-11 Yrs   \n",
       "2                                     Thomson Reuters    5-8 Yrs   \n",
       "3                                               Capco   7-12 Yrs   \n",
       "4                          CURise Analytics Pvt. Ltd.    0-2 Yrs   \n",
       "5                                     Thomson Reuters    2-3 Yrs   \n",
       "6                                            KrazyBee    3-6 Yrs   \n",
       "7                                           Accenture    6-8 Yrs   \n",
       "8                                            Flipkart    2-5 Yrs   \n",
       "9                                               Wipro    4-9 Yrs   \n",
       "10                                              Optum    2-7 Yrs   \n",
       "11                                              Optum    1-4 Yrs   \n",
       "12                                             Meesho    3-6 Yrs   \n",
       "13                                       Nuance India    3-8 Yrs   \n",
       "14                                             Cerner    2-4 Yrs   \n",
       "15                                        Wells Fargo    4-7 Yrs   \n",
       "16                                  iMindYourBusiness    0-2 Yrs   \n",
       "17                                            Fluence    2-5 Yrs   \n",
       "18  Happay-Expense Management Solution for Businesses    1-2 Yrs   \n",
       "19                                   Kititan Co., Ltd   5-10 Yrs   \n",
       "\n",
       "                                             LOCATION  \\\n",
       "0                                 Bangalore/Bengaluru   \n",
       "1   Bangalore/Bengaluru, karnataka\\n(WFH during Co...   \n",
       "2                                 Bangalore/Bengaluru   \n",
       "3                  Bangalore/Bengaluru, Pune, Chennai   \n",
       "4                      Bangalore/Bengaluru, Ahmedabad   \n",
       "5                                 Bangalore/Bengaluru   \n",
       "6                Bangalore/Bengaluru(Old Madras Road)   \n",
       "7                                 Bangalore/Bengaluru   \n",
       "8                                 Bangalore/Bengaluru   \n",
       "9   Bangalore/Bengaluru, Noida, Hyderabad/Secunder...   \n",
       "10                                Bangalore/Bengaluru   \n",
       "11                                Bangalore/Bengaluru   \n",
       "12                                Bangalore/Bengaluru   \n",
       "13                                Bangalore/Bengaluru   \n",
       "14                                Bangalore/Bengaluru   \n",
       "15                                Bangalore/Bengaluru   \n",
       "16  Bangalore/Bengaluru, Kolkata, Mumbai, Hyderaba...   \n",
       "17                                Bangalore/Bengaluru   \n",
       "18                                Bangalore/Bengaluru   \n",
       "19  Bangalore/Bengaluru, Kolkata, New Delhi, Hyder...   \n",
       "\n",
       "                       SALARY  \n",
       "0               Not disclosed  \n",
       "1               Not disclosed  \n",
       "2               Not disclosed  \n",
       "3   10,00,000 - 20,00,000 PA.  \n",
       "4               Not disclosed  \n",
       "5               Not disclosed  \n",
       "6               Not disclosed  \n",
       "7               Not disclosed  \n",
       "8     3,00,000 - 7,00,000 PA.  \n",
       "9               Not disclosed  \n",
       "10              Not disclosed  \n",
       "11              Not disclosed  \n",
       "12              Not disclosed  \n",
       "13              Not disclosed  \n",
       "14              Not disclosed  \n",
       "15              Not disclosed  \n",
       "16              Not disclosed  \n",
       "17              Not disclosed  \n",
       "18              Not disclosed  \n",
       "19      50,000 - 1,00,000 PA.  "
      ]
     },
     "execution_count": 28,
     "metadata": {},
     "output_type": "execute_result"
    }
   ],
   "source": [
    "# creating data frame\n",
    "job_df = pd.DataFrame()\n",
    "job_df['JOB TITLE'] = job_title\n",
    "job_df['COMPANY'] = company_name\n",
    "job_df['EXPERIENCE'] = experience\n",
    "job_df['LOCATION'] = location\n",
    "job_df['SALARY'] = salary\n",
    "job_df"
   ]
  },
  {
   "cell_type": "markdown",
   "id": "076bc404",
   "metadata": {},
   "source": [
    "## BUT WE ARE ASKED TO EXTRACT ONLY 10 DATA OUT OF  THE ABOVE DATA SET SO THE FINAL OUTPUT IS:"
   ]
  },
  {
   "cell_type": "code",
   "execution_count": 29,
   "id": "07adca46",
   "metadata": {},
   "outputs": [
    {
     "data": {
      "text/html": [
       "<div>\n",
       "<style scoped>\n",
       "    .dataframe tbody tr th:only-of-type {\n",
       "        vertical-align: middle;\n",
       "    }\n",
       "\n",
       "    .dataframe tbody tr th {\n",
       "        vertical-align: top;\n",
       "    }\n",
       "\n",
       "    .dataframe thead th {\n",
       "        text-align: right;\n",
       "    }\n",
       "</style>\n",
       "<table border=\"1\" class=\"dataframe\">\n",
       "  <thead>\n",
       "    <tr style=\"text-align: right;\">\n",
       "      <th></th>\n",
       "      <th>JOB TITLE</th>\n",
       "      <th>COMPANY</th>\n",
       "      <th>EXPERIENCE</th>\n",
       "      <th>LOCATION</th>\n",
       "      <th>SALARY</th>\n",
       "    </tr>\n",
       "  </thead>\n",
       "  <tbody>\n",
       "    <tr>\n",
       "      <th>0</th>\n",
       "      <td>Associate - Data Analyst</td>\n",
       "      <td>Myntra</td>\n",
       "      <td>0-2 Yrs</td>\n",
       "      <td>Bangalore/Bengaluru</td>\n",
       "      <td>Not disclosed</td>\n",
       "    </tr>\n",
       "    <tr>\n",
       "      <th>1</th>\n",
       "      <td>Sr.Business Data Analyst</td>\n",
       "      <td>Collabera</td>\n",
       "      <td>6-11 Yrs</td>\n",
       "      <td>Bangalore/Bengaluru, karnataka\\n(WFH during Co...</td>\n",
       "      <td>Not disclosed</td>\n",
       "    </tr>\n",
       "    <tr>\n",
       "      <th>2</th>\n",
       "      <td>Sr Data Analyst</td>\n",
       "      <td>Thomson Reuters</td>\n",
       "      <td>5-8 Yrs</td>\n",
       "      <td>Bangalore/Bengaluru</td>\n",
       "      <td>Not disclosed</td>\n",
       "    </tr>\n",
       "    <tr>\n",
       "      <th>3</th>\n",
       "      <td>Senior Data Analysis Analyst</td>\n",
       "      <td>Capco</td>\n",
       "      <td>7-12 Yrs</td>\n",
       "      <td>Bangalore/Bengaluru, Pune, Chennai</td>\n",
       "      <td>10,00,000 - 20,00,000 PA.</td>\n",
       "    </tr>\n",
       "    <tr>\n",
       "      <th>4</th>\n",
       "      <td>Job opportunity For Data Analyst at Trellance ...</td>\n",
       "      <td>CURise Analytics Pvt. Ltd.</td>\n",
       "      <td>0-2 Yrs</td>\n",
       "      <td>Bangalore/Bengaluru, Ahmedabad</td>\n",
       "      <td>Not disclosed</td>\n",
       "    </tr>\n",
       "    <tr>\n",
       "      <th>5</th>\n",
       "      <td>Data Analyst</td>\n",
       "      <td>Thomson Reuters</td>\n",
       "      <td>2-3 Yrs</td>\n",
       "      <td>Bangalore/Bengaluru</td>\n",
       "      <td>Not disclosed</td>\n",
       "    </tr>\n",
       "    <tr>\n",
       "      <th>6</th>\n",
       "      <td>Senior Data Analyst</td>\n",
       "      <td>KrazyBee</td>\n",
       "      <td>3-6 Yrs</td>\n",
       "      <td>Bangalore/Bengaluru(Old Madras Road)</td>\n",
       "      <td>Not disclosed</td>\n",
       "    </tr>\n",
       "    <tr>\n",
       "      <th>7</th>\n",
       "      <td>Master Data Management Business Analyst</td>\n",
       "      <td>Accenture</td>\n",
       "      <td>6-8 Yrs</td>\n",
       "      <td>Bangalore/Bengaluru</td>\n",
       "      <td>Not disclosed</td>\n",
       "    </tr>\n",
       "    <tr>\n",
       "      <th>8</th>\n",
       "      <td>Hiring For Data Analyst</td>\n",
       "      <td>Flipkart</td>\n",
       "      <td>2-5 Yrs</td>\n",
       "      <td>Bangalore/Bengaluru</td>\n",
       "      <td>3,00,000 - 7,00,000 PA.</td>\n",
       "    </tr>\n",
       "    <tr>\n",
       "      <th>9</th>\n",
       "      <td>Data Analyst</td>\n",
       "      <td>Wipro</td>\n",
       "      <td>4-9 Yrs</td>\n",
       "      <td>Bangalore/Bengaluru, Noida, Hyderabad/Secunder...</td>\n",
       "      <td>Not disclosed</td>\n",
       "    </tr>\n",
       "  </tbody>\n",
       "</table>\n",
       "</div>"
      ],
      "text/plain": [
       "                                           JOB TITLE  \\\n",
       "0                           Associate - Data Analyst   \n",
       "1                           Sr.Business Data Analyst   \n",
       "2                                    Sr Data Analyst   \n",
       "3                       Senior Data Analysis Analyst   \n",
       "4  Job opportunity For Data Analyst at Trellance ...   \n",
       "5                                       Data Analyst   \n",
       "6                                Senior Data Analyst   \n",
       "7            Master Data Management Business Analyst   \n",
       "8                            Hiring For Data Analyst   \n",
       "9                                       Data Analyst   \n",
       "\n",
       "                      COMPANY EXPERIENCE  \\\n",
       "0                      Myntra    0-2 Yrs   \n",
       "1                   Collabera   6-11 Yrs   \n",
       "2             Thomson Reuters    5-8 Yrs   \n",
       "3                       Capco   7-12 Yrs   \n",
       "4  CURise Analytics Pvt. Ltd.    0-2 Yrs   \n",
       "5             Thomson Reuters    2-3 Yrs   \n",
       "6                    KrazyBee    3-6 Yrs   \n",
       "7                   Accenture    6-8 Yrs   \n",
       "8                    Flipkart    2-5 Yrs   \n",
       "9                       Wipro    4-9 Yrs   \n",
       "\n",
       "                                            LOCATION  \\\n",
       "0                                Bangalore/Bengaluru   \n",
       "1  Bangalore/Bengaluru, karnataka\\n(WFH during Co...   \n",
       "2                                Bangalore/Bengaluru   \n",
       "3                 Bangalore/Bengaluru, Pune, Chennai   \n",
       "4                     Bangalore/Bengaluru, Ahmedabad   \n",
       "5                                Bangalore/Bengaluru   \n",
       "6               Bangalore/Bengaluru(Old Madras Road)   \n",
       "7                                Bangalore/Bengaluru   \n",
       "8                                Bangalore/Bengaluru   \n",
       "9  Bangalore/Bengaluru, Noida, Hyderabad/Secunder...   \n",
       "\n",
       "                      SALARY  \n",
       "0              Not disclosed  \n",
       "1              Not disclosed  \n",
       "2              Not disclosed  \n",
       "3  10,00,000 - 20,00,000 PA.  \n",
       "4              Not disclosed  \n",
       "5              Not disclosed  \n",
       "6              Not disclosed  \n",
       "7              Not disclosed  \n",
       "8    3,00,000 - 7,00,000 PA.  \n",
       "9              Not disclosed  "
      ]
     },
     "execution_count": 29,
     "metadata": {},
     "output_type": "execute_result"
    }
   ],
   "source": [
    "job_df[0:10]"
   ]
  },
  {
   "cell_type": "markdown",
   "id": "0876a16a",
   "metadata": {},
   "source": [
    "## Q2: Write a python program to scrape data for “Data Scientist” Job position in “Bangalore” location. \n",
    "You have to scrape the job-title, job-location, company_name. You have to scrape first 10 jobs data.\n",
    "This task will be done in following steps:\n",
    "1. First get the webpage https://www.naukri.com/\n",
    "2. Enter “Data Scientist” in “Skill, Designations, Companies” field and enter “Bangalore” in “enter the\n",
    "location” field.\n",
    "3. Then click the search button.\n",
    "4. Then scrape the data for the first 10 jobs results you get.\n",
    "5. Finally create a dataframe of the scraped data.\n",
    "Note: All of the above steps have to be done in code. No step is to be done manually. # "
   ]
  },
  {
   "cell_type": "code",
   "execution_count": 30,
   "id": "d15c7b06",
   "metadata": {},
   "outputs": [],
   "source": [
    "#fetching chromedriver\n",
    "driver = webdriver.Chrome(r'C:\\Users\\nidsi\\Downloads\\chromedriver_win32\\chromedriver.exe')"
   ]
  },
  {
   "cell_type": "code",
   "execution_count": 31,
   "id": "bebf74c3",
   "metadata": {},
   "outputs": [],
   "source": [
    "url = 'https://www.naukri.com/'\n",
    "driver.get(url)"
   ]
  },
  {
   "cell_type": "code",
   "execution_count": 32,
   "id": "8f195b2a",
   "metadata": {},
   "outputs": [
    {
     "data": {
      "text/plain": [
       "<selenium.webdriver.remote.webelement.WebElement (session=\"f6e8f61e6ee455c4b7d51444cae631fe\", element=\"ffa8fb99-d98c-44bd-8a97-979295af3f31\")>"
      ]
     },
     "execution_count": 32,
     "metadata": {},
     "output_type": "execute_result"
    }
   ],
   "source": [
    "#searching for web elements  for search job bar usng id\n",
    "search_jobs = driver.find_element(By.CLASS_NAME,\"suggestor-input\")\n",
    "search_jobs"
   ]
  },
  {
   "cell_type": "code",
   "execution_count": 33,
   "id": "bde0388c",
   "metadata": {},
   "outputs": [],
   "source": [
    "#SEARCHING FOR DESIRED DESIGNATION\n",
    "search_jobs.send_keys(\"Data Scientist\")"
   ]
  },
  {
   "cell_type": "code",
   "execution_count": 34,
   "id": "2830f938",
   "metadata": {},
   "outputs": [],
   "source": [
    "#SEARCHING FOR DESIRED LOCATION\n",
    "search_locn = driver.find_element(By.XPATH,\"/html/body/div[1]/div[2]/div[3]/div/div/div[5]/div/div/div/input\")\n",
    "search_locn.send_keys(\"Bangalore\")"
   ]
  },
  {
   "cell_type": "code",
   "execution_count": 35,
   "id": "40a55dd3",
   "metadata": {},
   "outputs": [],
   "source": [
    "#clicking on search button\n",
    "search_btn = driver.find_element(By.XPATH,\"/html/body/div[1]/div[2]/div[3]/div/div/div[6]\")\n",
    "search_btn.click()"
   ]
  },
  {
   "cell_type": "markdown",
   "id": "7e005de0",
   "metadata": {},
   "source": [
    "## EXTRACTING DESIRED DATA "
   ]
  },
  {
   "cell_type": "markdown",
   "id": "9ed1664a",
   "metadata": {},
   "source": [
    "EXTRACTING JOB TITLES"
   ]
  },
  {
   "cell_type": "code",
   "execution_count": 36,
   "id": "9c488698",
   "metadata": {},
   "outputs": [
    {
     "data": {
      "text/plain": [
       "20"
      ]
     },
     "execution_count": 36,
     "metadata": {},
     "output_type": "execute_result"
    }
   ],
   "source": [
    "title_tag =driver.find_elements(By.XPATH,'//a[@class=\"title fw500 ellipsis\"]')\n",
    "len(title_tag)"
   ]
  },
  {
   "cell_type": "code",
   "execution_count": 37,
   "id": "4316aad9",
   "metadata": {},
   "outputs": [
    {
     "data": {
      "text/plain": [
       "20"
      ]
     },
     "execution_count": 37,
     "metadata": {},
     "output_type": "execute_result"
    }
   ],
   "source": [
    "Job_title = []\n",
    "\n",
    "for i in title_tag:\n",
    "    Job_title.append(i.text)\n",
    "len(Job_title)"
   ]
  },
  {
   "cell_type": "code",
   "execution_count": 38,
   "id": "c877506a",
   "metadata": {},
   "outputs": [
    {
     "data": {
      "text/plain": [
       "['Urgent Job Opening For AI Practitioner - Data Science at Wipro Holmes',\n",
       " 'Hiring For Senior Data Scientist',\n",
       " 'Dataiku Consultant',\n",
       " 'Data Scientist',\n",
       " 'Data & Analytics Tech - Informatica Cloud- Senior Associate',\n",
       " 'Data Scientist: Advanced Analytics',\n",
       " 'Research Scientist',\n",
       " 'Principal - Data Scientist',\n",
       " 'Research and Development -AI/ML -(PhD )',\n",
       " 'Opportunity For Data Scientist - Female Candidates ONLY',\n",
       " 'Senior Data Science Engineer',\n",
       " 'Data Science - Engineering Manager',\n",
       " 'Data Scientist',\n",
       " 'EY GBS - Assistant Director - Data Science (10+ years), Bangalore',\n",
       " 'Data Scientist',\n",
       " 'Data Scientist, Personalization',\n",
       " 'AWS Sagemaker',\n",
       " 'Data Scientist',\n",
       " 'Data Scientist: Artificial Intelligence',\n",
       " 'Data Scientist - IN3']"
      ]
     },
     "execution_count": 38,
     "metadata": {},
     "output_type": "execute_result"
    }
   ],
   "source": [
    "Job_title"
   ]
  },
  {
   "cell_type": "markdown",
   "id": "39a8b2ae",
   "metadata": {},
   "source": [
    "EXTRACTING COMPANY NAME"
   ]
  },
  {
   "cell_type": "code",
   "execution_count": 39,
   "id": "5534b94c",
   "metadata": {},
   "outputs": [
    {
     "data": {
      "text/plain": [
       "20"
      ]
     },
     "execution_count": 39,
     "metadata": {},
     "output_type": "execute_result"
    }
   ],
   "source": [
    "company_tags =driver.find_elements(By.XPATH,'//a[@class=\"subTitle ellipsis fleft\"]')\n",
    "len(company_tags)"
   ]
  },
  {
   "cell_type": "code",
   "execution_count": 40,
   "id": "e61ce917",
   "metadata": {},
   "outputs": [
    {
     "data": {
      "text/plain": [
       "['Wipro',\n",
       " 'TATA CONSULTANCY SERVICES (TCS)',\n",
       " 'Wipro',\n",
       " 'Applied Materials',\n",
       " 'PwC',\n",
       " 'IBM',\n",
       " 'IBM',\n",
       " 'Schneider Electric',\n",
       " 'EXL',\n",
       " 'PayU',\n",
       " 'Fractal Analytics',\n",
       " 'Paytm',\n",
       " 'UPL',\n",
       " 'EYGBS',\n",
       " 'IBM',\n",
       " 'Walmart',\n",
       " 'Wipro',\n",
       " 'Wipro',\n",
       " 'IBM',\n",
       " 'Walmart']"
      ]
     },
     "execution_count": 40,
     "metadata": {},
     "output_type": "execute_result"
    }
   ],
   "source": [
    "Company_name = []\n",
    "\n",
    "for i in company_tags:\n",
    "    Company_name.append(i.text)\n",
    "Company_name"
   ]
  },
  {
   "cell_type": "markdown",
   "id": "800338a7",
   "metadata": {},
   "source": [
    "EXTRACTING EXPERIENCE"
   ]
  },
  {
   "cell_type": "code",
   "execution_count": 41,
   "id": "5aad5ed2",
   "metadata": {},
   "outputs": [
    {
     "data": {
      "text/plain": [
       "20"
      ]
     },
     "execution_count": 41,
     "metadata": {},
     "output_type": "execute_result"
    }
   ],
   "source": [
    "Experience_tags = driver.find_elements(By.XPATH,'//li[@class=\"fleft grey-text br2 placeHolderLi experience\"]')\n",
    "len(Experience_tags)"
   ]
  },
  {
   "cell_type": "code",
   "execution_count": 42,
   "id": "770fdbcc",
   "metadata": {},
   "outputs": [
    {
     "data": {
      "text/plain": [
       "['11-21 Yrs',\n",
       " '8-13 Yrs',\n",
       " '10-16 Yrs',\n",
       " '4-7 Yrs',\n",
       " '6-10 Yrs',\n",
       " '2-7 Yrs',\n",
       " '3-7 Yrs',\n",
       " '7-10 Yrs',\n",
       " '4-8 Yrs',\n",
       " '1-3 Yrs',\n",
       " '5-9 Yrs',\n",
       " '9-13 Yrs',\n",
       " '1-4 Yrs',\n",
       " '10-17 Yrs',\n",
       " '5-10 Yrs',\n",
       " '3-6 Yrs',\n",
       " '7-12 Yrs',\n",
       " '9-14 Yrs',\n",
       " '3-7 Yrs',\n",
       " '2-5 Yrs']"
      ]
     },
     "execution_count": 42,
     "metadata": {},
     "output_type": "execute_result"
    }
   ],
   "source": [
    "Experience = []\n",
    "\n",
    "for i in Experience_tags:\n",
    "    Experience.append(i.text)\n",
    "Experience"
   ]
  },
  {
   "cell_type": "markdown",
   "id": "79f13efe",
   "metadata": {},
   "source": [
    "EXTRACTING LOCATION"
   ]
  },
  {
   "cell_type": "code",
   "execution_count": 43,
   "id": "7f713b02",
   "metadata": {},
   "outputs": [
    {
     "data": {
      "text/plain": [
       "20"
      ]
     },
     "execution_count": 43,
     "metadata": {},
     "output_type": "execute_result"
    }
   ],
   "source": [
    "Location_tags = driver.find_elements(By.XPATH,'//li[@class=\"fleft grey-text br2 placeHolderLi location\"]')\n",
    "len(Location_tags)"
   ]
  },
  {
   "cell_type": "code",
   "execution_count": 44,
   "id": "9c2a2614",
   "metadata": {},
   "outputs": [
    {
     "data": {
      "text/plain": [
       "['Bangalore/Bengaluru, Kochi/Cochin, New Delhi, Coimbatore, Chennai, Pune, Mumbai, Hyderabad',\n",
       " 'Bangalore/Bengaluru, Pune',\n",
       " 'Bangalore/Bengaluru, Pune, Chennai',\n",
       " 'Bangalore/Bengaluru',\n",
       " 'Bangalore/Bengaluru',\n",
       " 'Bangalore/Bengaluru',\n",
       " 'Bangalore/Bengaluru',\n",
       " 'Bangalore/Bengaluru',\n",
       " 'Bangalore/Bengaluru, Noida, Hyderabad/Secunderabad, Pune, Gurgaon/Gurugram, Chennai, Delhi / NCR',\n",
       " 'Bangalore/Bengaluru, Gurgaon/Gurugram, Mumbai (All Areas)',\n",
       " 'Bangalore/Bengaluru, Gurgaon/Gurugram, Mumbai (All Areas)',\n",
       " 'Bangalore/Bengaluru, Noida, Mumbai',\n",
       " 'Bangalore/Bengaluru, Mumbai (All Areas)',\n",
       " 'Bangalore/Bengaluru',\n",
       " 'Bangalore/Bengaluru',\n",
       " 'Bangalore/Bengaluru',\n",
       " 'Bangalore/Bengaluru\\n(WFH during Covid)',\n",
       " 'Bangalore/Bengaluru\\n(WFH during Covid)',\n",
       " 'Bangalore/Bengaluru',\n",
       " 'Bangalore/Bengaluru']"
      ]
     },
     "execution_count": 44,
     "metadata": {},
     "output_type": "execute_result"
    }
   ],
   "source": [
    "Location = []\n",
    "\n",
    "for i in Location_tags:\n",
    "    Location.append(i.text)\n",
    "Location"
   ]
  },
  {
   "cell_type": "markdown",
   "id": "e1e5c909",
   "metadata": {},
   "source": [
    "EXTRACTING SALARY"
   ]
  },
  {
   "cell_type": "code",
   "execution_count": 45,
   "id": "c56a274c",
   "metadata": {},
   "outputs": [
    {
     "data": {
      "text/plain": [
       "20"
      ]
     },
     "execution_count": 45,
     "metadata": {},
     "output_type": "execute_result"
    }
   ],
   "source": [
    "Salary_tags = driver.find_elements(By.XPATH,'//li[@class=\"fleft grey-text br2 placeHolderLi salary\"]')\n",
    "len(Salary_tags)"
   ]
  },
  {
   "cell_type": "code",
   "execution_count": 46,
   "id": "2c84f446",
   "metadata": {},
   "outputs": [
    {
     "data": {
      "text/plain": [
       "['Not disclosed',\n",
       " 'Not disclosed',\n",
       " 'Not disclosed',\n",
       " 'Not disclosed',\n",
       " 'Not disclosed',\n",
       " 'Not disclosed',\n",
       " 'Not disclosed',\n",
       " 'Not disclosed',\n",
       " 'Not disclosed',\n",
       " 'Not disclosed',\n",
       " 'Not disclosed',\n",
       " 'Not disclosed',\n",
       " 'Not disclosed',\n",
       " '35,00,000 - 50,00,000 PA.',\n",
       " 'Not disclosed',\n",
       " 'Not disclosed',\n",
       " '20,00,000 - 30,00,000 PA.',\n",
       " '20,00,000 - 35,00,000 PA.',\n",
       " 'Not disclosed',\n",
       " 'Not disclosed']"
      ]
     },
     "execution_count": 46,
     "metadata": {},
     "output_type": "execute_result"
    }
   ],
   "source": [
    "Salary = []\n",
    "\n",
    "for i in Salary_tags:\n",
    "    Salary.append(i.text)\n",
    "Salary"
   ]
  },
  {
   "cell_type": "markdown",
   "id": "a4e4f7f1",
   "metadata": {},
   "source": [
    "Checking length of all extracted data to make an exact data frame  "
   ]
  },
  {
   "cell_type": "code",
   "execution_count": 47,
   "id": "ace414e6",
   "metadata": {},
   "outputs": [
    {
     "data": {
      "text/plain": [
       "(20, 20, 20, 20, 20)"
      ]
     },
     "execution_count": 47,
     "metadata": {},
     "output_type": "execute_result"
    }
   ],
   "source": [
    "len(Job_title),len(Company_name),len(Experience),len(Location),len(Salary)"
   ]
  },
  {
   "cell_type": "markdown",
   "id": "20a9d6ed",
   "metadata": {},
   "source": [
    "MAKING DATA FRAME OF SCRAPPED(EXTRACTED) DATA"
   ]
  },
  {
   "cell_type": "code",
   "execution_count": 48,
   "id": "10903bfd",
   "metadata": {},
   "outputs": [
    {
     "data": {
      "text/html": [
       "<div>\n",
       "<style scoped>\n",
       "    .dataframe tbody tr th:only-of-type {\n",
       "        vertical-align: middle;\n",
       "    }\n",
       "\n",
       "    .dataframe tbody tr th {\n",
       "        vertical-align: top;\n",
       "    }\n",
       "\n",
       "    .dataframe thead th {\n",
       "        text-align: right;\n",
       "    }\n",
       "</style>\n",
       "<table border=\"1\" class=\"dataframe\">\n",
       "  <thead>\n",
       "    <tr style=\"text-align: right;\">\n",
       "      <th></th>\n",
       "      <th>JOB TITLE</th>\n",
       "      <th>COMPANY</th>\n",
       "      <th>EXPERIENCE</th>\n",
       "      <th>LOCATION</th>\n",
       "      <th>SALARY</th>\n",
       "    </tr>\n",
       "  </thead>\n",
       "  <tbody>\n",
       "    <tr>\n",
       "      <th>0</th>\n",
       "      <td>Urgent Job Opening For AI Practitioner - Data ...</td>\n",
       "      <td>Wipro</td>\n",
       "      <td>11-21 Yrs</td>\n",
       "      <td>Bangalore/Bengaluru, Kochi/Cochin, New Delhi, ...</td>\n",
       "      <td>Not disclosed</td>\n",
       "    </tr>\n",
       "    <tr>\n",
       "      <th>1</th>\n",
       "      <td>Hiring For Senior Data Scientist</td>\n",
       "      <td>TATA CONSULTANCY SERVICES (TCS)</td>\n",
       "      <td>8-13 Yrs</td>\n",
       "      <td>Bangalore/Bengaluru, Pune</td>\n",
       "      <td>Not disclosed</td>\n",
       "    </tr>\n",
       "    <tr>\n",
       "      <th>2</th>\n",
       "      <td>Dataiku Consultant</td>\n",
       "      <td>Wipro</td>\n",
       "      <td>10-16 Yrs</td>\n",
       "      <td>Bangalore/Bengaluru, Pune, Chennai</td>\n",
       "      <td>Not disclosed</td>\n",
       "    </tr>\n",
       "    <tr>\n",
       "      <th>3</th>\n",
       "      <td>Data Scientist</td>\n",
       "      <td>Applied Materials</td>\n",
       "      <td>4-7 Yrs</td>\n",
       "      <td>Bangalore/Bengaluru</td>\n",
       "      <td>Not disclosed</td>\n",
       "    </tr>\n",
       "    <tr>\n",
       "      <th>4</th>\n",
       "      <td>Data &amp; Analytics Tech - Informatica Cloud- Sen...</td>\n",
       "      <td>PwC</td>\n",
       "      <td>6-10 Yrs</td>\n",
       "      <td>Bangalore/Bengaluru</td>\n",
       "      <td>Not disclosed</td>\n",
       "    </tr>\n",
       "    <tr>\n",
       "      <th>5</th>\n",
       "      <td>Data Scientist: Advanced Analytics</td>\n",
       "      <td>IBM</td>\n",
       "      <td>2-7 Yrs</td>\n",
       "      <td>Bangalore/Bengaluru</td>\n",
       "      <td>Not disclosed</td>\n",
       "    </tr>\n",
       "    <tr>\n",
       "      <th>6</th>\n",
       "      <td>Research Scientist</td>\n",
       "      <td>IBM</td>\n",
       "      <td>3-7 Yrs</td>\n",
       "      <td>Bangalore/Bengaluru</td>\n",
       "      <td>Not disclosed</td>\n",
       "    </tr>\n",
       "    <tr>\n",
       "      <th>7</th>\n",
       "      <td>Principal - Data Scientist</td>\n",
       "      <td>Schneider Electric</td>\n",
       "      <td>7-10 Yrs</td>\n",
       "      <td>Bangalore/Bengaluru</td>\n",
       "      <td>Not disclosed</td>\n",
       "    </tr>\n",
       "    <tr>\n",
       "      <th>8</th>\n",
       "      <td>Research and Development -AI/ML -(PhD )</td>\n",
       "      <td>EXL</td>\n",
       "      <td>4-8 Yrs</td>\n",
       "      <td>Bangalore/Bengaluru, Noida, Hyderabad/Secunder...</td>\n",
       "      <td>Not disclosed</td>\n",
       "    </tr>\n",
       "    <tr>\n",
       "      <th>9</th>\n",
       "      <td>Opportunity For Data Scientist - Female Candid...</td>\n",
       "      <td>PayU</td>\n",
       "      <td>1-3 Yrs</td>\n",
       "      <td>Bangalore/Bengaluru, Gurgaon/Gurugram, Mumbai ...</td>\n",
       "      <td>Not disclosed</td>\n",
       "    </tr>\n",
       "    <tr>\n",
       "      <th>10</th>\n",
       "      <td>Senior Data Science Engineer</td>\n",
       "      <td>Fractal Analytics</td>\n",
       "      <td>5-9 Yrs</td>\n",
       "      <td>Bangalore/Bengaluru, Gurgaon/Gurugram, Mumbai ...</td>\n",
       "      <td>Not disclosed</td>\n",
       "    </tr>\n",
       "    <tr>\n",
       "      <th>11</th>\n",
       "      <td>Data Science - Engineering Manager</td>\n",
       "      <td>Paytm</td>\n",
       "      <td>9-13 Yrs</td>\n",
       "      <td>Bangalore/Bengaluru, Noida, Mumbai</td>\n",
       "      <td>Not disclosed</td>\n",
       "    </tr>\n",
       "    <tr>\n",
       "      <th>12</th>\n",
       "      <td>Data Scientist</td>\n",
       "      <td>UPL</td>\n",
       "      <td>1-4 Yrs</td>\n",
       "      <td>Bangalore/Bengaluru, Mumbai (All Areas)</td>\n",
       "      <td>Not disclosed</td>\n",
       "    </tr>\n",
       "    <tr>\n",
       "      <th>13</th>\n",
       "      <td>EY GBS - Assistant Director - Data Science (10...</td>\n",
       "      <td>EYGBS</td>\n",
       "      <td>10-17 Yrs</td>\n",
       "      <td>Bangalore/Bengaluru</td>\n",
       "      <td>35,00,000 - 50,00,000 PA.</td>\n",
       "    </tr>\n",
       "    <tr>\n",
       "      <th>14</th>\n",
       "      <td>Data Scientist</td>\n",
       "      <td>IBM</td>\n",
       "      <td>5-10 Yrs</td>\n",
       "      <td>Bangalore/Bengaluru</td>\n",
       "      <td>Not disclosed</td>\n",
       "    </tr>\n",
       "    <tr>\n",
       "      <th>15</th>\n",
       "      <td>Data Scientist, Personalization</td>\n",
       "      <td>Walmart</td>\n",
       "      <td>3-6 Yrs</td>\n",
       "      <td>Bangalore/Bengaluru</td>\n",
       "      <td>Not disclosed</td>\n",
       "    </tr>\n",
       "    <tr>\n",
       "      <th>16</th>\n",
       "      <td>AWS Sagemaker</td>\n",
       "      <td>Wipro</td>\n",
       "      <td>7-12 Yrs</td>\n",
       "      <td>Bangalore/Bengaluru\\n(WFH during Covid)</td>\n",
       "      <td>20,00,000 - 30,00,000 PA.</td>\n",
       "    </tr>\n",
       "    <tr>\n",
       "      <th>17</th>\n",
       "      <td>Data Scientist</td>\n",
       "      <td>Wipro</td>\n",
       "      <td>9-14 Yrs</td>\n",
       "      <td>Bangalore/Bengaluru\\n(WFH during Covid)</td>\n",
       "      <td>20,00,000 - 35,00,000 PA.</td>\n",
       "    </tr>\n",
       "    <tr>\n",
       "      <th>18</th>\n",
       "      <td>Data Scientist: Artificial Intelligence</td>\n",
       "      <td>IBM</td>\n",
       "      <td>3-7 Yrs</td>\n",
       "      <td>Bangalore/Bengaluru</td>\n",
       "      <td>Not disclosed</td>\n",
       "    </tr>\n",
       "    <tr>\n",
       "      <th>19</th>\n",
       "      <td>Data Scientist - IN3</td>\n",
       "      <td>Walmart</td>\n",
       "      <td>2-5 Yrs</td>\n",
       "      <td>Bangalore/Bengaluru</td>\n",
       "      <td>Not disclosed</td>\n",
       "    </tr>\n",
       "  </tbody>\n",
       "</table>\n",
       "</div>"
      ],
      "text/plain": [
       "                                            JOB TITLE  \\\n",
       "0   Urgent Job Opening For AI Practitioner - Data ...   \n",
       "1                    Hiring For Senior Data Scientist   \n",
       "2                                  Dataiku Consultant   \n",
       "3                                      Data Scientist   \n",
       "4   Data & Analytics Tech - Informatica Cloud- Sen...   \n",
       "5                  Data Scientist: Advanced Analytics   \n",
       "6                                  Research Scientist   \n",
       "7                          Principal - Data Scientist   \n",
       "8             Research and Development -AI/ML -(PhD )   \n",
       "9   Opportunity For Data Scientist - Female Candid...   \n",
       "10                       Senior Data Science Engineer   \n",
       "11                 Data Science - Engineering Manager   \n",
       "12                                     Data Scientist   \n",
       "13  EY GBS - Assistant Director - Data Science (10...   \n",
       "14                                     Data Scientist   \n",
       "15                    Data Scientist, Personalization   \n",
       "16                                      AWS Sagemaker   \n",
       "17                                     Data Scientist   \n",
       "18            Data Scientist: Artificial Intelligence   \n",
       "19                               Data Scientist - IN3   \n",
       "\n",
       "                            COMPANY EXPERIENCE  \\\n",
       "0                             Wipro  11-21 Yrs   \n",
       "1   TATA CONSULTANCY SERVICES (TCS)   8-13 Yrs   \n",
       "2                             Wipro  10-16 Yrs   \n",
       "3                 Applied Materials    4-7 Yrs   \n",
       "4                               PwC   6-10 Yrs   \n",
       "5                               IBM    2-7 Yrs   \n",
       "6                               IBM    3-7 Yrs   \n",
       "7                Schneider Electric   7-10 Yrs   \n",
       "8                               EXL    4-8 Yrs   \n",
       "9                              PayU    1-3 Yrs   \n",
       "10                Fractal Analytics    5-9 Yrs   \n",
       "11                            Paytm   9-13 Yrs   \n",
       "12                              UPL    1-4 Yrs   \n",
       "13                            EYGBS  10-17 Yrs   \n",
       "14                              IBM   5-10 Yrs   \n",
       "15                          Walmart    3-6 Yrs   \n",
       "16                            Wipro   7-12 Yrs   \n",
       "17                            Wipro   9-14 Yrs   \n",
       "18                              IBM    3-7 Yrs   \n",
       "19                          Walmart    2-5 Yrs   \n",
       "\n",
       "                                             LOCATION  \\\n",
       "0   Bangalore/Bengaluru, Kochi/Cochin, New Delhi, ...   \n",
       "1                           Bangalore/Bengaluru, Pune   \n",
       "2                  Bangalore/Bengaluru, Pune, Chennai   \n",
       "3                                 Bangalore/Bengaluru   \n",
       "4                                 Bangalore/Bengaluru   \n",
       "5                                 Bangalore/Bengaluru   \n",
       "6                                 Bangalore/Bengaluru   \n",
       "7                                 Bangalore/Bengaluru   \n",
       "8   Bangalore/Bengaluru, Noida, Hyderabad/Secunder...   \n",
       "9   Bangalore/Bengaluru, Gurgaon/Gurugram, Mumbai ...   \n",
       "10  Bangalore/Bengaluru, Gurgaon/Gurugram, Mumbai ...   \n",
       "11                 Bangalore/Bengaluru, Noida, Mumbai   \n",
       "12            Bangalore/Bengaluru, Mumbai (All Areas)   \n",
       "13                                Bangalore/Bengaluru   \n",
       "14                                Bangalore/Bengaluru   \n",
       "15                                Bangalore/Bengaluru   \n",
       "16            Bangalore/Bengaluru\\n(WFH during Covid)   \n",
       "17            Bangalore/Bengaluru\\n(WFH during Covid)   \n",
       "18                                Bangalore/Bengaluru   \n",
       "19                                Bangalore/Bengaluru   \n",
       "\n",
       "                       SALARY  \n",
       "0               Not disclosed  \n",
       "1               Not disclosed  \n",
       "2               Not disclosed  \n",
       "3               Not disclosed  \n",
       "4               Not disclosed  \n",
       "5               Not disclosed  \n",
       "6               Not disclosed  \n",
       "7               Not disclosed  \n",
       "8               Not disclosed  \n",
       "9               Not disclosed  \n",
       "10              Not disclosed  \n",
       "11              Not disclosed  \n",
       "12              Not disclosed  \n",
       "13  35,00,000 - 50,00,000 PA.  \n",
       "14              Not disclosed  \n",
       "15              Not disclosed  \n",
       "16  20,00,000 - 30,00,000 PA.  \n",
       "17  20,00,000 - 35,00,000 PA.  \n",
       "18              Not disclosed  \n",
       "19              Not disclosed  "
      ]
     },
     "execution_count": 48,
     "metadata": {},
     "output_type": "execute_result"
    }
   ],
   "source": [
    "# CREATING DATA FRAME\n",
    "job_df1 = pd.DataFrame()\n",
    "job_df1['JOB TITLE'] = Job_title\n",
    "job_df1['COMPANY'] = Company_name\n",
    "job_df1['EXPERIENCE'] = Experience\n",
    "job_df1['LOCATION'] = Location\n",
    "job_df1['SALARY'] = Salary\n",
    "job_df1"
   ]
  },
  {
   "cell_type": "markdown",
   "id": "c3236903",
   "metadata": {},
   "source": [
    "# BUT WE ARE ASKED TO EXTRACT ONLY 10 DATA OUT OF  THE ABOVE DATA SET SO THE FINAL OUTPUT IS:\n"
   ]
  },
  {
   "cell_type": "code",
   "execution_count": 50,
   "id": "d02c318a",
   "metadata": {},
   "outputs": [
    {
     "data": {
      "text/html": [
       "<div>\n",
       "<style scoped>\n",
       "    .dataframe tbody tr th:only-of-type {\n",
       "        vertical-align: middle;\n",
       "    }\n",
       "\n",
       "    .dataframe tbody tr th {\n",
       "        vertical-align: top;\n",
       "    }\n",
       "\n",
       "    .dataframe thead th {\n",
       "        text-align: right;\n",
       "    }\n",
       "</style>\n",
       "<table border=\"1\" class=\"dataframe\">\n",
       "  <thead>\n",
       "    <tr style=\"text-align: right;\">\n",
       "      <th></th>\n",
       "      <th>JOB TITLE</th>\n",
       "      <th>COMPANY</th>\n",
       "      <th>EXPERIENCE</th>\n",
       "      <th>LOCATION</th>\n",
       "      <th>SALARY</th>\n",
       "    </tr>\n",
       "  </thead>\n",
       "  <tbody>\n",
       "    <tr>\n",
       "      <th>0</th>\n",
       "      <td>Urgent Job Opening For AI Practitioner - Data ...</td>\n",
       "      <td>Wipro</td>\n",
       "      <td>11-21 Yrs</td>\n",
       "      <td>Bangalore/Bengaluru, Kochi/Cochin, New Delhi, ...</td>\n",
       "      <td>Not disclosed</td>\n",
       "    </tr>\n",
       "    <tr>\n",
       "      <th>1</th>\n",
       "      <td>Hiring For Senior Data Scientist</td>\n",
       "      <td>TATA CONSULTANCY SERVICES (TCS)</td>\n",
       "      <td>8-13 Yrs</td>\n",
       "      <td>Bangalore/Bengaluru, Pune</td>\n",
       "      <td>Not disclosed</td>\n",
       "    </tr>\n",
       "    <tr>\n",
       "      <th>2</th>\n",
       "      <td>Dataiku Consultant</td>\n",
       "      <td>Wipro</td>\n",
       "      <td>10-16 Yrs</td>\n",
       "      <td>Bangalore/Bengaluru, Pune, Chennai</td>\n",
       "      <td>Not disclosed</td>\n",
       "    </tr>\n",
       "    <tr>\n",
       "      <th>3</th>\n",
       "      <td>Data Scientist</td>\n",
       "      <td>Applied Materials</td>\n",
       "      <td>4-7 Yrs</td>\n",
       "      <td>Bangalore/Bengaluru</td>\n",
       "      <td>Not disclosed</td>\n",
       "    </tr>\n",
       "    <tr>\n",
       "      <th>4</th>\n",
       "      <td>Data &amp; Analytics Tech - Informatica Cloud- Sen...</td>\n",
       "      <td>PwC</td>\n",
       "      <td>6-10 Yrs</td>\n",
       "      <td>Bangalore/Bengaluru</td>\n",
       "      <td>Not disclosed</td>\n",
       "    </tr>\n",
       "    <tr>\n",
       "      <th>5</th>\n",
       "      <td>Data Scientist: Advanced Analytics</td>\n",
       "      <td>IBM</td>\n",
       "      <td>2-7 Yrs</td>\n",
       "      <td>Bangalore/Bengaluru</td>\n",
       "      <td>Not disclosed</td>\n",
       "    </tr>\n",
       "    <tr>\n",
       "      <th>6</th>\n",
       "      <td>Research Scientist</td>\n",
       "      <td>IBM</td>\n",
       "      <td>3-7 Yrs</td>\n",
       "      <td>Bangalore/Bengaluru</td>\n",
       "      <td>Not disclosed</td>\n",
       "    </tr>\n",
       "    <tr>\n",
       "      <th>7</th>\n",
       "      <td>Principal - Data Scientist</td>\n",
       "      <td>Schneider Electric</td>\n",
       "      <td>7-10 Yrs</td>\n",
       "      <td>Bangalore/Bengaluru</td>\n",
       "      <td>Not disclosed</td>\n",
       "    </tr>\n",
       "    <tr>\n",
       "      <th>8</th>\n",
       "      <td>Research and Development -AI/ML -(PhD )</td>\n",
       "      <td>EXL</td>\n",
       "      <td>4-8 Yrs</td>\n",
       "      <td>Bangalore/Bengaluru, Noida, Hyderabad/Secunder...</td>\n",
       "      <td>Not disclosed</td>\n",
       "    </tr>\n",
       "    <tr>\n",
       "      <th>9</th>\n",
       "      <td>Opportunity For Data Scientist - Female Candid...</td>\n",
       "      <td>PayU</td>\n",
       "      <td>1-3 Yrs</td>\n",
       "      <td>Bangalore/Bengaluru, Gurgaon/Gurugram, Mumbai ...</td>\n",
       "      <td>Not disclosed</td>\n",
       "    </tr>\n",
       "  </tbody>\n",
       "</table>\n",
       "</div>"
      ],
      "text/plain": [
       "                                           JOB TITLE  \\\n",
       "0  Urgent Job Opening For AI Practitioner - Data ...   \n",
       "1                   Hiring For Senior Data Scientist   \n",
       "2                                 Dataiku Consultant   \n",
       "3                                     Data Scientist   \n",
       "4  Data & Analytics Tech - Informatica Cloud- Sen...   \n",
       "5                 Data Scientist: Advanced Analytics   \n",
       "6                                 Research Scientist   \n",
       "7                         Principal - Data Scientist   \n",
       "8            Research and Development -AI/ML -(PhD )   \n",
       "9  Opportunity For Data Scientist - Female Candid...   \n",
       "\n",
       "                           COMPANY EXPERIENCE  \\\n",
       "0                            Wipro  11-21 Yrs   \n",
       "1  TATA CONSULTANCY SERVICES (TCS)   8-13 Yrs   \n",
       "2                            Wipro  10-16 Yrs   \n",
       "3                Applied Materials    4-7 Yrs   \n",
       "4                              PwC   6-10 Yrs   \n",
       "5                              IBM    2-7 Yrs   \n",
       "6                              IBM    3-7 Yrs   \n",
       "7               Schneider Electric   7-10 Yrs   \n",
       "8                              EXL    4-8 Yrs   \n",
       "9                             PayU    1-3 Yrs   \n",
       "\n",
       "                                            LOCATION         SALARY  \n",
       "0  Bangalore/Bengaluru, Kochi/Cochin, New Delhi, ...  Not disclosed  \n",
       "1                          Bangalore/Bengaluru, Pune  Not disclosed  \n",
       "2                 Bangalore/Bengaluru, Pune, Chennai  Not disclosed  \n",
       "3                                Bangalore/Bengaluru  Not disclosed  \n",
       "4                                Bangalore/Bengaluru  Not disclosed  \n",
       "5                                Bangalore/Bengaluru  Not disclosed  \n",
       "6                                Bangalore/Bengaluru  Not disclosed  \n",
       "7                                Bangalore/Bengaluru  Not disclosed  \n",
       "8  Bangalore/Bengaluru, Noida, Hyderabad/Secunder...  Not disclosed  \n",
       "9  Bangalore/Bengaluru, Gurgaon/Gurugram, Mumbai ...  Not disclosed  "
      ]
     },
     "execution_count": 50,
     "metadata": {},
     "output_type": "execute_result"
    }
   ],
   "source": [
    "job_df1[0:10]"
   ]
  },
  {
   "cell_type": "markdown",
   "id": "375e3f7d",
   "metadata": {},
   "source": [
    "## Q3: In this question you have to scrape data using the filters available on the webpage as given:\n",
    "You have to use the location and salary filter. You have to scrape data for “Data Scientist” designation for first 10 job results. You have to scrape the job-title, job-location, company name, experience required. The location filter to be used is “Delhi/NCR”. The salary filter to be used is “3-6” lakhs The task will be done as shown in the below steps:\n",
    "\n",
    "first get the webpage https://www.naukri.com/\n",
    "\n",
    "Enter “Data Scientist” in “Skill, Designations, and Companies” field.\n",
    "\n",
    "Then click the search button.\n",
    "\n",
    "Then apply the location filter and salary filter by checking the respective boxes\n",
    "\n",
    "Then scrape the data for the first 10 jobs results you get"
   ]
  },
  {
   "cell_type": "code",
   "execution_count": 51,
   "id": "6bde2ea7",
   "metadata": {},
   "outputs": [],
   "source": [
    "driver = webdriver.Chrome(r'C:\\Users\\nidsi\\Downloads\\chromedriver_win32\\chromedriver.exe')"
   ]
  },
  {
   "cell_type": "code",
   "execution_count": 52,
   "id": "f6eae812",
   "metadata": {},
   "outputs": [],
   "source": [
    "url = 'https://www.naukri.com/'\n",
    "driver.get(url)"
   ]
  },
  {
   "cell_type": "code",
   "execution_count": 53,
   "id": "042102bd",
   "metadata": {},
   "outputs": [
    {
     "data": {
      "text/plain": [
       "<selenium.webdriver.remote.webelement.WebElement (session=\"202be521ab087bfec4c4c406f709aa7e\", element=\"c6142462-b03d-4023-8546-6014e1face72\")>"
      ]
     },
     "execution_count": 53,
     "metadata": {},
     "output_type": "execute_result"
    }
   ],
   "source": [
    "#searching for web elements  for search job bar usng id\n",
    "search_jobs = driver.find_element(By.CLASS_NAME,\"suggestor-input\")\n",
    "search_jobs"
   ]
  },
  {
   "cell_type": "code",
   "execution_count": 54,
   "id": "39d83d06",
   "metadata": {},
   "outputs": [],
   "source": [
    "#writing on search bar\n",
    "search_jobs.send_keys(\"Data Scientist\")"
   ]
  },
  {
   "cell_type": "code",
   "execution_count": 55,
   "id": "5b9208f3",
   "metadata": {},
   "outputs": [],
   "source": [
    "search_btn = driver.find_element(By.XPATH,\"/html/body/div[1]/div[2]/div[3]/div/div/div[6]\")\n",
    "search_btn.click()"
   ]
  },
  {
   "cell_type": "code",
   "execution_count": 56,
   "id": "bc45cd33",
   "metadata": {},
   "outputs": [],
   "source": [
    "#clicking on desired location filter\n",
    "check_delhi = driver.find_element(By.XPATH,\"/html/body/div[1]/div[3]/div[2]/section[1]/div[2]/div[5]/div[2]/div[3]\")\n",
    "check_delhi.click()"
   ]
  },
  {
   "cell_type": "code",
   "execution_count": 57,
   "id": "8ae0197e",
   "metadata": {},
   "outputs": [],
   "source": [
    "#clicking on desired salary filter\n",
    "check_pay = driver.find_element(By.XPATH,\"/html/body/div[1]/div[3]/div[2]/section[1]/div[2]/div[6]/div[2]/div[2]\")\n",
    "check_pay.click()"
   ]
  },
  {
   "cell_type": "markdown",
   "id": "237a4584",
   "metadata": {},
   "source": [
    "## EXTRACTING DESIRED DETAILS \n"
   ]
  },
  {
   "cell_type": "markdown",
   "id": "77d3fe95",
   "metadata": {},
   "source": [
    " EXTRACTING JOB TITLE"
   ]
  },
  {
   "cell_type": "code",
   "execution_count": 58,
   "id": "6c24b3f5",
   "metadata": {},
   "outputs": [
    {
     "data": {
      "text/plain": [
       "20"
      ]
     },
     "execution_count": 58,
     "metadata": {},
     "output_type": "execute_result"
    }
   ],
   "source": [
    "job_tag =driver.find_elements(By.XPATH,'//a[@class=\"title fw500 ellipsis\"]')\n",
    "len(job_tag)"
   ]
  },
  {
   "cell_type": "code",
   "execution_count": 59,
   "id": "b68fc32e",
   "metadata": {},
   "outputs": [
    {
     "data": {
      "text/plain": [
       "20"
      ]
     },
     "execution_count": 59,
     "metadata": {},
     "output_type": "execute_result"
    }
   ],
   "source": [
    "Job = []\n",
    "\n",
    "for i in job_tag:\n",
    "    Job.append(i.text)\n",
    "len(Job)"
   ]
  },
  {
   "cell_type": "code",
   "execution_count": 60,
   "id": "dcc5a681",
   "metadata": {},
   "outputs": [
    {
     "data": {
      "text/plain": [
       "['DigitalBCG GAMMA Data Scientist',\n",
       " 'Senior Associate - Data Science',\n",
       " 'Data Scientist - Noida/Bangalore',\n",
       " 'Data Scientist For Healthcare Product team',\n",
       " 'Data Scientist For Healthcare Product team',\n",
       " 'Data Scientist - Machine learning AI',\n",
       " 'Data Scientist - MIND Infotech',\n",
       " 'Data Scientist - Engine Algorithm',\n",
       " 'Knowledge/Data Scientist',\n",
       " 'Data Scientist',\n",
       " 'Data Scientist',\n",
       " 'Data Scientist',\n",
       " 'Data Science',\n",
       " 'Data Science',\n",
       " 'Machine Learning Seniors',\n",
       " 'Data Scientist',\n",
       " 'Hiring || Data Scientist || North Delhi || 5.5 days working',\n",
       " 'Data scientist- Python',\n",
       " 'Dot Net Developer',\n",
       " 'Data Engineer']"
      ]
     },
     "execution_count": 60,
     "metadata": {},
     "output_type": "execute_result"
    }
   ],
   "source": [
    "Job"
   ]
  },
  {
   "cell_type": "markdown",
   "id": "16cb635e",
   "metadata": {},
   "source": [
    "EXTRACTING JOB LOCATION"
   ]
  },
  {
   "cell_type": "code",
   "execution_count": 61,
   "id": "73b85a73",
   "metadata": {},
   "outputs": [
    {
     "data": {
      "text/plain": [
       "20"
      ]
     },
     "execution_count": 61,
     "metadata": {},
     "output_type": "execute_result"
    }
   ],
   "source": [
    "job_locn =driver.find_elements(By.XPATH,'//li[@class=\"fleft grey-text br2 placeHolderLi location\"]')\n",
    "len(job_locn)"
   ]
  },
  {
   "cell_type": "code",
   "execution_count": 62,
   "id": "c7b40b5c",
   "metadata": {},
   "outputs": [
    {
     "data": {
      "text/plain": [
       "['New Delhi, Bangalore/Bengaluru',\n",
       " 'Mumbai, Hyderabad/Secunderabad, Gurgaon/Gurugram, Bangalore/Bengaluru',\n",
       " 'Noida, Bangalore/Bengaluru',\n",
       " 'Delhi / NCR, Chennai, Bangalore/Bengaluru',\n",
       " 'Delhi / NCR, Chennai, Bangalore/Bengaluru',\n",
       " 'Delhi / NCR, Bangalore/Bengaluru, Mumbai (All Areas)\\n(WFH during Covid)',\n",
       " 'Noida',\n",
       " 'Delhi / NCR, Kolkata, Mumbai, Hyderabad/Secunderabad, Lucknow, Chennai, Ahmedabad, Bangalore/Bengaluru',\n",
       " 'Delhi / NCR',\n",
       " 'Delhi / NCR, Pune, Bangalore/Bengaluru',\n",
       " 'Delhi / NCR, Pune, Bangalore/Bengaluru',\n",
       " 'Delhi / NCR, Bangalore/Bengaluru, Mumbai (All Areas)\\n(WFH during Covid)',\n",
       " 'Delhi / NCR, Noida, Faridabad, Gurgaon/Gurugram, Bangalore/Bengaluru, Greater Noida',\n",
       " 'Delhi / NCR, Noida, Faridabad, Gurgaon/Gurugram, Bangalore/Bengaluru, Greater Noida',\n",
       " 'Hyderabad/Secunderabad, New Delhi',\n",
       " 'Gurgaon/Gurugram',\n",
       " 'Delhi / NCR(Netaji Subhash Place)',\n",
       " 'Gurgaon/Gurugram',\n",
       " 'Delhi / NCR, Gurgaon/Gurugram',\n",
       " 'Mumbai, New Delhi, Pune']"
      ]
     },
     "execution_count": 62,
     "metadata": {},
     "output_type": "execute_result"
    }
   ],
   "source": [
    "Job_Location = []\n",
    "\n",
    "for i in job_locn:\n",
    "    Job_Location.append(i.text)\n",
    "Job_Location"
   ]
  },
  {
   "cell_type": "markdown",
   "id": "6e1b7f85",
   "metadata": {},
   "source": [
    "EXTRACTING COMANY NAME"
   ]
  },
  {
   "cell_type": "code",
   "execution_count": 63,
   "id": "fb447820",
   "metadata": {},
   "outputs": [
    {
     "data": {
      "text/plain": [
       "20"
      ]
     },
     "execution_count": 63,
     "metadata": {},
     "output_type": "execute_result"
    }
   ],
   "source": [
    "comp_name =driver.find_elements(By.XPATH,'//a[@class=\"subTitle ellipsis fleft\"]')\n",
    "len(comp_name)"
   ]
  },
  {
   "cell_type": "code",
   "execution_count": 64,
   "id": "80883a6f",
   "metadata": {},
   "outputs": [
    {
     "data": {
      "text/plain": [
       "['Boston Consulting Group',\n",
       " 'Black Turtle',\n",
       " 'EXL',\n",
       " '8KMiles Software Services',\n",
       " '8KMiles Software Services',\n",
       " 'Teq Analytics',\n",
       " 'MOTHERSONSUMI INFOTECH & DESIGNS LIMITED',\n",
       " 'Primo Hiring',\n",
       " 'BOLD Technology Systems',\n",
       " 'Mount Talent Consulting Private Limited',\n",
       " 'Mount Talent Consulting Private Limited',\n",
       " 'Sydata Consulting India Pvt Ltd',\n",
       " 'Mount Talent Consulting Private Limited',\n",
       " 'Mount Talent Consulting Private Limited',\n",
       " 'Walking Tree Consultancy Services pvt Ltd',\n",
       " 'Kellton Tech Solutions',\n",
       " 'Shriram Automall',\n",
       " 'TeamPlus Staffing Solution Pvt Ltd',\n",
       " 'Nibha Infotech Private Limited',\n",
       " 'excellence']"
      ]
     },
     "execution_count": 64,
     "metadata": {},
     "output_type": "execute_result"
    }
   ],
   "source": [
    "Company_name = []\n",
    "\n",
    "for i in comp_name:\n",
    "    Company_name.append(i.text)\n",
    "Company_name"
   ]
  },
  {
   "cell_type": "markdown",
   "id": "cb6fa893",
   "metadata": {},
   "source": [
    "EXTRACTING EXPERIENCE REQUIRED"
   ]
  },
  {
   "cell_type": "code",
   "execution_count": 65,
   "id": "aeba387e",
   "metadata": {},
   "outputs": [
    {
     "data": {
      "text/plain": [
       "20"
      ]
     },
     "execution_count": 65,
     "metadata": {},
     "output_type": "execute_result"
    }
   ],
   "source": [
    "exp_reqd =driver.find_elements(By.XPATH,'//li[@class=\"fleft grey-text br2 placeHolderLi experience\"]')\n",
    "len(exp_reqd)"
   ]
  },
  {
   "cell_type": "code",
   "execution_count": 67,
   "id": "8009d8fb",
   "metadata": {},
   "outputs": [
    {
     "data": {
      "text/plain": [
       "['2-5 Yrs',\n",
       " '4-7 Yrs',\n",
       " '5-10 Yrs',\n",
       " '2-7 Yrs',\n",
       " '2-7 Yrs',\n",
       " '3-8 Yrs',\n",
       " '4-8 Yrs',\n",
       " '1-3 Yrs',\n",
       " '3-6 Yrs',\n",
       " '2-4 Yrs',\n",
       " '2-4 Yrs',\n",
       " '3-8 Yrs',\n",
       " '2-5 Yrs',\n",
       " '2-5 Yrs',\n",
       " '2-5 Yrs',\n",
       " '3-6 Yrs',\n",
       " '4-9 Yrs',\n",
       " '3-6 Yrs',\n",
       " '3-8 Yrs',\n",
       " '4-9 Yrs']"
      ]
     },
     "execution_count": 67,
     "metadata": {},
     "output_type": "execute_result"
    }
   ],
   "source": [
    "Experience_reqd = []\n",
    "\n",
    "for i in exp_reqd:\n",
    "    Experience_reqd.append(i.text)\n",
    "Experience_reqd"
   ]
  },
  {
   "cell_type": "code",
   "execution_count": 68,
   "id": "696281fc",
   "metadata": {},
   "outputs": [
    {
     "data": {
      "text/plain": [
       "(20, 20, 20, 20)"
      ]
     },
     "execution_count": 68,
     "metadata": {},
     "output_type": "execute_result"
    }
   ],
   "source": [
    "#checking lenth of all scrapped data set before making a data frame\n",
    "len(Job),len(Job_Location),len(Company_name),len(Experience_reqd)"
   ]
  },
  {
   "cell_type": "code",
   "execution_count": 69,
   "id": "b566f894",
   "metadata": {},
   "outputs": [
    {
     "data": {
      "text/html": [
       "<div>\n",
       "<style scoped>\n",
       "    .dataframe tbody tr th:only-of-type {\n",
       "        vertical-align: middle;\n",
       "    }\n",
       "\n",
       "    .dataframe tbody tr th {\n",
       "        vertical-align: top;\n",
       "    }\n",
       "\n",
       "    .dataframe thead th {\n",
       "        text-align: right;\n",
       "    }\n",
       "</style>\n",
       "<table border=\"1\" class=\"dataframe\">\n",
       "  <thead>\n",
       "    <tr style=\"text-align: right;\">\n",
       "      <th></th>\n",
       "      <th>JOB</th>\n",
       "      <th>LOCATION</th>\n",
       "      <th>COMPANY NAME</th>\n",
       "      <th>EXPERIENCE REQURED</th>\n",
       "    </tr>\n",
       "  </thead>\n",
       "  <tbody>\n",
       "    <tr>\n",
       "      <th>0</th>\n",
       "      <td>DigitalBCG GAMMA Data Scientist</td>\n",
       "      <td>New Delhi, Bangalore/Bengaluru</td>\n",
       "      <td>Boston Consulting Group</td>\n",
       "      <td>2-5 Yrs</td>\n",
       "    </tr>\n",
       "    <tr>\n",
       "      <th>1</th>\n",
       "      <td>Senior Associate - Data Science</td>\n",
       "      <td>Mumbai, Hyderabad/Secunderabad, Gurgaon/Gurugr...</td>\n",
       "      <td>Black Turtle</td>\n",
       "      <td>4-7 Yrs</td>\n",
       "    </tr>\n",
       "    <tr>\n",
       "      <th>2</th>\n",
       "      <td>Data Scientist - Noida/Bangalore</td>\n",
       "      <td>Noida, Bangalore/Bengaluru</td>\n",
       "      <td>EXL</td>\n",
       "      <td>5-10 Yrs</td>\n",
       "    </tr>\n",
       "    <tr>\n",
       "      <th>3</th>\n",
       "      <td>Data Scientist For Healthcare Product team</td>\n",
       "      <td>Delhi / NCR, Chennai, Bangalore/Bengaluru</td>\n",
       "      <td>8KMiles Software Services</td>\n",
       "      <td>2-7 Yrs</td>\n",
       "    </tr>\n",
       "    <tr>\n",
       "      <th>4</th>\n",
       "      <td>Data Scientist For Healthcare Product team</td>\n",
       "      <td>Delhi / NCR, Chennai, Bangalore/Bengaluru</td>\n",
       "      <td>8KMiles Software Services</td>\n",
       "      <td>2-7 Yrs</td>\n",
       "    </tr>\n",
       "    <tr>\n",
       "      <th>5</th>\n",
       "      <td>Data Scientist - Machine learning AI</td>\n",
       "      <td>Delhi / NCR, Bangalore/Bengaluru, Mumbai (All ...</td>\n",
       "      <td>Teq Analytics</td>\n",
       "      <td>3-8 Yrs</td>\n",
       "    </tr>\n",
       "    <tr>\n",
       "      <th>6</th>\n",
       "      <td>Data Scientist - MIND Infotech</td>\n",
       "      <td>Noida</td>\n",
       "      <td>MOTHERSONSUMI INFOTECH &amp; DESIGNS LIMITED</td>\n",
       "      <td>4-8 Yrs</td>\n",
       "    </tr>\n",
       "    <tr>\n",
       "      <th>7</th>\n",
       "      <td>Data Scientist - Engine Algorithm</td>\n",
       "      <td>Delhi / NCR, Kolkata, Mumbai, Hyderabad/Secund...</td>\n",
       "      <td>Primo Hiring</td>\n",
       "      <td>1-3 Yrs</td>\n",
       "    </tr>\n",
       "    <tr>\n",
       "      <th>8</th>\n",
       "      <td>Knowledge/Data Scientist</td>\n",
       "      <td>Delhi / NCR</td>\n",
       "      <td>BOLD Technology Systems</td>\n",
       "      <td>3-6 Yrs</td>\n",
       "    </tr>\n",
       "    <tr>\n",
       "      <th>9</th>\n",
       "      <td>Data Scientist</td>\n",
       "      <td>Delhi / NCR, Pune, Bangalore/Bengaluru</td>\n",
       "      <td>Mount Talent Consulting Private Limited</td>\n",
       "      <td>2-4 Yrs</td>\n",
       "    </tr>\n",
       "    <tr>\n",
       "      <th>10</th>\n",
       "      <td>Data Scientist</td>\n",
       "      <td>Delhi / NCR, Pune, Bangalore/Bengaluru</td>\n",
       "      <td>Mount Talent Consulting Private Limited</td>\n",
       "      <td>2-4 Yrs</td>\n",
       "    </tr>\n",
       "    <tr>\n",
       "      <th>11</th>\n",
       "      <td>Data Scientist</td>\n",
       "      <td>Delhi / NCR, Bangalore/Bengaluru, Mumbai (All ...</td>\n",
       "      <td>Sydata Consulting India Pvt Ltd</td>\n",
       "      <td>3-8 Yrs</td>\n",
       "    </tr>\n",
       "    <tr>\n",
       "      <th>12</th>\n",
       "      <td>Data Science</td>\n",
       "      <td>Delhi / NCR, Noida, Faridabad, Gurgaon/Gurugra...</td>\n",
       "      <td>Mount Talent Consulting Private Limited</td>\n",
       "      <td>2-5 Yrs</td>\n",
       "    </tr>\n",
       "    <tr>\n",
       "      <th>13</th>\n",
       "      <td>Data Science</td>\n",
       "      <td>Delhi / NCR, Noida, Faridabad, Gurgaon/Gurugra...</td>\n",
       "      <td>Mount Talent Consulting Private Limited</td>\n",
       "      <td>2-5 Yrs</td>\n",
       "    </tr>\n",
       "    <tr>\n",
       "      <th>14</th>\n",
       "      <td>Machine Learning Seniors</td>\n",
       "      <td>Hyderabad/Secunderabad, New Delhi</td>\n",
       "      <td>Walking Tree Consultancy Services pvt Ltd</td>\n",
       "      <td>2-5 Yrs</td>\n",
       "    </tr>\n",
       "    <tr>\n",
       "      <th>15</th>\n",
       "      <td>Data Scientist</td>\n",
       "      <td>Gurgaon/Gurugram</td>\n",
       "      <td>Kellton Tech Solutions</td>\n",
       "      <td>3-6 Yrs</td>\n",
       "    </tr>\n",
       "    <tr>\n",
       "      <th>16</th>\n",
       "      <td>Hiring || Data Scientist || North Delhi || 5.5...</td>\n",
       "      <td>Delhi / NCR(Netaji Subhash Place)</td>\n",
       "      <td>Shriram Automall</td>\n",
       "      <td>4-9 Yrs</td>\n",
       "    </tr>\n",
       "    <tr>\n",
       "      <th>17</th>\n",
       "      <td>Data scientist- Python</td>\n",
       "      <td>Gurgaon/Gurugram</td>\n",
       "      <td>TeamPlus Staffing Solution Pvt Ltd</td>\n",
       "      <td>3-6 Yrs</td>\n",
       "    </tr>\n",
       "    <tr>\n",
       "      <th>18</th>\n",
       "      <td>Dot Net Developer</td>\n",
       "      <td>Delhi / NCR, Gurgaon/Gurugram</td>\n",
       "      <td>Nibha Infotech Private Limited</td>\n",
       "      <td>3-8 Yrs</td>\n",
       "    </tr>\n",
       "    <tr>\n",
       "      <th>19</th>\n",
       "      <td>Data Engineer</td>\n",
       "      <td>Mumbai, New Delhi, Pune</td>\n",
       "      <td>excellence</td>\n",
       "      <td>4-9 Yrs</td>\n",
       "    </tr>\n",
       "  </tbody>\n",
       "</table>\n",
       "</div>"
      ],
      "text/plain": [
       "                                                  JOB  \\\n",
       "0                     DigitalBCG GAMMA Data Scientist   \n",
       "1                     Senior Associate - Data Science   \n",
       "2                    Data Scientist - Noida/Bangalore   \n",
       "3          Data Scientist For Healthcare Product team   \n",
       "4          Data Scientist For Healthcare Product team   \n",
       "5                Data Scientist - Machine learning AI   \n",
       "6                      Data Scientist - MIND Infotech   \n",
       "7                   Data Scientist - Engine Algorithm   \n",
       "8                            Knowledge/Data Scientist   \n",
       "9                                      Data Scientist   \n",
       "10                                     Data Scientist   \n",
       "11                                     Data Scientist   \n",
       "12                                       Data Science   \n",
       "13                                       Data Science   \n",
       "14                           Machine Learning Seniors   \n",
       "15                                     Data Scientist   \n",
       "16  Hiring || Data Scientist || North Delhi || 5.5...   \n",
       "17                             Data scientist- Python   \n",
       "18                                  Dot Net Developer   \n",
       "19                                      Data Engineer   \n",
       "\n",
       "                                             LOCATION  \\\n",
       "0                      New Delhi, Bangalore/Bengaluru   \n",
       "1   Mumbai, Hyderabad/Secunderabad, Gurgaon/Gurugr...   \n",
       "2                          Noida, Bangalore/Bengaluru   \n",
       "3           Delhi / NCR, Chennai, Bangalore/Bengaluru   \n",
       "4           Delhi / NCR, Chennai, Bangalore/Bengaluru   \n",
       "5   Delhi / NCR, Bangalore/Bengaluru, Mumbai (All ...   \n",
       "6                                               Noida   \n",
       "7   Delhi / NCR, Kolkata, Mumbai, Hyderabad/Secund...   \n",
       "8                                         Delhi / NCR   \n",
       "9              Delhi / NCR, Pune, Bangalore/Bengaluru   \n",
       "10             Delhi / NCR, Pune, Bangalore/Bengaluru   \n",
       "11  Delhi / NCR, Bangalore/Bengaluru, Mumbai (All ...   \n",
       "12  Delhi / NCR, Noida, Faridabad, Gurgaon/Gurugra...   \n",
       "13  Delhi / NCR, Noida, Faridabad, Gurgaon/Gurugra...   \n",
       "14                  Hyderabad/Secunderabad, New Delhi   \n",
       "15                                   Gurgaon/Gurugram   \n",
       "16                  Delhi / NCR(Netaji Subhash Place)   \n",
       "17                                   Gurgaon/Gurugram   \n",
       "18                      Delhi / NCR, Gurgaon/Gurugram   \n",
       "19                            Mumbai, New Delhi, Pune   \n",
       "\n",
       "                                 COMPANY NAME EXPERIENCE REQURED  \n",
       "0                     Boston Consulting Group            2-5 Yrs  \n",
       "1                                Black Turtle            4-7 Yrs  \n",
       "2                                         EXL           5-10 Yrs  \n",
       "3                   8KMiles Software Services            2-7 Yrs  \n",
       "4                   8KMiles Software Services            2-7 Yrs  \n",
       "5                               Teq Analytics            3-8 Yrs  \n",
       "6    MOTHERSONSUMI INFOTECH & DESIGNS LIMITED            4-8 Yrs  \n",
       "7                                Primo Hiring            1-3 Yrs  \n",
       "8                     BOLD Technology Systems            3-6 Yrs  \n",
       "9     Mount Talent Consulting Private Limited            2-4 Yrs  \n",
       "10    Mount Talent Consulting Private Limited            2-4 Yrs  \n",
       "11            Sydata Consulting India Pvt Ltd            3-8 Yrs  \n",
       "12    Mount Talent Consulting Private Limited            2-5 Yrs  \n",
       "13    Mount Talent Consulting Private Limited            2-5 Yrs  \n",
       "14  Walking Tree Consultancy Services pvt Ltd            2-5 Yrs  \n",
       "15                     Kellton Tech Solutions            3-6 Yrs  \n",
       "16                           Shriram Automall            4-9 Yrs  \n",
       "17         TeamPlus Staffing Solution Pvt Ltd            3-6 Yrs  \n",
       "18             Nibha Infotech Private Limited            3-8 Yrs  \n",
       "19                                 excellence            4-9 Yrs  "
      ]
     },
     "execution_count": 69,
     "metadata": {},
     "output_type": "execute_result"
    }
   ],
   "source": [
    "# creating data frame\n",
    "job_frame = pd.DataFrame()\n",
    "job_frame['JOB'] = Job\n",
    "job_frame['LOCATION'] = Job_Location\n",
    "job_frame['COMPANY NAME'] = Company_name\n",
    "job_frame['EXPERIENCE REQURED'] = Experience_reqd\n",
    "job_frame"
   ]
  },
  {
   "cell_type": "markdown",
   "id": "64dceb31",
   "metadata": {},
   "source": [
    "# BUT WE ARE ASKED TO EXTRACT ONLY 10 DATA OUT OF  THE ABOVE DATA SET SO THE FINAL OUTPUT IS: "
   ]
  },
  {
   "cell_type": "code",
   "execution_count": 70,
   "id": "0dad7e90",
   "metadata": {},
   "outputs": [
    {
     "data": {
      "text/html": [
       "<div>\n",
       "<style scoped>\n",
       "    .dataframe tbody tr th:only-of-type {\n",
       "        vertical-align: middle;\n",
       "    }\n",
       "\n",
       "    .dataframe tbody tr th {\n",
       "        vertical-align: top;\n",
       "    }\n",
       "\n",
       "    .dataframe thead th {\n",
       "        text-align: right;\n",
       "    }\n",
       "</style>\n",
       "<table border=\"1\" class=\"dataframe\">\n",
       "  <thead>\n",
       "    <tr style=\"text-align: right;\">\n",
       "      <th></th>\n",
       "      <th>JOB</th>\n",
       "      <th>LOCATION</th>\n",
       "      <th>COMPANY NAME</th>\n",
       "      <th>EXPERIENCE REQURED</th>\n",
       "    </tr>\n",
       "  </thead>\n",
       "  <tbody>\n",
       "    <tr>\n",
       "      <th>0</th>\n",
       "      <td>DigitalBCG GAMMA Data Scientist</td>\n",
       "      <td>New Delhi, Bangalore/Bengaluru</td>\n",
       "      <td>Boston Consulting Group</td>\n",
       "      <td>2-5 Yrs</td>\n",
       "    </tr>\n",
       "    <tr>\n",
       "      <th>1</th>\n",
       "      <td>Senior Associate - Data Science</td>\n",
       "      <td>Mumbai, Hyderabad/Secunderabad, Gurgaon/Gurugr...</td>\n",
       "      <td>Black Turtle</td>\n",
       "      <td>4-7 Yrs</td>\n",
       "    </tr>\n",
       "    <tr>\n",
       "      <th>2</th>\n",
       "      <td>Data Scientist - Noida/Bangalore</td>\n",
       "      <td>Noida, Bangalore/Bengaluru</td>\n",
       "      <td>EXL</td>\n",
       "      <td>5-10 Yrs</td>\n",
       "    </tr>\n",
       "    <tr>\n",
       "      <th>3</th>\n",
       "      <td>Data Scientist For Healthcare Product team</td>\n",
       "      <td>Delhi / NCR, Chennai, Bangalore/Bengaluru</td>\n",
       "      <td>8KMiles Software Services</td>\n",
       "      <td>2-7 Yrs</td>\n",
       "    </tr>\n",
       "    <tr>\n",
       "      <th>4</th>\n",
       "      <td>Data Scientist For Healthcare Product team</td>\n",
       "      <td>Delhi / NCR, Chennai, Bangalore/Bengaluru</td>\n",
       "      <td>8KMiles Software Services</td>\n",
       "      <td>2-7 Yrs</td>\n",
       "    </tr>\n",
       "    <tr>\n",
       "      <th>5</th>\n",
       "      <td>Data Scientist - Machine learning AI</td>\n",
       "      <td>Delhi / NCR, Bangalore/Bengaluru, Mumbai (All ...</td>\n",
       "      <td>Teq Analytics</td>\n",
       "      <td>3-8 Yrs</td>\n",
       "    </tr>\n",
       "    <tr>\n",
       "      <th>6</th>\n",
       "      <td>Data Scientist - MIND Infotech</td>\n",
       "      <td>Noida</td>\n",
       "      <td>MOTHERSONSUMI INFOTECH &amp; DESIGNS LIMITED</td>\n",
       "      <td>4-8 Yrs</td>\n",
       "    </tr>\n",
       "    <tr>\n",
       "      <th>7</th>\n",
       "      <td>Data Scientist - Engine Algorithm</td>\n",
       "      <td>Delhi / NCR, Kolkata, Mumbai, Hyderabad/Secund...</td>\n",
       "      <td>Primo Hiring</td>\n",
       "      <td>1-3 Yrs</td>\n",
       "    </tr>\n",
       "    <tr>\n",
       "      <th>8</th>\n",
       "      <td>Knowledge/Data Scientist</td>\n",
       "      <td>Delhi / NCR</td>\n",
       "      <td>BOLD Technology Systems</td>\n",
       "      <td>3-6 Yrs</td>\n",
       "    </tr>\n",
       "    <tr>\n",
       "      <th>9</th>\n",
       "      <td>Data Scientist</td>\n",
       "      <td>Delhi / NCR, Pune, Bangalore/Bengaluru</td>\n",
       "      <td>Mount Talent Consulting Private Limited</td>\n",
       "      <td>2-4 Yrs</td>\n",
       "    </tr>\n",
       "  </tbody>\n",
       "</table>\n",
       "</div>"
      ],
      "text/plain": [
       "                                          JOB  \\\n",
       "0             DigitalBCG GAMMA Data Scientist   \n",
       "1             Senior Associate - Data Science   \n",
       "2            Data Scientist - Noida/Bangalore   \n",
       "3  Data Scientist For Healthcare Product team   \n",
       "4  Data Scientist For Healthcare Product team   \n",
       "5        Data Scientist - Machine learning AI   \n",
       "6              Data Scientist - MIND Infotech   \n",
       "7           Data Scientist - Engine Algorithm   \n",
       "8                    Knowledge/Data Scientist   \n",
       "9                              Data Scientist   \n",
       "\n",
       "                                            LOCATION  \\\n",
       "0                     New Delhi, Bangalore/Bengaluru   \n",
       "1  Mumbai, Hyderabad/Secunderabad, Gurgaon/Gurugr...   \n",
       "2                         Noida, Bangalore/Bengaluru   \n",
       "3          Delhi / NCR, Chennai, Bangalore/Bengaluru   \n",
       "4          Delhi / NCR, Chennai, Bangalore/Bengaluru   \n",
       "5  Delhi / NCR, Bangalore/Bengaluru, Mumbai (All ...   \n",
       "6                                              Noida   \n",
       "7  Delhi / NCR, Kolkata, Mumbai, Hyderabad/Secund...   \n",
       "8                                        Delhi / NCR   \n",
       "9             Delhi / NCR, Pune, Bangalore/Bengaluru   \n",
       "\n",
       "                               COMPANY NAME EXPERIENCE REQURED  \n",
       "0                   Boston Consulting Group            2-5 Yrs  \n",
       "1                              Black Turtle            4-7 Yrs  \n",
       "2                                       EXL           5-10 Yrs  \n",
       "3                 8KMiles Software Services            2-7 Yrs  \n",
       "4                 8KMiles Software Services            2-7 Yrs  \n",
       "5                             Teq Analytics            3-8 Yrs  \n",
       "6  MOTHERSONSUMI INFOTECH & DESIGNS LIMITED            4-8 Yrs  \n",
       "7                              Primo Hiring            1-3 Yrs  \n",
       "8                   BOLD Technology Systems            3-6 Yrs  \n",
       "9   Mount Talent Consulting Private Limited            2-4 Yrs  "
      ]
     },
     "execution_count": 70,
     "metadata": {},
     "output_type": "execute_result"
    }
   ],
   "source": [
    "job_frame[0:10]"
   ]
  },
  {
   "cell_type": "markdown",
   "id": "f75d6996",
   "metadata": {},
   "source": [
    "# Q4: Scrape data of first 100 sunglasses listings on flipkart.com.\n",
    "You have to scrape four attributes:\n",
    "\n",
    "Brand\n",
    "Product Description\n",
    "Price \n",
    "The attributes which you have to scrape is ticked marked in the given image . \n",
    "To scrape the data you have to go through following steps:\n",
    "Go to Flipkart webpage by url : https://www.flipkart.com/\n",
    "Enter “sunglasses” in the search field where “search for products, brands and more” is written and click the search icon\n",
    "After that you will reach to the page having a lot of sunglasses. From this page you can scrap the required data as usual\n",
    "After scraping data from the first page, go to the “Next” Button at the bottom other page , then click on it.\n",
    "Now scrape data from this page as usual\n",
    "Repeat this until you get data for 100 sunglasses"
   ]
  },
  {
   "cell_type": "code",
   "execution_count": 71,
   "id": "7c6d5803",
   "metadata": {},
   "outputs": [],
   "source": [
    "#looking for web driver\n",
    "driver = webdriver.Chrome(r'C:\\Users\\nidsi\\Downloads\\chromedriver_win32\\chromedriver.exe')"
   ]
  },
  {
   "cell_type": "code",
   "execution_count": 72,
   "id": "991fcdc0",
   "metadata": {},
   "outputs": [],
   "source": [
    "#opening link\n",
    "url = 'https://www.flipkart.com/'\n",
    "driver.get(url)"
   ]
  },
  {
   "cell_type": "code",
   "execution_count": 73,
   "id": "57cfb98f",
   "metadata": {},
   "outputs": [],
   "source": [
    "#searching foe sunglasses\n",
    "search_product = driver.find_element(By.CLASS_NAME,\"_3704LK\")\n",
    "search_product.send_keys(\"sunglasses\")\n"
   ]
  },
  {
   "cell_type": "code",
   "execution_count": 76,
   "id": "f1d562fe",
   "metadata": {},
   "outputs": [],
   "source": [
    "#clicking on search\n",
    "search_click = driver.find_element(By.XPATH,\"/html/body/div/div/div[1]/div[1]/div[2]/div[2]/form/div/button\")\n",
    "search_click.click()"
   ]
  },
  {
   "cell_type": "markdown",
   "id": "bd7178cc",
   "metadata": {},
   "source": [
    "## EXTRACTING DESIRED DATA "
   ]
  },
  {
   "cell_type": "markdown",
   "id": "72341b18",
   "metadata": {},
   "source": [
    " EXTRACTING BRAND NAME"
   ]
  },
  {
   "cell_type": "code",
   "execution_count": 77,
   "id": "db902c23",
   "metadata": {},
   "outputs": [
    {
     "data": {
      "text/plain": [
       "40"
      ]
     },
     "execution_count": 77,
     "metadata": {},
     "output_type": "execute_result"
    }
   ],
   "source": [
    "brand_tag =driver.find_elements(By.XPATH,'//div[@class=\"_2WkVRV\"]')\n",
    "len(brand_tag)"
   ]
  },
  {
   "cell_type": "code",
   "execution_count": 78,
   "id": "801743b3",
   "metadata": {},
   "outputs": [
    {
     "data": {
      "text/plain": [
       "['VINCENT CHASE',\n",
       " 'povty',\n",
       " 'DAHAAZIL',\n",
       " 'Fastrack',\n",
       " 'New Specs',\n",
       " 'SUNBEE',\n",
       " 'Elligator',\n",
       " 'GANSTA',\n",
       " 'SUNBEE',\n",
       " 'PIRASO',\n",
       " 'SRPM',\n",
       " 'john jacobs',\n",
       " 'SHAAH COLLECTIONS',\n",
       " 'Fastrack',\n",
       " 'Fastrack',\n",
       " 'VINCENT CHASE',\n",
       " 'PIRASO',\n",
       " 'PIRASO',\n",
       " 'PIRASO',\n",
       " 'ROYAL SON',\n",
       " 'Lee Topper',\n",
       " 'ROZZETTA CRAFT',\n",
       " 'PIRASO',\n",
       " 'ROYAL SON',\n",
       " 'PIRASO',\n",
       " 'Mi',\n",
       " 'Fastrack',\n",
       " 'ROYAL SON',\n",
       " 'Fastrack',\n",
       " 'PIRASO',\n",
       " 'kingsunglasses',\n",
       " 'Sewell',\n",
       " 'NuVew',\n",
       " 'SHAAH COLLECTIONS',\n",
       " 'Fastrack',\n",
       " 'ROYAL SON',\n",
       " 'ROZZETTA CRAFT',\n",
       " 'Sewell',\n",
       " 'Lee Topper',\n",
       " 'Sewell']"
      ]
     },
     "execution_count": 78,
     "metadata": {},
     "output_type": "execute_result"
    }
   ],
   "source": [
    "Brand = []\n",
    "\n",
    "for i in brand_tag:\n",
    "    Brand.append(i.text)\n",
    "Brand"
   ]
  },
  {
   "cell_type": "markdown",
   "id": "c5079fdf",
   "metadata": {},
   "source": [
    " EXTRACTING SUNGLASS TYPE"
   ]
  },
  {
   "cell_type": "code",
   "execution_count": 79,
   "id": "60222ba6",
   "metadata": {},
   "outputs": [
    {
     "data": {
      "text/plain": [
       "40"
      ]
     },
     "execution_count": 79,
     "metadata": {},
     "output_type": "execute_result"
    }
   ],
   "source": [
    "type_tag =driver.find_elements(By.XPATH,'//a[@class=\"IRpwTa\"]')\n",
    "len(type_tag)"
   ]
  },
  {
   "cell_type": "code",
   "execution_count": 80,
   "id": "8358943e",
   "metadata": {},
   "outputs": [
    {
     "data": {
      "text/plain": [
       "['by Lenskart UV Protection Wayfarer Sunglasses (51)',\n",
       " 'UV Protection Retro Square Sunglasses (Free Size)',\n",
       " 'UV Protection, Night Vision, Riding Glasses Wayfarer, W...',\n",
       " 'UV Protection Rectangular Sunglasses (Free Size)',\n",
       " 'UV Protection Rectangular Sunglasses (Free Size)',\n",
       " 'UV Protection, Polarized, Mirrored Retro Square Sunglas...',\n",
       " 'UV Protection Round Sunglasses (54)',\n",
       " 'UV Protection Aviator Sunglasses (57)',\n",
       " 'UV Protection, Polarized Wayfarer Sunglasses (Free Size...',\n",
       " 'UV Protection Aviator Sunglasses (54)',\n",
       " 'UV Protection Wayfarer Sunglasses (50)',\n",
       " 'UV Protection Wayfarer Sunglasses (46)',\n",
       " 'UV Protection, Polarized, Mirrored Rectangular Sunglass...',\n",
       " 'UV Protection Wayfarer Sunglasses (Free Size)',\n",
       " 'UV Protection Aviator Sunglasses (Free Size)',\n",
       " 'by Lenskart UV Protection Rectangular Sunglasses (54)',\n",
       " 'UV Protection Aviator Sunglasses (54)',\n",
       " 'UV Protection Aviator Sunglasses (58)',\n",
       " 'UV Protection Retro Square Sunglasses (52)',\n",
       " 'UV Protection Over-sized Sunglasses (61)',\n",
       " 'Riding Glasses Wrap-around Sunglasses (Free Size)',\n",
       " 'Polarized, Riding Glasses Sports, Wrap-around Sunglasse...',\n",
       " 'UV Protection Aviator Sunglasses (54)',\n",
       " 'Polarized, UV Protection Wrap-around Sunglasses (62)',\n",
       " 'UV Protection Wayfarer Sunglasses (32)',\n",
       " 'Polarized Aviator Sunglasses (Free Size)',\n",
       " 'Gradient, UV Protection Wayfarer Sunglasses (Free Size)',\n",
       " 'Polarized, UV Protection Sports Sunglasses (68)',\n",
       " 'UV Protection Wayfarer Sunglasses (Free Size)',\n",
       " 'UV Protection Over-sized Sunglasses (65)',\n",
       " 'UV Protection, Riding Glasses, Mirrored Wayfarer Sungla...',\n",
       " 'Polarized Butterfly Sunglasses (Free Size)',\n",
       " 'UV Protection Sports Sunglasses (62)',\n",
       " 'UV Protection Round Sunglasses (Free Size)',\n",
       " 'UV Protection Aviator Sunglasses (58)',\n",
       " 'Polarized, UV Protection Aviator Sunglasses (58)',\n",
       " 'UV Protection, Gradient Retro Square Sunglasses (Free S...',\n",
       " 'Mirrored, Night Vision, UV Protection, Riding Glasses S...',\n",
       " 'UV Protection Cat-eye Sunglasses (Free Size)',\n",
       " 'Polarized Butterfly Sunglasses (Free Size)']"
      ]
     },
     "execution_count": 80,
     "metadata": {},
     "output_type": "execute_result"
    }
   ],
   "source": [
    "Sunglass_type = []\n",
    "\n",
    "for i in type_tag:\n",
    "    Sunglass_type.append(i.text)\n",
    "Sunglass_type"
   ]
  },
  {
   "cell_type": "markdown",
   "id": "4eb9c894",
   "metadata": {},
   "source": [
    " EXTRACTING PRICE"
   ]
  },
  {
   "cell_type": "code",
   "execution_count": 81,
   "id": "6913b0ec",
   "metadata": {},
   "outputs": [
    {
     "data": {
      "text/plain": [
       "40"
      ]
     },
     "execution_count": 81,
     "metadata": {},
     "output_type": "execute_result"
    }
   ],
   "source": [
    "price_tag =driver.find_elements(By.XPATH,'//div[@class=\"_30jeq3\"]')\n",
    "len(price_tag)"
   ]
  },
  {
   "cell_type": "code",
   "execution_count": 82,
   "id": "93e7c33f",
   "metadata": {},
   "outputs": [
    {
     "data": {
      "text/plain": [
       "['₹749',\n",
       " '₹319',\n",
       " '₹177',\n",
       " '₹639',\n",
       " '₹264',\n",
       " '₹259',\n",
       " '₹315',\n",
       " '₹314',\n",
       " '₹283',\n",
       " '₹224',\n",
       " '₹224',\n",
       " '₹3,000',\n",
       " '₹195',\n",
       " '₹799',\n",
       " '₹639',\n",
       " '₹749',\n",
       " '₹224',\n",
       " '₹359',\n",
       " '₹306',\n",
       " '₹699',\n",
       " '₹299',\n",
       " '₹474',\n",
       " '₹246',\n",
       " '₹799',\n",
       " '₹226',\n",
       " '₹839',\n",
       " '₹719',\n",
       " '₹1,234',\n",
       " '₹759',\n",
       " '₹410',\n",
       " '₹164',\n",
       " '₹616',\n",
       " '₹291',\n",
       " '₹279',\n",
       " '₹1,039',\n",
       " '₹711',\n",
       " '₹331',\n",
       " '₹265',\n",
       " '₹229',\n",
       " '₹616']"
      ]
     },
     "execution_count": 82,
     "metadata": {},
     "output_type": "execute_result"
    }
   ],
   "source": [
    "Price = []\n",
    "\n",
    "for i in price_tag:\n",
    "    Price.append(i.text)\n",
    "Price"
   ]
  },
  {
   "cell_type": "markdown",
   "id": "41591cf4",
   "metadata": {},
   "source": [
    "EXTRACTING OFFERS"
   ]
  },
  {
   "cell_type": "code",
   "execution_count": 83,
   "id": "a59ccb08",
   "metadata": {},
   "outputs": [
    {
     "data": {
      "text/plain": [
       "40"
      ]
     },
     "execution_count": 83,
     "metadata": {},
     "output_type": "execute_result"
    }
   ],
   "source": [
    "offer_tag =driver.find_elements(By.XPATH,'//div[@class=\"_3Ay6Sb\"]')\n",
    "len(offer_tag)"
   ]
  },
  {
   "cell_type": "code",
   "execution_count": 84,
   "id": "745391cd",
   "metadata": {},
   "outputs": [
    {
     "data": {
      "text/plain": [
       "['62% off',\n",
       " '68% off',\n",
       " '82% off',\n",
       " '20% off',\n",
       " '89% off',\n",
       " '80% off',\n",
       " '87% off',\n",
       " '84% off',\n",
       " '78% off',\n",
       " '85% off',\n",
       " '82% off',\n",
       " '50% off',\n",
       " '88% off',\n",
       " '20% off',\n",
       " '20% off',\n",
       " '62% off',\n",
       " '85% off',\n",
       " '86% off',\n",
       " '88% off',\n",
       " '65% off',\n",
       " '88% off',\n",
       " '76% off',\n",
       " '84% off',\n",
       " '60% off',\n",
       " '85% off',\n",
       " '30% off',\n",
       " '20% off',\n",
       " '50% off',\n",
       " '15% off',\n",
       " '84% off',\n",
       " '86% off',\n",
       " '69% off',\n",
       " '76% off',\n",
       " '78% off',\n",
       " '20% off',\n",
       " '64% off',\n",
       " '83% off',\n",
       " '82% off',\n",
       " '82% off',\n",
       " '69% off']"
      ]
     },
     "execution_count": 84,
     "metadata": {},
     "output_type": "execute_result"
    }
   ],
   "source": [
    "Offer = []\n",
    "\n",
    "for i in offer_tag:\n",
    "    Offer.append(i.text)\n",
    "Offer"
   ]
  },
  {
   "cell_type": "code",
   "execution_count": 85,
   "id": "918dacbb",
   "metadata": {},
   "outputs": [
    {
     "data": {
      "text/plain": [
       "(40, 40, 40, 40)"
      ]
     },
     "execution_count": 85,
     "metadata": {},
     "output_type": "execute_result"
    }
   ],
   "source": [
    "#checking length of data scrapped data\n",
    "len(Brand),len(Sunglass_type),len(Price),len(Offer)"
   ]
  },
  {
   "cell_type": "markdown",
   "id": "592c46b6",
   "metadata": {},
   "source": [
    "BUT DESIRED AMOUT OF DATA TO BE SCRAPPED IS 100 ,SO WE NEED TO CLICK ON NEXT BUTTON TO GET MORE DATA"
   ]
  },
  {
   "cell_type": "code",
   "execution_count": 86,
   "id": "2707abe5",
   "metadata": {},
   "outputs": [
    {
     "data": {
      "text/plain": [
       "<selenium.webdriver.remote.webelement.WebElement (session=\"6b1c2b5ba9d5b26ea12705ac0abab04f\", element=\"8f3b35ca-fcad-4b13-beaa-3911bfc22553\")>"
      ]
     },
     "execution_count": 86,
     "metadata": {},
     "output_type": "execute_result"
    }
   ],
   "source": [
    "#GOING TO NEXT BUTTON FOR EXTRACTING MORE DATA\n",
    "next_btn = driver.find_element(By.XPATH,\"/html/body/div/div/div[3]/div[1]/div[2]/div[12]/div/div/nav/a[11]\")\n",
    "next_btn"
   ]
  },
  {
   "cell_type": "code",
   "execution_count": 87,
   "id": "359b9d1d",
   "metadata": {},
   "outputs": [],
   "source": [
    "#clicking on next button\n",
    "next_btn.click()"
   ]
  },
  {
   "cell_type": "markdown",
   "id": "482d8416",
   "metadata": {},
   "source": [
    "## EXTRACTING DATA (41-80)FROM NEXT PAGE"
   ]
  },
  {
   "cell_type": "markdown",
   "id": "da13efc9",
   "metadata": {},
   "source": [
    " EXTRACTING BRAND NAME(41-80)"
   ]
  },
  {
   "cell_type": "code",
   "execution_count": 88,
   "id": "5fa0ad99",
   "metadata": {},
   "outputs": [
    {
     "data": {
      "text/plain": [
       "40"
      ]
     },
     "execution_count": 88,
     "metadata": {},
     "output_type": "execute_result"
    }
   ],
   "source": [
    "brand_tag =driver.find_elements(By.XPATH,'//div[@class=\"_2WkVRV\"]')\n",
    "len(brand_tag)"
   ]
  },
  {
   "cell_type": "code",
   "execution_count": 89,
   "id": "c5bdbe93",
   "metadata": {},
   "outputs": [
    {
     "data": {
      "text/plain": [
       "['ROZZETTA CRAFT',\n",
       " 'Fastrack',\n",
       " 'Fastrack',\n",
       " 'ROZZETTA CRAFT',\n",
       " 'ROYAL SON',\n",
       " 'New Specs',\n",
       " 'kingsunglasses',\n",
       " 'povty',\n",
       " 'PIRASO',\n",
       " 'LIZA ANGEL',\n",
       " 'CRYSTAL CART',\n",
       " 'ROYAL SON',\n",
       " 'Fastrack',\n",
       " 'kingsunglasses',\n",
       " 'Lee Topper',\n",
       " 'ROYAL SON',\n",
       " 'ROYAL SON',\n",
       " 'DEIXELS',\n",
       " 'ROYAL SON',\n",
       " 'VINCENT CHASE',\n",
       " 'AISLIN',\n",
       " 'Silver Kartz',\n",
       " 'PIRASO',\n",
       " 'Arnette',\n",
       " 'Elligator',\n",
       " 'VINCENT CHASE',\n",
       " 'ROYAL SON',\n",
       " 'ROYAL SON',\n",
       " 'CRYSTAL CART',\n",
       " 'PHENOMENAL',\n",
       " 'ROYAL SON',\n",
       " 'john jacobs',\n",
       " 'New Specs',\n",
       " 'VINCENT CHASE',\n",
       " 'VINCENT CHASE',\n",
       " 'hipe',\n",
       " 'Lee Topper',\n",
       " 'Elligator',\n",
       " 'Fastrack',\n",
       " 'VINCENT CHASE']"
      ]
     },
     "execution_count": 89,
     "metadata": {},
     "output_type": "execute_result"
    }
   ],
   "source": [
    "Brand = []\n",
    "\n",
    "for i in brand_tag:\n",
    "    Brand.append(i.text)\n",
    "Brand"
   ]
  },
  {
   "cell_type": "markdown",
   "id": "3a71d46b",
   "metadata": {},
   "source": [
    " EXTRACTING SUNGLASS TYPE"
   ]
  },
  {
   "cell_type": "code",
   "execution_count": 90,
   "id": "39789058",
   "metadata": {},
   "outputs": [
    {
     "data": {
      "text/plain": [
       "40"
      ]
     },
     "execution_count": 90,
     "metadata": {},
     "output_type": "execute_result"
    }
   ],
   "source": [
    "type_tag =driver.find_elements(By.XPATH,'//a[@class=\"IRpwTa\"]')\n",
    "len(type_tag)"
   ]
  },
  {
   "cell_type": "code",
   "execution_count": 91,
   "id": "c936f842",
   "metadata": {},
   "outputs": [
    {
     "data": {
      "text/plain": [
       "['UV Protection Rectangular Sunglasses (Free Size)',\n",
       " 'UV Protection Shield Sunglasses (Free Size)',\n",
       " 'UV Protection Aviator Sunglasses (58)',\n",
       " 'UV Protection, Gradient Round Sunglasses (Free Size)',\n",
       " 'Mirrored Aviator Sunglasses (55)',\n",
       " 'Mirrored, UV Protection, Riding Glasses, Others Round S...',\n",
       " 'UV Protection Round Sunglasses (54)',\n",
       " 'UV Protection Retro Square Sunglasses (Free Size)',\n",
       " 'UV Protection Aviator Sunglasses (55)',\n",
       " 'Riding Glasses, Night Vision Spectacle Sunglasses (Fre...',\n",
       " 'Mirrored, Night Vision Oval Sunglasses (Free Size)',\n",
       " 'Polarized Retro Square Sunglasses (61)',\n",
       " 'Gradient, UV Protection Wayfarer Sunglasses (Free Size)',\n",
       " 'UV Protection Rectangular Sunglasses (55)',\n",
       " 'UV Protection Rectangular Sunglasses (Free Size)',\n",
       " 'UV Protection Retro Square Sunglasses (55)',\n",
       " 'UV Protection, Gradient Butterfly Sunglasses (62)',\n",
       " 'UV Protection Aviator Sunglasses (Free Size)',\n",
       " 'Mirrored Aviator Sunglasses (Free Size)',\n",
       " 'by Lenskart Polarized, UV Protection Cat-eye Sunglasses...',\n",
       " 'UV Protection, Gradient Butterfly, Retro Square Sunglas...',\n",
       " 'UV Protection Wayfarer Sunglasses (Free Size)',\n",
       " 'UV Protection Aviator Sunglasses (54)',\n",
       " 'Others Oval Sunglasses (53)',\n",
       " 'UV Protection Round Sunglasses (53)',\n",
       " 'by Lenskart Polarized, UV Protection Rectangular Sungla...',\n",
       " 'Mirrored Aviator Sunglasses (58)',\n",
       " 'Polarized, UV Protection Wrap-around Sunglasses (62)',\n",
       " 'Polarized, UV Protection, Mirrored, Gradient Rectangula...',\n",
       " 'UV Protection Retro Square Sunglasses (Free Size)',\n",
       " 'Mirrored Aviator Sunglasses (55)',\n",
       " 'UV Protection Wayfarer Sunglasses (46)',\n",
       " 'UV Protection Rectangular Sunglasses (Free Size)',\n",
       " 'by Lenskart Polarized, UV Protection Wayfarer Sunglasse...',\n",
       " 'Polarized, UV Protection Round Sunglasses (50)',\n",
       " 'Mirrored Wayfarer Sunglasses (55)',\n",
       " 'UV Protection Round Sunglasses (Free Size)',\n",
       " 'UV Protection, Riding Glasses Rectangular, Retro Square...',\n",
       " 'Mirrored, UV Protection Wayfarer Sunglasses (Free Size)',\n",
       " 'by Lenskart Polarized, UV Protection Round Sunglasses (...']"
      ]
     },
     "execution_count": 91,
     "metadata": {},
     "output_type": "execute_result"
    }
   ],
   "source": [
    "Sunglass_type = []\n",
    "\n",
    "for i in type_tag:\n",
    "    Sunglass_type.append(i.text)\n",
    "Sunglass_type"
   ]
  },
  {
   "cell_type": "markdown",
   "id": "43dfd960",
   "metadata": {},
   "source": [
    "EXTRACTING PRICE"
   ]
  },
  {
   "cell_type": "code",
   "execution_count": 92,
   "id": "4116d861",
   "metadata": {},
   "outputs": [
    {
     "data": {
      "text/plain": [
       "40"
      ]
     },
     "execution_count": 92,
     "metadata": {},
     "output_type": "execute_result"
    }
   ],
   "source": [
    "price_tag =driver.find_elements(By.XPATH,'//div[@class=\"_30jeq3\"]')\n",
    "len(price_tag)"
   ]
  },
  {
   "cell_type": "code",
   "execution_count": 93,
   "id": "88e54d44",
   "metadata": {},
   "outputs": [
    {
     "data": {
      "text/plain": [
       "['₹303',\n",
       " '₹719',\n",
       " '₹1,039',\n",
       " '₹379',\n",
       " '₹379',\n",
       " '₹299',\n",
       " '₹194',\n",
       " '₹319',\n",
       " '₹246',\n",
       " '₹199',\n",
       " '₹189',\n",
       " '₹699',\n",
       " '₹719',\n",
       " '₹189',\n",
       " '₹219',\n",
       " '₹616',\n",
       " '₹699',\n",
       " '₹224',\n",
       " '₹379',\n",
       " '₹799',\n",
       " '₹498',\n",
       " '₹288',\n",
       " '₹223',\n",
       " '₹5,749',\n",
       " '₹219',\n",
       " '₹749',\n",
       " '₹379',\n",
       " '₹759',\n",
       " '₹529',\n",
       " '₹369',\n",
       " '₹379',\n",
       " '₹3,000',\n",
       " '₹154',\n",
       " '₹749',\n",
       " '₹849',\n",
       " '₹233',\n",
       " '₹245',\n",
       " '₹379',\n",
       " '₹899',\n",
       " '₹949']"
      ]
     },
     "execution_count": 93,
     "metadata": {},
     "output_type": "execute_result"
    }
   ],
   "source": [
    "Price = []\n",
    "\n",
    "for i in price_tag:\n",
    "    Price.append(i.text)\n",
    "Price"
   ]
  },
  {
   "cell_type": "markdown",
   "id": "d288f041",
   "metadata": {},
   "source": [
    "EXTRACTING OFFER"
   ]
  },
  {
   "cell_type": "code",
   "execution_count": 94,
   "id": "71cf9821",
   "metadata": {},
   "outputs": [
    {
     "data": {
      "text/plain": [
       "40"
      ]
     },
     "execution_count": 94,
     "metadata": {},
     "output_type": "execute_result"
    }
   ],
   "source": [
    "offer_tag =driver.find_elements(By.XPATH,'//div[@class=\"_3Ay6Sb\"]')\n",
    "len(offer_tag)"
   ]
  },
  {
   "cell_type": "code",
   "execution_count": 96,
   "id": "f8d23eba",
   "metadata": {},
   "outputs": [
    {
     "data": {
      "text/plain": [
       "['79% off',\n",
       " '20% off',\n",
       " '20% off',\n",
       " '81% off',\n",
       " '74% off',\n",
       " '81% off',\n",
       " '80% off',\n",
       " '68% off',\n",
       " '84% off',\n",
       " '80% off',\n",
       " '68% off',\n",
       " '53% off',\n",
       " '20% off',\n",
       " '85% off',\n",
       " '78% off',\n",
       " '69% off',\n",
       " '65% off',\n",
       " '81% off',\n",
       " '74% off',\n",
       " '60% off',\n",
       " '67% off',\n",
       " '80% off',\n",
       " '86% off',\n",
       " '10% off',\n",
       " '78% off',\n",
       " '62% off',\n",
       " '74% off',\n",
       " '62% off',\n",
       " '74% off',\n",
       " '81% off',\n",
       " '74% off',\n",
       " '50% off',\n",
       " '89% off',\n",
       " '70% off',\n",
       " '57% off',\n",
       " '76% off',\n",
       " '75% off',\n",
       " '74% off',\n",
       " '10% off',\n",
       " '52% off']"
      ]
     },
     "execution_count": 96,
     "metadata": {},
     "output_type": "execute_result"
    }
   ],
   "source": [
    "Offer = []\n",
    "\n",
    "for i in offer_tag:\n",
    "    Offer.append(i.text)\n",
    "Offer"
   ]
  },
  {
   "cell_type": "code",
   "execution_count": 100,
   "id": "3c8f68be",
   "metadata": {},
   "outputs": [
    {
     "data": {
      "text/plain": [
       "(40, 40, 40, 40)"
      ]
     },
     "execution_count": 100,
     "metadata": {},
     "output_type": "execute_result"
    }
   ],
   "source": [
    "#checking length of data scrapped data from page 2\n",
    "len(Brand),len(Sunglass_type),len(Price),len(Offer)"
   ]
  },
  {
   "cell_type": "markdown",
   "id": "30c8b704",
   "metadata": {},
   "source": [
    "STILL THE TOTAL DATA SCRAPPED IS 40+40=80, BUT WE NEED TO SCRAP DATA UNLESS IT IS 100 ,SO WE NEED TO GO TO NEXT PAGE"
   ]
  },
  {
   "cell_type": "code",
   "execution_count": 97,
   "id": "a881b2d4",
   "metadata": {},
   "outputs": [],
   "source": [
    "#CLICKING ON NEXT BUTTON\n",
    "next_btn2 = driver.find_element(By.XPATH,\"/html/body/div/div/div[3]/div[1]/div[2]/div[12]/div/div/nav/a[12]\")\n",
    "next_btn2.click()"
   ]
  },
  {
   "cell_type": "markdown",
   "id": "0d401a39",
   "metadata": {},
   "source": [
    "## EXTRACTING DATA (81-120)FROM NEXT PAGE"
   ]
  },
  {
   "cell_type": "markdown",
   "id": "49ba191c",
   "metadata": {},
   "source": [
    "EXTRACTING BRAND NAME(81-120)"
   ]
  },
  {
   "cell_type": "code",
   "execution_count": 98,
   "id": "27e2c9e3",
   "metadata": {},
   "outputs": [
    {
     "data": {
      "text/plain": [
       "40"
      ]
     },
     "execution_count": 98,
     "metadata": {},
     "output_type": "execute_result"
    }
   ],
   "source": [
    "brand_tag =driver.find_elements(By.XPATH,'//div[@class=\"_2WkVRV\"]')\n",
    "len(brand_tag)"
   ]
  },
  {
   "cell_type": "code",
   "execution_count": 99,
   "id": "a05d377a",
   "metadata": {},
   "outputs": [
    {
     "data": {
      "text/plain": [
       "['SUNBEE',\n",
       " 'ROZZETTA CRAFT',\n",
       " 'ROZZETTA CRAFT',\n",
       " 'povty',\n",
       " 'Rich Club',\n",
       " 'Fastrack',\n",
       " 'New Specs',\n",
       " 'VINCENT CHASE',\n",
       " 'Singco India',\n",
       " 'Singco India',\n",
       " 'Fastrack',\n",
       " 'john jacobs',\n",
       " 'kingsunglasses',\n",
       " 'Rich Club',\n",
       " 'kingsunglasses',\n",
       " 'VINCENT CHASE',\n",
       " 'New Specs',\n",
       " 'kingsunglasses',\n",
       " 'AISLIN',\n",
       " 'ROYAL SON',\n",
       " 'Fastrack',\n",
       " 'kingsunglasses',\n",
       " 'Mi',\n",
       " 'Sewell',\n",
       " 'VINCENT CHASE',\n",
       " 'VINCENT CHASE',\n",
       " 'Fastrack',\n",
       " 'ROYAL SON',\n",
       " 'SHAAH COLLECTIONS',\n",
       " 'PIRASO',\n",
       " 'ROYAL SON',\n",
       " 'ROYAL SON',\n",
       " 'ROZZETTA CRAFT',\n",
       " 'Fastrack',\n",
       " 'Fastrack',\n",
       " 'Sewell',\n",
       " 'ROYAL SON',\n",
       " 'ROYAL SON',\n",
       " 'Urbanic',\n",
       " 'GANSTA']"
      ]
     },
     "execution_count": 99,
     "metadata": {},
     "output_type": "execute_result"
    }
   ],
   "source": [
    "Brand = []\n",
    "\n",
    "for i in brand_tag:\n",
    "    Brand.append(i.text)\n",
    "Brand"
   ]
  },
  {
   "cell_type": "markdown",
   "id": "f6984cac",
   "metadata": {},
   "source": [
    "EXTRACTING SUNGLASS TYPE(81-120)"
   ]
  },
  {
   "cell_type": "code",
   "execution_count": 101,
   "id": "2040a164",
   "metadata": {},
   "outputs": [
    {
     "data": {
      "text/plain": [
       "40"
      ]
     },
     "execution_count": 101,
     "metadata": {},
     "output_type": "execute_result"
    }
   ],
   "source": [
    "type_tag =driver.find_elements(By.XPATH,'//a[@class=\"IRpwTa\"]')\n",
    "len(type_tag)"
   ]
  },
  {
   "cell_type": "code",
   "execution_count": 102,
   "id": "a04b7dcf",
   "metadata": {},
   "outputs": [
    {
     "data": {
      "text/plain": [
       "['UV Protection, Polarized, Mirrored Wayfarer Sunglasses ...',\n",
       " 'UV Protection Retro Square Sunglasses (Free Size)',\n",
       " 'UV Protection, Gradient Rectangular Sunglasses (Free Si...',\n",
       " 'UV Protection Retro Square Sunglasses (Free Size)',\n",
       " 'UV Protection Retro Square Sunglasses (54)',\n",
       " 'UV Protection Wayfarer Sunglasses (Free Size)',\n",
       " 'UV Protection Round Sunglasses (Free Size)',\n",
       " 'by Lenskart UV Protection Wayfarer Sunglasses (51)',\n",
       " 'Gradient, Toughened Glass Lens, UV Protection Retro Squ...',\n",
       " 'Gradient, Toughened Glass Lens, UV Protection Retro Squ...',\n",
       " 'UV Protection Wayfarer Sunglasses (Free Size)',\n",
       " 'UV Protection Wayfarer Sunglasses (46)',\n",
       " 'UV Protection Round Sunglasses (Free Size)',\n",
       " 'UV Protection, Others Round Sunglasses (48)',\n",
       " 'UV Protection, Mirrored Aviator Sunglasses (Free Size)',\n",
       " 'by Lenskart UV Protection Rectangular Sunglasses (54)',\n",
       " 'UV Protection Aviator Sunglasses (Free Size)',\n",
       " 'UV Protection Rectangular Sunglasses (55)',\n",
       " 'UV Protection, Gradient Oval Sunglasses (58)',\n",
       " 'UV Protection Over-sized Sunglasses (61)',\n",
       " 'UV Protection Wayfarer Sunglasses (Free Size)',\n",
       " 'Mirrored, UV Protection Wayfarer Sunglasses (Free Size)',\n",
       " 'Polarized Aviator Sunglasses (Free Size)',\n",
       " 'Polarized Butterfly Sunglasses (Free Size)',\n",
       " 'by Lenskart Polarized, UV Protection Cat-eye Sunglasses...',\n",
       " 'by Lenskart Polarized, UV Protection Round Sunglasses (...',\n",
       " 'Polarized Retro Square Sunglasses (Free Size)',\n",
       " 'Polarized, UV Protection Wrap-around Sunglasses (62)',\n",
       " 'UV Protection Round Sunglasses (Free Size)',\n",
       " 'UV Protection Butterfly Sunglasses (60)',\n",
       " 'UV Protection, Gradient Wayfarer Sunglasses (55)',\n",
       " 'Polarized, UV Protection Sports Sunglasses (68)',\n",
       " 'UV Protection, Gradient Round Sunglasses (Free Size)',\n",
       " 'UV Protection Shield Sunglasses (Free Size)',\n",
       " 'Gradient, UV Protection Wayfarer Sunglasses (Free Size)',\n",
       " 'Polarized Butterfly Sunglasses (Free Size)',\n",
       " 'UV Protection, Gradient Butterfly Sunglasses (52)',\n",
       " 'Polarized, UV Protection Wayfarer Sunglasses (61)',\n",
       " 'Others Oval Sunglasses (Free Size)',\n",
       " 'UV Protection, Night Vision, Riding Glasses Aviator Sun...']"
      ]
     },
     "execution_count": 102,
     "metadata": {},
     "output_type": "execute_result"
    }
   ],
   "source": [
    "Sunglass_type = []\n",
    "\n",
    "for i in type_tag:\n",
    "    Sunglass_type.append(i.text)\n",
    "Sunglass_type"
   ]
  },
  {
   "cell_type": "markdown",
   "id": "3e08e88f",
   "metadata": {},
   "source": [
    "EXTRACTING PRICE(81-120)"
   ]
  },
  {
   "cell_type": "code",
   "execution_count": 103,
   "id": "9a79f34e",
   "metadata": {},
   "outputs": [
    {
     "data": {
      "text/plain": [
       "40"
      ]
     },
     "execution_count": 103,
     "metadata": {},
     "output_type": "execute_result"
    }
   ],
   "source": [
    "price_tag =driver.find_elements(By.XPATH,'//div[@class=\"_30jeq3\"]')\n",
    "len(price_tag)"
   ]
  },
  {
   "cell_type": "code",
   "execution_count": 105,
   "id": "509cc43e",
   "metadata": {},
   "outputs": [
    {
     "data": {
      "text/plain": [
       "['₹283',\n",
       " '₹474',\n",
       " '₹379',\n",
       " '₹319',\n",
       " '₹265',\n",
       " '₹759',\n",
       " '₹268',\n",
       " '₹749',\n",
       " '₹598',\n",
       " '₹664',\n",
       " '₹899',\n",
       " '₹3,000',\n",
       " '₹329',\n",
       " '₹260',\n",
       " '₹269',\n",
       " '₹749',\n",
       " '₹214',\n",
       " '₹269',\n",
       " '₹498',\n",
       " '₹699',\n",
       " '₹599',\n",
       " '₹269',\n",
       " '₹899',\n",
       " '₹616',\n",
       " '₹949',\n",
       " '₹949',\n",
       " '₹639',\n",
       " '₹799',\n",
       " '₹324',\n",
       " '₹405',\n",
       " '₹217',\n",
       " '₹1,234',\n",
       " '₹379',\n",
       " '₹809',\n",
       " '₹679',\n",
       " '₹616',\n",
       " '₹664',\n",
       " '₹664',\n",
       " '₹499',\n",
       " '₹314']"
      ]
     },
     "execution_count": 105,
     "metadata": {},
     "output_type": "execute_result"
    }
   ],
   "source": [
    "Price = []\n",
    "\n",
    "for i in price_tag:\n",
    "    Price.append(i.text)\n",
    "Price"
   ]
  },
  {
   "cell_type": "markdown",
   "id": "a0f429e7",
   "metadata": {},
   "source": [
    "EXTRACTING OFFER FROM PAGE 3(81-120)"
   ]
  },
  {
   "cell_type": "code",
   "execution_count": 106,
   "id": "40f7dae1",
   "metadata": {},
   "outputs": [
    {
     "data": {
      "text/plain": [
       "40"
      ]
     },
     "execution_count": 106,
     "metadata": {},
     "output_type": "execute_result"
    }
   ],
   "source": [
    "offer_tag =driver.find_elements(By.XPATH,'//div[@class=\"_3Ay6Sb\"]')\n",
    "len(offer_tag)"
   ]
  },
  {
   "cell_type": "code",
   "execution_count": 107,
   "id": "3eb0d748",
   "metadata": {},
   "outputs": [
    {
     "data": {
      "text/plain": [
       "['78% off',\n",
       " '78% off',\n",
       " '81% off',\n",
       " '68% off',\n",
       " '62% off',\n",
       " '15% off',\n",
       " '79% off',\n",
       " '62% off',\n",
       " '80% off',\n",
       " '79% off',\n",
       " '10% off',\n",
       " '50% off',\n",
       " '79% off',\n",
       " '67% off',\n",
       " '85% off',\n",
       " '62% off',\n",
       " '86% off',\n",
       " '82% off',\n",
       " '67% off',\n",
       " '65% off',\n",
       " '25% off',\n",
       " '82% off',\n",
       " '25% off',\n",
       " '69% off',\n",
       " '52% off',\n",
       " '52% off',\n",
       " '20% off',\n",
       " '60% off',\n",
       " '80% off',\n",
       " '84% off',\n",
       " '78% off',\n",
       " '50% off',\n",
       " '81% off',\n",
       " '10% off',\n",
       " '15% off',\n",
       " '69% off',\n",
       " '66% off',\n",
       " '66% off',\n",
       " '49% off',\n",
       " '84% off']"
      ]
     },
     "execution_count": 107,
     "metadata": {},
     "output_type": "execute_result"
    }
   ],
   "source": [
    "Offer = []\n",
    "\n",
    "for i in offer_tag:\n",
    "    Offer.append(i.text)\n",
    "Offer"
   ]
  },
  {
   "cell_type": "markdown",
   "id": "484d16e0",
   "metadata": {},
   "source": [
    "SCRAPPED DESIRED DATA UNTIL THE COUNT IS 100"
   ]
  },
  {
   "cell_type": "markdown",
   "id": "67363678",
   "metadata": {},
   "source": [
    "# Q5: Scrape 100 reviews data from flipkart.com for iphone11 phone.\n",
    "This task will be done in following steps:\n",
    "1. First get the webpage https://www.flipkart.com/\n",
    "2. Enter “iphone 11” in “Search” field . \n",
    "3. Then click the search button. \n",
    "s shown in the above page you have to scrape the tick marked attributes.These are:\n",
    "1. Rating\n",
    "2. Review summary\n",
    "3. Full review\n",
    "4. You have to scrape this data for first 100 reviews."
   ]
  },
  {
   "cell_type": "code",
   "execution_count": 121,
   "id": "504d7c95",
   "metadata": {},
   "outputs": [],
   "source": [
    "#fetching chromedriver\n",
    "driver = webdriver.Chrome(r'C:\\Users\\nidsi\\Downloads\\chromedriver_win32\\chromedriver.exe')"
   ]
  },
  {
   "cell_type": "code",
   "execution_count": 122,
   "id": "8b924a6a",
   "metadata": {},
   "outputs": [],
   "source": [
    "url = 'https://www.flipkart.com/'\n",
    "driver.get(url)"
   ]
  },
  {
   "cell_type": "code",
   "execution_count": 123,
   "id": "f54365e6",
   "metadata": {},
   "outputs": [],
   "source": [
    "#searching for web elements  for search job bar usng id\n",
    "search_mob = driver.find_element(By.CLASS_NAME,\"_3704LK\")\n",
    "search_mob.send_keys('iphone 11 black 64 gb')"
   ]
  },
  {
   "cell_type": "code",
   "execution_count": 124,
   "id": "f8ad06b9",
   "metadata": {},
   "outputs": [],
   "source": [
    "#CLICKING ON SEARCH BUTTON\n",
    "search = driver.find_element(By.XPATH,\"/html/body/div/div/div[1]/div[1]/div[2]/div[2]/form/div/button\")\n",
    "search.click()"
   ]
  },
  {
   "cell_type": "code",
   "execution_count": 125,
   "id": "e0741a52",
   "metadata": {},
   "outputs": [],
   "source": [
    "#clicking on iphone\n",
    "iphone = driver.find_element(By.XPATH,\"/html/body/div[1]/div/div[3]/div[1]/div[2]/div[2]/div/div/div/a/div[2]/div[1]/div[1]\")\n",
    "iphone.click()"
   ]
  },
  {
   "cell_type": "code",
   "execution_count": 120,
   "id": "e077e794",
   "metadata": {
    "collapsed": true
   },
   "outputs": [
    {
     "ename": "WebDriverException",
     "evalue": "Message: chrome not reachable\n  (Session info: chrome=103.0.5060.114)\nStacktrace:\nBacktrace:\n\tOrdinal0 [0x00D36463+2188387]\n\tOrdinal0 [0x00CCE461+1762401]\n\tOrdinal0 [0x00BE3C40+801856]\n\tOrdinal0 [0x00BD8932+756018]\n\tOrdinal0 [0x00BD9168+758120]\n\tOrdinal0 [0x00BDAA22+764450]\n\tOrdinal0 [0x00BD4379+738169]\n\tOrdinal0 [0x00BE50D0+807120]\n\tOrdinal0 [0x00C3C402+1164290]\n\tOrdinal0 [0x00C2C5F6+1099254]\n\tOrdinal0 [0x00C06BE0+945120]\n\tOrdinal0 [0x00C07AD6+948950]\n\tGetHandleVerifier [0x00FD71F2+2712546]\n\tGetHandleVerifier [0x00FC886D+2652765]\n\tGetHandleVerifier [0x00DC002A+520730]\n\tGetHandleVerifier [0x00DBEE06+516086]\n\tOrdinal0 [0x00CD468B+1787531]\n\tOrdinal0 [0x00CD8E88+1805960]\n\tOrdinal0 [0x00CD8F75+1806197]\n\tOrdinal0 [0x00CE1DF1+1842673]\n\tBaseThreadInitThunk [0x75CF6739+25]\n\tRtlGetFullPathName_UEx [0x76F78FEF+1215]\n\tRtlGetFullPathName_UEx [0x76F78FBD+1165]\n",
     "output_type": "error",
     "traceback": [
      "\u001b[1;31m---------------------------------------------------------------------------\u001b[0m",
      "\u001b[1;31mWebDriverException\u001b[0m                        Traceback (most recent call last)",
      "\u001b[1;32m~\\AppData\\Local\\Temp/ipykernel_15896/3103842289.py\u001b[0m in \u001b[0;36m<module>\u001b[1;34m\u001b[0m\n\u001b[0;32m      1\u001b[0m \u001b[1;31m#getting url on new opened link after clicking previously\u001b[0m\u001b[1;33m\u001b[0m\u001b[1;33m\u001b[0m\u001b[0m\n\u001b[0;32m      2\u001b[0m \u001b[0murl\u001b[0m \u001b[1;33m=\u001b[0m \u001b[1;34m'https://www.flipkart.com/apple-iphone-11-black-64-gb/p/itm4e5041ba101fd?pid=MOBFWQ6BXGJCEYNY&lid=LSTMOBFWQ6BXGJCEYNYZXSHRJ&marketplace=FLIPKART&q=iphone+11+black+64+gb&store=tyy%2F4io&srno=s_1_1&otracker=search&otracker1=search&fm=organic&iid=98154f65-ca95-466c-8fa0-8d213146c3da.MOBFWQ6BXGJCEYNY.SEARCH&ppt=hp&ppn=homepage&ssid=nwhhaywwjk0000001657731543169&qH=5f530f2df85791a0'\u001b[0m\u001b[1;33m\u001b[0m\u001b[1;33m\u001b[0m\u001b[0m\n\u001b[1;32m----> 3\u001b[1;33m \u001b[0mdriver\u001b[0m\u001b[1;33m.\u001b[0m\u001b[0mget\u001b[0m\u001b[1;33m(\u001b[0m\u001b[0murl\u001b[0m\u001b[1;33m)\u001b[0m\u001b[1;33m\u001b[0m\u001b[1;33m\u001b[0m\u001b[0m\n\u001b[0m",
      "\u001b[1;32m~\\Anaconda3\\lib\\site-packages\\selenium\\webdriver\\remote\\webdriver.py\u001b[0m in \u001b[0;36mget\u001b[1;34m(self, url)\u001b[0m\n\u001b[0;32m    445\u001b[0m         \u001b[0mLoads\u001b[0m \u001b[0ma\u001b[0m \u001b[0mweb\u001b[0m \u001b[0mpage\u001b[0m \u001b[1;32min\u001b[0m \u001b[0mthe\u001b[0m \u001b[0mcurrent\u001b[0m \u001b[0mbrowser\u001b[0m \u001b[0msession\u001b[0m\u001b[1;33m.\u001b[0m\u001b[1;33m\u001b[0m\u001b[1;33m\u001b[0m\u001b[0m\n\u001b[0;32m    446\u001b[0m         \"\"\"\n\u001b[1;32m--> 447\u001b[1;33m         \u001b[0mself\u001b[0m\u001b[1;33m.\u001b[0m\u001b[0mexecute\u001b[0m\u001b[1;33m(\u001b[0m\u001b[0mCommand\u001b[0m\u001b[1;33m.\u001b[0m\u001b[0mGET\u001b[0m\u001b[1;33m,\u001b[0m \u001b[1;33m{\u001b[0m\u001b[1;34m'url'\u001b[0m\u001b[1;33m:\u001b[0m \u001b[0murl\u001b[0m\u001b[1;33m}\u001b[0m\u001b[1;33m)\u001b[0m\u001b[1;33m\u001b[0m\u001b[1;33m\u001b[0m\u001b[0m\n\u001b[0m\u001b[0;32m    448\u001b[0m \u001b[1;33m\u001b[0m\u001b[0m\n\u001b[0;32m    449\u001b[0m     \u001b[1;33m@\u001b[0m\u001b[0mproperty\u001b[0m\u001b[1;33m\u001b[0m\u001b[1;33m\u001b[0m\u001b[0m\n",
      "\u001b[1;32m~\\Anaconda3\\lib\\site-packages\\selenium\\webdriver\\remote\\webdriver.py\u001b[0m in \u001b[0;36mexecute\u001b[1;34m(self, driver_command, params)\u001b[0m\n\u001b[0;32m    433\u001b[0m         \u001b[0mresponse\u001b[0m \u001b[1;33m=\u001b[0m \u001b[0mself\u001b[0m\u001b[1;33m.\u001b[0m\u001b[0mcommand_executor\u001b[0m\u001b[1;33m.\u001b[0m\u001b[0mexecute\u001b[0m\u001b[1;33m(\u001b[0m\u001b[0mdriver_command\u001b[0m\u001b[1;33m,\u001b[0m \u001b[0mparams\u001b[0m\u001b[1;33m)\u001b[0m\u001b[1;33m\u001b[0m\u001b[1;33m\u001b[0m\u001b[0m\n\u001b[0;32m    434\u001b[0m         \u001b[1;32mif\u001b[0m \u001b[0mresponse\u001b[0m\u001b[1;33m:\u001b[0m\u001b[1;33m\u001b[0m\u001b[1;33m\u001b[0m\u001b[0m\n\u001b[1;32m--> 435\u001b[1;33m             \u001b[0mself\u001b[0m\u001b[1;33m.\u001b[0m\u001b[0merror_handler\u001b[0m\u001b[1;33m.\u001b[0m\u001b[0mcheck_response\u001b[0m\u001b[1;33m(\u001b[0m\u001b[0mresponse\u001b[0m\u001b[1;33m)\u001b[0m\u001b[1;33m\u001b[0m\u001b[1;33m\u001b[0m\u001b[0m\n\u001b[0m\u001b[0;32m    436\u001b[0m             response['value'] = self._unwrap_value(\n\u001b[0;32m    437\u001b[0m                 response.get('value', None))\n",
      "\u001b[1;32m~\\Anaconda3\\lib\\site-packages\\selenium\\webdriver\\remote\\errorhandler.py\u001b[0m in \u001b[0;36mcheck_response\u001b[1;34m(self, response)\u001b[0m\n\u001b[0;32m    245\u001b[0m                 \u001b[0malert_text\u001b[0m \u001b[1;33m=\u001b[0m \u001b[0mvalue\u001b[0m\u001b[1;33m[\u001b[0m\u001b[1;34m'alert'\u001b[0m\u001b[1;33m]\u001b[0m\u001b[1;33m.\u001b[0m\u001b[0mget\u001b[0m\u001b[1;33m(\u001b[0m\u001b[1;34m'text'\u001b[0m\u001b[1;33m)\u001b[0m\u001b[1;33m\u001b[0m\u001b[1;33m\u001b[0m\u001b[0m\n\u001b[0;32m    246\u001b[0m             \u001b[1;32mraise\u001b[0m \u001b[0mexception_class\u001b[0m\u001b[1;33m(\u001b[0m\u001b[0mmessage\u001b[0m\u001b[1;33m,\u001b[0m \u001b[0mscreen\u001b[0m\u001b[1;33m,\u001b[0m \u001b[0mstacktrace\u001b[0m\u001b[1;33m,\u001b[0m \u001b[0malert_text\u001b[0m\u001b[1;33m)\u001b[0m  \u001b[1;31m# type: ignore[call-arg]  # mypy is not smart enough here\u001b[0m\u001b[1;33m\u001b[0m\u001b[1;33m\u001b[0m\u001b[0m\n\u001b[1;32m--> 247\u001b[1;33m         \u001b[1;32mraise\u001b[0m \u001b[0mexception_class\u001b[0m\u001b[1;33m(\u001b[0m\u001b[0mmessage\u001b[0m\u001b[1;33m,\u001b[0m \u001b[0mscreen\u001b[0m\u001b[1;33m,\u001b[0m \u001b[0mstacktrace\u001b[0m\u001b[1;33m)\u001b[0m\u001b[1;33m\u001b[0m\u001b[1;33m\u001b[0m\u001b[0m\n\u001b[0m\u001b[0;32m    248\u001b[0m \u001b[1;33m\u001b[0m\u001b[0m\n\u001b[0;32m    249\u001b[0m     \u001b[1;32mdef\u001b[0m \u001b[0m_value_or_default\u001b[0m\u001b[1;33m(\u001b[0m\u001b[0mself\u001b[0m\u001b[1;33m,\u001b[0m \u001b[0mobj\u001b[0m\u001b[1;33m:\u001b[0m \u001b[0mMapping\u001b[0m\u001b[1;33m[\u001b[0m\u001b[0m_KT\u001b[0m\u001b[1;33m,\u001b[0m \u001b[0m_VT\u001b[0m\u001b[1;33m]\u001b[0m\u001b[1;33m,\u001b[0m \u001b[0mkey\u001b[0m\u001b[1;33m:\u001b[0m \u001b[0m_KT\u001b[0m\u001b[1;33m,\u001b[0m \u001b[0mdefault\u001b[0m\u001b[1;33m:\u001b[0m \u001b[0m_VT\u001b[0m\u001b[1;33m)\u001b[0m \u001b[1;33m->\u001b[0m \u001b[0m_VT\u001b[0m\u001b[1;33m:\u001b[0m\u001b[1;33m\u001b[0m\u001b[1;33m\u001b[0m\u001b[0m\n",
      "\u001b[1;31mWebDriverException\u001b[0m: Message: chrome not reachable\n  (Session info: chrome=103.0.5060.114)\nStacktrace:\nBacktrace:\n\tOrdinal0 [0x00D36463+2188387]\n\tOrdinal0 [0x00CCE461+1762401]\n\tOrdinal0 [0x00BE3C40+801856]\n\tOrdinal0 [0x00BD8932+756018]\n\tOrdinal0 [0x00BD9168+758120]\n\tOrdinal0 [0x00BDAA22+764450]\n\tOrdinal0 [0x00BD4379+738169]\n\tOrdinal0 [0x00BE50D0+807120]\n\tOrdinal0 [0x00C3C402+1164290]\n\tOrdinal0 [0x00C2C5F6+1099254]\n\tOrdinal0 [0x00C06BE0+945120]\n\tOrdinal0 [0x00C07AD6+948950]\n\tGetHandleVerifier [0x00FD71F2+2712546]\n\tGetHandleVerifier [0x00FC886D+2652765]\n\tGetHandleVerifier [0x00DC002A+520730]\n\tGetHandleVerifier [0x00DBEE06+516086]\n\tOrdinal0 [0x00CD468B+1787531]\n\tOrdinal0 [0x00CD8E88+1805960]\n\tOrdinal0 [0x00CD8F75+1806197]\n\tOrdinal0 [0x00CE1DF1+1842673]\n\tBaseThreadInitThunk [0x75CF6739+25]\n\tRtlGetFullPathName_UEx [0x76F78FEF+1215]\n\tRtlGetFullPathName_UEx [0x76F78FBD+1165]\n"
     ]
    }
   ],
   "source": [
    "#getting url on new opened link after clicking previously\n",
    "url = 'https://www.flipkart.com/apple-iphone-11-black-64-gb/p/itm4e5041ba101fd?pid=MOBFWQ6BXGJCEYNY&lid=LSTMOBFWQ6BXGJCEYNYZXSHRJ&marketplace=FLIPKART&q=iphone+11+black+64+gb&store=tyy%2F4io&srno=s_1_1&otracker=search&otracker1=search&fm=organic&iid=98154f65-ca95-466c-8fa0-8d213146c3da.MOBFWQ6BXGJCEYNY.SEARCH&ppt=hp&ppn=homepage&ssid=nwhhaywwjk0000001657731543169&qH=5f530f2df85791a0'\n",
    "driver.get(url)"
   ]
  },
  {
   "cell_type": "code",
   "execution_count": null,
   "id": "fd61bbda",
   "metadata": {},
   "outputs": [],
   "source": [
    "reviews = driver.find_elements(By.XPATH,\"/html/body/div[1]/div/div[3]/div[1]/div[2]/div[9]/div[5]/div/a\")\n",
    "reviews.click()\n"
   ]
  },
  {
   "cell_type": "markdown",
   "id": "4119afe5",
   "metadata": {},
   "source": [
    " EXTRACTING RATING"
   ]
  },
  {
   "cell_type": "code",
   "execution_count": 128,
   "id": "8524ea63",
   "metadata": {},
   "outputs": [
    {
     "data": {
      "text/plain": [
       "0"
      ]
     },
     "execution_count": 128,
     "metadata": {},
     "output_type": "execute_result"
    }
   ],
   "source": [
    "rate_tag =driver.find_elements(By.XPATH,'//div[@class=\"_3LWZlK _1BLPMq\"]')\n",
    "len(rate_tag)"
   ]
  },
  {
   "cell_type": "markdown",
   "id": "c45f5d1f",
   "metadata": {},
   "source": [
    "# SHARING THIS IPYNB FILE SEPARATELY OF QUESTION 5"
   ]
  },
  {
   "cell_type": "markdown",
   "id": "d120445d",
   "metadata": {},
   "source": [
    "## Q6: Scrape data for first 100 sneakers you find when you visit flipkart.com and search for “sneakers” in the  search field.\n",
    "You have to scrape 4 attributes of each sneaker:\n",
    "1. Brand\n",
    "2. Product Description\n",
    "3. Price\n",
    "As shown in the below image, you have to scrape the tick marked attributes "
   ]
  },
  {
   "cell_type": "code",
   "execution_count": 129,
   "id": "6e19aec9",
   "metadata": {},
   "outputs": [],
   "source": [
    "driver = webdriver.Chrome(r'C:\\Users\\nidsi\\Downloads\\chromedriver_win32\\chromedriver.exe')"
   ]
  },
  {
   "cell_type": "code",
   "execution_count": 130,
   "id": "9edfaa24",
   "metadata": {},
   "outputs": [],
   "source": [
    "#GETTING DESIRED LINK\n",
    "url = 'https://www.flipkart.com/'\n",
    "driver.get(url)"
   ]
  },
  {
   "cell_type": "code",
   "execution_count": 131,
   "id": "54bba7cb",
   "metadata": {},
   "outputs": [],
   "source": [
    "#searching foe sunglasses\n",
    "search_product = driver.find_element(By.CLASS_NAME,\"_3704LK\")\n",
    "search_product.send_keys(\"sneakers\")"
   ]
  },
  {
   "cell_type": "code",
   "execution_count": 132,
   "id": "03a7430b",
   "metadata": {},
   "outputs": [],
   "source": [
    "search_click = driver.find_element(By.XPATH,\"/html/body/div/div/div[1]/div[1]/div[2]/div[2]/form/div/button\")\n",
    "search_click.click()"
   ]
  },
  {
   "cell_type": "markdown",
   "id": "e03e91df",
   "metadata": {},
   "source": [
    "## EXTRACTING DESIRED DATA "
   ]
  },
  {
   "cell_type": "markdown",
   "id": "f7fdbf60",
   "metadata": {},
   "source": [
    " EXTRACTING BRAND NAME"
   ]
  },
  {
   "cell_type": "code",
   "execution_count": 133,
   "id": "bcc3564e",
   "metadata": {},
   "outputs": [
    {
     "data": {
      "text/plain": [
       "40"
      ]
     },
     "execution_count": 133,
     "metadata": {},
     "output_type": "execute_result"
    }
   ],
   "source": [
    "brand1_tag =driver.find_elements(By.XPATH,'//div[@class=\"_2WkVRV\"]')\n",
    "len(brand1_tag)"
   ]
  },
  {
   "cell_type": "code",
   "execution_count": 134,
   "id": "be46e6f4",
   "metadata": {},
   "outputs": [
    {
     "data": {
      "text/plain": [
       "40"
      ]
     },
     "execution_count": 134,
     "metadata": {},
     "output_type": "execute_result"
    }
   ],
   "source": [
    "Brand1 = []\n",
    "\n",
    "for i in brand1_tag:\n",
    "    Brand1.append(i.text)\n",
    "len(Brand1)"
   ]
  },
  {
   "cell_type": "code",
   "execution_count": 135,
   "id": "8d68f5a3",
   "metadata": {},
   "outputs": [
    {
     "data": {
      "text/plain": [
       "['Scull Wings',\n",
       " 'Shoes Icon',\n",
       " 'WOODLAND',\n",
       " 'BRUTON',\n",
       " 'SFR',\n",
       " 'BRUTON',\n",
       " 'Labbin',\n",
       " 'ZF - ALFIYA',\n",
       " 'URBANBOX',\n",
       " 'Magnolia',\n",
       " 'aadi',\n",
       " 'LAADSAHAB',\n",
       " 'BIRDE',\n",
       " 'BIRDE',\n",
       " 'Chevit',\n",
       " 'World Wear Footwear',\n",
       " 'PUMA',\n",
       " 'KWIK FIT',\n",
       " 'ONECENTRE',\n",
       " 'STRANGER BROTHERS',\n",
       " 'ASTEROID',\n",
       " 'HOTSTYLE',\n",
       " 'corsac',\n",
       " 'Shoes Icon',\n",
       " 'CLYMB',\n",
       " 'BIRDE',\n",
       " 'aadi',\n",
       " 'DLS',\n",
       " 'BRUTON',\n",
       " 'Noztile',\n",
       " 'PUMA',\n",
       " 'ANTA',\n",
       " 'SCATCHITE',\n",
       " 'Kraasa',\n",
       " 'Dizzler',\n",
       " 'KEYTAR',\n",
       " 'Kraasa',\n",
       " 'PEXLO',\n",
       " 'Kzaara',\n",
       " 'KEYTAR']"
      ]
     },
     "execution_count": 135,
     "metadata": {},
     "output_type": "execute_result"
    }
   ],
   "source": [
    "Brand1"
   ]
  },
  {
   "cell_type": "markdown",
   "id": "95d9064b",
   "metadata": {},
   "source": [
    " EXTRACTING SNEAKERS TYPE"
   ]
  },
  {
   "cell_type": "code",
   "execution_count": 136,
   "id": "ce7cce41",
   "metadata": {},
   "outputs": [
    {
     "data": {
      "text/plain": [
       "29"
      ]
     },
     "execution_count": 136,
     "metadata": {},
     "output_type": "execute_result"
    }
   ],
   "source": [
    "type1_tag =driver.find_elements(By.XPATH,'//a[@class=\"IRpwTa\"]')\n",
    "len(type1_tag)"
   ]
  },
  {
   "cell_type": "code",
   "execution_count": 137,
   "id": "d3ca5c5c",
   "metadata": {},
   "outputs": [
    {
     "data": {
      "text/plain": [
       "29"
      ]
     },
     "execution_count": 137,
     "metadata": {},
     "output_type": "execute_result"
    }
   ],
   "source": [
    "Sneakers_type = []\n",
    "\n",
    "for i in type1_tag:\n",
    "    Sneakers_type.append(i.text)\n",
    "len(Sneakers_type)"
   ]
  },
  {
   "cell_type": "code",
   "execution_count": 138,
   "id": "33932cbc",
   "metadata": {},
   "outputs": [
    {
     "data": {
      "text/plain": [
       "['Sneakers For Men',\n",
       " 'Modern Trendy Sneakers Shoes Sneakers For Men',\n",
       " 'Sneakers For Men',\n",
       " 'Modern Trendy Sneakers Shoes Sneakers For Men',\n",
       " 'Sneakers For Men',\n",
       " 'Sneakers For Men',\n",
       " 'Sneakers For Men',\n",
       " 'Sneakers For Men',\n",
       " 'Stylish Comfortable Lightweight, Breathable Walking Sho...',\n",
       " 'Stylish Comfortable Lightweight, Breathable Walking Sho...',\n",
       " 'Super Stylish & Trendy Combo Pack of 02 Pairs Sneakers ...',\n",
       " 'Puma Smash v2 L Sneakers For Men',\n",
       " 'Kwik FIT casual sneaker shoes and partywear shoes Casua...',\n",
       " 'STR2 Sneakers For Men',\n",
       " \"Original Luxury Branded Fashionable Men's Casual Walkin...\",\n",
       " 'Sneakers For Men',\n",
       " 'STYLISH MENS BLACK SNEAKER Sneakers For Men',\n",
       " 'Sneakers For Men',\n",
       " 'Stylish Comfortable Lightweight, Breathable Casual Walk...',\n",
       " 'Sneakers For Men',\n",
       " 'Sneaker Sneakers For Men',\n",
       " 'Sneakers For Men',\n",
       " 'Smash v2 L White- Black Sneakers For Men',\n",
       " 'Anta Blade Sneakers For Men',\n",
       " 'Sneakers Sneakers For Men',\n",
       " 'Casuals, Canvas, Partywear Sneakers For Men',\n",
       " 'Shark-41 Sneakers For Men',\n",
       " 'Combo Pack of 3 Casual Shoes Sneakers For Men',\n",
       " 'Sneakers For Men']"
      ]
     },
     "execution_count": 138,
     "metadata": {},
     "output_type": "execute_result"
    }
   ],
   "source": [
    "Sneakers_type"
   ]
  },
  {
   "cell_type": "markdown",
   "id": "47f97a72",
   "metadata": {},
   "source": [
    "EXTRACTING PRICE"
   ]
  },
  {
   "cell_type": "code",
   "execution_count": 139,
   "id": "59791570",
   "metadata": {},
   "outputs": [
    {
     "data": {
      "text/plain": [
       "40"
      ]
     },
     "execution_count": 139,
     "metadata": {},
     "output_type": "execute_result"
    }
   ],
   "source": [
    "price1_tag =driver.find_elements(By.XPATH,'//div[@class=\"_30jeq3\"]')\n",
    "len(price1_tag)"
   ]
  },
  {
   "cell_type": "code",
   "execution_count": 140,
   "id": "9998084a",
   "metadata": {},
   "outputs": [
    {
     "data": {
      "text/plain": [
       "40"
      ]
     },
     "execution_count": 140,
     "metadata": {},
     "output_type": "execute_result"
    }
   ],
   "source": [
    "Price1 = []\n",
    "\n",
    "for i in price1_tag:\n",
    "    Price1.append(i.text)\n",
    "len(Price1)"
   ]
  },
  {
   "cell_type": "code",
   "execution_count": 141,
   "id": "6bea6c37",
   "metadata": {},
   "outputs": [
    {
     "data": {
      "text/plain": [
       "['₹499',\n",
       " '₹399',\n",
       " '₹1,797',\n",
       " '₹284',\n",
       " '₹289',\n",
       " '₹299',\n",
       " '₹449',\n",
       " '₹449',\n",
       " '₹219',\n",
       " '₹449',\n",
       " '₹359',\n",
       " '₹599',\n",
       " '₹398',\n",
       " '₹442',\n",
       " '₹649',\n",
       " '₹296',\n",
       " '₹1,658',\n",
       " '₹397',\n",
       " '₹299',\n",
       " '₹496',\n",
       " '₹474',\n",
       " '₹284',\n",
       " '₹474',\n",
       " '₹439',\n",
       " '₹559',\n",
       " '₹398',\n",
       " '₹299',\n",
       " '₹349',\n",
       " '₹284',\n",
       " '₹414',\n",
       " '₹1,854',\n",
       " '₹2,085',\n",
       " '₹379',\n",
       " '₹539',\n",
       " '₹435',\n",
       " '₹438',\n",
       " '₹539',\n",
       " '₹707',\n",
       " '₹259',\n",
       " '₹399']"
      ]
     },
     "execution_count": 141,
     "metadata": {},
     "output_type": "execute_result"
    }
   ],
   "source": [
    "Price1"
   ]
  },
  {
   "cell_type": "markdown",
   "id": "b61e2194",
   "metadata": {},
   "source": [
    "EXTRACTING OFFERS"
   ]
  },
  {
   "cell_type": "code",
   "execution_count": 142,
   "id": "8237675d",
   "metadata": {},
   "outputs": [
    {
     "data": {
      "text/plain": [
       "40"
      ]
     },
     "execution_count": 142,
     "metadata": {},
     "output_type": "execute_result"
    }
   ],
   "source": [
    "offer_tag =driver.find_elements(By.XPATH,'//div[@class=\"_3Ay6Sb\"]')\n",
    "len(offer_tag)"
   ]
  },
  {
   "cell_type": "code",
   "execution_count": 143,
   "id": "202210a4",
   "metadata": {},
   "outputs": [
    {
     "data": {
      "text/plain": [
       "40"
      ]
     },
     "execution_count": 143,
     "metadata": {},
     "output_type": "execute_result"
    }
   ],
   "source": [
    "Offer = []\n",
    "\n",
    "for i in offer_tag:\n",
    "    Offer.append(i.text)\n",
    "len(Offer)"
   ]
  },
  {
   "cell_type": "code",
   "execution_count": 144,
   "id": "19752034",
   "metadata": {},
   "outputs": [
    {
     "data": {
      "text/plain": [
       "['66% off',\n",
       " '60% off',\n",
       " '40% off',\n",
       " '78% off',\n",
       " '71% off',\n",
       " '76% off',\n",
       " '55% off',\n",
       " '55% off',\n",
       " '78% off',\n",
       " '55% off',\n",
       " '64% off',\n",
       " '60% off',\n",
       " '60% off',\n",
       " '55% off',\n",
       " '65% off',\n",
       " '40% off',\n",
       " '52% off',\n",
       " '80% off',\n",
       " '51% off',\n",
       " '66% off',\n",
       " '76% off',\n",
       " '71% off',\n",
       " '68% off',\n",
       " '56% off',\n",
       " '62% off',\n",
       " '60% off',\n",
       " '70% off',\n",
       " '65% off',\n",
       " '78% off',\n",
       " '79% off',\n",
       " '47% off',\n",
       " '47% off',\n",
       " '62% off',\n",
       " '46% off',\n",
       " '39% off',\n",
       " '56% off',\n",
       " '46% off',\n",
       " '52% off',\n",
       " '74% off',\n",
       " '60% off']"
      ]
     },
     "execution_count": 144,
     "metadata": {},
     "output_type": "execute_result"
    }
   ],
   "source": [
    "Offer"
   ]
  },
  {
   "cell_type": "markdown",
   "id": "e8b2f284",
   "metadata": {},
   "source": [
    "## GOING TO NEXT PAGE FOR EXTRACTING MORE DATA   "
   ]
  },
  {
   "cell_type": "code",
   "execution_count": 145,
   "id": "0e86b462",
   "metadata": {},
   "outputs": [
    {
     "data": {
      "text/plain": [
       "<selenium.webdriver.remote.webelement.WebElement (session=\"bc8a0b45093a959887638fff55f66c60\", element=\"e8a06767-c939-4ae2-98ee-b38845464370\")>"
      ]
     },
     "execution_count": 145,
     "metadata": {},
     "output_type": "execute_result"
    }
   ],
   "source": [
    "#GOING TO NEXT BUTTON FOR EXTRACTING MORE DATA\n",
    "next_btn = driver.find_element(By.XPATH,\"/html/body/div/div/div[3]/div[1]/div[2]/div[12]/div/div/nav/a[11]\")\n",
    "next_btn"
   ]
  },
  {
   "cell_type": "code",
   "execution_count": 146,
   "id": "e0191521",
   "metadata": {},
   "outputs": [],
   "source": [
    "#clicking on next button\n",
    "next_btn.click()"
   ]
  },
  {
   "cell_type": "markdown",
   "id": "fbf2e3a3",
   "metadata": {},
   "source": [
    "## EXTRACTING DATA (41-80)FROM NEXT PAGE"
   ]
  },
  {
   "cell_type": "markdown",
   "id": "6697571b",
   "metadata": {},
   "source": [
    "EXTRACTING BRAND NAME"
   ]
  },
  {
   "cell_type": "code",
   "execution_count": 148,
   "id": "f83b1026",
   "metadata": {},
   "outputs": [
    {
     "data": {
      "text/plain": [
       "40"
      ]
     },
     "execution_count": 148,
     "metadata": {},
     "output_type": "execute_result"
    }
   ],
   "source": [
    "brand1_tag =driver.find_elements(By.XPATH,'//div[@class=\"_2WkVRV\"]')\n",
    "len(brand1_tag)"
   ]
  },
  {
   "cell_type": "code",
   "execution_count": 149,
   "id": "04f73f7a",
   "metadata": {},
   "outputs": [
    {
     "data": {
      "text/plain": [
       "['Kraasa',\n",
       " 'PUMA',\n",
       " 'Layasa',\n",
       " 'Wildcraft',\n",
       " 'BIRDE',\n",
       " 'D-SNEAKERZ',\n",
       " 'Robbie jones',\n",
       " 'Scull Wings',\n",
       " 'BRUTON',\n",
       " 'Rzisbo',\n",
       " 'Shoes Bank',\n",
       " 'Shoes Icon',\n",
       " 'BRUTON',\n",
       " 'ASTEROID',\n",
       " 'KNIGHT WALKERS',\n",
       " 'ZF - ALFIYA',\n",
       " 'DUKE',\n",
       " 'Magnolia',\n",
       " 'WHITE WALKERS',\n",
       " 'LAADSAHAB',\n",
       " 'AMICO',\n",
       " 'aadi',\n",
       " 'Numenzo',\n",
       " 'luxury fashion',\n",
       " 'Airland',\n",
       " 'SPARX',\n",
       " 'Airland',\n",
       " 'World Wear Footwear',\n",
       " 'Aragats',\n",
       " 'Chevit',\n",
       " 'Stinson',\n",
       " 'Shoes Icon',\n",
       " 'LE GREEM',\n",
       " 'Numenzo',\n",
       " 'luxury fashion',\n",
       " 'DLS',\n",
       " 'India hub',\n",
       " 'PUMA',\n",
       " 'BIRDE',\n",
       " 'AERAMBOL']"
      ]
     },
     "execution_count": 149,
     "metadata": {},
     "output_type": "execute_result"
    }
   ],
   "source": [
    "Brand1 = []\n",
    "\n",
    "for i in brand1_tag:\n",
    "    Brand1.append(i.text)\n",
    "Brand1"
   ]
  },
  {
   "cell_type": "markdown",
   "id": "7ffaf5a1",
   "metadata": {},
   "source": [
    " EXTRACTING SNEAKERS TYPE"
   ]
  },
  {
   "cell_type": "code",
   "execution_count": 150,
   "id": "34067eea",
   "metadata": {},
   "outputs": [
    {
     "data": {
      "text/plain": [
       "32"
      ]
     },
     "execution_count": 150,
     "metadata": {},
     "output_type": "execute_result"
    }
   ],
   "source": [
    "type1_tag =driver.find_elements(By.XPATH,'//a[@class=\"IRpwTa\"]')\n",
    "len(type1_tag)"
   ]
  },
  {
   "cell_type": "code",
   "execution_count": 151,
   "id": "3d733252",
   "metadata": {},
   "outputs": [
    {
     "data": {
      "text/plain": [
       "['Series 7 Sneakers For Men',\n",
       " 'Smash v2 L Sneakers For Men',\n",
       " 'Sneakers For Men',\n",
       " 'True Black Shoe Sneakers For Men',\n",
       " 'Sports Running Shoes Sneakers For Men',\n",
       " \"Casual , Partywear Sneakers Shoes For Men's And Boys Wh...\",\n",
       " 'Casual Sneakers Canvas Shoes For Men Sneakers For Men',\n",
       " 'Lattest Sneakers Shoe Sneakers For Men',\n",
       " 'Sneakers For Men',\n",
       " \"White Sneaker For Men's/Boy's Sneakers For Men\",\n",
       " 'Lightweight Pack Of 1 Trendy Sneakers Sneakers For Men',\n",
       " 'Original Luxury Branded Black Fancy Casual Walking Part...',\n",
       " 'SS1100 Sneakers For Men',\n",
       " 'Sneakers For Men',\n",
       " 'Sneakers For Men',\n",
       " 'Sneakers For Men',\n",
       " 'Stylish & Trending Outdoor Walking Comfortable Sneakers...',\n",
       " 'Sneakers For Men',\n",
       " 'Mesh | Ultralightweight | Comfortable | Breathable Walk...',\n",
       " '411 Casual Sneakers For Men',\n",
       " 'Luxury Fashionable casual sneaker shoes Sneakers For Me...',\n",
       " '1259 smart black lace-ups sneakers for men Sneakers For...',\n",
       " 'Men White Sneakers Sneakers For Men',\n",
       " 'sneaker men red 1258 - 9 Sneakers For Men',\n",
       " 'Casual Sneakers For Men',\n",
       " \"Men's Combo Pack of 02 Shoes for Men Casual Sneakers Ou...\",\n",
       " 'Comfortable & Ultra Light Weight Sneaker Sneakers For M...',\n",
       " 'Sneakers For Men',\n",
       " 'Luxury Fashionable casual sneaker shoes Sneakers For Me...',\n",
       " 'Luxury Fashionable casual sneaker shoes Sneakers For Me...',\n",
       " 'ST Activate V2 Sneakers For Men',\n",
       " 'Stylish Comfortable Lightweight, Breathable Walking Sho...']"
      ]
     },
     "execution_count": 151,
     "metadata": {},
     "output_type": "execute_result"
    }
   ],
   "source": [
    "Sneakers_type = []\n",
    "\n",
    "for i in type1_tag:\n",
    "    Sneakers_type.append(i.text)\n",
    "Sneakers_type"
   ]
  },
  {
   "cell_type": "markdown",
   "id": "78fd0c5b",
   "metadata": {},
   "source": [
    "EXTRACTING PRICE"
   ]
  },
  {
   "cell_type": "code",
   "execution_count": 152,
   "id": "020d1d06",
   "metadata": {},
   "outputs": [
    {
     "data": {
      "text/plain": [
       "40"
      ]
     },
     "execution_count": 152,
     "metadata": {},
     "output_type": "execute_result"
    }
   ],
   "source": [
    "price1_tag =driver.find_elements(By.XPATH,'//div[@class=\"_30jeq3\"]')\n",
    "len(price1_tag)"
   ]
  },
  {
   "cell_type": "code",
   "execution_count": 153,
   "id": "522c45a3",
   "metadata": {},
   "outputs": [
    {
     "data": {
      "text/plain": [
       "['₹539',\n",
       " '₹1,924',\n",
       " '₹499',\n",
       " '₹1,339',\n",
       " '₹353',\n",
       " '₹299',\n",
       " '₹449',\n",
       " '₹499',\n",
       " '₹269',\n",
       " '₹464',\n",
       " '₹297',\n",
       " '₹399',\n",
       " '₹199',\n",
       " '₹474',\n",
       " '₹664',\n",
       " '₹449',\n",
       " '₹1,047',\n",
       " '₹449',\n",
       " '₹599',\n",
       " '₹599',\n",
       " '₹494',\n",
       " '₹899',\n",
       " '₹402',\n",
       " '₹379',\n",
       " '₹239',\n",
       " '₹764',\n",
       " '₹246',\n",
       " '₹296',\n",
       " '₹521',\n",
       " '₹466',\n",
       " '₹249',\n",
       " '₹439',\n",
       " '₹424',\n",
       " '₹509',\n",
       " '₹399',\n",
       " '₹349',\n",
       " '₹397',\n",
       " '₹1,469',\n",
       " '₹442',\n",
       " '₹246']"
      ]
     },
     "execution_count": 153,
     "metadata": {},
     "output_type": "execute_result"
    }
   ],
   "source": [
    "Price1 = []\n",
    "\n",
    "for i in price1_tag:\n",
    "    Price1.append(i.text)\n",
    "Price1"
   ]
  },
  {
   "cell_type": "markdown",
   "id": "a19fe4ca",
   "metadata": {},
   "source": [
    "EXTRACTING OFFERS"
   ]
  },
  {
   "cell_type": "code",
   "execution_count": 154,
   "id": "df189c8f",
   "metadata": {},
   "outputs": [
    {
     "data": {
      "text/plain": [
       "40"
      ]
     },
     "execution_count": 154,
     "metadata": {},
     "output_type": "execute_result"
    }
   ],
   "source": [
    "offer_tag =driver.find_elements(By.XPATH,'//div[@class=\"_3Ay6Sb\"]')\n",
    "len(offer_tag)"
   ]
  },
  {
   "cell_type": "code",
   "execution_count": 155,
   "id": "46711b14",
   "metadata": {},
   "outputs": [
    {
     "data": {
      "text/plain": [
       "['46% off',\n",
       " '45% off',\n",
       " '50% off',\n",
       " '48% off',\n",
       " '64% off',\n",
       " '54% off',\n",
       " '55% off',\n",
       " '66% off',\n",
       " '79% off',\n",
       " '53% off',\n",
       " '70% off',\n",
       " '60% off',\n",
       " '66% off',\n",
       " '52% off',\n",
       " '66% off',\n",
       " '55% off',\n",
       " '68% off',\n",
       " '55% off',\n",
       " '50% off',\n",
       " '60% off',\n",
       " '50% off',\n",
       " '55% off',\n",
       " '79% off',\n",
       " '87% off',\n",
       " '52% off',\n",
       " '15% off',\n",
       " '50% off',\n",
       " '40% off',\n",
       " '47% off',\n",
       " '57% off',\n",
       " '50% off',\n",
       " '56% off',\n",
       " '57% off',\n",
       " '83% off',\n",
       " '69% off',\n",
       " '65% off',\n",
       " '80% off',\n",
       " '58% off',\n",
       " '55% off',\n",
       " '71% off']"
      ]
     },
     "execution_count": 155,
     "metadata": {},
     "output_type": "execute_result"
    }
   ],
   "source": [
    "Offer = []\n",
    "\n",
    "for i in offer_tag:\n",
    "    Offer.append(i.text)\n",
    "Offer"
   ]
  },
  {
   "cell_type": "markdown",
   "id": "3ca77bac",
   "metadata": {},
   "source": [
    "## GOING TO NEXT PAGE AND EXTRACTING MORE DATA UNTIL DATA COUNT IS 100.  "
   ]
  },
  {
   "cell_type": "code",
   "execution_count": 156,
   "id": "00ad0c6a",
   "metadata": {},
   "outputs": [],
   "source": [
    "#clicking on next button\n",
    "next_btn2 = driver.find_element(By.XPATH,\"/html/body/div/div/div[3]/div[1]/div[2]/div[12]/div/div/nav/a[12]\")\n",
    "next_btn2.click()"
   ]
  },
  {
   "cell_type": "markdown",
   "id": "d1b163fc",
   "metadata": {},
   "source": [
    "## EXTRACTING DATA (81-120)FROM NEXT PAGE\n"
   ]
  },
  {
   "cell_type": "markdown",
   "id": "dd0563e6",
   "metadata": {},
   "source": [
    "EXTRACTING BRAND NAME(81-120)"
   ]
  },
  {
   "cell_type": "code",
   "execution_count": 157,
   "id": "4dea6855",
   "metadata": {},
   "outputs": [
    {
     "data": {
      "text/plain": [
       "40"
      ]
     },
     "execution_count": 157,
     "metadata": {},
     "output_type": "execute_result"
    }
   ],
   "source": [
    "brand1_tag =driver.find_elements(By.XPATH,'//div[@class=\"_2WkVRV\"]')\n",
    "len(brand1_tag)"
   ]
  },
  {
   "cell_type": "code",
   "execution_count": 158,
   "id": "e98ae2f3",
   "metadata": {},
   "outputs": [
    {
     "data": {
      "text/plain": [
       "['T-ROCK',\n",
       " 'Layasa',\n",
       " 'BRUTON',\n",
       " 'Wildcraft',\n",
       " 'corsac',\n",
       " 'aadi',\n",
       " 'ROCKFIELD',\n",
       " 'Scull Wings',\n",
       " 'Eiffel',\n",
       " 'WHITE WALKERS',\n",
       " 'U.S. POLO ASSN.',\n",
       " 'Shoes Icon',\n",
       " 'URBANBOX',\n",
       " 'WHITE WALKERS',\n",
       " 'Magnolia',\n",
       " 'ZF - ALFIYA',\n",
       " 'PUMA',\n",
       " 'PEXLO',\n",
       " 'Robbie jones',\n",
       " 'corsac',\n",
       " 'PUMA',\n",
       " 'Xtoon',\n",
       " 'PUMA',\n",
       " 'luxury fashion',\n",
       " 'luxury fashion',\n",
       " 'ZF Klub',\n",
       " 'Kzaara',\n",
       " 'LAADSAHAB',\n",
       " 'Chevit',\n",
       " 'aadi',\n",
       " 'BRUTON',\n",
       " 'AERAMBOL',\n",
       " 'RapidBox',\n",
       " 'PUMA',\n",
       " 'DUNKASTON',\n",
       " 'STRANGER BROTHERS',\n",
       " 'PEXLO',\n",
       " 'Layasa',\n",
       " 'Bata',\n",
       " 'World Wear Footwear']"
      ]
     },
     "execution_count": 158,
     "metadata": {},
     "output_type": "execute_result"
    }
   ],
   "source": [
    "Brand1 = []\n",
    "\n",
    "for i in brand1_tag:\n",
    "    Brand1.append(i.text)\n",
    "Brand1"
   ]
  },
  {
   "cell_type": "markdown",
   "id": "832f4986",
   "metadata": {},
   "source": [
    " EXTRACTING SNEAKERS TYPE"
   ]
  },
  {
   "cell_type": "code",
   "execution_count": 160,
   "id": "8e4cdb68",
   "metadata": {},
   "outputs": [
    {
     "data": {
      "text/plain": [
       "28"
      ]
     },
     "execution_count": 160,
     "metadata": {},
     "output_type": "execute_result"
    }
   ],
   "source": [
    "type1_tag =driver.find_elements(By.XPATH,'//a[@class=\"IRpwTa\"]')\n",
    "len(type1_tag)"
   ]
  },
  {
   "cell_type": "code",
   "execution_count": 162,
   "id": "2499622f",
   "metadata": {},
   "outputs": [
    {
     "data": {
      "text/plain": [
       "['Stylish Party Wear Casual Sneakers Shoes For Men Sneake...',\n",
       " 'Sneakers For Men',\n",
       " 'Combo Pack Of 2 Latest Stylish Casual Shoes for Men Lac...',\n",
       " 'True Black Shoe Sneakers For Men',\n",
       " 'STYLISH MENS BLACK TRENDY SNEAKER FOR MENS Sneakers For...',\n",
       " 'Sneakers For Men',\n",
       " 'Sneakers For Men',\n",
       " 'Stylish & Trending Outdoor Walking Comfortable Sneakers...',\n",
       " 'CLARKIN Sneakers For Men',\n",
       " 'Stylish & Trending Outdoor Walking Comfortable Sneakers...',\n",
       " 'Sneakers For Men',\n",
       " 'Sneakers For Men',\n",
       " 'Combo Pack of 3 Casual Shoes, Sneakers For Men',\n",
       " 'Casual Sneakers White Shoes For Men Sneakers For Men',\n",
       " 'R78 Sneakers For Men',\n",
       " \"White casual, gym,training & Running sneakers for men's...\",\n",
       " 'Brave Sneakers For Men',\n",
       " 'Luxury Fashionable casual sneaker shoes Sneakers For Me...',\n",
       " 'Sneakers For Men',\n",
       " 'Sneakers For Men',\n",
       " 'Kzaara Sneakers Casual Canvas shoes | Branded Stylish O...',\n",
       " 'Sneakers For Men',\n",
       " 'Exclusive Sneaker Shoes Sneakers For Men',\n",
       " 'Blend Sneakers For Men',\n",
       " 'Sneakers For Men',\n",
       " 'Combo Pack of 4 Casual & Sports Shoes (Loafers Shoes) S...',\n",
       " 'Sneakers For Men',\n",
       " 'Canvas Sneaker Sneakers For Men']"
      ]
     },
     "execution_count": 162,
     "metadata": {},
     "output_type": "execute_result"
    }
   ],
   "source": [
    "Sneakers_type = []\n",
    "\n",
    "for i in type1_tag:\n",
    "    Sneakers_type.append(i.text)\n",
    "Sneakers_type"
   ]
  },
  {
   "cell_type": "markdown",
   "id": "da64de99",
   "metadata": {},
   "source": [
    "EXTRACTING PRICE"
   ]
  },
  {
   "cell_type": "code",
   "execution_count": 163,
   "id": "d8e61f51",
   "metadata": {},
   "outputs": [
    {
     "data": {
      "text/plain": [
       "40"
      ]
     },
     "execution_count": 163,
     "metadata": {},
     "output_type": "execute_result"
    }
   ],
   "source": [
    "price1_tag =driver.find_elements(By.XPATH,'//div[@class=\"_30jeq3\"]')\n",
    "len(price1_tag)"
   ]
  },
  {
   "cell_type": "code",
   "execution_count": 171,
   "id": "40755589",
   "metadata": {
    "collapsed": true
   },
   "outputs": [
    {
     "ename": "WebDriverException",
     "evalue": "Message: chrome not reachable\n  (Session info: chrome=103.0.5060.114)\nStacktrace:\nBacktrace:\n\tOrdinal0 [0x00D36463+2188387]\n\tOrdinal0 [0x00CCE461+1762401]\n\tOrdinal0 [0x00BE3C40+801856]\n\tOrdinal0 [0x00BD8932+756018]\n\tOrdinal0 [0x00BD9168+758120]\n\tOrdinal0 [0x00BDAA22+764450]\n\tOrdinal0 [0x00BD4379+738169]\n\tOrdinal0 [0x00BE50D0+807120]\n\tOrdinal0 [0x00C3C402+1164290]\n\tOrdinal0 [0x00C2C5F6+1099254]\n\tOrdinal0 [0x00C06BE0+945120]\n\tOrdinal0 [0x00C07AD6+948950]\n\tGetHandleVerifier [0x00FD71F2+2712546]\n\tGetHandleVerifier [0x00FC886D+2652765]\n\tGetHandleVerifier [0x00DC002A+520730]\n\tGetHandleVerifier [0x00DBEE06+516086]\n\tOrdinal0 [0x00CD468B+1787531]\n\tOrdinal0 [0x00CD8E88+1805960]\n\tOrdinal0 [0x00CD8F75+1806197]\n\tOrdinal0 [0x00CE1DF1+1842673]\n\tBaseThreadInitThunk [0x75CF6739+25]\n\tRtlGetFullPathName_UEx [0x76F78FEF+1215]\n\tRtlGetFullPathName_UEx [0x76F78FBD+1165]\n",
     "output_type": "error",
     "traceback": [
      "\u001b[1;31m---------------------------------------------------------------------------\u001b[0m",
      "\u001b[1;31mWebDriverException\u001b[0m                        Traceback (most recent call last)",
      "\u001b[1;32m~\\AppData\\Local\\Temp/ipykernel_15896/1895702934.py\u001b[0m in \u001b[0;36m<module>\u001b[1;34m\u001b[0m\n\u001b[0;32m      2\u001b[0m \u001b[1;33m\u001b[0m\u001b[0m\n\u001b[0;32m      3\u001b[0m \u001b[1;32mfor\u001b[0m \u001b[0mi\u001b[0m \u001b[1;32min\u001b[0m \u001b[0mprice1_tag\u001b[0m\u001b[1;33m:\u001b[0m\u001b[1;33m\u001b[0m\u001b[1;33m\u001b[0m\u001b[0m\n\u001b[1;32m----> 4\u001b[1;33m     \u001b[0mPrice1\u001b[0m\u001b[1;33m.\u001b[0m\u001b[0mappend\u001b[0m\u001b[1;33m(\u001b[0m\u001b[0mi\u001b[0m\u001b[1;33m.\u001b[0m\u001b[0mtext\u001b[0m\u001b[1;33m)\u001b[0m\u001b[1;33m\u001b[0m\u001b[1;33m\u001b[0m\u001b[0m\n\u001b[0m\u001b[0;32m      5\u001b[0m \u001b[0mPrice1\u001b[0m \u001b[1;33m=\u001b[0m \u001b[0mPrice1\u001b[0m\u001b[1;33m[\u001b[0m\u001b[1;36m0\u001b[0m\u001b[1;33m:\u001b[0m\u001b[1;36m20\u001b[0m\u001b[1;33m]\u001b[0m\u001b[1;33m\u001b[0m\u001b[1;33m\u001b[0m\u001b[0m\n\u001b[0;32m      6\u001b[0m \u001b[0mPrice1\u001b[0m\u001b[1;33m\u001b[0m\u001b[1;33m\u001b[0m\u001b[0m\n",
      "\u001b[1;32m~\\Anaconda3\\lib\\site-packages\\selenium\\webdriver\\remote\\webelement.py\u001b[0m in \u001b[0;36mtext\u001b[1;34m(self)\u001b[0m\n\u001b[0;32m     82\u001b[0m     \u001b[1;32mdef\u001b[0m \u001b[0mtext\u001b[0m\u001b[1;33m(\u001b[0m\u001b[0mself\u001b[0m\u001b[1;33m)\u001b[0m \u001b[1;33m->\u001b[0m \u001b[0mstr\u001b[0m\u001b[1;33m:\u001b[0m\u001b[1;33m\u001b[0m\u001b[1;33m\u001b[0m\u001b[0m\n\u001b[0;32m     83\u001b[0m         \u001b[1;34m\"\"\"The text of the element.\"\"\"\u001b[0m\u001b[1;33m\u001b[0m\u001b[1;33m\u001b[0m\u001b[0m\n\u001b[1;32m---> 84\u001b[1;33m         \u001b[1;32mreturn\u001b[0m \u001b[0mself\u001b[0m\u001b[1;33m.\u001b[0m\u001b[0m_execute\u001b[0m\u001b[1;33m(\u001b[0m\u001b[0mCommand\u001b[0m\u001b[1;33m.\u001b[0m\u001b[0mGET_ELEMENT_TEXT\u001b[0m\u001b[1;33m)\u001b[0m\u001b[1;33m[\u001b[0m\u001b[1;34m'value'\u001b[0m\u001b[1;33m]\u001b[0m\u001b[1;33m\u001b[0m\u001b[1;33m\u001b[0m\u001b[0m\n\u001b[0m\u001b[0;32m     85\u001b[0m \u001b[1;33m\u001b[0m\u001b[0m\n\u001b[0;32m     86\u001b[0m     \u001b[1;32mdef\u001b[0m \u001b[0mclick\u001b[0m\u001b[1;33m(\u001b[0m\u001b[0mself\u001b[0m\u001b[1;33m)\u001b[0m \u001b[1;33m->\u001b[0m \u001b[1;32mNone\u001b[0m\u001b[1;33m:\u001b[0m\u001b[1;33m\u001b[0m\u001b[1;33m\u001b[0m\u001b[0m\n",
      "\u001b[1;32m~\\Anaconda3\\lib\\site-packages\\selenium\\webdriver\\remote\\webelement.py\u001b[0m in \u001b[0;36m_execute\u001b[1;34m(self, command, params)\u001b[0m\n\u001b[0;32m    394\u001b[0m             \u001b[0mparams\u001b[0m \u001b[1;33m=\u001b[0m \u001b[1;33m{\u001b[0m\u001b[1;33m}\u001b[0m\u001b[1;33m\u001b[0m\u001b[1;33m\u001b[0m\u001b[0m\n\u001b[0;32m    395\u001b[0m         \u001b[0mparams\u001b[0m\u001b[1;33m[\u001b[0m\u001b[1;34m'id'\u001b[0m\u001b[1;33m]\u001b[0m \u001b[1;33m=\u001b[0m \u001b[0mself\u001b[0m\u001b[1;33m.\u001b[0m\u001b[0m_id\u001b[0m\u001b[1;33m\u001b[0m\u001b[1;33m\u001b[0m\u001b[0m\n\u001b[1;32m--> 396\u001b[1;33m         \u001b[1;32mreturn\u001b[0m \u001b[0mself\u001b[0m\u001b[1;33m.\u001b[0m\u001b[0m_parent\u001b[0m\u001b[1;33m.\u001b[0m\u001b[0mexecute\u001b[0m\u001b[1;33m(\u001b[0m\u001b[0mcommand\u001b[0m\u001b[1;33m,\u001b[0m \u001b[0mparams\u001b[0m\u001b[1;33m)\u001b[0m\u001b[1;33m\u001b[0m\u001b[1;33m\u001b[0m\u001b[0m\n\u001b[0m\u001b[0;32m    397\u001b[0m \u001b[1;33m\u001b[0m\u001b[0m\n\u001b[0;32m    398\u001b[0m     \u001b[1;32mdef\u001b[0m \u001b[0mfind_element\u001b[0m\u001b[1;33m(\u001b[0m\u001b[0mself\u001b[0m\u001b[1;33m,\u001b[0m \u001b[0mby\u001b[0m\u001b[1;33m=\u001b[0m\u001b[0mBy\u001b[0m\u001b[1;33m.\u001b[0m\u001b[0mID\u001b[0m\u001b[1;33m,\u001b[0m \u001b[0mvalue\u001b[0m\u001b[1;33m=\u001b[0m\u001b[1;32mNone\u001b[0m\u001b[1;33m)\u001b[0m \u001b[1;33m->\u001b[0m \u001b[0mWebElement\u001b[0m\u001b[1;33m:\u001b[0m\u001b[1;33m\u001b[0m\u001b[1;33m\u001b[0m\u001b[0m\n",
      "\u001b[1;32m~\\Anaconda3\\lib\\site-packages\\selenium\\webdriver\\remote\\webdriver.py\u001b[0m in \u001b[0;36mexecute\u001b[1;34m(self, driver_command, params)\u001b[0m\n\u001b[0;32m    433\u001b[0m         \u001b[0mresponse\u001b[0m \u001b[1;33m=\u001b[0m \u001b[0mself\u001b[0m\u001b[1;33m.\u001b[0m\u001b[0mcommand_executor\u001b[0m\u001b[1;33m.\u001b[0m\u001b[0mexecute\u001b[0m\u001b[1;33m(\u001b[0m\u001b[0mdriver_command\u001b[0m\u001b[1;33m,\u001b[0m \u001b[0mparams\u001b[0m\u001b[1;33m)\u001b[0m\u001b[1;33m\u001b[0m\u001b[1;33m\u001b[0m\u001b[0m\n\u001b[0;32m    434\u001b[0m         \u001b[1;32mif\u001b[0m \u001b[0mresponse\u001b[0m\u001b[1;33m:\u001b[0m\u001b[1;33m\u001b[0m\u001b[1;33m\u001b[0m\u001b[0m\n\u001b[1;32m--> 435\u001b[1;33m             \u001b[0mself\u001b[0m\u001b[1;33m.\u001b[0m\u001b[0merror_handler\u001b[0m\u001b[1;33m.\u001b[0m\u001b[0mcheck_response\u001b[0m\u001b[1;33m(\u001b[0m\u001b[0mresponse\u001b[0m\u001b[1;33m)\u001b[0m\u001b[1;33m\u001b[0m\u001b[1;33m\u001b[0m\u001b[0m\n\u001b[0m\u001b[0;32m    436\u001b[0m             response['value'] = self._unwrap_value(\n\u001b[0;32m    437\u001b[0m                 response.get('value', None))\n",
      "\u001b[1;32m~\\Anaconda3\\lib\\site-packages\\selenium\\webdriver\\remote\\errorhandler.py\u001b[0m in \u001b[0;36mcheck_response\u001b[1;34m(self, response)\u001b[0m\n\u001b[0;32m    245\u001b[0m                 \u001b[0malert_text\u001b[0m \u001b[1;33m=\u001b[0m \u001b[0mvalue\u001b[0m\u001b[1;33m[\u001b[0m\u001b[1;34m'alert'\u001b[0m\u001b[1;33m]\u001b[0m\u001b[1;33m.\u001b[0m\u001b[0mget\u001b[0m\u001b[1;33m(\u001b[0m\u001b[1;34m'text'\u001b[0m\u001b[1;33m)\u001b[0m\u001b[1;33m\u001b[0m\u001b[1;33m\u001b[0m\u001b[0m\n\u001b[0;32m    246\u001b[0m             \u001b[1;32mraise\u001b[0m \u001b[0mexception_class\u001b[0m\u001b[1;33m(\u001b[0m\u001b[0mmessage\u001b[0m\u001b[1;33m,\u001b[0m \u001b[0mscreen\u001b[0m\u001b[1;33m,\u001b[0m \u001b[0mstacktrace\u001b[0m\u001b[1;33m,\u001b[0m \u001b[0malert_text\u001b[0m\u001b[1;33m)\u001b[0m  \u001b[1;31m# type: ignore[call-arg]  # mypy is not smart enough here\u001b[0m\u001b[1;33m\u001b[0m\u001b[1;33m\u001b[0m\u001b[0m\n\u001b[1;32m--> 247\u001b[1;33m         \u001b[1;32mraise\u001b[0m \u001b[0mexception_class\u001b[0m\u001b[1;33m(\u001b[0m\u001b[0mmessage\u001b[0m\u001b[1;33m,\u001b[0m \u001b[0mscreen\u001b[0m\u001b[1;33m,\u001b[0m \u001b[0mstacktrace\u001b[0m\u001b[1;33m)\u001b[0m\u001b[1;33m\u001b[0m\u001b[1;33m\u001b[0m\u001b[0m\n\u001b[0m\u001b[0;32m    248\u001b[0m \u001b[1;33m\u001b[0m\u001b[0m\n\u001b[0;32m    249\u001b[0m     \u001b[1;32mdef\u001b[0m \u001b[0m_value_or_default\u001b[0m\u001b[1;33m(\u001b[0m\u001b[0mself\u001b[0m\u001b[1;33m,\u001b[0m \u001b[0mobj\u001b[0m\u001b[1;33m:\u001b[0m \u001b[0mMapping\u001b[0m\u001b[1;33m[\u001b[0m\u001b[0m_KT\u001b[0m\u001b[1;33m,\u001b[0m \u001b[0m_VT\u001b[0m\u001b[1;33m]\u001b[0m\u001b[1;33m,\u001b[0m \u001b[0mkey\u001b[0m\u001b[1;33m:\u001b[0m \u001b[0m_KT\u001b[0m\u001b[1;33m,\u001b[0m \u001b[0mdefault\u001b[0m\u001b[1;33m:\u001b[0m \u001b[0m_VT\u001b[0m\u001b[1;33m)\u001b[0m \u001b[1;33m->\u001b[0m \u001b[0m_VT\u001b[0m\u001b[1;33m:\u001b[0m\u001b[1;33m\u001b[0m\u001b[1;33m\u001b[0m\u001b[0m\n",
      "\u001b[1;31mWebDriverException\u001b[0m: Message: chrome not reachable\n  (Session info: chrome=103.0.5060.114)\nStacktrace:\nBacktrace:\n\tOrdinal0 [0x00D36463+2188387]\n\tOrdinal0 [0x00CCE461+1762401]\n\tOrdinal0 [0x00BE3C40+801856]\n\tOrdinal0 [0x00BD8932+756018]\n\tOrdinal0 [0x00BD9168+758120]\n\tOrdinal0 [0x00BDAA22+764450]\n\tOrdinal0 [0x00BD4379+738169]\n\tOrdinal0 [0x00BE50D0+807120]\n\tOrdinal0 [0x00C3C402+1164290]\n\tOrdinal0 [0x00C2C5F6+1099254]\n\tOrdinal0 [0x00C06BE0+945120]\n\tOrdinal0 [0x00C07AD6+948950]\n\tGetHandleVerifier [0x00FD71F2+2712546]\n\tGetHandleVerifier [0x00FC886D+2652765]\n\tGetHandleVerifier [0x00DC002A+520730]\n\tGetHandleVerifier [0x00DBEE06+516086]\n\tOrdinal0 [0x00CD468B+1787531]\n\tOrdinal0 [0x00CD8E88+1805960]\n\tOrdinal0 [0x00CD8F75+1806197]\n\tOrdinal0 [0x00CE1DF1+1842673]\n\tBaseThreadInitThunk [0x75CF6739+25]\n\tRtlGetFullPathName_UEx [0x76F78FEF+1215]\n\tRtlGetFullPathName_UEx [0x76F78FBD+1165]\n"
     ]
    }
   ],
   "source": [
    "Price1 = []\n",
    "\n",
    "for i in price1_tag:\n",
    "    Price1.append(i.text)\n",
    "Price1 = Price1[0:20]\n",
    "Price1"
   ]
  },
  {
   "cell_type": "markdown",
   "id": "6929fa58",
   "metadata": {},
   "source": [
    "EXTRACTING OFFERS"
   ]
  },
  {
   "cell_type": "code",
   "execution_count": 165,
   "id": "31ee6922",
   "metadata": {},
   "outputs": [
    {
     "data": {
      "text/plain": [
       "40"
      ]
     },
     "execution_count": 165,
     "metadata": {},
     "output_type": "execute_result"
    }
   ],
   "source": [
    "offer_tag =driver.find_elements(By.XPATH,'//div[@class=\"_3Ay6Sb\"]')\n",
    "len(offer_tag)"
   ]
  },
  {
   "cell_type": "code",
   "execution_count": 170,
   "id": "9e05a423",
   "metadata": {},
   "outputs": [
    {
     "data": {
      "text/plain": [
       "['30% off',\n",
       " '45% off',\n",
       " '77% off',\n",
       " '48% off',\n",
       " '66% off',\n",
       " '77% off',\n",
       " '71% off',\n",
       " '66% off',\n",
       " '53% off',\n",
       " '50% off',\n",
       " '40% off',\n",
       " '60% off',\n",
       " '64% off',\n",
       " '50% off',\n",
       " '57% off',\n",
       " '55% off',\n",
       " '36% off',\n",
       " '75% off',\n",
       " '55% off',\n",
       " '76% off',\n",
       " '41% off',\n",
       " '50% off',\n",
       " '56% off',\n",
       " '87% off',\n",
       " '78% off',\n",
       " '60% off',\n",
       " '75% off',\n",
       " '60% off',\n",
       " '67% off',\n",
       " '50% off',\n",
       " '76% off',\n",
       " '73% off',\n",
       " '36% off',\n",
       " '56% off',\n",
       " '70% off',\n",
       " '66% off',\n",
       " '66% off',\n",
       " '50% off',\n",
       " '2% off',\n",
       " '40% off']"
      ]
     },
     "execution_count": 170,
     "metadata": {},
     "output_type": "execute_result"
    }
   ],
   "source": [
    "Offer = []\n",
    "\n",
    "for i in offer_tag:\n",
    "    Offer.append(i.text)\n",
    "Offer"
   ]
  },
  {
   "cell_type": "code",
   "execution_count": 167,
   "id": "242c1858",
   "metadata": {},
   "outputs": [],
   "source": [
    "Offer= Offer[0:20]"
   ]
  },
  {
   "cell_type": "code",
   "execution_count": 169,
   "id": "e68e6bde",
   "metadata": {},
   "outputs": [
    {
     "data": {
      "text/plain": [
       "['30% off',\n",
       " '45% off',\n",
       " '77% off',\n",
       " '48% off',\n",
       " '66% off',\n",
       " '77% off',\n",
       " '71% off',\n",
       " '66% off',\n",
       " '53% off',\n",
       " '50% off',\n",
       " '40% off',\n",
       " '60% off',\n",
       " '64% off',\n",
       " '50% off',\n",
       " '57% off',\n",
       " '55% off',\n",
       " '36% off',\n",
       " '75% off',\n",
       " '55% off',\n",
       " '76% off']"
      ]
     },
     "execution_count": 169,
     "metadata": {},
     "output_type": "execute_result"
    }
   ],
   "source": [
    "Offer"
   ]
  },
  {
   "cell_type": "markdown",
   "id": "a9cbeefc",
   "metadata": {},
   "source": [
    "# Q7: Go to the link - https://www.myntra.com/shoes\n",
    "Set second Price filter and Color filter to “Black”, as shown in the given image. And then scrape First 100 shoes data you get. The data should include “Brand” of the shoes , Short Shoe description, price of the shoe as shown in the given image. "
   ]
  },
  {
   "cell_type": "code",
   "execution_count": 172,
   "id": "9a70c234",
   "metadata": {},
   "outputs": [],
   "source": [
    "#fetching chromedriver\n",
    "driver = webdriver.Chrome(r'C:\\Users\\nidsi\\Downloads\\chromedriver_win32\\chromedriver.exe')"
   ]
  },
  {
   "cell_type": "code",
   "execution_count": 173,
   "id": "1076cf5b",
   "metadata": {},
   "outputs": [],
   "source": [
    "url = 'https://www.myntra.com/shoes'\n",
    "driver.get(url)"
   ]
  },
  {
   "cell_type": "code",
   "execution_count": 174,
   "id": "1d610ae1",
   "metadata": {},
   "outputs": [],
   "source": [
    "#clicking desired price filter\n",
    "check_price = driver.find_element(By.XPATH,\"/html/body/div[2]/div/div[1]/main/div[3]/div[1]/section/div/div[5]/ul/li[2]/label\")\n",
    "check_price.click()"
   ]
  },
  {
   "cell_type": "code",
   "execution_count": 175,
   "id": "b50245d0",
   "metadata": {},
   "outputs": [],
   "source": [
    "#clicking desired color filter\n",
    "check_color = driver.find_element(By.XPATH,\"/html/body/div[2]/div/div[1]/main/div[3]/div[1]/section/div/div[6]/ul/li[1]/label\")\n",
    "check_color.click()"
   ]
  },
  {
   "cell_type": "markdown",
   "id": "b57cf112",
   "metadata": {},
   "source": [
    "EXTRACTING DESIRED DATA"
   ]
  },
  {
   "cell_type": "markdown",
   "id": "2dd2777d",
   "metadata": {},
   "source": [
    "EXTRACTING BRAND OF THE SHOES"
   ]
  },
  {
   "cell_type": "code",
   "execution_count": 176,
   "id": "85abef29",
   "metadata": {},
   "outputs": [
    {
     "data": {
      "text/plain": [
       "50"
      ]
     },
     "execution_count": 176,
     "metadata": {},
     "output_type": "execute_result"
    }
   ],
   "source": [
    "brand_tag =driver.find_elements(By.XPATH,'//h3[@class=\"product-brand\"]')\n",
    "len(brand_tag)"
   ]
  },
  {
   "cell_type": "code",
   "execution_count": 201,
   "id": "b81c3e1e",
   "metadata": {},
   "outputs": [
    {
     "ename": "WebDriverException",
     "evalue": "Message: chrome not reachable\n  (Session info: chrome=103.0.5060.114)\nStacktrace:\nBacktrace:\n\tOrdinal0 [0x00D36463+2188387]\n\tOrdinal0 [0x00CCE461+1762401]\n\tOrdinal0 [0x00BE3C40+801856]\n\tOrdinal0 [0x00BD8932+756018]\n\tOrdinal0 [0x00BD9168+758120]\n\tOrdinal0 [0x00BDAA22+764450]\n\tOrdinal0 [0x00BD4379+738169]\n\tOrdinal0 [0x00BE50D0+807120]\n\tOrdinal0 [0x00C3C402+1164290]\n\tOrdinal0 [0x00C2C5F6+1099254]\n\tOrdinal0 [0x00C06BE0+945120]\n\tOrdinal0 [0x00C07AD6+948950]\n\tGetHandleVerifier [0x00FD71F2+2712546]\n\tGetHandleVerifier [0x00FC886D+2652765]\n\tGetHandleVerifier [0x00DC002A+520730]\n\tGetHandleVerifier [0x00DBEE06+516086]\n\tOrdinal0 [0x00CD468B+1787531]\n\tOrdinal0 [0x00CD8E88+1805960]\n\tOrdinal0 [0x00CD8F75+1806197]\n\tOrdinal0 [0x00CE1DF1+1842673]\n\tBaseThreadInitThunk [0x75CF6739+25]\n\tRtlGetFullPathName_UEx [0x76F78FEF+1215]\n\tRtlGetFullPathName_UEx [0x76F78FBD+1165]\n",
     "output_type": "error",
     "traceback": [
      "\u001b[1;31m---------------------------------------------------------------------------\u001b[0m",
      "\u001b[1;31mWebDriverException\u001b[0m                        Traceback (most recent call last)",
      "\u001b[1;32m~\\AppData\\Local\\Temp/ipykernel_15896/3753425598.py\u001b[0m in \u001b[0;36m<module>\u001b[1;34m\u001b[0m\n\u001b[0;32m      2\u001b[0m \u001b[1;33m\u001b[0m\u001b[0m\n\u001b[0;32m      3\u001b[0m \u001b[1;32mfor\u001b[0m \u001b[0mi\u001b[0m \u001b[1;32min\u001b[0m \u001b[0mbrand_tag\u001b[0m\u001b[1;33m:\u001b[0m\u001b[1;33m\u001b[0m\u001b[1;33m\u001b[0m\u001b[0m\n\u001b[1;32m----> 4\u001b[1;33m     \u001b[0mBrand_name\u001b[0m\u001b[1;33m.\u001b[0m\u001b[0mappend\u001b[0m\u001b[1;33m(\u001b[0m\u001b[0mi\u001b[0m\u001b[1;33m.\u001b[0m\u001b[0mtext\u001b[0m\u001b[1;33m)\u001b[0m\u001b[1;33m\u001b[0m\u001b[1;33m\u001b[0m\u001b[0m\n\u001b[0m\u001b[0;32m      5\u001b[0m \u001b[0mBrand_name\u001b[0m \u001b[1;33m=\u001b[0m \u001b[0mBrand_name\u001b[0m\u001b[1;33m[\u001b[0m\u001b[1;36m0\u001b[0m\u001b[1;33m:\u001b[0m\u001b[1;36m10\u001b[0m\u001b[1;33m]\u001b[0m \u001b[1;31m#scrapping 10 data as required\u001b[0m\u001b[1;33m\u001b[0m\u001b[1;33m\u001b[0m\u001b[0m\n\u001b[0;32m      6\u001b[0m \u001b[0mBrand_name\u001b[0m\u001b[1;33m\u001b[0m\u001b[1;33m\u001b[0m\u001b[0m\n",
      "\u001b[1;32m~\\Anaconda3\\lib\\site-packages\\selenium\\webdriver\\remote\\webelement.py\u001b[0m in \u001b[0;36mtext\u001b[1;34m(self)\u001b[0m\n\u001b[0;32m     82\u001b[0m     \u001b[1;32mdef\u001b[0m \u001b[0mtext\u001b[0m\u001b[1;33m(\u001b[0m\u001b[0mself\u001b[0m\u001b[1;33m)\u001b[0m \u001b[1;33m->\u001b[0m \u001b[0mstr\u001b[0m\u001b[1;33m:\u001b[0m\u001b[1;33m\u001b[0m\u001b[1;33m\u001b[0m\u001b[0m\n\u001b[0;32m     83\u001b[0m         \u001b[1;34m\"\"\"The text of the element.\"\"\"\u001b[0m\u001b[1;33m\u001b[0m\u001b[1;33m\u001b[0m\u001b[0m\n\u001b[1;32m---> 84\u001b[1;33m         \u001b[1;32mreturn\u001b[0m \u001b[0mself\u001b[0m\u001b[1;33m.\u001b[0m\u001b[0m_execute\u001b[0m\u001b[1;33m(\u001b[0m\u001b[0mCommand\u001b[0m\u001b[1;33m.\u001b[0m\u001b[0mGET_ELEMENT_TEXT\u001b[0m\u001b[1;33m)\u001b[0m\u001b[1;33m[\u001b[0m\u001b[1;34m'value'\u001b[0m\u001b[1;33m]\u001b[0m\u001b[1;33m\u001b[0m\u001b[1;33m\u001b[0m\u001b[0m\n\u001b[0m\u001b[0;32m     85\u001b[0m \u001b[1;33m\u001b[0m\u001b[0m\n\u001b[0;32m     86\u001b[0m     \u001b[1;32mdef\u001b[0m \u001b[0mclick\u001b[0m\u001b[1;33m(\u001b[0m\u001b[0mself\u001b[0m\u001b[1;33m)\u001b[0m \u001b[1;33m->\u001b[0m \u001b[1;32mNone\u001b[0m\u001b[1;33m:\u001b[0m\u001b[1;33m\u001b[0m\u001b[1;33m\u001b[0m\u001b[0m\n",
      "\u001b[1;32m~\\Anaconda3\\lib\\site-packages\\selenium\\webdriver\\remote\\webelement.py\u001b[0m in \u001b[0;36m_execute\u001b[1;34m(self, command, params)\u001b[0m\n\u001b[0;32m    394\u001b[0m             \u001b[0mparams\u001b[0m \u001b[1;33m=\u001b[0m \u001b[1;33m{\u001b[0m\u001b[1;33m}\u001b[0m\u001b[1;33m\u001b[0m\u001b[1;33m\u001b[0m\u001b[0m\n\u001b[0;32m    395\u001b[0m         \u001b[0mparams\u001b[0m\u001b[1;33m[\u001b[0m\u001b[1;34m'id'\u001b[0m\u001b[1;33m]\u001b[0m \u001b[1;33m=\u001b[0m \u001b[0mself\u001b[0m\u001b[1;33m.\u001b[0m\u001b[0m_id\u001b[0m\u001b[1;33m\u001b[0m\u001b[1;33m\u001b[0m\u001b[0m\n\u001b[1;32m--> 396\u001b[1;33m         \u001b[1;32mreturn\u001b[0m \u001b[0mself\u001b[0m\u001b[1;33m.\u001b[0m\u001b[0m_parent\u001b[0m\u001b[1;33m.\u001b[0m\u001b[0mexecute\u001b[0m\u001b[1;33m(\u001b[0m\u001b[0mcommand\u001b[0m\u001b[1;33m,\u001b[0m \u001b[0mparams\u001b[0m\u001b[1;33m)\u001b[0m\u001b[1;33m\u001b[0m\u001b[1;33m\u001b[0m\u001b[0m\n\u001b[0m\u001b[0;32m    397\u001b[0m \u001b[1;33m\u001b[0m\u001b[0m\n\u001b[0;32m    398\u001b[0m     \u001b[1;32mdef\u001b[0m \u001b[0mfind_element\u001b[0m\u001b[1;33m(\u001b[0m\u001b[0mself\u001b[0m\u001b[1;33m,\u001b[0m \u001b[0mby\u001b[0m\u001b[1;33m=\u001b[0m\u001b[0mBy\u001b[0m\u001b[1;33m.\u001b[0m\u001b[0mID\u001b[0m\u001b[1;33m,\u001b[0m \u001b[0mvalue\u001b[0m\u001b[1;33m=\u001b[0m\u001b[1;32mNone\u001b[0m\u001b[1;33m)\u001b[0m \u001b[1;33m->\u001b[0m \u001b[0mWebElement\u001b[0m\u001b[1;33m:\u001b[0m\u001b[1;33m\u001b[0m\u001b[1;33m\u001b[0m\u001b[0m\n",
      "\u001b[1;32m~\\Anaconda3\\lib\\site-packages\\selenium\\webdriver\\remote\\webdriver.py\u001b[0m in \u001b[0;36mexecute\u001b[1;34m(self, driver_command, params)\u001b[0m\n\u001b[0;32m    433\u001b[0m         \u001b[0mresponse\u001b[0m \u001b[1;33m=\u001b[0m \u001b[0mself\u001b[0m\u001b[1;33m.\u001b[0m\u001b[0mcommand_executor\u001b[0m\u001b[1;33m.\u001b[0m\u001b[0mexecute\u001b[0m\u001b[1;33m(\u001b[0m\u001b[0mdriver_command\u001b[0m\u001b[1;33m,\u001b[0m \u001b[0mparams\u001b[0m\u001b[1;33m)\u001b[0m\u001b[1;33m\u001b[0m\u001b[1;33m\u001b[0m\u001b[0m\n\u001b[0;32m    434\u001b[0m         \u001b[1;32mif\u001b[0m \u001b[0mresponse\u001b[0m\u001b[1;33m:\u001b[0m\u001b[1;33m\u001b[0m\u001b[1;33m\u001b[0m\u001b[0m\n\u001b[1;32m--> 435\u001b[1;33m             \u001b[0mself\u001b[0m\u001b[1;33m.\u001b[0m\u001b[0merror_handler\u001b[0m\u001b[1;33m.\u001b[0m\u001b[0mcheck_response\u001b[0m\u001b[1;33m(\u001b[0m\u001b[0mresponse\u001b[0m\u001b[1;33m)\u001b[0m\u001b[1;33m\u001b[0m\u001b[1;33m\u001b[0m\u001b[0m\n\u001b[0m\u001b[0;32m    436\u001b[0m             response['value'] = self._unwrap_value(\n\u001b[0;32m    437\u001b[0m                 response.get('value', None))\n",
      "\u001b[1;32m~\\Anaconda3\\lib\\site-packages\\selenium\\webdriver\\remote\\errorhandler.py\u001b[0m in \u001b[0;36mcheck_response\u001b[1;34m(self, response)\u001b[0m\n\u001b[0;32m    245\u001b[0m                 \u001b[0malert_text\u001b[0m \u001b[1;33m=\u001b[0m \u001b[0mvalue\u001b[0m\u001b[1;33m[\u001b[0m\u001b[1;34m'alert'\u001b[0m\u001b[1;33m]\u001b[0m\u001b[1;33m.\u001b[0m\u001b[0mget\u001b[0m\u001b[1;33m(\u001b[0m\u001b[1;34m'text'\u001b[0m\u001b[1;33m)\u001b[0m\u001b[1;33m\u001b[0m\u001b[1;33m\u001b[0m\u001b[0m\n\u001b[0;32m    246\u001b[0m             \u001b[1;32mraise\u001b[0m \u001b[0mexception_class\u001b[0m\u001b[1;33m(\u001b[0m\u001b[0mmessage\u001b[0m\u001b[1;33m,\u001b[0m \u001b[0mscreen\u001b[0m\u001b[1;33m,\u001b[0m \u001b[0mstacktrace\u001b[0m\u001b[1;33m,\u001b[0m \u001b[0malert_text\u001b[0m\u001b[1;33m)\u001b[0m  \u001b[1;31m# type: ignore[call-arg]  # mypy is not smart enough here\u001b[0m\u001b[1;33m\u001b[0m\u001b[1;33m\u001b[0m\u001b[0m\n\u001b[1;32m--> 247\u001b[1;33m         \u001b[1;32mraise\u001b[0m \u001b[0mexception_class\u001b[0m\u001b[1;33m(\u001b[0m\u001b[0mmessage\u001b[0m\u001b[1;33m,\u001b[0m \u001b[0mscreen\u001b[0m\u001b[1;33m,\u001b[0m \u001b[0mstacktrace\u001b[0m\u001b[1;33m)\u001b[0m\u001b[1;33m\u001b[0m\u001b[1;33m\u001b[0m\u001b[0m\n\u001b[0m\u001b[0;32m    248\u001b[0m \u001b[1;33m\u001b[0m\u001b[0m\n\u001b[0;32m    249\u001b[0m     \u001b[1;32mdef\u001b[0m \u001b[0m_value_or_default\u001b[0m\u001b[1;33m(\u001b[0m\u001b[0mself\u001b[0m\u001b[1;33m,\u001b[0m \u001b[0mobj\u001b[0m\u001b[1;33m:\u001b[0m \u001b[0mMapping\u001b[0m\u001b[1;33m[\u001b[0m\u001b[0m_KT\u001b[0m\u001b[1;33m,\u001b[0m \u001b[0m_VT\u001b[0m\u001b[1;33m]\u001b[0m\u001b[1;33m,\u001b[0m \u001b[0mkey\u001b[0m\u001b[1;33m:\u001b[0m \u001b[0m_KT\u001b[0m\u001b[1;33m,\u001b[0m \u001b[0mdefault\u001b[0m\u001b[1;33m:\u001b[0m \u001b[0m_VT\u001b[0m\u001b[1;33m)\u001b[0m \u001b[1;33m->\u001b[0m \u001b[0m_VT\u001b[0m\u001b[1;33m:\u001b[0m\u001b[1;33m\u001b[0m\u001b[1;33m\u001b[0m\u001b[0m\n",
      "\u001b[1;31mWebDriverException\u001b[0m: Message: chrome not reachable\n  (Session info: chrome=103.0.5060.114)\nStacktrace:\nBacktrace:\n\tOrdinal0 [0x00D36463+2188387]\n\tOrdinal0 [0x00CCE461+1762401]\n\tOrdinal0 [0x00BE3C40+801856]\n\tOrdinal0 [0x00BD8932+756018]\n\tOrdinal0 [0x00BD9168+758120]\n\tOrdinal0 [0x00BDAA22+764450]\n\tOrdinal0 [0x00BD4379+738169]\n\tOrdinal0 [0x00BE50D0+807120]\n\tOrdinal0 [0x00C3C402+1164290]\n\tOrdinal0 [0x00C2C5F6+1099254]\n\tOrdinal0 [0x00C06BE0+945120]\n\tOrdinal0 [0x00C07AD6+948950]\n\tGetHandleVerifier [0x00FD71F2+2712546]\n\tGetHandleVerifier [0x00FC886D+2652765]\n\tGetHandleVerifier [0x00DC002A+520730]\n\tGetHandleVerifier [0x00DBEE06+516086]\n\tOrdinal0 [0x00CD468B+1787531]\n\tOrdinal0 [0x00CD8E88+1805960]\n\tOrdinal0 [0x00CD8F75+1806197]\n\tOrdinal0 [0x00CE1DF1+1842673]\n\tBaseThreadInitThunk [0x75CF6739+25]\n\tRtlGetFullPathName_UEx [0x76F78FEF+1215]\n\tRtlGetFullPathName_UEx [0x76F78FBD+1165]\n"
     ]
    }
   ],
   "source": [
    "Brand_name = []\n",
    "\n",
    "for i in brand_tag:\n",
    "    Brand_name.append(i.text)\n",
    "Brand_name = Brand_name[0:10] #scrapping 10 data as required\n",
    "Brand_name "
   ]
  },
  {
   "cell_type": "markdown",
   "id": "affc094a",
   "metadata": {},
   "source": [
    "EXTRACTING PRODUCT DESCRIPTION"
   ]
  },
  {
   "cell_type": "code",
   "execution_count": 178,
   "id": "96af26e9",
   "metadata": {},
   "outputs": [
    {
     "data": {
      "text/plain": [
       "50"
      ]
     },
     "execution_count": 178,
     "metadata": {},
     "output_type": "execute_result"
    }
   ],
   "source": [
    "short_description =driver.find_elements(By.XPATH,'//h4[@class=\"product-product\"]')\n",
    "len(short_description)"
   ]
  },
  {
   "cell_type": "code",
   "execution_count": 179,
   "id": "b39f30a1",
   "metadata": {},
   "outputs": [
    {
     "data": {
      "text/plain": [
       "['Men React Infinity 3 Running',\n",
       " 'Eternity Nitro Running Shoes',\n",
       " 'Men Colourblocked Sneakers',\n",
       " 'Men Go Walk 5 Walking Shoes',\n",
       " 'Men KD 15 Basketball Shoes',\n",
       " 'Men SRG 3 FK Training Shoes',\n",
       " 'Men Zoom C Pro HC Tennis Shoes',\n",
       " 'Women React MR 3 Running Shoes',\n",
       " 'Women React Escape Running',\n",
       " 'Women Free Metcon 4 Training',\n",
       " 'Men Solid Leather Formal Slip-Ons',\n",
       " 'Unisex Court Rider Shoes',\n",
       " 'Men Solar Glide 4 ST Running',\n",
       " 'Men Sky Vault Walking Shoes',\n",
       " 'Men HOVR Sonic SE Running Shoe',\n",
       " 'Unisex TRC Blaze Sneakers',\n",
       " 'Men FUSE Performance Training',\n",
       " 'Men UA Charged Vantage 2 Run',\n",
       " 'Men MAX CUSHIONING ELITE-LUCID',\n",
       " 'Men Defiant Generation Tennis',\n",
       " 'Men Walking Shoes',\n",
       " 'Women SN1997 Running Shoes',\n",
       " 'PEAKFREAK OUTDRY Trekking Shoe',\n",
       " 'Men Solid Oznova Sneakers',\n",
       " 'Men Adizero Boston 11 Running',\n",
       " 'Unisex Wild Rider Sneakers',\n",
       " 'Men Woven Design Suede Sneakers',\n",
       " 'Men Black Walking Shoes',\n",
       " 'Men Leather Sneakers',\n",
       " 'Fives Blaze Court Basketball',\n",
       " 'Men RS-Z Molded Men Sneakers',\n",
       " 'Men Woven Design Suede Sneakers',\n",
       " 'Men Lightweight Sneakers',\n",
       " 'Men ENIGMA Running Shoes',\n",
       " 'Women KarlieKlossX9000 Running',\n",
       " 'Men Formal Derbys',\n",
       " 'Women Hovr Sonic SE Run Shoes',\n",
       " 'Men Leather Slip-Ons',\n",
       " 'Leather High-Top Heeled Boots',\n",
       " 'Men Deviate Nitro Shoes',\n",
       " 'Men Velocity Nitro Running',\n",
       " 'Men Mid-Top Suede Sneakers',\n",
       " 'Leather Flatform Sandals',\n",
       " 'Women Eternity NITRO Shoes',\n",
       " 'Men Velocity Nitro 2 Running',\n",
       " 'Men GEL-GLYDE 3 MX Running',\n",
       " 'Leather Ankle Boots',\n",
       " 'Men GEL-Quantum 360 6 Sports',\n",
       " 'Women SL20.3 Running Shoes',\n",
       " 'Men Textured Sneakers']"
      ]
     },
     "execution_count": 179,
     "metadata": {},
     "output_type": "execute_result"
    }
   ],
   "source": [
    "Short_description = []\n",
    "\n",
    "for i in short_description:\n",
    "    Short_description.append(i.text)\n",
    "Short_description"
   ]
  },
  {
   "cell_type": "markdown",
   "id": "9bc6307e",
   "metadata": {},
   "source": [
    "EXTRACTING PRICE"
   ]
  },
  {
   "cell_type": "code",
   "execution_count": 180,
   "id": "1063fbad",
   "metadata": {},
   "outputs": [
    {
     "data": {
      "text/plain": [
       "50"
      ]
     },
     "execution_count": 180,
     "metadata": {},
     "output_type": "execute_result"
    }
   ],
   "source": [
    "price_tag =driver.find_elements(By.XPATH,'//div[@class=\"product-price\"]')\n",
    "len(price_tag)"
   ]
  },
  {
   "cell_type": "code",
   "execution_count": 200,
   "id": "c2cf3752",
   "metadata": {},
   "outputs": [
    {
     "data": {
      "text/plain": [
       "['89,990',\n",
       " '57,890',\n",
       " '53,999',\n",
       " '75,903',\n",
       " '87,900',\n",
       " '82,990',\n",
       " '1,26,990',\n",
       " '56,995',\n",
       " '94,990',\n",
       " '86,990']"
      ]
     },
     "execution_count": 200,
     "metadata": {},
     "output_type": "execute_result"
    }
   ],
   "source": [
    "Price = []\n",
    "\n",
    "for i in price_tag:\n",
    "    Price.append(i.text)\n",
    "\n",
    "Price"
   ]
  },
  {
   "cell_type": "markdown",
   "id": "43d44860",
   "metadata": {},
   "source": [
    "## GOING TO NEXT PAGE AND EXTRACTING MORE DATA UNTIL DATA COUNT IS 100. \n"
   ]
  },
  {
   "cell_type": "code",
   "execution_count": 182,
   "id": "30e80046",
   "metadata": {},
   "outputs": [],
   "source": [
    "#CLICKING ON NEXT BUTTON\n",
    "next_btn = driver.find_element(By.XPATH,\"/html/body/div[2]/div/div[1]/main/div[3]/div[2]/div/div[2]/section/div[2]/ul/li[3]/a\")\n",
    "next_btn.click()"
   ]
  },
  {
   "cell_type": "markdown",
   "id": "b0c60a76",
   "metadata": {},
   "source": [
    "EXTRACTING MORE DATA FROM NEXT PAGE"
   ]
  },
  {
   "cell_type": "markdown",
   "id": "df736121",
   "metadata": {},
   "source": [
    "EXTRACTING BRAND OF THE SHOES FROM NEXT PAGE"
   ]
  },
  {
   "cell_type": "code",
   "execution_count": 183,
   "id": "888ab85b",
   "metadata": {},
   "outputs": [
    {
     "data": {
      "text/plain": [
       "50"
      ]
     },
     "execution_count": 183,
     "metadata": {},
     "output_type": "execute_result"
    }
   ],
   "source": [
    "brand_tag =driver.find_elements(By.XPATH,'//h3[@class=\"product-brand\"]')\n",
    "len(brand_tag)"
   ]
  },
  {
   "cell_type": "code",
   "execution_count": 184,
   "id": "ca58afbc",
   "metadata": {},
   "outputs": [
    {
     "data": {
      "text/plain": [
       "['Skechers',\n",
       " 'Hush Puppies',\n",
       " 'Puma',\n",
       " 'Puma',\n",
       " 'Columbia',\n",
       " 'UNDER ARMOUR',\n",
       " 'Puma',\n",
       " 'ASICS',\n",
       " 'KIPRUN By Decathlon',\n",
       " 'Tommy Hilfiger',\n",
       " 'Puma',\n",
       " 'Bugatti',\n",
       " 'Saint G',\n",
       " 'Cole Haan',\n",
       " 'Heel & Buckle London',\n",
       " 'Geox',\n",
       " 'PUMA Motorsport',\n",
       " 'Geox',\n",
       " 'Geox',\n",
       " 'Louis Philippe',\n",
       " 'J.FONTINI',\n",
       " 'Bugatti',\n",
       " 'Geox',\n",
       " 'Heel & Buckle London',\n",
       " 'fitflop',\n",
       " 'Clarks',\n",
       " 'Geox',\n",
       " 'Columbia',\n",
       " 'Hush Puppies',\n",
       " 'Saint G',\n",
       " 'Geox',\n",
       " 'ADIDAS Originals',\n",
       " 'DAVINCHI',\n",
       " 'TOMS',\n",
       " 'Geox',\n",
       " 'Saint G',\n",
       " 'fitflop',\n",
       " 'TOMS',\n",
       " 'ROSSO BRUNELLO',\n",
       " 'J.FONTINI',\n",
       " 'ROSSO BRUNELLO',\n",
       " 'Geox',\n",
       " 'PUMA Motorsport',\n",
       " 'Puma',\n",
       " 'Columbia',\n",
       " 'Geox',\n",
       " 'Geox',\n",
       " 'Puma',\n",
       " 'Geox',\n",
       " 'Saint G']"
      ]
     },
     "execution_count": 184,
     "metadata": {},
     "output_type": "execute_result"
    }
   ],
   "source": [
    "Brand_name = []\n",
    "\n",
    "for i in brand_tag:\n",
    "    Brand_name.append(i.text)\n",
    "Brand_name"
   ]
  },
  {
   "cell_type": "markdown",
   "id": "fc5aaac5",
   "metadata": {},
   "source": [
    "EXTRACTING PRODUCT DESCRIPTION FROM NEXT PAGE"
   ]
  },
  {
   "cell_type": "code",
   "execution_count": 185,
   "id": "b2d2eff5",
   "metadata": {},
   "outputs": [
    {
     "data": {
      "text/plain": [
       "50"
      ]
     },
     "execution_count": 185,
     "metadata": {},
     "output_type": "execute_result"
    }
   ],
   "source": [
    "short_description =driver.find_elements(By.XPATH,'//h4[@class=\"product-product\"]')\n",
    "len(short_description)"
   ]
  },
  {
   "cell_type": "code",
   "execution_count": 186,
   "id": "25c3da44",
   "metadata": {},
   "outputs": [
    {
     "data": {
      "text/plain": [
       "['Men Textured Sneakers',\n",
       " 'Men Solid Leather Formal Slip-Ons',\n",
       " 'Women Electrify Nitro Running',\n",
       " 'Women Magnify Nitro Running',\n",
       " 'Women Trekking Shoes',\n",
       " 'Women Charged Breeze Running',\n",
       " 'Men M Nitro Running Shoess',\n",
       " 'GEL-Pulse 13 Running Shoes',\n",
       " 'Men Running Shoes',\n",
       " 'Men Solid Suede Sneakers',\n",
       " 'Unisex KING Pro 21 Football',\n",
       " 'Men Textured Leather High-Top Flat Boots',\n",
       " 'Leather Block Sandals',\n",
       " 'Men GENERATION ZEROGRAND STITCHLITE',\n",
       " 'Men Leather Sneakers',\n",
       " 'Leather Block Sandals',\n",
       " 'Men PL Low Racer Men Sneakers',\n",
       " 'Men Textured Leather Sneakers',\n",
       " 'Men Perforations Sneakers',\n",
       " 'Men Textured Leather Loafers',\n",
       " 'Men Solid Loafers',\n",
       " 'Men Black Formal Derby Shoes',\n",
       " 'Women Ballerinas Flats',\n",
       " 'Men Textured Leather Formal Loafers',\n",
       " 'Flatform Sandals with Buckles',\n",
       " 'Men Woven Design Suede Flat Boots',\n",
       " 'Men Leather Sneakers',\n",
       " 'Cascade Peak II Jacket',\n",
       " 'Men Solid Formal Slip-Ons',\n",
       " 'Men Solid Leather Formal Boots',\n",
       " 'Men Leather Sneakers',\n",
       " 'Women Ozelia Sneakers',\n",
       " 'Men Textured Formal Leather Loafers',\n",
       " 'Men Alpargata Slip-On Sneakers',\n",
       " 'Men Leather Sneakers',\n",
       " 'Leather Block Sandals with Buckles',\n",
       " 'Embellished Leather Flatform Sandals',\n",
       " 'Men Sneakers',\n",
       " 'Men Leather Slip-On Sneakers',\n",
       " 'Men Leather Fashion',\n",
       " 'Men Perforations Leather Slip-On Sneakers',\n",
       " 'Women Leather Slip-On Sneakers',\n",
       " 'Women Sneakers',\n",
       " 'Women RS-Z Luminous Sneakers',\n",
       " 'Women REDMOND V2 TrekkingShoe',\n",
       " 'Textured Leather Block Pumps',\n",
       " 'Leather Block Pumps',\n",
       " 'Women Running Sports Shoes',\n",
       " 'Women Leather Sneakers',\n",
       " 'Leather Block']"
      ]
     },
     "execution_count": 186,
     "metadata": {},
     "output_type": "execute_result"
    }
   ],
   "source": [
    "Short_description = []\n",
    "\n",
    "for i in short_description:\n",
    "    Short_description.append(i.text)\n",
    "Short_description"
   ]
  },
  {
   "cell_type": "markdown",
   "id": "498d6713",
   "metadata": {},
   "source": [
    "EXTRACTING PRICE FROM NEXT PAGE"
   ]
  },
  {
   "cell_type": "code",
   "execution_count": 187,
   "id": "d8df2a3f",
   "metadata": {},
   "outputs": [
    {
     "data": {
      "text/plain": [
       "50"
      ]
     },
     "execution_count": 187,
     "metadata": {},
     "output_type": "execute_result"
    }
   ],
   "source": [
    "price_tag =driver.find_elements(By.XPATH,'//div[@class=\"product-price\"]')\n",
    "len(price_tag)"
   ]
  },
  {
   "cell_type": "code",
   "execution_count": 188,
   "id": "baaa5034",
   "metadata": {},
   "outputs": [
    {
     "data": {
      "text/plain": [
       "['Rs. 7999',\n",
       " 'Rs. 8499Rs. 9999(15% OFF)',\n",
       " 'Rs. 8499Rs. 9999(15% OFF)',\n",
       " 'Rs. 7799Rs. 12999(40% OFF)',\n",
       " 'Rs. 8999',\n",
       " 'Rs. 8999',\n",
       " 'Rs. 7799Rs. 12999(40% OFF)',\n",
       " 'Rs. 7999',\n",
       " 'Rs. 7372Rs. 10099(27% OFF)',\n",
       " 'Rs. 7199Rs. 7999(10% OFF)',\n",
       " 'Rs. 7999Rs. 9999(20% OFF)',\n",
       " 'Rs. 7199Rs. 11999(40% OFF)',\n",
       " 'Rs. 9810Rs. 10900(10% OFF)',\n",
       " 'Rs. 11999',\n",
       " 'Rs. 11192Rs. 13990(20% OFF)',\n",
       " 'Rs. 7693Rs. 10990(30% OFF)',\n",
       " 'Rs. 7199Rs. 7999(10% OFF)',\n",
       " 'Rs. 9990',\n",
       " 'Rs. 12591Rs. 13990(10% OFF)',\n",
       " 'Rs. 9999',\n",
       " 'Rs. 8990',\n",
       " 'Rs. 11999',\n",
       " 'Rs. 9891Rs. 10990(10% OFF)',\n",
       " 'Rs. 11192Rs. 13990(20% OFF)',\n",
       " 'Rs. 7499',\n",
       " 'Rs. 7899Rs. 9999(21% OFF)',\n",
       " 'Rs. 12990',\n",
       " 'Rs. 7999',\n",
       " 'Rs. 9999',\n",
       " 'Rs. 9900Rs. 12500(Rs. 2600 OFF)',\n",
       " 'Rs. 13990',\n",
       " 'Rs. 9349Rs. 10999(15% OFF)',\n",
       " 'Rs. 8990',\n",
       " 'Rs. 7199Rs. 7999(10% OFF)',\n",
       " 'Rs. 12990',\n",
       " 'Rs. 8505Rs. 10500(19% OFF)',\n",
       " 'Rs. 8299',\n",
       " 'Rs. 7199Rs. 7999(10% OFF)',\n",
       " 'Rs. 8049Rs. 11499(30% OFF)',\n",
       " 'Rs. 8490',\n",
       " 'Rs. 8399Rs. 11999(30% OFF)',\n",
       " 'Rs. 7693Rs. 10990(30% OFF)',\n",
       " 'Rs. 7199Rs. 7999(10% OFF)',\n",
       " 'Rs. 8499Rs. 9999(15% OFF)',\n",
       " 'Rs. 7999',\n",
       " 'Rs. 8393Rs. 11990(30% OFF)',\n",
       " 'Rs. 8393Rs. 11990(30% OFF)',\n",
       " 'Rs. 10499Rs. 14999(30% OFF)',\n",
       " 'Rs. 12990',\n",
       " 'Rs. 9975Rs. 10500(5% OFF)']"
      ]
     },
     "execution_count": 188,
     "metadata": {},
     "output_type": "execute_result"
    }
   ],
   "source": [
    "Price = []\n",
    "\n",
    "for i in price_tag:\n",
    "    Price.append(i.text)\n",
    "Price"
   ]
  },
  {
   "cell_type": "markdown",
   "id": "71ef4288",
   "metadata": {},
   "source": [
    "SCRAPPED 100 DATA DETAILS FROM WEBSITE"
   ]
  },
  {
   "cell_type": "markdown",
   "id": "ceca7c35",
   "metadata": {},
   "source": [
    "# Q8: Go to webpage https://www.amazon.in/\n",
    "Enter “Laptop” in the search field and then click the search icon. Then set CPU Type filter to “Intel Core i7” as shown in the given image: After setting the filters scrape first 10 laptops data. You have to scrape 3 attributesfor each laptop:\n",
    "\n",
    "Title\n",
    "Ratings\n",
    "Price"
   ]
  },
  {
   "cell_type": "code",
   "execution_count": 189,
   "id": "06ecabd2",
   "metadata": {},
   "outputs": [],
   "source": [
    "#fetching chromedriver\n",
    "driver = webdriver.Chrome(r'C:\\Users\\nidsi\\Downloads\\chromedriver_win32\\chromedriver.exe')"
   ]
  },
  {
   "cell_type": "code",
   "execution_count": 190,
   "id": "3b7d2bcc",
   "metadata": {},
   "outputs": [],
   "source": [
    "#getting url\n",
    "url ='https://www.amazon.in/'\n",
    "driver.get(url)"
   ]
  },
  {
   "cell_type": "code",
   "execution_count": 191,
   "id": "481fb175",
   "metadata": {},
   "outputs": [],
   "source": [
    "#searching for laptop\n",
    "search_laptop = driver.find_element(By.XPATH,\"/html/body/div[1]/header/div/div[1]/div[2]/div/form/div[2]/div[1]/input\")\n",
    "search_laptop.send_keys(\"laptop\")"
   ]
  },
  {
   "cell_type": "code",
   "execution_count": 192,
   "id": "fe2c7fe8",
   "metadata": {},
   "outputs": [],
   "source": [
    "#clicking on search icon\n",
    "search_btn = driver.find_element(By.XPATH,\"/html/body/div[1]/header/div/div[1]/div[2]/div/form/div[3]/div/span\")\n",
    "search_btn.click()"
   ]
  },
  {
   "cell_type": "code",
   "execution_count": 193,
   "id": "ea8aa8bc",
   "metadata": {},
   "outputs": [],
   "source": [
    "#cpu filter(APPLYING DESIRED FILTER)\n",
    "check_cpu = driver.find_element(By.XPATH,\"/html/body/div[1]/div[2]/div[1]/div[2]/div/div[3]/span/div[1]/div/div/div[5]/ul[2]/li[12]/span/a/div\")\n",
    "check_cpu.click()"
   ]
  },
  {
   "cell_type": "markdown",
   "id": "20777ef6",
   "metadata": {},
   "source": [
    "## EXTRACTING DESIRED DATA \n"
   ]
  },
  {
   "cell_type": "code",
   "execution_count": 194,
   "id": "1eb0e840",
   "metadata": {},
   "outputs": [
    {
     "data": {
      "text/plain": [
       "24"
      ]
     },
     "execution_count": 194,
     "metadata": {},
     "output_type": "execute_result"
    }
   ],
   "source": [
    "#SCRAPPING TITLE\n",
    "title_tag = driver.find_elements(By.XPATH,'//span[@class=\"a-size-medium a-color-base a-text-normal\"]')\n",
    "len(title_tag)"
   ]
  },
  {
   "cell_type": "code",
   "execution_count": 202,
   "id": "25904a2b",
   "metadata": {},
   "outputs": [
    {
     "data": {
      "text/plain": [
       "['ASUS TUF Gaming F15 (2021), 15.6\" (39.62 cms) FHD 144Hz, Intel Core i7-11600H 11th Gen, 4GB RTX 3050 Graphics, Gaming Laptop (16GB/512GB SSD/Windows 10/Office 2019/Gray/2.3 Kg), FX566HCB-HN299TS',\n",
       " 'ASUS Vivobook 15, 15.6-inch (39.62 cms) FHD, Intel Core i7-1065G7 10th Gen, Thin and Light Laptop (16GB/512GB SSD/Iris Plus Graphics/Windows 11/Office 2021/Silver/1.8 kg), X515JA-EJ701WS',\n",
       " 'Infinix INBook X1 Pro Core i7 10th Gen - (16 GB/512 GB SSD/Windows 11 Home) XL12 Thin and Light Laptop (14 Inch, Noble Red, 1.48 kg)',\n",
       " 'Lenovo IdeaPad Slim 5 Pro Intel Core i7 11th Gen 14\" (35.56cm) 2.2K IPS Thin & Light Laptop (16GB/512GB SSD/Win11/Office 2021/Backlit/3Yr Warranty/3months Game Pass/Storm Grey/1.38Kg), 82L3006YIN',\n",
       " 'Hp Pavilion 15 12Th Gen Intel Core I7 16Gb Sdram/1Tb Ssd 15.6 Inches (39.6Cm) Fhd,IPS/Intel Iris Xe Graphics/B&O/Windows 11 Home/Alexa/Backlit Kb/Fpr/Mso 2021/1.75Kg, 15-Eg2039Tu, Natural Silver',\n",
       " 'Hp Pavilion X360 11Th Gen Intel Core I7 14 Inches Fhd Multitouch 2In1 Laptop (16Gb Ram/512Gb Ssd/B&O/Windows 11 Home/Fpr/Backlit Kb/Intel Iris Xe Graphics/Pen/Alexa/Ms Office/Silver/1.52Kg)14-Dy1047Tu',\n",
       " 'ASUS TUF Dash F15 (2022), 15.6-inch (39.62 cms) FHD 144Hz, Intel Core i7-12650H 12th Gen, RTX 3060 6GB Graphics, Gaming Laptop (16GB/512GB SSD/Windows 11/Office 2021/Black/2 kg), FX517ZM-HN041WS',\n",
       " '(Renewed) Dell Intel Core i7 7th Gen 14.Inch(35.6 cms) (1920 x 1080)FHD TOUCHSCREEN Laptop (32GB RAM /2TB HDD/Windows 10 Pro/MS Office/Intel HD Integrated Graphics/ Black/1.18Kg,Black) Latitude E7480',\n",
       " 'Lenovo ThinkPad E14 Intel Core i7 11th Gen 14-inch (35.56cm) FHD TN Antiglare Thin and Light Laptop (16GB RAM/512GB SSD/Windows 11 Home/Microsoft Office H&S 2021/FPR/Black/1.59 kg), 20TAS1B400',\n",
       " 'HP Pavilion 14 12th Gen Intel Core i7 16GB SDRAM/1TB SSD 14 inch(35.6cm) FHD,IPS,Micro-Edge Display/Intel UHD Graphics/B&O/Win 11/Alexa Built-in/Backlit KB/FPR/MSO 2021/Natural Silver, 14-dv2015TU']"
      ]
     },
     "execution_count": 202,
     "metadata": {},
     "output_type": "execute_result"
    }
   ],
   "source": [
    "Title = []\n",
    "for i in title_tag:\n",
    "        Title.append(i.text)\n",
    "Title = Title [0:10] #scrapping 10 data as required\n",
    "Title "
   ]
  },
  {
   "cell_type": "markdown",
   "id": "4b19c38f",
   "metadata": {},
   "source": [
    "EXTRACTING PRICE"
   ]
  },
  {
   "cell_type": "code",
   "execution_count": 196,
   "id": "6bbee480",
   "metadata": {},
   "outputs": [
    {
     "data": {
      "text/plain": [
       "24"
      ]
     },
     "execution_count": 196,
     "metadata": {},
     "output_type": "execute_result"
    }
   ],
   "source": [
    "price_tag = driver.find_elements(By.XPATH,'//span[@class=\"a-price-whole\"]')\n",
    "len(price_tag)"
   ]
  },
  {
   "cell_type": "code",
   "execution_count": 203,
   "id": "49ba0e2e",
   "metadata": {},
   "outputs": [
    {
     "data": {
      "text/plain": [
       "['89,990',\n",
       " '57,890',\n",
       " '53,999',\n",
       " '75,903',\n",
       " '87,900',\n",
       " '82,990',\n",
       " '1,26,990',\n",
       " '56,995',\n",
       " '94,990',\n",
       " '86,990']"
      ]
     },
     "execution_count": 203,
     "metadata": {},
     "output_type": "execute_result"
    }
   ],
   "source": [
    "Price =[]\n",
    "for i in price_tag:\n",
    "    Price.append(i.text)\n",
    "Price = Price [0:10] #scrapping 10 data as required\n",
    "Price"
   ]
  },
  {
   "cell_type": "markdown",
   "id": "cedf974f",
   "metadata": {},
   "source": [
    "EXTRACTING RATING "
   ]
  },
  {
   "cell_type": "code",
   "execution_count": 198,
   "id": "a8ccc3fd",
   "metadata": {},
   "outputs": [
    {
     "data": {
      "text/plain": [
       "12"
      ]
     },
     "execution_count": 198,
     "metadata": {},
     "output_type": "execute_result"
    }
   ],
   "source": [
    "rate_tag = driver.find_elements(By.XPATH,'//a[@class=\"a-popover-trigger a-declarative\"]')\n",
    "len(rate_tag)"
   ]
  },
  {
   "cell_type": "code",
   "execution_count": 204,
   "id": "8db1ae93",
   "metadata": {},
   "outputs": [
    {
     "data": {
      "text/plain": [
       "['', '', '', '', '', '', '', '', '', '']"
      ]
     },
     "execution_count": 204,
     "metadata": {},
     "output_type": "execute_result"
    }
   ],
   "source": [
    "Rating =[]\n",
    "for i in rate_tag:\n",
    "    Rating.append(i.text)\n",
    "Rating = Rating [0:10]\n",
    "Rating"
   ]
  },
  {
   "cell_type": "markdown",
   "id": "69e9fce1",
   "metadata": {},
   "source": [
    "NOTE -IMAGE OF RATING STARS COULD NOT BE EXTRACTED."
   ]
  },
  {
   "cell_type": "markdown",
   "id": "ba60c9a8",
   "metadata": {},
   "source": [
    "# Q9: Write a python program to scrape data for first 10 job results for Data Scientist Designation in Noida location. You have to scrape company name, No. of days ago when job was posted, Rating of the company.\n",
    "This task will be done in following steps:\n",
    "\n",
    "1.First get the webpage https://www.ambitionbox.com/\n",
    "\n",
    "2.Click on the Job option as shown in the given image\n",
    "\n",
    "\n",
    "3.After reaching to the next webpage, In place of “Search by Designations, Companies, Skills” enter “Data Scientist” and click on search button.\n",
    "\n",
    "4.You will reach to the following web page click on location and in place of “Search location” enter “Noida” and select location “Noida”.\n",
    "\n",
    "5.Then scrape the data for the first 10 jobs results you get on the above shown page.\n",
    "\n",
    "6.Finally create a dataframe of the scraped data"
   ]
  },
  {
   "cell_type": "code",
   "execution_count": 205,
   "id": "0523bb3f",
   "metadata": {},
   "outputs": [],
   "source": [
    "#fetching chromedriver\n",
    "driver = webdriver.Chrome(r'C:\\Users\\nidsi\\Downloads\\chromedriver_win32\\chromedriver.exe')"
   ]
  },
  {
   "cell_type": "code",
   "execution_count": 206,
   "id": "57ba69ae",
   "metadata": {},
   "outputs": [],
   "source": [
    "#getting url\n",
    "url = 'https://www.ambitionbox.com/'\n",
    "driver.get(url)"
   ]
  },
  {
   "cell_type": "code",
   "execution_count": 207,
   "id": "d7be96ed",
   "metadata": {},
   "outputs": [],
   "source": [
    "#clicking on Jobs key\n",
    "job_btn = driver.find_element(By.XPATH,\"/html/body/div[1]/nav/nav/a[6]\")\n",
    "job_btn.click()"
   ]
  },
  {
   "cell_type": "code",
   "execution_count": 208,
   "id": "5f5c74f2",
   "metadata": {},
   "outputs": [],
   "source": [
    "#searching for desired job\n",
    "search_job=driver.find_element(By.XPATH,\"/html/body/div/div/div/div[2]/div[1]/div[1]/div/div/div/div/span/input\") \n",
    "search_job.send_keys('Data Scientist')"
   ]
  },
  {
   "cell_type": "code",
   "execution_count": 209,
   "id": "dd82b436",
   "metadata": {},
   "outputs": [],
   "source": [
    "#clicking on desired search option\n",
    "search_btn = driver.find_element(By.XPATH,\"/html/body/div/div/div/div[2]/div[1]/div[1]/div/div/div/button/span\")\n",
    "search_btn.click()"
   ]
  },
  {
   "cell_type": "code",
   "execution_count": 210,
   "id": "f1416541",
   "metadata": {},
   "outputs": [],
   "source": [
    "#clicking on location\n",
    "locn_btn = driver.find_element(By.XPATH,\"/html/body/div/div/div/div[2]/div[1]/div[2]/div[1]/div/div/div/div[2]/div[1]\")\n",
    "locn_btn.click()\n"
   ]
  },
  {
   "cell_type": "code",
   "execution_count": 211,
   "id": "cdf44d0d",
   "metadata": {},
   "outputs": [],
   "source": [
    "#writing desired location in location search bar\n",
    "search_locn=driver.find_element(By.XPATH,\"/html/body/div/div/div/div[2]/div[1]/div[2]/div[1]/div/div/div/div[2]/div[2]/div/div[2]/input\") \n",
    "search_locn.send_keys('Noida')"
   ]
  },
  {
   "cell_type": "code",
   "execution_count": 212,
   "id": "36d9d29c",
   "metadata": {},
   "outputs": [],
   "source": [
    "#clicking on desired location\n",
    "locn_noida = driver.find_element(By.XPATH,\"/html/body/div/div/div/div[2]/div[1]/div[2]/div[1]/div/div/div/div[2]/div[2]/div/div[3]/div[1]/div[1]/div/label\")\n",
    "locn_noida.click()"
   ]
  },
  {
   "cell_type": "markdown",
   "id": "8b1eafd7",
   "metadata": {},
   "source": [
    "# EXTRACTING DESIRED DATA  \n"
   ]
  },
  {
   "cell_type": "markdown",
   "id": "881c2650",
   "metadata": {},
   "source": [
    "EXTRACING DESIGNATION"
   ]
  },
  {
   "cell_type": "code",
   "execution_count": 214,
   "id": "d0ce2498",
   "metadata": {},
   "outputs": [
    {
     "data": {
      "text/plain": [
       "10"
      ]
     },
     "execution_count": 214,
     "metadata": {},
     "output_type": "execute_result"
    }
   ],
   "source": [
    "desn_tag = driver.find_elements(By.XPATH,'//a[@class=\"title noclick\"]')\n",
    "len(desn_tag)"
   ]
  },
  {
   "cell_type": "code",
   "execution_count": 215,
   "id": "86dd9565",
   "metadata": {},
   "outputs": [
    {
     "data": {
      "text/plain": [
       "['Senior Data Scientist',\n",
       " 'Data Scientist- Forecasting and R or Python',\n",
       " 'Data Scientist - Machine Learning Algorithms (3-8 yrs)',\n",
       " 'Data Scientist - Machine Learning/Big Data (0-4 yrs)',\n",
       " 'Info Edge - Data Scientist - Machine Learning/NLP (0-2 yrs)',\n",
       " 'Info Edge - Senior Data Scientist - Machine Learning/Deep Learning (3-5 yrs)',\n",
       " 'LatentBridge - Data Scientist - Python/R (2-6 yrs)',\n",
       " 'Data Science Trainer | AI | Machine Learning | Python |',\n",
       " 'Principal Scientist - Machine Learning - IT (15-26 yrs)',\n",
       " 'Data Scientist - NLP']"
      ]
     },
     "execution_count": 215,
     "metadata": {},
     "output_type": "execute_result"
    }
   ],
   "source": [
    "Designation = []\n",
    "\n",
    "for i in desn_tag:\n",
    "    Designation.append(i.text)\n",
    "Designation"
   ]
  },
  {
   "cell_type": "markdown",
   "id": "399d7e49",
   "metadata": {},
   "source": [
    "EXTRACTING COMPANY NAME"
   ]
  },
  {
   "cell_type": "code",
   "execution_count": 216,
   "id": "cb8d2216",
   "metadata": {},
   "outputs": [
    {
     "data": {
      "text/plain": [
       "10"
      ]
     },
     "execution_count": 216,
     "metadata": {},
     "output_type": "execute_result"
    }
   ],
   "source": [
    "title_tag = driver.find_elements(By.XPATH,'//p[@class=\"company body-medium\"]')\n",
    "len(title_tag)"
   ]
  },
  {
   "cell_type": "code",
   "execution_count": 217,
   "id": "ce729f70",
   "metadata": {},
   "outputs": [
    {
     "data": {
      "text/plain": [
       "['Optum Global Solutions (India) Private Limited',\n",
       " 'GENPACT India Private Limited',\n",
       " 'Dew Solutions Pvt. Ltd.',\n",
       " 'InfoEdge India Ltd.',\n",
       " 'Info Edge India Limited',\n",
       " 'Info Edge India Limited',\n",
       " 'Latent bridge',\n",
       " 'Careerera',\n",
       " 'Careernet Consulting',\n",
       " 'Acidaes Solutions Pvt. Ltd.']"
      ]
     },
     "execution_count": 217,
     "metadata": {},
     "output_type": "execute_result"
    }
   ],
   "source": [
    "Company = []\n",
    "\n",
    "for i in title_tag:\n",
    "    Company.append(i.text)\n",
    "Company"
   ]
  },
  {
   "cell_type": "markdown",
   "id": "bdaf18ae",
   "metadata": {},
   "source": [
    "EXTRACTING OHER INFORMATIONS"
   ]
  },
  {
   "cell_type": "code",
   "execution_count": 218,
   "id": "3430eb9a",
   "metadata": {},
   "outputs": [
    {
     "data": {
      "text/plain": [
       "10"
      ]
     },
     "execution_count": 218,
     "metadata": {},
     "output_type": "execute_result"
    }
   ],
   "source": [
    "info_tag = driver.find_elements(By.XPATH,'//div[@class=\"other-info\"]')\n",
    "len(info_tag)"
   ]
  },
  {
   "cell_type": "code",
   "execution_count": 219,
   "id": "e33f8361",
   "metadata": {},
   "outputs": [
    {
     "data": {
      "text/plain": [
       "['7-12 Yrs\\nNot Disclosed\\nNoida\\nr, python, data science +6 more\\n9d ago·via naukri.com',\n",
       " '7-12 Yrs\\n₹ 12-20 LPA\\nNoida\\nData Science, arima, predictive modeling +5 more\\n15d ago·via naukri.com',\n",
       " '3-8 Yrs\\nGurgaon/Gurugram, Bengaluru/Bangalore, Pune +2 more\\nData Scientist, Data Science, Machine Learning +5 more\\n7d ago·via hirist.com',\n",
       " '0-4 Yrs\\nNoida\\nData Science, Machine Learning, Deep Learning +5 more\\n13d ago·via hirist.com',\n",
       " '0-2 Yrs\\nNoida\\nData Scientist, Data Management, PhD +6 more\\n14d ago·via hirist.com',\n",
       " '3-5 Yrs\\nNoida\\nData Scientist, Data Management, PhD +5 more\\n14d ago·via hirist.com',\n",
       " '2-6 Yrs\\nGurgaon/Gurugram, Delhi NCR, Noida\\nData Science, Data Scientist, Data Management +5 more\\n14d ago·via hirist.com',\n",
       " '2-7 Yrs\\n₹ 4.75-9.75 LPA\\nNoida\\nData Science, data science faculty, Corporate Trainer +6 more\\n2d ago·via naukri.com',\n",
       " '15-26 Yrs\\nNoida\\nMachine Learning, Data Science, Data Scientist +4 more\\n28d ago·via iimjobs.com',\n",
       " '3-8 Yrs\\nNot Disclosed\\nNoida\\nBayesian Networks, deep learning, MLops +5 more\\n14d ago·via naukri.com']"
      ]
     },
     "execution_count": 219,
     "metadata": {},
     "output_type": "execute_result"
    }
   ],
   "source": [
    "Other_Information = []\n",
    "\n",
    "for i in info_tag:\n",
    "    Other_Information.append(i.text)\n",
    "Other_Information"
   ]
  },
  {
   "cell_type": "markdown",
   "id": "7ea3c7ed",
   "metadata": {},
   "source": [
    "## MAKING DATAFRAME OF EXTRACTED DATA \n"
   ]
  },
  {
   "cell_type": "code",
   "execution_count": 220,
   "id": "be474e0f",
   "metadata": {},
   "outputs": [
    {
     "data": {
      "text/plain": [
       "(10, 10, 10)"
      ]
     },
     "execution_count": 220,
     "metadata": {},
     "output_type": "execute_result"
    }
   ],
   "source": [
    "#CHECKING LENGTH OF ALL SCRAPPED DATA\n",
    "len(Designation),len(Company),len(Other_Information)"
   ]
  },
  {
   "cell_type": "code",
   "execution_count": 221,
   "id": "166dfa46",
   "metadata": {},
   "outputs": [
    {
     "data": {
      "text/html": [
       "<div>\n",
       "<style scoped>\n",
       "    .dataframe tbody tr th:only-of-type {\n",
       "        vertical-align: middle;\n",
       "    }\n",
       "\n",
       "    .dataframe tbody tr th {\n",
       "        vertical-align: top;\n",
       "    }\n",
       "\n",
       "    .dataframe thead th {\n",
       "        text-align: right;\n",
       "    }\n",
       "</style>\n",
       "<table border=\"1\" class=\"dataframe\">\n",
       "  <thead>\n",
       "    <tr style=\"text-align: right;\">\n",
       "      <th></th>\n",
       "      <th>DESIGNATION</th>\n",
       "      <th>COMPANY_NAME</th>\n",
       "      <th>OTHER INFORMATION</th>\n",
       "    </tr>\n",
       "  </thead>\n",
       "  <tbody>\n",
       "    <tr>\n",
       "      <th>0</th>\n",
       "      <td>Senior Data Scientist</td>\n",
       "      <td>Optum Global Solutions (India) Private Limited</td>\n",
       "      <td>7-12 Yrs\\nNot Disclosed\\nNoida\\nr, python, dat...</td>\n",
       "    </tr>\n",
       "    <tr>\n",
       "      <th>1</th>\n",
       "      <td>Data Scientist- Forecasting and R or Python</td>\n",
       "      <td>GENPACT India Private Limited</td>\n",
       "      <td>7-12 Yrs\\n₹ 12-20 LPA\\nNoida\\nData Science, ar...</td>\n",
       "    </tr>\n",
       "    <tr>\n",
       "      <th>2</th>\n",
       "      <td>Data Scientist - Machine Learning Algorithms (...</td>\n",
       "      <td>Dew Solutions Pvt. Ltd.</td>\n",
       "      <td>3-8 Yrs\\nGurgaon/Gurugram, Bengaluru/Bangalore...</td>\n",
       "    </tr>\n",
       "    <tr>\n",
       "      <th>3</th>\n",
       "      <td>Data Scientist - Machine Learning/Big Data (0-...</td>\n",
       "      <td>InfoEdge India Ltd.</td>\n",
       "      <td>0-4 Yrs\\nNoida\\nData Science, Machine Learning...</td>\n",
       "    </tr>\n",
       "    <tr>\n",
       "      <th>4</th>\n",
       "      <td>Info Edge - Data Scientist - Machine Learning/...</td>\n",
       "      <td>Info Edge India Limited</td>\n",
       "      <td>0-2 Yrs\\nNoida\\nData Scientist, Data Managemen...</td>\n",
       "    </tr>\n",
       "    <tr>\n",
       "      <th>5</th>\n",
       "      <td>Info Edge - Senior Data Scientist - Machine Le...</td>\n",
       "      <td>Info Edge India Limited</td>\n",
       "      <td>3-5 Yrs\\nNoida\\nData Scientist, Data Managemen...</td>\n",
       "    </tr>\n",
       "    <tr>\n",
       "      <th>6</th>\n",
       "      <td>LatentBridge - Data Scientist - Python/R (2-6 ...</td>\n",
       "      <td>Latent bridge</td>\n",
       "      <td>2-6 Yrs\\nGurgaon/Gurugram, Delhi NCR, Noida\\nD...</td>\n",
       "    </tr>\n",
       "    <tr>\n",
       "      <th>7</th>\n",
       "      <td>Data Science Trainer | AI | Machine Learning |...</td>\n",
       "      <td>Careerera</td>\n",
       "      <td>2-7 Yrs\\n₹ 4.75-9.75 LPA\\nNoida\\nData Science,...</td>\n",
       "    </tr>\n",
       "    <tr>\n",
       "      <th>8</th>\n",
       "      <td>Principal Scientist - Machine Learning - IT (1...</td>\n",
       "      <td>Careernet Consulting</td>\n",
       "      <td>15-26 Yrs\\nNoida\\nMachine Learning, Data Scien...</td>\n",
       "    </tr>\n",
       "    <tr>\n",
       "      <th>9</th>\n",
       "      <td>Data Scientist - NLP</td>\n",
       "      <td>Acidaes Solutions Pvt. Ltd.</td>\n",
       "      <td>3-8 Yrs\\nNot Disclosed\\nNoida\\nBayesian Networ...</td>\n",
       "    </tr>\n",
       "  </tbody>\n",
       "</table>\n",
       "</div>"
      ],
      "text/plain": [
       "                                         DESIGNATION  \\\n",
       "0                              Senior Data Scientist   \n",
       "1        Data Scientist- Forecasting and R or Python   \n",
       "2  Data Scientist - Machine Learning Algorithms (...   \n",
       "3  Data Scientist - Machine Learning/Big Data (0-...   \n",
       "4  Info Edge - Data Scientist - Machine Learning/...   \n",
       "5  Info Edge - Senior Data Scientist - Machine Le...   \n",
       "6  LatentBridge - Data Scientist - Python/R (2-6 ...   \n",
       "7  Data Science Trainer | AI | Machine Learning |...   \n",
       "8  Principal Scientist - Machine Learning - IT (1...   \n",
       "9                               Data Scientist - NLP   \n",
       "\n",
       "                                     COMPANY_NAME  \\\n",
       "0  Optum Global Solutions (India) Private Limited   \n",
       "1                   GENPACT India Private Limited   \n",
       "2                         Dew Solutions Pvt. Ltd.   \n",
       "3                             InfoEdge India Ltd.   \n",
       "4                         Info Edge India Limited   \n",
       "5                         Info Edge India Limited   \n",
       "6                                   Latent bridge   \n",
       "7                                       Careerera   \n",
       "8                            Careernet Consulting   \n",
       "9                     Acidaes Solutions Pvt. Ltd.   \n",
       "\n",
       "                                   OTHER INFORMATION  \n",
       "0  7-12 Yrs\\nNot Disclosed\\nNoida\\nr, python, dat...  \n",
       "1  7-12 Yrs\\n₹ 12-20 LPA\\nNoida\\nData Science, ar...  \n",
       "2  3-8 Yrs\\nGurgaon/Gurugram, Bengaluru/Bangalore...  \n",
       "3  0-4 Yrs\\nNoida\\nData Science, Machine Learning...  \n",
       "4  0-2 Yrs\\nNoida\\nData Scientist, Data Managemen...  \n",
       "5  3-5 Yrs\\nNoida\\nData Scientist, Data Managemen...  \n",
       "6  2-6 Yrs\\nGurgaon/Gurugram, Delhi NCR, Noida\\nD...  \n",
       "7  2-7 Yrs\\n₹ 4.75-9.75 LPA\\nNoida\\nData Science,...  \n",
       "8  15-26 Yrs\\nNoida\\nMachine Learning, Data Scien...  \n",
       "9  3-8 Yrs\\nNot Disclosed\\nNoida\\nBayesian Networ...  "
      ]
     },
     "execution_count": 221,
     "metadata": {},
     "output_type": "execute_result"
    }
   ],
   "source": [
    "# creating data frame\n",
    "jobs_df = pd.DataFrame()\n",
    "jobs_df['DESIGNATION'] = Designation\n",
    "jobs_df['COMPANY_NAME'] = Company\n",
    "jobs_df['OTHER INFORMATION'] = Other_Information\n",
    "jobs_df"
   ]
  },
  {
   "cell_type": "markdown",
   "id": "48d7b416",
   "metadata": {},
   "source": [
    "# Q10: Write a python program to scrape the salary data for Data Scientist designation.\n",
    "You have to scrape Company name, Number of salaries, Average salary, Minsalary, Max Salary. The above task will be, done as shown in the below steps:\n",
    "\n",
    "1.First get the webpage https://www.ambitionbox.com/\n",
    "\n",
    "2.Click on the salaries option as shown in the image.\n",
    "\n",
    "3.After reaching to the following webpage, In place of “Search Job Profile” enters “Data Scientist” and then click on “Data Scientist”. \n",
    "4.You have to scrape the data ticked in the above image.\n",
    "\n",
    "Scrape the data for the first 10 companies. \n",
    "Scrape the company name, total salary record, average salary, minimum salary, maximum salary, experience required.\n",
    "\n",
    "Store the data in a dataframe# "
   ]
  },
  {
   "cell_type": "code",
   "execution_count": 222,
   "id": "ed4ddf5b",
   "metadata": {},
   "outputs": [],
   "source": [
    "#fetching chromedriver\n",
    "driver = webdriver.Chrome(r'C:\\Users\\nidsi\\Downloads\\chromedriver_win32\\chromedriver.exe')"
   ]
  },
  {
   "cell_type": "code",
   "execution_count": 223,
   "id": "08b9c9f7",
   "metadata": {},
   "outputs": [],
   "source": [
    "#getting url\n",
    "url = 'https://www.ambitionbox.com/'\n",
    "driver.get(url)"
   ]
  },
  {
   "cell_type": "code",
   "execution_count": 224,
   "id": "884c2c97",
   "metadata": {},
   "outputs": [],
   "source": [
    "#clicking on salaries  \n",
    "salary_btn = driver.find_element(By.XPATH,\"/html/body/div[1]/nav/nav/a[4]\")\n",
    "salary_btn.click()"
   ]
  },
  {
   "cell_type": "code",
   "execution_count": 225,
   "id": "daa1bc41",
   "metadata": {},
   "outputs": [],
   "source": [
    "#searching for desired job\n",
    "search_job=driver.find_element(By.ID,'jobProfileSearchbox') #job search\n",
    "\n",
    "search_job.send_keys('Data Scientist')"
   ]
  },
  {
   "cell_type": "code",
   "execution_count": 226,
   "id": "d8c09877",
   "metadata": {},
   "outputs": [],
   "source": [
    "#clicking on desired search option\n",
    "search_btn = driver.find_element(By.XPATH,\"/html/body/div/div/div/main/section[1]/div[2]/div[1]/span/div/div/div[1]\")\n",
    "search_btn.click()"
   ]
  },
  {
   "cell_type": "markdown",
   "id": "e3efba47",
   "metadata": {},
   "source": [
    "# EXTRACTING REQUIRED DATA \n"
   ]
  },
  {
   "cell_type": "markdown",
   "id": "9bdb7875",
   "metadata": {},
   "source": [
    "EXTRACTING COMPANY NAME"
   ]
  },
  {
   "cell_type": "code",
   "execution_count": 227,
   "id": "aec11929",
   "metadata": {},
   "outputs": [
    {
     "data": {
      "text/plain": [
       "25"
      ]
     },
     "execution_count": 227,
     "metadata": {},
     "output_type": "execute_result"
    }
   ],
   "source": [
    "cmp_name =driver.find_elements(By.XPATH,'//div[@class=\"company-info\"]')\n",
    "len(cmp_name)\n"
   ]
  },
  {
   "cell_type": "code",
   "execution_count": 228,
   "id": "369a4212",
   "metadata": {},
   "outputs": [
    {
     "data": {
      "text/plain": [
       "['Walmart\\nData Scientist Salary\\n3 yrs experience (based on 12 salaries)',\n",
       " 'Ab Inbev\\nData Scientist Salary\\n3-4 yrs experience (based on 33 salaries)',\n",
       " 'ZS\\nData Scientist Salary\\n2 yrs experience (based on 15 salaries)',\n",
       " 'Optum\\nData Scientist Salary\\n3-4 yrs experience (based on 32 salaries)',\n",
       " 'Reliance Jio\\nData Scientist Salary\\n3-4 yrs experience (based on 21 salaries)',\n",
       " 'Fractal Analytics\\nData Scientist Salary\\n2-4 yrs experience (based on 89 salaries)',\n",
       " 'Tiger Analytics\\nData Scientist Salary\\n2-4 yrs experience (based on 51 salaries)',\n",
       " 'UnitedHealth\\nData Scientist Salary\\n2-4 yrs experience (based on 57 salaries)',\n",
       " 'EXL Service\\nData Scientist Salary\\n3-4 yrs experience (based on 21 salaries)',\n",
       " 'Deloitte\\nData Scientist Salary\\n2-4 yrs experience (based on 69 salaries)']"
      ]
     },
     "execution_count": 228,
     "metadata": {},
     "output_type": "execute_result"
    }
   ],
   "source": [
    "Company_name= []\n",
    "\n",
    "for i in cmp_name:\n",
    "    Company_name.append(i.text)\n",
    "Company_name = Company_name[0:10] # since we have to scrap only 10 details\n",
    "Company_name"
   ]
  },
  {
   "cell_type": "markdown",
   "id": "2eee4695",
   "metadata": {},
   "source": [
    "EXTRACTING MINIMUM SALARY"
   ]
  },
  {
   "cell_type": "code",
   "execution_count": 230,
   "id": "bf2b7918",
   "metadata": {},
   "outputs": [
    {
     "data": {
      "text/plain": [
       "20"
      ]
     },
     "execution_count": 230,
     "metadata": {},
     "output_type": "execute_result"
    }
   ],
   "source": [
    "min_sal =driver.find_elements(By.XPATH,'//div[@class=\"value body-medium\"]')\n",
    "len(min_sal)"
   ]
  },
  {
   "cell_type": "code",
   "execution_count": 231,
   "id": "8358e3e2",
   "metadata": {},
   "outputs": [
    {
     "data": {
      "text/plain": [
       "20"
      ]
     },
     "execution_count": 231,
     "metadata": {},
     "output_type": "execute_result"
    }
   ],
   "source": [
    "Minimum_salary= []\n",
    "\n",
    "for i in min_sal:\n",
    "    Minimum_salary.append(i.text)\n",
    "len(Minimum_salary)"
   ]
  },
  {
   "cell_type": "code",
   "execution_count": 232,
   "id": "c96fc94d",
   "metadata": {},
   "outputs": [
    {
     "data": {
      "text/plain": [
       "['₹ 25.0L',\n",
       " '₹ 36.0L',\n",
       " '₹ 15.0L',\n",
       " '₹ 26.2L',\n",
       " '₹ 11.0L',\n",
       " '₹ 22.0L',\n",
       " '₹ 11.0L',\n",
       " '₹ 22.5L',\n",
       " '₹ 5.6L',\n",
       " '₹ 26.2L',\n",
       " '₹ 10.0L',\n",
       " '₹ 23.0L',\n",
       " '₹ 9.0L',\n",
       " '₹ 20.0L',\n",
       " '₹ 8.3L',\n",
       " '₹ 21.1L',\n",
       " '₹ 7.6L',\n",
       " '₹ 21.0L',\n",
       " '₹ 7.0L',\n",
       " '₹ 25.0L']"
      ]
     },
     "execution_count": 232,
     "metadata": {},
     "output_type": "execute_result"
    }
   ],
   "source": [
    "Minimum_salary\n",
    "#it will show both the minimum and maximum salary so we need to extract both independently from data scrapped below"
   ]
  },
  {
   "cell_type": "code",
   "execution_count": 234,
   "id": "88436c6e",
   "metadata": {},
   "outputs": [
    {
     "data": {
      "text/plain": [
       "['₹ 25.0L',\n",
       " '₹ 15.0L',\n",
       " '₹ 11.0L',\n",
       " '₹ 11.0L',\n",
       " '₹ 5.6L',\n",
       " '₹ 10.0L',\n",
       " '₹ 9.0L',\n",
       " '₹ 8.3L',\n",
       " '₹ 7.6L',\n",
       " '₹ 7.0L']"
      ]
     },
     "execution_count": 234,
     "metadata": {},
     "output_type": "execute_result"
    }
   ],
   "source": [
    "#scrapping only the minimum salary from the list\n",
    "Minimum = []\n",
    "i = [0,2,4,6,8,10,12,14,16,18]\n",
    "for index in i:\n",
    "    Minimum.append(Minimum_salary[index])\n",
    "Minimum"
   ]
  },
  {
   "cell_type": "code",
   "execution_count": 235,
   "id": "508d8d35",
   "metadata": {},
   "outputs": [
    {
     "data": {
      "text/plain": [
       "['₹ 36.0L',\n",
       " '₹ 26.2L',\n",
       " '₹ 22.0L',\n",
       " '₹ 22.5L',\n",
       " '₹ 26.2L',\n",
       " '₹ 23.0L',\n",
       " '₹ 20.0L',\n",
       " '₹ 21.1L',\n",
       " '₹ 21.0L',\n",
       " '₹ 25.0L']"
      ]
     },
     "execution_count": 235,
     "metadata": {},
     "output_type": "execute_result"
    }
   ],
   "source": [
    "#scrapping maximum salary\n",
    "Maximum = []\n",
    "i = [1,3,5,7,9,11,13,15,17,19]\n",
    "for index in i:\n",
    "    Maximum.append(Minimum_salary[index])\n",
    "Maximum"
   ]
  },
  {
   "cell_type": "markdown",
   "id": "e232aea2",
   "metadata": {},
   "source": [
    "EXTRACTING AVERAGE SALARY"
   ]
  },
  {
   "cell_type": "code",
   "execution_count": 238,
   "id": "9e31e8cc",
   "metadata": {},
   "outputs": [
    {
     "data": {
      "text/plain": [
       "10"
      ]
     },
     "execution_count": 238,
     "metadata": {},
     "output_type": "execute_result"
    }
   ],
   "source": [
    "avg_sal =driver.find_elements(By.XPATH,'//p[@class=\"averageCtc\"]')\n",
    "len(avg_sal)"
   ]
  },
  {
   "cell_type": "code",
   "execution_count": 239,
   "id": "145d16c2",
   "metadata": {},
   "outputs": [
    {
     "data": {
      "text/plain": [
       "['₹ 30.6L',\n",
       " '₹ 20.8L',\n",
       " '₹ 16.7L',\n",
       " '₹ 15.9L',\n",
       " '₹ 15.7L',\n",
       " '₹ 15.5L',\n",
       " '₹ 14.8L',\n",
       " '₹ 14.0L',\n",
       " '₹ 13.2L',\n",
       " '₹ 12.8L']"
      ]
     },
     "execution_count": 239,
     "metadata": {},
     "output_type": "execute_result"
    }
   ],
   "source": [
    "Average_salary= []\n",
    "\n",
    "for i in avg_sal:\n",
    "    Average_salary.append(i.text)\n",
    "Average_salary"
   ]
  },
  {
   "cell_type": "markdown",
   "id": "60356464",
   "metadata": {},
   "source": [
    "EXTRACTING EXPERIENCE REQUIRED"
   ]
  },
  {
   "cell_type": "code",
   "execution_count": 240,
   "id": "09c61501",
   "metadata": {},
   "outputs": [
    {
     "data": {
      "text/plain": [
       "10"
      ]
     },
     "execution_count": 240,
     "metadata": {},
     "output_type": "execute_result"
    }
   ],
   "source": [
    "exp_reqd =driver.find_elements(By.XPATH,'//div[@class=\"sbold-list-header\"]')\n",
    "len(exp_reqd)"
   ]
  },
  {
   "cell_type": "code",
   "execution_count": 241,
   "id": "a1cd0c0f",
   "metadata": {},
   "outputs": [
    {
     "data": {
      "text/plain": [
       "['3 yrs experience (based on 12 salaries)',\n",
       " '3-4 yrs experience (based on 33 salaries)',\n",
       " '2 yrs experience (based on 15 salaries)',\n",
       " '3-4 yrs experience (based on 32 salaries)',\n",
       " '3-4 yrs experience (based on 21 salaries)',\n",
       " '2-4 yrs experience (based on 89 salaries)',\n",
       " '2-4 yrs experience (based on 51 salaries)',\n",
       " '2-4 yrs experience (based on 57 salaries)',\n",
       " '3-4 yrs experience (based on 21 salaries)',\n",
       " '2-4 yrs experience (based on 69 salaries)']"
      ]
     },
     "execution_count": 241,
     "metadata": {},
     "output_type": "execute_result"
    }
   ],
   "source": [
    "Experience= []\n",
    "\n",
    "for i in exp_reqd:\n",
    "    Experience.append(i.text)\n",
    "Experience"
   ]
  },
  {
   "cell_type": "code",
   "execution_count": 242,
   "id": "974b802d",
   "metadata": {},
   "outputs": [
    {
     "data": {
      "text/plain": [
       "(10, 10, 10, 10, 10)"
      ]
     },
     "execution_count": 242,
     "metadata": {},
     "output_type": "execute_result"
    }
   ],
   "source": [
    "#CHECKING LENGTH OF ALL DATA BEFORE MAKING DATA FRAME\n",
    "len(Company_name),len(Minimum),len(Maximum),len(Average_salary),len(Experience)"
   ]
  },
  {
   "cell_type": "markdown",
   "id": "f5373c84",
   "metadata": {},
   "source": [
    "CREATING DATA FRAME\n"
   ]
  },
  {
   "cell_type": "code",
   "execution_count": 243,
   "id": "cc51ca76",
   "metadata": {},
   "outputs": [
    {
     "data": {
      "text/html": [
       "<div>\n",
       "<style scoped>\n",
       "    .dataframe tbody tr th:only-of-type {\n",
       "        vertical-align: middle;\n",
       "    }\n",
       "\n",
       "    .dataframe tbody tr th {\n",
       "        vertical-align: top;\n",
       "    }\n",
       "\n",
       "    .dataframe thead th {\n",
       "        text-align: right;\n",
       "    }\n",
       "</style>\n",
       "<table border=\"1\" class=\"dataframe\">\n",
       "  <thead>\n",
       "    <tr style=\"text-align: right;\">\n",
       "      <th></th>\n",
       "      <th>COMPANY_NAME</th>\n",
       "      <th>MINIMUM SALARY</th>\n",
       "      <th>MAXIMUM SALARY</th>\n",
       "      <th>AVERAGE SALARY</th>\n",
       "      <th>EXPERIENCE REQUIRED</th>\n",
       "    </tr>\n",
       "  </thead>\n",
       "  <tbody>\n",
       "    <tr>\n",
       "      <th>0</th>\n",
       "      <td>Walmart\\nData Scientist Salary\\n3 yrs experien...</td>\n",
       "      <td>₹ 25.0L</td>\n",
       "      <td>₹ 36.0L</td>\n",
       "      <td>₹ 30.6L</td>\n",
       "      <td>3 yrs experience (based on 12 salaries)</td>\n",
       "    </tr>\n",
       "    <tr>\n",
       "      <th>1</th>\n",
       "      <td>Ab Inbev\\nData Scientist Salary\\n3-4 yrs exper...</td>\n",
       "      <td>₹ 15.0L</td>\n",
       "      <td>₹ 26.2L</td>\n",
       "      <td>₹ 20.8L</td>\n",
       "      <td>3-4 yrs experience (based on 33 salaries)</td>\n",
       "    </tr>\n",
       "    <tr>\n",
       "      <th>2</th>\n",
       "      <td>ZS\\nData Scientist Salary\\n2 yrs experience (b...</td>\n",
       "      <td>₹ 11.0L</td>\n",
       "      <td>₹ 22.0L</td>\n",
       "      <td>₹ 16.7L</td>\n",
       "      <td>2 yrs experience (based on 15 salaries)</td>\n",
       "    </tr>\n",
       "    <tr>\n",
       "      <th>3</th>\n",
       "      <td>Optum\\nData Scientist Salary\\n3-4 yrs experien...</td>\n",
       "      <td>₹ 11.0L</td>\n",
       "      <td>₹ 22.5L</td>\n",
       "      <td>₹ 15.9L</td>\n",
       "      <td>3-4 yrs experience (based on 32 salaries)</td>\n",
       "    </tr>\n",
       "    <tr>\n",
       "      <th>4</th>\n",
       "      <td>Reliance Jio\\nData Scientist Salary\\n3-4 yrs e...</td>\n",
       "      <td>₹ 5.6L</td>\n",
       "      <td>₹ 26.2L</td>\n",
       "      <td>₹ 15.7L</td>\n",
       "      <td>3-4 yrs experience (based on 21 salaries)</td>\n",
       "    </tr>\n",
       "    <tr>\n",
       "      <th>5</th>\n",
       "      <td>Fractal Analytics\\nData Scientist Salary\\n2-4 ...</td>\n",
       "      <td>₹ 10.0L</td>\n",
       "      <td>₹ 23.0L</td>\n",
       "      <td>₹ 15.5L</td>\n",
       "      <td>2-4 yrs experience (based on 89 salaries)</td>\n",
       "    </tr>\n",
       "    <tr>\n",
       "      <th>6</th>\n",
       "      <td>Tiger Analytics\\nData Scientist Salary\\n2-4 yr...</td>\n",
       "      <td>₹ 9.0L</td>\n",
       "      <td>₹ 20.0L</td>\n",
       "      <td>₹ 14.8L</td>\n",
       "      <td>2-4 yrs experience (based on 51 salaries)</td>\n",
       "    </tr>\n",
       "    <tr>\n",
       "      <th>7</th>\n",
       "      <td>UnitedHealth\\nData Scientist Salary\\n2-4 yrs e...</td>\n",
       "      <td>₹ 8.3L</td>\n",
       "      <td>₹ 21.1L</td>\n",
       "      <td>₹ 14.0L</td>\n",
       "      <td>2-4 yrs experience (based on 57 salaries)</td>\n",
       "    </tr>\n",
       "    <tr>\n",
       "      <th>8</th>\n",
       "      <td>EXL Service\\nData Scientist Salary\\n3-4 yrs ex...</td>\n",
       "      <td>₹ 7.6L</td>\n",
       "      <td>₹ 21.0L</td>\n",
       "      <td>₹ 13.2L</td>\n",
       "      <td>3-4 yrs experience (based on 21 salaries)</td>\n",
       "    </tr>\n",
       "    <tr>\n",
       "      <th>9</th>\n",
       "      <td>Deloitte\\nData Scientist Salary\\n2-4 yrs exper...</td>\n",
       "      <td>₹ 7.0L</td>\n",
       "      <td>₹ 25.0L</td>\n",
       "      <td>₹ 12.8L</td>\n",
       "      <td>2-4 yrs experience (based on 69 salaries)</td>\n",
       "    </tr>\n",
       "  </tbody>\n",
       "</table>\n",
       "</div>"
      ],
      "text/plain": [
       "                                        COMPANY_NAME MINIMUM SALARY  \\\n",
       "0  Walmart\\nData Scientist Salary\\n3 yrs experien...        ₹ 25.0L   \n",
       "1  Ab Inbev\\nData Scientist Salary\\n3-4 yrs exper...        ₹ 15.0L   \n",
       "2  ZS\\nData Scientist Salary\\n2 yrs experience (b...        ₹ 11.0L   \n",
       "3  Optum\\nData Scientist Salary\\n3-4 yrs experien...        ₹ 11.0L   \n",
       "4  Reliance Jio\\nData Scientist Salary\\n3-4 yrs e...         ₹ 5.6L   \n",
       "5  Fractal Analytics\\nData Scientist Salary\\n2-4 ...        ₹ 10.0L   \n",
       "6  Tiger Analytics\\nData Scientist Salary\\n2-4 yr...         ₹ 9.0L   \n",
       "7  UnitedHealth\\nData Scientist Salary\\n2-4 yrs e...         ₹ 8.3L   \n",
       "8  EXL Service\\nData Scientist Salary\\n3-4 yrs ex...         ₹ 7.6L   \n",
       "9  Deloitte\\nData Scientist Salary\\n2-4 yrs exper...         ₹ 7.0L   \n",
       "\n",
       "  MAXIMUM SALARY AVERAGE SALARY                        EXPERIENCE REQUIRED  \n",
       "0        ₹ 36.0L        ₹ 30.6L    3 yrs experience (based on 12 salaries)  \n",
       "1        ₹ 26.2L        ₹ 20.8L  3-4 yrs experience (based on 33 salaries)  \n",
       "2        ₹ 22.0L        ₹ 16.7L    2 yrs experience (based on 15 salaries)  \n",
       "3        ₹ 22.5L        ₹ 15.9L  3-4 yrs experience (based on 32 salaries)  \n",
       "4        ₹ 26.2L        ₹ 15.7L  3-4 yrs experience (based on 21 salaries)  \n",
       "5        ₹ 23.0L        ₹ 15.5L  2-4 yrs experience (based on 89 salaries)  \n",
       "6        ₹ 20.0L        ₹ 14.8L  2-4 yrs experience (based on 51 salaries)  \n",
       "7        ₹ 21.1L        ₹ 14.0L  2-4 yrs experience (based on 57 salaries)  \n",
       "8        ₹ 21.0L        ₹ 13.2L  3-4 yrs experience (based on 21 salaries)  \n",
       "9        ₹ 25.0L        ₹ 12.8L  2-4 yrs experience (based on 69 salaries)  "
      ]
     },
     "execution_count": 243,
     "metadata": {},
     "output_type": "execute_result"
    }
   ],
   "source": [
    "# creating data frame\n",
    "df = pd.DataFrame()\n",
    "df['COMPANY_NAME'] = Company_name\n",
    "df['MINIMUM SALARY'] = Minimum\n",
    "df['MAXIMUM SALARY'] = Maximum\n",
    "df['AVERAGE SALARY'] = Average_salary\n",
    "df['EXPERIENCE REQUIRED'] = Experience\n",
    "df"
   ]
  },
  {
   "cell_type": "code",
   "execution_count": null,
   "id": "10e84cec",
   "metadata": {},
   "outputs": [],
   "source": []
  }
 ],
 "metadata": {
  "kernelspec": {
   "display_name": "Python 3 (ipykernel)",
   "language": "python",
   "name": "python3"
  },
  "language_info": {
   "codemirror_mode": {
    "name": "ipython",
    "version": 3
   },
   "file_extension": ".py",
   "mimetype": "text/x-python",
   "name": "python",
   "nbconvert_exporter": "python",
   "pygments_lexer": "ipython3",
   "version": "3.9.7"
  }
 },
 "nbformat": 4,
 "nbformat_minor": 5
}
